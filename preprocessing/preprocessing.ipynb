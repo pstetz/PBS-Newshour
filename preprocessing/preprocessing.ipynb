{
 "cells": [
  {
   "cell_type": "markdown",
   "metadata": {},
   "source": [
    "<a id=\"toc\"></a>\n",
    "\n",
    "# <u>Table of Contents</u>\n",
    "\n",
    "1.) [Setup](#setup)  \n",
    "&nbsp;&nbsp;&nbsp;&nbsp; 1.1.) [Imports](#imports)   \n",
    "&nbsp;&nbsp;&nbsp;&nbsp; 1.2.) [Helpers](#helpers)   \n",
    "&nbsp;&nbsp;&nbsp;&nbsp; 1.3.) [Load data](#load)   \n",
    "2.) [Datetime](#datetime)  \n",
    "3.) [Speakers](#speakers)  \n",
    "4.) [Transcript](#transcript)  \n",
    "5.) [Save to CSV](#save)  "
   ]
  },
  {
   "cell_type": "markdown",
   "metadata": {},
   "source": [
    "---\n",
    "<a id=\"setup\"></a>\n",
    "\n",
    "# [^](#toc) <u>Setup</u>"
   ]
  },
  {
   "cell_type": "markdown",
   "metadata": {},
   "source": [
    "<a id=\"imports\"></a>\n",
    "\n",
    "### [^](#toc) Imports"
   ]
  },
  {
   "cell_type": "code",
   "execution_count": 1,
   "metadata": {
    "collapsed": true
   },
   "outputs": [],
   "source": [
    "### Standard imports\n",
    "import pandas as pd\n",
    "import numpy as np\n",
    "\n",
    "### Plotting imports\n",
    "import matplotlib.pyplot as plt\n",
    "import seaborn as sns\n",
    "%matplotlib inline\n",
    "sns.set()\n",
    "\n",
    "import re\n",
    "import datetime\n",
    "\n",
    "# Helps convert String representation of list into a list\n",
    "import ast\n",
    "\n",
    "### Removes warnings that occassionally show in imports\n",
    "import warnings\n",
    "warnings.filterwarnings('ignore')"
   ]
  },
  {
   "cell_type": "markdown",
   "metadata": {},
   "source": [
    "<a id=\"helpers\"></a>\n",
    "\n",
    "### [^](#toc) Helpers"
   ]
  },
  {
   "cell_type": "code",
   "execution_count": 2,
   "metadata": {
    "collapsed": true
   },
   "outputs": [],
   "source": [
    "def string_literal(x):\n",
    "    try:\n",
    "        return ast.literal_eval(x)\n",
    "    except:\n",
    "        return x"
   ]
  },
  {
   "cell_type": "markdown",
   "metadata": {},
   "source": [
    "<a id=\"load\"></a>\n",
    "\n",
    "### [^](#toc) Load data"
   ]
  },
  {
   "cell_type": "code",
   "execution_count": 3,
   "metadata": {},
   "outputs": [
    {
     "name": "stdout",
     "output_type": "stream",
     "text": [
      "Shape of df: (17617, 7)\n"
     ]
    },
    {
     "data": {
      "text/html": [
       "<div>\n",
       "<style>\n",
       "    .dataframe thead tr:only-child th {\n",
       "        text-align: right;\n",
       "    }\n",
       "\n",
       "    .dataframe thead th {\n",
       "        text-align: left;\n",
       "    }\n",
       "\n",
       "    .dataframe tbody tr th {\n",
       "        vertical-align: top;\n",
       "    }\n",
       "</style>\n",
       "<table border=\"1\" class=\"dataframe\">\n",
       "  <thead>\n",
       "    <tr style=\"text-align: right;\">\n",
       "      <th></th>\n",
       "      <th>URL</th>\n",
       "      <th>Story</th>\n",
       "      <th>Date</th>\n",
       "      <th>Title</th>\n",
       "      <th>Transcript</th>\n",
       "      <th>Speakers</th>\n",
       "      <th>Number of Comments</th>\n",
       "    </tr>\n",
       "  </thead>\n",
       "  <tbody>\n",
       "    <tr>\n",
       "      <th>0</th>\n",
       "      <td>https://www.pbs.org/newshour/show/news-wrap-tr...</td>\n",
       "      <td>In our news wrap Monday, President Trump's sea...</td>\n",
       "      <td>Jul 2, 2018 6:50 PM EDT</td>\n",
       "      <td>News Wrap: Trump interviews Supreme Court cand...</td>\n",
       "      <td>[[Judy Woodruff, [ President Trump’s search fo...</td>\n",
       "      <td>{President Donald Trump, Man (through translat...</td>\n",
       "      <td>0.0</td>\n",
       "    </tr>\n",
       "    <tr>\n",
       "      <th>1</th>\n",
       "      <td>https://www.pbs.org/newshour/show/elected-in-a...</td>\n",
       "      <td>Mexican president-elect Andrés Manuel López Ob...</td>\n",
       "      <td>Jul 2, 2018 6:45 PM EDT</td>\n",
       "      <td>Elected by a landslide, can Mexico’s López Obr...</td>\n",
       "      <td>[[Judy Woodruff, [ After two previous runs for...</td>\n",
       "      <td>{Diana Mercado (through translator), Judy Wood...</td>\n",
       "      <td>0.0</td>\n",
       "    </tr>\n",
       "    <tr>\n",
       "      <th>2</th>\n",
       "      <td>https://www.pbs.org/newshour/show/will-u-s-mex...</td>\n",
       "      <td>There are enormous expectations facing the new...</td>\n",
       "      <td>Jul 2, 2018 6:43 PM EDT</td>\n",
       "      <td>Will U.S.-Mexico policy tensions change under ...</td>\n",
       "      <td>[[Judy Woodruff, [ And now perspective from fo...</td>\n",
       "      <td>{Judy Woodruff, Roberta Jacobson}</td>\n",
       "      <td>0.0</td>\n",
       "    </tr>\n",
       "    <tr>\n",
       "      <th>3</th>\n",
       "      <td>https://www.pbs.org/newshour/show/yemens-spira...</td>\n",
       "      <td>One of the poorest countries in the Middle Eas...</td>\n",
       "      <td>Jul 2, 2018 6:40 PM EDT</td>\n",
       "      <td>Yemen’s spiraling hunger crisis is a man-made ...</td>\n",
       "      <td>[[Judy Woodruff, [ The “NewsHour” has reported...</td>\n",
       "      <td>{Lise Grande, Dhabia Kharfoush (through transl...</td>\n",
       "      <td>0.0</td>\n",
       "    </tr>\n",
       "    <tr>\n",
       "      <th>4</th>\n",
       "      <td>https://www.pbs.org/newshour/show/livingwhileb...</td>\n",
       "      <td>A profusion of national incidents in which whi...</td>\n",
       "      <td>Jul 2, 2018 6:35 PM EDT</td>\n",
       "      <td>#LivingWhileBlack: How does racial bias lead t...</td>\n",
       "      <td>[[Judy Woodruff, [ A number of recent incident...</td>\n",
       "      <td>{Yamiche Alcindor, Derrick Johnson, Woman, Jud...</td>\n",
       "      <td>0.0</td>\n",
       "    </tr>\n",
       "  </tbody>\n",
       "</table>\n",
       "</div>"
      ],
      "text/plain": [
       "                                                 URL  \\\n",
       "0  https://www.pbs.org/newshour/show/news-wrap-tr...   \n",
       "1  https://www.pbs.org/newshour/show/elected-in-a...   \n",
       "2  https://www.pbs.org/newshour/show/will-u-s-mex...   \n",
       "3  https://www.pbs.org/newshour/show/yemens-spira...   \n",
       "4  https://www.pbs.org/newshour/show/livingwhileb...   \n",
       "\n",
       "                                               Story                     Date  \\\n",
       "0  In our news wrap Monday, President Trump's sea...  Jul 2, 2018 6:50 PM EDT   \n",
       "1  Mexican president-elect Andrés Manuel López Ob...  Jul 2, 2018 6:45 PM EDT   \n",
       "2  There are enormous expectations facing the new...  Jul 2, 2018 6:43 PM EDT   \n",
       "3  One of the poorest countries in the Middle Eas...  Jul 2, 2018 6:40 PM EDT   \n",
       "4  A profusion of national incidents in which whi...  Jul 2, 2018 6:35 PM EDT   \n",
       "\n",
       "                                               Title  \\\n",
       "0  News Wrap: Trump interviews Supreme Court cand...   \n",
       "1  Elected by a landslide, can Mexico’s López Obr...   \n",
       "2  Will U.S.-Mexico policy tensions change under ...   \n",
       "3  Yemen’s spiraling hunger crisis is a man-made ...   \n",
       "4  #LivingWhileBlack: How does racial bias lead t...   \n",
       "\n",
       "                                          Transcript  \\\n",
       "0  [[Judy Woodruff, [ President Trump’s search fo...   \n",
       "1  [[Judy Woodruff, [ After two previous runs for...   \n",
       "2  [[Judy Woodruff, [ And now perspective from fo...   \n",
       "3  [[Judy Woodruff, [ The “NewsHour” has reported...   \n",
       "4  [[Judy Woodruff, [ A number of recent incident...   \n",
       "\n",
       "                                            Speakers  Number of Comments  \n",
       "0  {President Donald Trump, Man (through translat...                 0.0  \n",
       "1  {Diana Mercado (through translator), Judy Wood...                 0.0  \n",
       "2                  {Judy Woodruff, Roberta Jacobson}                 0.0  \n",
       "3  {Lise Grande, Dhabia Kharfoush (through transl...                 0.0  \n",
       "4  {Yamiche Alcindor, Derrick Johnson, Woman, Jud...                 0.0  "
      ]
     },
     "execution_count": 3,
     "metadata": {},
     "output_type": "execute_result"
    }
   ],
   "source": [
    "df = pd.read_csv(\"../data/PBS_full_unedited.csv\")\n",
    "for col in [\"Transcript\", \"Story\", \"Speakers\"]:\n",
    "    df[col] = df[col].map(string_literal)\n",
    "    \n",
    "print(\"Shape of df:\", df.shape)\n",
    "df.head()"
   ]
  },
  {
   "cell_type": "markdown",
   "metadata": {},
   "source": [
    "---\n",
    "<a id=\"datetime\"></a>\n",
    "\n",
    "# [^](#toc) <u>Datetime</u>\n",
    "\n",
    "First let's clear off whitespace and \\n characters"
   ]
  },
  {
   "cell_type": "code",
   "execution_count": 4,
   "metadata": {
    "collapsed": true
   },
   "outputs": [],
   "source": [
    "df[\"Date\"] = df[\"Date\"].map(lambda x: x.strip())"
   ]
  },
  {
   "cell_type": "markdown",
   "metadata": {},
   "source": [
    "### Time Zone\n",
    "\n",
    "It appears, the time is always posted in EDT"
   ]
  },
  {
   "cell_type": "code",
   "execution_count": 5,
   "metadata": {},
   "outputs": [
    {
     "data": {
      "text/plain": [
       "EDT    17617\n",
       "Name: Timezone, dtype: int64"
      ]
     },
     "execution_count": 5,
     "metadata": {},
     "output_type": "execute_result"
    }
   ],
   "source": [
    "df[\"Timezone\"] = df.Date.map(lambda x: x[-3:])\n",
    "df[\"Timezone\"].value_counts()"
   ]
  },
  {
   "cell_type": "markdown",
   "metadata": {},
   "source": [
    "### Updated times\n",
    "\n",
    "There are only 4 videos that were updated.  I don't think this is very interesting so I'm just going to ignore all updated times.\n",
    "\n",
    "I understand why someone would like this data, but I don't need it."
   ]
  },
  {
   "cell_type": "code",
   "execution_count": 6,
   "metadata": {},
   "outputs": [
    {
     "name": "stdout",
     "output_type": "stream",
     "text": [
      "4 clips have had information updated\n"
     ]
    }
   ],
   "source": [
    "df.temp = df.Date.map(lambda x: int(\"Updated\" in x))\n",
    "num_updated = len(df[df.temp == 1])\n",
    "print(f\"{num_updated} clips have had information updated\")\n",
    "\n",
    "df.Date = df.Date.map(lambda x: x.split(\"\\n\")[0])"
   ]
  },
  {
   "cell_type": "markdown",
   "metadata": {},
   "source": [
    "### Convert to Datetime\n",
    "\n",
    "See this Stack Exchange [link](https://english.stackexchange.com/questions/35315/what-is-the-proper-name-for-am-and-pm?newreg=2d443a2ca9dc4ba6abbe1a1e01e4af4b) haha.  I was honored by the line...\n",
    "\n",
    "    software developers think about naming variables properly. It is built into the Object-Oriented mindset. Jader, a commenter, said it well: \"It's funny that the question intrinsically is not programming related, but all programmers can understand why you posted it here.\"\n",
    "    \n",
    "I just considered myself a physicist!"
   ]
  },
  {
   "cell_type": "code",
   "execution_count": 7,
   "metadata": {
    "collapsed": true
   },
   "outputs": [],
   "source": [
    "def format_datetime(x):\n",
    "    return datetime.datetime.strptime(x[:-4], '%b %d, %Y %H:%M %p')\n",
    "\n",
    "df.Date = df.Date.map(format_datetime)"
   ]
  },
  {
   "cell_type": "markdown",
   "metadata": {},
   "source": [
    "### And we're done with times!"
   ]
  },
  {
   "cell_type": "markdown",
   "metadata": {},
   "source": [
    "---\n",
    "<a id=\"speakers\"></a>\n",
    "\n",
    "# [^](#toc) <u>Speakers</u>"
   ]
  },
  {
   "cell_type": "markdown",
   "metadata": {},
   "source": [
    "### Fill in missing speakers"
   ]
  },
  {
   "cell_type": "code",
   "execution_count": 8,
   "metadata": {
    "collapsed": true
   },
   "outputs": [],
   "source": [
    "for row in df.loc[df.Speakers.isnull(), 'Speakers'].index:\n",
    "    df.at[row, 'Speakers'] = {}"
   ]
  },
  {
   "cell_type": "markdown",
   "metadata": {},
   "source": [
    "### Overview of names"
   ]
  },
  {
   "cell_type": "code",
   "execution_count": 9,
   "metadata": {},
   "outputs": [
    {
     "name": "stdout",
     "output_type": "stream",
     "text": [
      "Unique names found in df: 32725\n"
     ]
    }
   ],
   "source": [
    "N = len(set.union(*df.Speakers))\n",
    "\n",
    "print(\"Unique names found in df:\", N)"
   ]
  },
  {
   "cell_type": "markdown",
   "metadata": {},
   "source": [
    "### Example: Obama\n",
    "\n",
    "It looks like there's a lot to do here, I want uniform names.\n",
    "\n",
    "When I search for Obama I want to see 'SEN. BARACK OBAMA', 'SENATOR BARACK OBAMA', 'PRESIDENT BARACK OBAMA', 'PRESIDENT BARACK OBAMA (singing)', 'BARACK OBAMA', 'BARACK OBAMA (singing)', and 'Barack Obama'\n",
    "\n",
    "My plan of attack is\n",
    "\n",
    "However removing modifiers only goes so far, sometimes the names are shortened.  In which case I need to manually group \"Obama\" and \"PRESIDENT OBAMA\" to \"BARACK OBAMA\".\n",
    "\n",
    "There also seems to be ASCII errors like \"\\xa0\" popping up."
   ]
  },
  {
   "cell_type": "code",
   "execution_count": 10,
   "metadata": {
    "scrolled": true
   },
   "outputs": [
    {
     "data": {
      "text/plain": [
       "{'And I think Obama and Boehner and Reid all know that their legacies are tied together and they reside around one thing',\n",
       " 'And Obama’s counter will have to be',\n",
       " 'And President Obama says he will do something few presidents have done',\n",
       " 'And so that’s what the FTC and the Obama Administration have both called for',\n",
       " 'Arizona Senator John McCain said today the Obama administration is to blame',\n",
       " 'BARACK OBAMA',\n",
       " 'BARACK OBAMA (singing)',\n",
       " 'Barack Obama',\n",
       " 'Before a fund-raiser for President Obama',\n",
       " 'Brookings institution scholar Shadi Hamid credits Mr. Obama for the Iran deal',\n",
       " 'But the Obama reelection team did wade into the Bain debate with a memo that said',\n",
       " 'Daniel Benjamin was coordinator for counterterrorism at the State Department during the first term of the Obama administration. He’s now a professor at Dartmouth College. And Joby Warrick is a national security correspondent at The Washington Post. He’s also the author of the book “Black Flags',\n",
       " 'FIRST LADY MICHELLE OBAMA',\n",
       " 'FORMER PRESIDENT BARACK OBAMA',\n",
       " 'FORMER PRESIDENT\\xa0BARACK OBAMA',\n",
       " 'Former President Barack Obama',\n",
       " 'He writes of one meeting in 2011 with Mr. Obama and General David Petraeus',\n",
       " 'I had a rule in the Obama campaign',\n",
       " 'Juliette Kayyem was an assistant secretary at the Department of Homeland Security during the Obama administration. She now has her own security consulting firm. William McCants is director of the Project on U.S. Relations with the Islamic world at the Brookings Institution. His most recent book is “The ISIS Apocalypse',\n",
       " 'MICHELLE OBAMA',\n",
       " 'Michelle Obama',\n",
       " 'Michèle Flournoy was undersecretary of defense for policy during the first term of the Obama administration. She’s now chief executive officer at the Center for a New American Security. And retired Army Colonel Andrew Bacevich is professor emeritus of international relations and history at Boston University. His latest book is “Breach of Trust',\n",
       " 'Obama',\n",
       " 'Obama’s is like the Simpson-Bowles. It’s $2 of cuts — I agree with you',\n",
       " 'PRESDIENT BARACK OBAMA',\n",
       " 'PRESIDEDNT BARACK OBAMA',\n",
       " 'PRESIDENT BARACK OBAMA',\n",
       " 'PRESIDENT BARACK OBAMA (singing)',\n",
       " 'PRESIDENT BARACK OBAMA [MAY 2014] ',\n",
       " 'PRESIDENT OBAMA',\n",
       " 'PRESIDENT OF THE UNITED STATE BARACK OBAMA',\n",
       " 'PRESIDENT PRESIDENT BARACK OBAMA',\n",
       " 'PRESIDENT PRESIDENT OBAMA',\n",
       " 'PRESIDENT\\xa0BARACK OBAMA',\n",
       " 'PRESIDNENT BARACK OBAMA',\n",
       " 'PRESIENT BARACK OBAMA',\n",
       " 'President Barack Obama',\n",
       " 'President Obama',\n",
       " 'President Obama and Speaker Ryan have made similar proposals',\n",
       " 'President Obama appealed for peace in a guest column for the Israeli newspaper Haaretz. He wrote',\n",
       " 'President Obama came into office calling for a troop surge in 2009 to defeat the Taliban',\n",
       " 'President Obama condemned the killing. In a statement',\n",
       " 'President Obama said this at the White House',\n",
       " 'President Obama wouldn’t discuss specifics today. Instead',\n",
       " 'President Obama’s remarks to the nation on fighting the Islamic State group',\n",
       " 'President Trump has again accused former President Obama of failing to stop Russian interference in the 2016 election. On Twitter today',\n",
       " 'Questions also continued about the five Taliban leaders long held at Guantanamo Bay and flown to Qatar in exchange for Bergdahl’s release. The Reuters News Service reported they have been moved to a residential compound and it said they are free to move about the country. President Obama acknowledged today that some of them may try to return to the fight in Afghanistan',\n",
       " 'SEN. BARACK OBAMA',\n",
       " 'SENATOR BARACK OBAMA',\n",
       " 'Speaker Ryan said Obamacare cannot stay as it is',\n",
       " 'The Obama administration continues to defend the law',\n",
       " 'The date is set for President Obama to deliver his 2014 State of the Union address to Congress',\n",
       " 'The nuclear agreement with Iran faces a fresh challenge within President Obama’s own party. Democratic Senator Chuck Schumer of New York',\n",
       " 'U. S. PRESIDENT BARACK OBAMA',\n",
       " 'U.S PRESIDENT BARACK OBAMA',\n",
       " 'U.S. PRESIDENT BARACK OBAMA',\n",
       " 'We campaigned hard. We had more people on the ground working for my campaign than President Obama had had. We were in constant communication',\n",
       " 'We explore all this now with retired Brigadier General David McGinnis. He was a senior Defense Department official during President Obama’s first term. And David Rothkopf',\n",
       " 'You would hope that President Obama would go in and think in these terms',\n",
       " '“Barack Obama'}"
      ]
     },
     "execution_count": 10,
     "metadata": {},
     "output_type": "execute_result"
    }
   ],
   "source": [
    "{elem for elem in {x for x in set.union(*df.Speakers)} if (\"OBAMA\" in elem or \"Obama\" in elem or \"obama\" in elem)}"
   ]
  },
  {
   "cell_type": "markdown",
   "metadata": {},
   "source": [
    "### Long names are actually text"
   ]
  },
  {
   "cell_type": "code",
   "execution_count": 11,
   "metadata": {
    "collapsed": true
   },
   "outputs": [],
   "source": [
    "df.Speakers = df.Speakers.map(lambda x: {elem for elem in x if len(elem.split(\" \")) < 9})"
   ]
  },
  {
   "cell_type": "markdown",
   "metadata": {},
   "source": [
    "### Remove titles, parties, and non-name features\n",
    "\n",
    "We went from 32,725 names to 27,188 names.  This is either from dropping bad names or merging two names that are actually the same person.\n",
    "\n",
    "This is not perfect, PBS does not have a standardized format.  PBS is not considerate of robots as this [example](https://www.pbs.org/newshour/show/trump-considering-sending-troops-afghanistan) shows.  The names start out as full names, but than move to last names.  This makes complete sense to a human in context.  I can't get a machine to understand context though.  Thankfully this type of format is rare and \"SREENIVASAN\" is a rare name so I can map it to \"HARI SREENIVASAN\".  \"RUBIN\" is probably a more common name and less popular on PBS newshour so unfortunately there's nothing I can easily do."
   ]
  },
  {
   "cell_type": "code",
   "execution_count": 12,
   "metadata": {},
   "outputs": [
    {
     "name": "stdout",
     "output_type": "stream",
     "text": [
      "New number of unique names: 26844\n"
     ]
    }
   ],
   "source": [
    "%run preprocessing.py\n",
    "\n",
    "mistaken_names = get_mistaken_names()\n",
    "\n",
    "def map_speakers(x):\n",
    "    return {clean_names(elem) for elem in x if clean_names(elem) not in mistaken_names}\n",
    "\n",
    "df.Speakers = df.Speakers.map(map_speakers)\n",
    "N = len(set.union(*df.Speakers))\n",
    "print(\"New number of unique names:\", N)"
   ]
  },
  {
   "cell_type": "code",
   "execution_count": 13,
   "metadata": {
    "collapsed": true,
    "scrolled": true
   },
   "outputs": [],
   "source": [
    "# df[df.Speakers.map(lambda x: \"HEAD OF  CENTRAL COMMAND\" in x)].Transcript.iloc[0]\n",
    "# {x for x in set.union(*df.Speakers) if \"COMMAND\" in x}"
   ]
  },
  {
   "cell_type": "markdown",
   "metadata": {},
   "source": [
    "### Quick Visualization\n",
    "\n",
    "There might be more work needed to be done.  I don't know why \"S\", \"T\", or \"E\" are all names.  They seem to be only found in cases where no Transcript is provided.  I'll deal with this issue later"
   ]
  },
  {
   "cell_type": "code",
   "execution_count": 13,
   "metadata": {},
   "outputs": [
    {
     "data": {
      "image/png": "[encoded data removed]",
      "text/plain": [
       "<matplotlib.figure.Figure at 0x1a08f84320>"
      ]
     },
     "metadata": {},
     "output_type": "display_data"
    }
   ],
   "source": [
    "# Will count number of unique words in a sentence\n",
    "from collections import Counter\n",
    "import operator\n",
    "    \n",
    "persons = df.Speakers.map(list).sum()\n",
    "\n",
    "freq = sorted(Counter(persons).items(), key=operator.itemgetter(1), reverse=True)\n",
    "freq\n",
    "x, y = list(zip(*freq[:25]))\n",
    "plt.figure(figsize=(14, 14))\n",
    "sns.barplot(list(y), list(x));"
   ]
  },
  {
   "cell_type": "markdown",
   "metadata": {},
   "source": [
    "---\n",
    "<a id=\"transcript\"></a>\n",
    "\n",
    "# [^](#toc) <u>Transcript</u>"
   ]
  },
  {
   "cell_type": "code",
   "execution_count": 14,
   "metadata": {
    "collapsed": true
   },
   "outputs": [],
   "source": [
    "for row in df.loc[df.Transcript.isnull(), 'Transcript'].index:\n",
    "    df.at[row, 'Transcript'] = []"
   ]
  },
  {
   "cell_type": "markdown",
   "metadata": {
    "collapsed": true
   },
   "source": [
    "### Plan of attack\n",
    "\n",
    "1.) Remove all speakers that should not be included.  \n",
    "2.) Go through each Transcript and check if it has a Speaker that is not included.  \n",
    "3.) If this speaker is the first one talking, clip the transcript short.  This is probably more intro if there isn't a direct speaker.  \n",
    "4.) If the speaker is not the first talker, append the speaker and text to the previous speaker.  \n",
    "\n",
    "Check out this [video](https://www.pbs.org/newshour/show/with-3-more-wins-romney-pivots-to-general-election#transcript) and search for \"North Carolina is a strong one for them\".  You'll see one of these formating slips and understand what the problem is.  If you know how to do a webpage inspection, try to figure out a difference between speaker names and emphasized text.  I couldn't"
   ]
  },
  {
   "cell_type": "code",
   "execution_count": 15,
   "metadata": {
    "collapsed": true,
    "scrolled": false
   },
   "outputs": [],
   "source": [
    "def map_transcript(speakers):\n",
    "    def map_transcript_helper(x):\n",
    "        if x is np.nan:\n",
    "            return x\n",
    "        i = 0\n",
    "        while i < len(x):\n",
    "            speeches = x[i]\n",
    "            if speeches[1] == [\"\"]:\n",
    "                x[i-1][1].append(speeches[0])\n",
    "                del x[i]\n",
    "                i -= 1\n",
    "            \n",
    "            elif clean_names(speeches[0]) not in speakers:\n",
    "                if i == 0:\n",
    "                    x = x[1:]\n",
    "                else:\n",
    "                    temp = speeches[1][:]\n",
    "                    temp.insert(0, speeches[0])\n",
    "                    x[i-1][1] = x[i-1][1] + temp\n",
    "\n",
    "                    del x[i]\n",
    "                    i -= 1\n",
    "            i += 1\n",
    "        return x\n",
    "    return map_transcript_helper\n",
    "\n",
    "speakers = set.union(*df.Speakers)\n",
    "df.Transcript = df.Transcript.map(map_transcript(speakers))"
   ]
  },
  {
   "cell_type": "markdown",
   "metadata": {},
   "source": [
    "### Quick check\n",
    "\n",
    "I'll check a few random transcripts to see if they were formatted correctly\n",
    "\n",
    "And wow!  This works almost perfectly!  I haven't seen one mistake yet"
   ]
  },
  {
   "cell_type": "code",
   "execution_count": 16,
   "metadata": {
    "scrolled": false
   },
   "outputs": [
    {
     "name": "stdout",
     "output_type": "stream",
     "text": [
      "\n",
      "https://www.pbs.org/newshour/show/will-trumps-criticism-regular-americans-hurt-voters\n",
      "\u001b[1m TRANSCRIPT \u001b[0m\n",
      "\u001b[4m GWEN IFILL: \u001b[0m\n",
      "    For more on the fight between Donald Trump and the Khan family, his recent comments on Russia’s intervention in Ukraine, and Hillary Clinton’s weekend outreach to Rust Belt voters, it’s time for Politics Monday with Tamara Keith of NPR and Amy Walter of The Cook Political Report. You just heard Ghazala Khan say to Judy in response to the questions about Donald Trump’s feud, whatever it is, that, “I can take it.” We have heard in the last few moments Warren Buffett on behalf of Hillary Clinton say, have you no decency, sir? You have made no sacrifice. We heard John McCain also scold, but not withdraw his endorsement today of Donald Trump. I wonder, starting with you, Amy, whether it’s ever a good thing to have to defend yourself by tweet?\n",
      "\n",
      "\u001b[4m AMY WALTER: \u001b[0m\n",
      "    No, but at the same time, nothing about this campaign has seemed normal. Right? The traditional candidate response to a speech like Mr. Khan gave would be to say, my condolences for your loss. Here is my differences of opinion on the policy of it, right? I differed with Hillary Clinton and the Obama administration on the war on terror. I differed with President Bush on going to Iraq in the very first place, even though he did say he supported it early on, when he invaded Iraq. But that is the answer that a traditional politician would give. And, Gwen, I just feel I should just come out here with a tape recorder and just every week say, nothing that he does is like a traditional politician would ever do. What we are seeing is, his supporters, I think, will continue to rally around him, but every day that this campaign is about Donald Trump and his messaging, which is not — which is about him and not about the bigger, broader issues, I don’t think that’s a good day for Donald Trump.\n",
      "\n",
      "\u001b[4m GWEN IFILL: \u001b[0m\n",
      "    Let’s flip the script a little bit. Hillary Clinton, it seems to me, was asked about Pat Smith, the Benghazi mom, who spoke at the Republican Convention, and what was her reaction?\n",
      "\n",
      "\u001b[4m TAMARA KEITH: \u001b[0m\n",
      "    Her reaction was more the typical politician answer. It was, thank you for your family’s service. I can’t begin to understand your loss, that kind of thing. And then she did get to the question of whether she remembered it the same way. But she remained respectful throughout, and you wouldn’t call it a feud. That’s the difference is, in the way Hillary Clinton answered, it ended there. And look at George W. Bush. Cindy Sheehan was parked outside his ranch for a very long time protesting him, and George W. Bush…\n",
      "\n",
      "\u001b[4m GWEN IFILL: \u001b[0m\n",
      "    In 2008.\n",
      "\n",
      "\u001b[4m TAMARA KEITH: \u001b[0m\n",
      "    Was it — it was earlier. I think it was even maybe 2004.\n",
      "\n",
      "\u001b[4m GWEN IFILL: \u001b[0m\n",
      "    Yes.\n",
      "\n",
      "\u001b[4m AMY WALTER: \u001b[0m\n",
      "    Right. Right.\n",
      "\n",
      "\u001b[4m TAMARA KEITH: \u001b[0m\n",
      "    And George W. Bush said, that is her right, that is her right to protest, that is her right to say anything she wants about me, because this is America, actually.\n",
      "\n",
      "\u001b[4m GWEN IFILL: \u001b[0m\n",
      "    That’s what America actually allows for. Let’s move on to something else Donald Trump had to say this weekend. He was asked on “This Week” by George Stephanopoulos about his views about Ukraine and Russia and his relationship with Vladimir Putin, and this was his response.\n",
      "\n",
      "\u001b[4m DONALD TRUMP: \u001b[0m\n",
      "    He is not going to go into Ukraine, all right? You can mark it down, you can put it down, you can take it any way you want.\n",
      "\n",
      "\u001b[4m GEORGE STEPHANOPOULOS: \u001b[0m\n",
      "    He is already there, isn’t he?\n",
      "\n",
      "\u001b[4m DONALD TRUMP: \u001b[0m\n",
      "    Well, he is there in a certain way, but I’m not there. You have Obama there. And, frankly, that whole part of the world is a mess under Obama. With all the strength that you’re talking about and all of the power of NATO and all of this, in the meantime, he’s going away — he takes Crimea. He’s sort of…\n",
      "\n",
      "\u001b[4m GEORGE STEPHANOPOULOS: \u001b[0m\n",
      "    But you said you might recognize that.\n",
      "\n",
      "\u001b[4m DONALD TRUMP: \u001b[0m\n",
      "    I’m going to take a look at it. But, you know, the people of Crimea, from what I have heard, would rather be with Russia than where they were.\n",
      "\n",
      "\u001b[4m GWEN IFILL: \u001b[0m\n",
      "    He said two things there that horrified foreign policy experts. One was that, in fact, Russia wasn’t already in Ukraine, which Ukrainians would — the government we back in Ukraine disagrees with, and also that somehow Crimeans think it would be OK for Russia to stay there after having been annexed. And then he came out today and said, that’s not what I meant.\n",
      "\n",
      "\u001b[4m AMY WALTER: \u001b[0m\n",
      "    That’s not what I meant at all, right. So, he tweeted back out, that’s not what I meant at al. What I meant is, when I’m president, they won’t do anymore in Ukraine. But it’s the Obama administration that failed in this. Again, this is where he makes Hillary Clinton’s job that much easier. Her entire focus — you saw it at the DNC — you are going to see every day for the next 99 days — is to say that he’s temperamentally unfit to be president of the United States, he’s dangerous. And it’s not just going to be one thing or another thing. It’s that this — if this happens day in and day out, this idea about his sympathies, whether it’s his sympathies to Putin, whether it’s his fight that he’s getting in with the Khan family, in the minds of people who are not already in a camp, polarized one way or the other, it sows enough doubt.\n",
      "\n",
      "\u001b[4m GWEN IFILL: \u001b[0m\n",
      "    But, on the other hand — always throws the on the other hand, Tam, which is, people are not going to decide who to vote for based on whether they think that, or are they, that Donald Trump is great friends with Vladimir Putin?\n",
      "\n",
      "\u001b[4m TAMARA KEITH: \u001b[0m\n",
      "    I think that the economy is far more of a factor for American voters than what happens in Crimea. The sector of voters that are Crimea voters is probably not very large. So, going back to the Khan family and the feud with the Khan family, the question is whether this is the thing that pushes Donald Trump over the edge, whether this is the time.\n",
      "\n",
      "\u001b[4m GWEN IFILL: \u001b[0m\n",
      "    We have said that before.\n",
      "\n",
      "\u001b[4m TAMARA KEITH: \u001b[0m\n",
      "    And we have asked that many times, like with John McCain and various other things. This seems more like the time that he mocked a disabled reporter than other — because these are regular people. These are civilians. These aren’t politicians that he’s going after. And we won’t know for a while, but focus groups showed that mocking a disabled reporter was the most resonant thing. It’s the thing that… (CROSSTALK)\n",
      "\n",
      "\u001b[4m TAMARA KEITH: \u001b[0m\n",
      "    … and why it’s in an ads. And I just think that you’re going to see this in an ad.\n",
      "\n",
      "\u001b[4m GWEN IFILL: \u001b[0m\n",
      "    We saw both of them in the Rust Belt, Ohio, Pennsylvania, in the last few days. You were on the big bus tour, which must have been… (CROSSTALK)\n",
      "\n",
      "\u001b[4m TAMARA KEITH: \u001b[0m\n",
      "    Exhausting.\n",
      "\n",
      "\u001b[4m GWEN IFILL: \u001b[0m\n",
      "    Exhausting, yes. But I wonder what the candidates are doing now right out of their conventions, starting off on the general election, what this tells us about how they were received at the conventions and what they are trying to do next, Amy.\n",
      "\n",
      "\u001b[4m AMY WALTER: \u001b[0m\n",
      "    Well, to build on Tam’s point about the economy, this is another missed opportunity here for the Trump campaign. On Friday, the news came out, GDP numbers terrible, were at like the second worst recovery since 1949. You’re supposed to go to the Rust Belt and make that case. See, the economy is not doing well under Obama, why would you let Hillary Clinton do it? Of course, that’s not what we were talking about this weekend. We were talking all of these things. What Hillary Clinton was doing this weekend — Tam was on the bus and actually saw this, but if you look at the cities that she went, she went right into Trump country. And that’s not because she thinks she’s going to win there, but campaigns are as much as about winning over voters as it is not losing by a lot. And she’s trying to narrow the margins. In those areas that Obama lost, she can’t lose by as worst percentage.\n",
      "\n",
      "\u001b[4m GWEN IFILL: \u001b[0m\n",
      "    And I know it’s too soon to talk about convention bumps, even though there are a handful of polls out today showing that she has some kind of a bump. But how is this campaign then positioning itself to take advantage of whatever positivity they can get out of this negativity for their opponent?\n",
      "\n",
      "\u001b[4m TAMARA KEITH: \u001b[0m\n",
      "    They’re trying to hold their ground. No matter what the bump says, I get the feeling that Hillary Clinton and the Clinton campaign is just going to keep plugging away. This is not a flashy campaign. This is the nitty-gritty work. I mean, they’re in Omaha, where there is one electoral vote that she could possibly maybe win.\n",
      "\n",
      "\u001b[4m GWEN IFILL: \u001b[0m\n",
      "    And that’s Warren Buffett’s. (LAUGHTER)\n",
      "\n",
      "\u001b[4m TAMARA KEITH: \u001b[0m\n",
      "    And that’s where Warren Buffett happens to be, and that is where he is introducing her. But they are doing the small ball, trying to win that way. Meanwhile, Donald Trump is going for the big splash, and this is a real test.\n",
      "\n",
      "\u001b[4m GWEN IFILL: \u001b[0m\n",
      "    Of which will work.\n",
      "\n",
      "\u001b[4m TAMARA KEITH: \u001b[0m\n",
      "    Of which will work.\n",
      "\n",
      "\u001b[4m AMY WALTER: \u001b[0m\n",
      "    Yes. Yes.\n",
      "\n",
      "\u001b[4m GWEN IFILL: \u001b[0m\n",
      "    Tamara Keith of NPR, Amy Walter of The Cook Political Report, thank you both.\n",
      "\n",
      "\u001b[4m TAMARA KEITH: \u001b[0m\n",
      "    You’re welcome.\n",
      "\n",
      "\n",
      "https://www.pbs.org/newshour/show/wine-country-residents-pick-6-0-earthquake-strikes-napa\n",
      "\u001b[1m TRANSCRIPT \u001b[0m\n",
      "\u001b[4m GWEN IFILL: \u001b[0m\n",
      "    Businesses and residents of Northern California assessed the damage today, after the strongest earthquake in decades rocked the area over the weekend. Some analysts estimated economic losses could reach $4 billion. “NewsHour” special correspondent Spencer Michels has our report from Napa Valley.\n",
      "\n",
      "\u001b[4m SPENCER MICHELS: \u001b[0m\n",
      "    The people of Napa picked up where they left off last night, cleaning up the mess the earthquake left behind. Chunks of bricks and broken glass were strewn across the streets. As of this morning, local officials estimated at least 90 homes and buildings, including the historic county courthouse, were deemed unsafe to occupy.\n",
      "\n",
      "\u001b[4m MIKE PARNESS: \u001b[0m\n",
      "    Tonight, after we have looked at all of the properties, all of the infrastructure, one of the first things we will be doing in the next day or so is sitting down and trying to figure out, what does this mean in terms of infrastructure impact private-public, as well as economic impact?\n",
      "\n",
      "\u001b[4m SPENCER MICHELS: \u001b[0m\n",
      "    The earthquake, a 6.0, struck in the wee hours of Sunday in the heart of Northern California’s wine country.\n",
      "\n",
      "\u001b[4m CHRISTOPHER COX: \u001b[0m\n",
      "    I’m still kind of caught up in being back and how violent the shaking was. But, yes, it’s just — it’s amazing. You don’t think it’s going to happen in Napa. You hear everything is in San Francisco, Los Angeles. For an epicenter to be right here in Napa itself is kind of shocking.\n",
      "\n",
      "\u001b[4m SPENCER MICHELS: \u001b[0m\n",
      "    The shock came as the region’s famed vineyards were at the beginning of the harvesting season in an industry that generates more than $13 billion a year. Thousands of bottles of wine were shaken from their shelves and onto cellar floors. In some cases, entire barrels toppled over, spilling their contents. Some vineyards lost power, disrupting the fermentation process for this year’s vintage. And individual wine bars and wineries reported losses ranging from $15,000 to $20,000 each.\n",
      "\n",
      "\u001b[4m MAN: \u001b[0m\n",
      "    Broke away at the other end, and I think it just rocked and rolled.\n",
      "\n",
      "\u001b[4m SPENCER MICHELS: \u001b[0m\n",
      "    Madonna Estates was one winery that suffered some significant damage.\n",
      "\n",
      "\u001b[4m MAN: \u001b[0m\n",
      "    There’s not enough space. And as it moved, jumped around, they all came to the point where they jumped off the end and then fell down. The harvest is getting ready to start this week. And I’m dealing with this.\n",
      "\n",
      "\u001b[4m SPENCER MICHELS: \u001b[0m\n",
      "    The tremor also forced many wineries and restaurants to close, at the height of the tourism season.\n",
      "\n",
      "\u001b[4m PARIS YILDIZ: \u001b[0m\n",
      "    It was a mess. You literally have to walk over glass just to get to the main dining room. So we pretty much lost, I would say, 80 percent of our inventory. And, of course, we lost our food because we had no power.\n",
      "\n",
      "\u001b[4m SPENCER MICHELS: \u001b[0m\n",
      "    The Napa earthquake was the strongest in Northern California since the 1989 Loma Prieta quake, which killed 62 people. Before that, the strongest earthquake on record was the San Francisco quake of 1906, which essentially destroyed the city. This quake isn’t in that category, but it certainly is a reminder that San Francisco and the Bay Area is earthquake country. Several of the damaged buildings in downtown Napa had not been retrofitted to withstand earthquakes, a process which, according to restoration worker Anthony Van Krieken, saved many other buildings.\n",
      "\n",
      "\u001b[4m ANTHONY VAN KRIEKEN: \u001b[0m\n",
      "    Most of the ones that were retrofitted actually did — held up very well. In retrofitting, they do different processes, but if you go the crisscross and the heavy iron and all those applications, those seem to have held up well. There are several buildings right on Main Street that I could show you that held up perfectly with no damage at all.\n",
      "\n",
      "\u001b[4m SPENCER MICHELS: \u001b[0m\n",
      "    Schools were closed today as classrooms were inspected. Power and gas were mostly restored to thousands of homes and businesses that lost service. Around 600 properties will remain without water until later this week. And Queen of the Valley Medical Center in Napa said it treated 208 people hurt in the earthquake. One person remains in critical condition.\n",
      "\n",
      "\n",
      "https://www.pbs.org/newshour/show/repetitive-head-injuries-link-to-degenerative-brain-disease\n",
      "\u001b[1m TRANSCRIPT \u001b[0m\n",
      "\u001b[4m JEFFREY BROWN: \u001b[0m\n",
      "    How tough is too tough when it comes to sports and brain injuries? It’s an issue we have followed over a number of years. Today, there was new data to chew on. Week after week, the big hits keep attracting big TV audiences to professional and college football. But concerns over head injuries in football and other sports have also continued about a connection between repeated blows and a degenerative brain disease known as chronic traumatic encephalopathy, or CTE. The latest evidence comes from a new report from BostonUniversity that’s been published in the scientific journal “Brain.” The four-year study examined brain autopsies of 85 male donors ranging from age 17 to 98. It included football players at various levels, boxers, hockey players and a group of veterans. They have found evidence of CTE in 68 cases, almost all of them athletes. The football players included linemen, running backs and tight ends who had received repeated hits throughout their careers. One was the late John Mackey, profiled with his wife, Sylvia, in 2009 by Ray Suarez.\n",
      "\n",
      "\u001b[4m RAY SUAREZ: \u001b[0m\n",
      "    In the good days, how is it different from what we’re seeing now for Mr. Mackey?\n",
      "\n",
      "\u001b[4m SYLVIA MACKEY: \u001b[0m\n",
      "    He will get up and walk up and down. He can — he will throw and catch the ball. Actually, today would be a good day if it weren’t for the myoclonic twitching, they call it, or myoclonic jerks.\n",
      "\n",
      "\u001b[4m RAY SUAREZ: \u001b[0m\n",
      "    And speech?\n",
      "\n",
      "\u001b[4m SYLVIA MACKEY: \u001b[0m\n",
      "    He doesn’t talk anymore, very rarely.\n",
      "\n",
      "\u001b[4m JEFFREY BROWN: \u001b[0m\n",
      "    Mackey passed away in July of last year. Others in the study who show signs of CTE were Derek Boogaard, a former hockey enforcer who died of an accidental overdose in May of last year, and former NFL safety Dave Duerson, who took his own life in February of 2011 after complaining of headaches and a deteriorating memory. The NFL faces a class-action lawsuit filed last July by thousands of former NFL players and their families, citing lack of disclosure about potential dangers. For more, we’re joined by one of the lead researchers, Dr. Ann McKee, a neurologist and co-director of the center for the Study of Traumatic Encephalopathy at BostonUniversity, and Mark Fainaru-Wada, an investigative reporter with ESPN who is working on a documentary about this subject for “Frontline.” Well, Ann McKee, let me start with you. What do you see as the key finding from this study that perhaps we didn’t know before?\n",
      "\n",
      "\u001b[4m ANN MCKEE: \u001b[0m\n",
      "    Well, this study, this disease, chronic traumatic encephalopathy, has been around since the 1920s. But there have really only been a smattering of reports. In this paper, we more than doubled the world’s experience with this disorder and take it from the very beginning, where it first affects the nervous system, where it affects the nervous system, and then we see it expand progressively in older and older individuals, until it really is a destructive disease that affects most of the brain.\n",
      "\n",
      "\u001b[4m JEFFREY BROWN: \u001b[0m\n",
      "    And just to be clear here, the focus is less on the — I guess, the major hits or major concussions, and more on sort of repetition over time?\n",
      "\n",
      "\u001b[4m ANN MCKEE: \u001b[0m\n",
      "    Right. This is exposure to what we call mild traumatic brain injury usually considered almost insignificant hits, not — they don’t even have to rise to the level of concussion. They can be sub-concussion. But when you’re exposed to these hits over a very long period of time, usually many years, you can set yourself up for some long-term consequences.\n",
      "\n",
      "\u001b[4m JEFFREY BROWN: \u001b[0m\n",
      "    All right, Mark Fainaru-Wada, you have been reporting on some of the — well, there was pushback from some of the experts to these findings. Tell us what you have been hearing from them and from the NFL, for example.\n",
      "\n",
      "\u001b[4m MARK FAINARUWADA: \u001b[0m\n",
      "    Right. Well, my brother and colleague Steve Fainaru and I have been reporting on this for a while for a book and a documentary and for ESPN. And, as Dr. McKee stated, the findings on this are substantial in terms of the numbers. They’re the largest number ever reported. And what we did find, though, was there’s a lot of pushback in the scientific community. Dr. McKee told us about her recent experience at a conference in Zurich where there were various folks who criticized the work. We talked to some of those people, including some of NFL doctors who were there. One NFL member of their brain committee said, you know, relating these cases, creating a causal link based on these case studies to football is akin to saying basically all the ankle injuries suffered by football players wearing Nike shoes were because of the shoes. The argument there is that — and, as Dr. McKee has acknowledged — the data set they’re working from is skewed because it’s based on a series of brains from athletes and players who were showing signs before death in large cases of having mental issues. And so the question that everybody is trying to figure out is, what is the actual incidence of this disease in looking at brains that were healthy vs. players who actually were exposed to football?\n",
      "\n",
      "\u001b[4m JEFFREY BROWN: \u001b[0m\n",
      "    Well, let me ask you, Dr. McKee, to comment on that. How definitive is this? What else do you need to look at to know especially things like how to treat people?\n",
      "\n",
      "\u001b[4m ANN MCKEE: \u001b[0m\n",
      "    Well, this study is definitive in describing and defining what the disease is and how it affects the nervous system. But a key question remains, what’s the incidence and prevalence? How common is this disorder? And that, we will never establish from an autopsy study. For that, we really need to be able to identify this disease in living individuals. And that’s a huge focus of our more recent research. How can we identify this in people that are living? And that might be through MRI scans or PET scans and especially the ones that might peg the TAL protein that develops. It might be seen through blood tests or tests of your urine or CSF. But we are really going to need those tests to be able to determine if a living person has this disease and then be able to measure that person’s exposure to head trauma. And that will be the defining moment. And that will probably take a longitudinal prospective study involving probably thousands of subjects.\n",
      "\n",
      "\u001b[4m JEFFREY BROWN: \u001b[0m\n",
      "    Well, so, Mark Fainaru-Wada, how are professional leagues, people who work with students, student athletes, how are they taking this? How should parents take this in terms of the stakes here, the implications for when people should be in contact sports?\n",
      "\n",
      "\u001b[4m MARK FAINARUWADA: \u001b[0m\n",
      "    Well, I think the numbers what are strike most people. And I think those are the questions that raise issues for some of the leagues and how they deal with it and how significant this is. The study talks about, out of 34 NFL players studied, 33 of them ended up having CTE. And so I think that obviously creates questions. Some people have suggested that the numbers raise more alarming questions than are real. But the league for its part, the NFL, which faces the most scrutiny on this issue, with, as your piece noted, 4,000 former players suing the league right now, the league has looked at the changed rules to address the issue of these sort of larger hits that we have seen, these sort of defining hits. I think the larger question, though, as Dr. McKee touched on earlier, is the subconcussive blows, there’s increasing research around that; 40 percent of the cases of CTE they identified in NFL players were lineman. And so that raises questions about, is just the definitive — the nature of repetitive hits in the game something that exposes a player? And I think that’s what the leagues and parents are trying to figure out as they try to find out how significant an issue is this and what the risk is for their kids.\n",
      "\n",
      "\u001b[4m JEFFREY BROWN: \u001b[0m\n",
      "    Well, Dr. McKee, how far would you go at this point in terms of what you say to parents or athletic directors or professional teams about taking the findings and using them somehow?\n",
      "\n",
      "\u001b[4m ANN MCKEE: \u001b[0m\n",
      "    Well, I think the major caution I would have is that all parents, coaches should take every head injury seriously and try to eliminate the minor hits or the hits to the head as much as possible in any sport. We have already seen in the last four or five years a tremendous focus on concussions. It used to be considered a fairly trivial injury that no one needed to sit out for. And now we’re taking it seriously and we’re resting those athletes and making sure they’re completely asymptomatic until they return to play. And I think this has been a tremendous development. And it will probably go a long way in terms of preventing the development of these long-term consequences in these individuals. At this point, we don’t have any evidence, there’s no available evidence that a single isolated or a few isolated concussions that are well-managed — that means well-rested, the individual is asymptomatic before he goes back to play — there’s no evidence that those injuries lead to this disease. The injuries that seem to lead to this disease are years and years of exposure to many hits. And those hits may be relatively mild.\n",
      "\n",
      "\u001b[4m JEFFREY BROWN: \u001b[0m\n",
      "    And, Mark, let me just ask you very briefly. You mentioned that lawsuit. Just tell us briefly where do things stand? That goes on, right?\n",
      "\n",
      "\u001b[4m MARK FAINARUWADA: \u001b[0m\n",
      "    Yes, it’s ongoing. And the current state is that both sides are arguing. The NFL has argued for dismissal of the case. It’s before a federal judge in Philadelphia. I think both sides expect some ruling on whether the case will get tossed out or not in the spring. And, surely, there will be an appeal, one would expect, either way. So I think one expects the lawsuits are going to drag on well into next year at least.\n",
      "\n",
      "\u001b[4m JEFFREY BROWN: \u001b[0m\n",
      "    Mark Fainaru-Wada and Dr. Ann McKee, thank you both very much.\n",
      "\n",
      "\u001b[4m ANN MCKEE: \u001b[0m\n",
      "    Thank you.\n",
      "\n",
      "\n",
      "https://www.pbs.org/newshour/show/why-putin-is-unveiling-invincible-nuclear-weapons-now\n",
      "\u001b[1m TRANSCRIPT \u001b[0m\n",
      "\u001b[4m JUDY WOODRUFF: \u001b[0m\n",
      "    Just weeks before his all-but-guaranteed reelection, Russia’s President Vladimir Putin gave his over version of a State of the Union address today. As Nick Schifrin reports, Putin used the occasion to show off new weapons that he says can defeat U.S. missile defenses and maintain a deadly balance with the United States.\n",
      "\n",
      "\u001b[4m NICK SCHIFRIN: \u001b[0m\n",
      "    President Vladimir Putin today unveiled a grand vision for his country’s future, and what he called the means to achieve it, new nuclear weapons.\n",
      "\n",
      "\u001b[4m VLADIMIR PUTIN: \u001b[0m\n",
      "    (Through interpreter) No one wanted to speak with us constructively. No one has listened to us. You listen to us now.\n",
      "\n",
      "\u001b[4m NICK SCHIFRIN: \u001b[0m\n",
      "    He showed off animations of weapons he called invincible, a hypersonic missile apparently capable of crossing continents in seconds, and a never-before-acknowledged nuclear powered cruise missile apparently that can slalom between missile defense systems that Putin considers a long-term threat. It’s not clear the weapons even exist. But Putin said he wasn’t bluffing.\n",
      "\n",
      "\u001b[4m VLADIMIR PUTIN: \u001b[0m\n",
      "    (Through interpreter) Any use of nuclear weapons against Russia and its allies will be perceived as a nuclear attack on our country. The response will be immediate.\n",
      "\n",
      "\u001b[4m NICK SCHIFRIN: \u001b[0m\n",
      "    Putin’s return to Cold War rhetoric comes one month after the U.S. announced its own plans to deploy new nuclear weapons, and greater willingness to use nuclear weapons. Putin said he was responding to American threats.\n",
      "\n",
      "\u001b[4m VLADIMIR PUTIN: \u001b[0m\n",
      "    (Through interpreter) The growing military strength of Russia is a secure guarantee of peace, because this strength preserves and will always preserve a balance of power in the world.\n",
      "\n",
      "\u001b[4m NICK SCHIFRIN: \u001b[0m\n",
      "    To no surprise, Russian lawmakers responded with praise. They said Putin once again made Russia a global superpower.\n",
      "\n",
      "\u001b[4m ALEXEY PUSHKOV: \u001b[0m\n",
      "    (Through translator) The theory about Russia as a regional superpower with a weak economy disappears from the American political thinking.\n",
      "\n",
      "\u001b[4m NICK SCHIFRIN: \u001b[0m\n",
      "    The speech took place just over two weeks before the Russian elections. Putin framed the U.S. as an adversary and himself the only leader strong enough to meet the challenge. We turn now to Richard Burt. He was the chief U.S. arms control negotiator during the strategic arms reduction talks with the Soviet Union during the Reagan administration. He also served as assistant secretary of state for European affairs. He’s now at McLarty Associates, an international business consulting firm. Richard Burt, thank you very much.\n",
      "\n",
      "\u001b[4m RICHARD BURT: \u001b[0m\n",
      "    Good evening.\n",
      "\n",
      "\u001b[4m NICK SCHIFRIN: \u001b[0m\n",
      "    Is this all about politics, domestic politics, President Putin not worried about threats to Russia, but, in fact, threats to his own power?\n",
      "\n",
      "\u001b[4m RICHARD BURT: \u001b[0m\n",
      "    Well, part of it is certainly about politics. I mean, there is an election in March. Nobody’s going to beat Vladimir Putin, but Putin wants to get a good chunk, 70 percent or more, of the vote, and he can’t talk about an economy that’s rapidly growing. He doesn’t have the kind of consumer economy that dominated the early part of the century. People’s living standards are actually falling. So, he’s playing the great power card. He’s saying, I brought Russia back, we’re a global superpower, and our technology is first-class, it can compete effectively with the United States, and so you can rest easy.\n",
      "\n",
      "\u001b[4m NICK SCHIFRIN: \u001b[0m\n",
      "    That I am the only one who can take on the United States. So, let’s look at it from his perspective for a second. He says, look, you withdraw from the ABM Treaty, the Anti-Ballistic Missile Treat. you’re creating missile defenses that can counter our nuclear weapons, and so we have to counter back. What’s wrong with that?\n",
      "\n",
      "\u001b[4m RICHARD BURT: \u001b[0m\n",
      "    Well, Putin is not entirely wrong. We did withdraw from the ABM Treaty in 2002. I personally think that was a mistake, because the Russians tend on these kinds of issues to be paranoid. And the one thing the Russians liked about the ABM Treaty is that it give them the sense that both sides were vulnerable to annihilation. There was a kind of — we called it mutual assured destruction at the time, and so it made the Soviets feel that — and the Russians later that they were co-equal nuclear powers. They were afraid, when the ABM Treaty was abandoned, that the United States would use its superior technology to be able to engage in a potential nuclear first strike, and that we could then politically dominate them. And so they have been concerned about that. And that paranoia coupled with, I think, Putin’s desire to look strong has led to a fairly significant nuclear buildup.\n",
      "\n",
      "\u001b[4m NICK SCHIFRIN: \u001b[0m\n",
      "    So, there is that buildup happening in Russia. I should say that the United States has also talked about a buildup or modernization of its nuclear weapons. So, do you fear an arms race right now? Do you fear the erosion of arms control?\n",
      "\n",
      "\u001b[4m RICHARD BURT: \u001b[0m\n",
      "    Well, I fear both of those. We are entering a new arms race, for sure. It reminds me of the 1970s, 1980s. What is interesting is, I don’t think Americans are that focused on this at this point, but it’s not only the Russians that are modernizing their forces, with some very capable weapons they know how to build and maybe some fictional weapons we don’t know whether they will build or not. But the Russians are clearly deciding that they want — see nuclear weapons as an important element in their policy. The Trump administration is going doing the same. In fact, even under Barack Obama, the United States decided to engage in a $100 billion — 100 — sorry — $1 trillion-plus nuclear buildup with new missile submarines, new intercontinental-range ballistic missiles, new strategic bombers. So we’re kind of sleepwalking into this new arms race. I don’t think that either side in the near term is going to gain some important advantage, but under these conditions, we could lead to a situation where one or the other side felt that, in a crisis, a serious disagreement, that the other was going to strike, and that that’s when, you know, people begin to make mistakes. They make miscalculations. And the problem, secondly, is, we don’t have any arms control negotiations under way. And we have an important treaty, the INF Treaty signed in 1987, which could collapse over the next year because we believe the Russians are cheating, and they claim we are not following the treaty.\n",
      "\n",
      "\u001b[4m NICK SCHIFRIN: \u001b[0m\n",
      "    Quickly, should the U.S. be concerned about this? Should Americans be concerned about these new weapons or should Americans also be concerned about what you call this sleepwalking into a conflict?\n",
      "\n",
      "\u001b[4m RICHARD BURT: \u001b[0m\n",
      "    I think it’s more of the sleepwalking problem. I think what we need to do is find a way to get back into a serious conversation with the Russians on controlling nuclear weapons. The longer we wait, the more difficult it will be, not only because both sides will have better weapons, but with these new technologies of the sort that Putin talked about today, it’s going to be a lot harder to design effective agreements to control this new arms race.\n",
      "\n",
      "\u001b[4m NICK SCHIFRIN: \u001b[0m\n",
      "    Richard Burt, thank you very much.\n",
      "\n",
      "\u001b[4m RICHARD BURT: \u001b[0m\n",
      "    Thank you.\n",
      "\n",
      "\n",
      "https://www.pbs.org/newshour/show/justice-dept-accuses-albuquerque-pd-unjustified-force\n",
      "\u001b[1m TRANSCRIPT \u001b[0m\n",
      "\u001b[4m JUDY WOODRUFF: \u001b[0m\n",
      "    The U.S. Justice Department today released a scathing report finding what it calls a pattern of unjustified force in the Albuquerque, New Mexico, Police Department. Jeffrey Brown has that story.\n",
      "\n",
      "\u001b[4m JEFFREY BROWN: \u001b[0m\n",
      "    The report cites incidents dating back to 2010, 37 people shot by police, 23 of them fatally. The most recent occurred just last month and was caught on videotape: the fatal shooting of James Boyd, a 38-year-old homeless man with a history of mental illness. That led to a violent street protest against alleged police brutality. Gene Grant is host of “New Mexico in Focus” on New Mexico Public Television. He has been covering this story and joins us tonight from Albuquerque. Well, Gene, the Justice Department cited a pattern of excessive force, so they’re seeing something that links all these shootings, right? Explain that.\n",
      "\n",
      "\u001b[4m GENE GRANT: \u001b[0m\n",
      "    It’s interesting. As you mentioned, there were 37 incidents, 23 of them fatal. And what they were looking for, quite specifically, if there was an unconstitutional pattern of Fourth Amendment rights being violated here. And they were quite strong in their opening statement right off the bat of the hearing this morning that, in fact, their findings did find, in fact, that the Albuquerque Police Department had a number of situations that they found unconstitutional and did violate those rights. And what that actually did was opened up a lot of dialogue about, well, what is going on here? What is the pattern? And the big problem out here for us with the situation is folks who are mentally ill or in some crisis of some sort. And what the DOJ found was, especially in those cases, APD is coming up short. There is excessive use of force, sometimes deadly, but they mentioned also using Tasers. They were not — not pleased with that part of it as well, as part of a pattern. Not just deadly force, but excessive force was very much part of the situation. They laid out a whole criteria of changes they would like to see. They made it quite clear they intend to stay around the DOJ for a bit and work with APD and the city of Albuquerque and Mayor Richard Berry on some of the reforms. However, what we don’t have at this point and what is apparently being discussed tonight between DOJ and the administration and the Albuquerque Police Department is taking it that next step, with a possible consent degree or a possible federal monitor that would be on hand for a period of time.\n",
      "\n",
      "\u001b[4m GENE GRANT: \u001b[0m\n",
      "    Sorry. Go ahead.\n",
      "\n",
      "\u001b[4m JEFFREY BROWN: \u001b[0m\n",
      "    No, no, no, I was going to say, just to step back here first, because this has build — been building over a number of years, what’s been the police reaction along the way? And where are they now?\n",
      "\n",
      "\u001b[4m GENE GRANT: \u001b[0m\n",
      "    That’s a great question. You know, it’s interesting. We have a new chief, Chief Gordon Eden. He came to replace Ray Schultz, where a lot of these shootings happened under his watch, under Ray Schultz. In that time, Jeffrey, what happened was the use of lapel cameras became part of the reform back a year-and-a-half ago, two years ago. And that is in fact what happened in this James Boyd case, as you know, where it went global. The video just took it to a whole new level. Now, the reaction from the police has been fairly muted so far, but until this point today, there’s been a bit of a circling of the wagons. There’s been a bit of everything is OK here, going back a year-and-a-half, two years ago or so. I think the police department now just basically has its hands tied. They know the community is not going to accept the status quo anymore. We have had three protest marches, one of which made the news globally. I went to the first march, the peaceful march last Tuesday, an enormous march by Albuquerque standards. People have pretty much had it. So, for the police department, it’s a difficulty. They really don’t have anything left to say now that the Department of Justice has had its say on the constitutionality of these issues.\n",
      "\n",
      "\u001b[4m JEFFREY BROWN: \u001b[0m\n",
      "    Well, when I interrupted you earlier, you were starting to talk a little bit about what happens next, because that is, of course, the key question.\n",
      "\n",
      "\u001b[4m GENE GRANT: \u001b[0m\n",
      "    Right.\n",
      "\n",
      "\u001b[4m JEFFREY BROWN: \u001b[0m\n",
      "    As you said, in some cities, this has led to federal oversight. That’s one possibility here. What is on the table?\n",
      "\n",
      "\u001b[4m GENE GRANT: \u001b[0m\n",
      "    You know, it’s interesting to try to figure out what is on the table, because the mayor came out about noon today, Mayor Richard Berry, and said, look, we have a lot of work to do. However, he also said three weeks ago that he would prefer and ask for a federal monitor for the situation. He actually came right out without being pressured to do so. So what does that mean in these negotiations with the DOJ? We don’t know. Is it going to be something in between? The big question is, what will the community accept, Jeffrey? You know, for a lot of folks here, there is going to be nothing less than a complete takeover, which nobody thinks is going to happen, won’t be enough. But something has to happen where folks feel like the police department is not correcting itself. We have been through that for 20 years now, and now it’s time for something else. And that is what DOJ is in essence saying. It’s time to turn the page and try another way.\n",
      "\n",
      "\u001b[4m JEFFREY BROWN: \u001b[0m\n",
      "    Well, how big a deal — when you refer to the community, we saw some of these protests. Some of them turned violent, right, especially after the — after James Boyd was shot.\n",
      "\n",
      "\u001b[4m JEFFREY BROWN: \u001b[0m\n",
      "    How big a deal is it? How much has it really galvanized the public there?\n",
      "\n",
      "\u001b[4m GENE GRANT: \u001b[0m\n",
      "    You knows what’s interesting? It’s as big a deal as I can remember for anything here. I have lived here about 27 years. And it really — when you — when I went to the protest on Tuesday, the cross-section of Albuquerque was startling. This wasn’t, you know, a young, lefty crowd out there to cause trouble. These were single women, families, people with strollers, couples, elderly, a lot of elders. I saw a lot of elders. And they were just very upset with the whole situation, just saying, look, enough is enough. We’re — this is going to be stop. It is an enormous thing. It’s dominating the news here. It’s dominating the blogs. It’s certainly dominating talk radio and talk shows. You go around town, everybody has got an opinion. It’s amazing the amount of cross-section, by the way, on that point of folks who are not pleased with APD right now. I’m talking a lot of folks who would be naturally inclined to support the police department are now saying to themselves, OK, wait a minute, we need — we have got a problem here. You can’t have 23 deaths, you know, and most of them, a lot of them mentally ill, and not have a problem. So everyone is looking for a solution here. It’s an economic development issue. It’s a quality of life issue. It’s a civil liberties issue. It — it cuts across all — all constituencies here.\n",
      "\n",
      "\u001b[4m JEFFREY BROWN: \u001b[0m\n",
      "    All right, Gene Grant of New Mexico Public Television, as always, thanks a lot.\n",
      "\n",
      "\u001b[4m GENE GRANT: \u001b[0m\n",
      "    My pleasure.\n",
      "\n"
     ]
    }
   ],
   "source": [
    "### Used to style Python print statements\n",
    "class color:\n",
    "    BOLD = '\\033[1m'\n",
    "    UNDERLINE = '\\033[4m'\n",
    "    END = '\\033[0m'\n",
    "\n",
    "def pretty_transcript(transcript, convert_name=False):\n",
    "    print(color.BOLD, \"TRANSCRIPT\", color.END)\n",
    "    for speaker in transcript:\n",
    "        if convert_name:\n",
    "            speaker[0] = clean_names(speaker[0])\n",
    "        print(color.UNDERLINE, speaker[0] + \":\", color.END)\n",
    "        for txt in speaker[1:]:\n",
    "            print(\"  \", \" \".join(txt))\n",
    "        print()\n",
    "            \n",
    "for _ in range(5):\n",
    "    print()\n",
    "    temp = df[df.Transcript.map(lambda x: x != [])].reset_index(drop=True)\n",
    "    index = np.random.randint(0, len(temp) - 1)\n",
    "    print(temp.iloc[index].URL)\n",
    "    pretty_transcript(temp.iloc[index].Transcript, convert_name=True)"
   ]
  },
  {
   "cell_type": "markdown",
   "metadata": {},
   "source": [
    "# Misc cleaning"
   ]
  },
  {
   "cell_type": "markdown",
   "metadata": {},
   "source": [
    "### Order dataframe"
   ]
  },
  {
   "cell_type": "code",
   "execution_count": 17,
   "metadata": {},
   "outputs": [
    {
     "name": "stdout",
     "output_type": "stream",
     "text": [
      "Shape of df: (17617, 8)\n"
     ]
    },
    {
     "data": {
      "text/html": [
       "<div>\n",
       "<style>\n",
       "    .dataframe thead tr:only-child th {\n",
       "        text-align: right;\n",
       "    }\n",
       "\n",
       "    .dataframe thead th {\n",
       "        text-align: left;\n",
       "    }\n",
       "\n",
       "    .dataframe tbody tr th {\n",
       "        vertical-align: top;\n",
       "    }\n",
       "</style>\n",
       "<table border=\"1\" class=\"dataframe\">\n",
       "  <thead>\n",
       "    <tr style=\"text-align: right;\">\n",
       "      <th></th>\n",
       "      <th>URL</th>\n",
       "      <th>Story</th>\n",
       "      <th>Date</th>\n",
       "      <th>Title</th>\n",
       "      <th>Transcript</th>\n",
       "      <th>Speakers</th>\n",
       "      <th>Number of Comments</th>\n",
       "      <th>Timezone</th>\n",
       "    </tr>\n",
       "  </thead>\n",
       "  <tbody>\n",
       "    <tr>\n",
       "      <th>0</th>\n",
       "      <td>https://www.pbs.org/newshour/show/robert-macne...</td>\n",
       "      <td>“How high did the scandals reach and was Presi...</td>\n",
       "      <td>1973-05-17 02:26:00</td>\n",
       "      <td>Watergate: The NewsHour’s 1973 Special Report</td>\n",
       "      <td>[]</td>\n",
       "      <td>{T, E, S}</td>\n",
       "      <td>0.0</td>\n",
       "      <td>EDT</td>\n",
       "    </tr>\n",
       "    <tr>\n",
       "      <th>1</th>\n",
       "      <td>https://www.pbs.org/newshour/show/tempers-flar...</td>\n",
       "      <td>This MacNeil/Lehrer Report piece highlights th...</td>\n",
       "      <td>1979-06-29 06:00:00</td>\n",
       "      <td>Tempers Flare In Lines for Gasoline in 1979</td>\n",
       "      <td>[]</td>\n",
       "      <td>{T, E, S}</td>\n",
       "      <td>0.0</td>\n",
       "      <td>EDT</td>\n",
       "    </tr>\n",
       "    <tr>\n",
       "      <th>2</th>\n",
       "      <td>https://www.pbs.org/newshour/show/margaret-tha...</td>\n",
       "      <td>Robert MacNeil and Jim Lehrer interviewed Brit...</td>\n",
       "      <td>1981-02-27 06:00:00</td>\n",
       "      <td>Newsmaker: Margaret Thatcher</td>\n",
       "      <td>[]</td>\n",
       "      <td>{T, E, S}</td>\n",
       "      <td>0.0</td>\n",
       "      <td>EDT</td>\n",
       "    </tr>\n",
       "    <tr>\n",
       "      <th>3</th>\n",
       "      <td>https://www.pbs.org/newshour/show/macneil-lehr...</td>\n",
       "      <td>Jim Lehrer and Charlene Hunter Gault report on...</td>\n",
       "      <td>1982-10-25 06:00:00</td>\n",
       "      <td>The MacNeil/Lehrer Report – October 25, 1982 –...</td>\n",
       "      <td>[]</td>\n",
       "      <td>{T, E, S}</td>\n",
       "      <td>0.0</td>\n",
       "      <td>EDT</td>\n",
       "    </tr>\n",
       "    <tr>\n",
       "      <th>4</th>\n",
       "      <td>https://www.pbs.org/newshour/show/the-macneil-...</td>\n",
       "      <td>Robert MacNeil and Charlayne Hunter Gault repo...</td>\n",
       "      <td>1983-11-30 06:00:00</td>\n",
       "      <td>The MacNeil/Lehrer Report from Nov. 30, 1983 o...</td>\n",
       "      <td>[]</td>\n",
       "      <td>{T, E, S}</td>\n",
       "      <td>0.0</td>\n",
       "      <td>EDT</td>\n",
       "    </tr>\n",
       "  </tbody>\n",
       "</table>\n",
       "</div>"
      ],
      "text/plain": [
       "                                                 URL  \\\n",
       "0  https://www.pbs.org/newshour/show/robert-macne...   \n",
       "1  https://www.pbs.org/newshour/show/tempers-flar...   \n",
       "2  https://www.pbs.org/newshour/show/margaret-tha...   \n",
       "3  https://www.pbs.org/newshour/show/macneil-lehr...   \n",
       "4  https://www.pbs.org/newshour/show/the-macneil-...   \n",
       "\n",
       "                                               Story                Date  \\\n",
       "0  “How high did the scandals reach and was Presi... 1973-05-17 02:26:00   \n",
       "1  This MacNeil/Lehrer Report piece highlights th... 1979-06-29 06:00:00   \n",
       "2  Robert MacNeil and Jim Lehrer interviewed Brit... 1981-02-27 06:00:00   \n",
       "3  Jim Lehrer and Charlene Hunter Gault report on... 1982-10-25 06:00:00   \n",
       "4  Robert MacNeil and Charlayne Hunter Gault repo... 1983-11-30 06:00:00   \n",
       "\n",
       "                                               Title Transcript   Speakers  \\\n",
       "0      Watergate: The NewsHour’s 1973 Special Report         []  {T, E, S}   \n",
       "1        Tempers Flare In Lines for Gasoline in 1979         []  {T, E, S}   \n",
       "2                       Newsmaker: Margaret Thatcher         []  {T, E, S}   \n",
       "3  The MacNeil/Lehrer Report – October 25, 1982 –...         []  {T, E, S}   \n",
       "4  The MacNeil/Lehrer Report from Nov. 30, 1983 o...         []  {T, E, S}   \n",
       "\n",
       "   Number of Comments Timezone  \n",
       "0                 0.0      EDT  \n",
       "1                 0.0      EDT  \n",
       "2                 0.0      EDT  \n",
       "3                 0.0      EDT  \n",
       "4                 0.0      EDT  "
      ]
     },
     "execution_count": 17,
     "metadata": {},
     "output_type": "execute_result"
    }
   ],
   "source": [
    "df = df.sort_values(\"Date\").reset_index(drop=True)\n",
    "print(\"Shape of df:\", df.shape)\n",
    "df.head()"
   ]
  },
  {
   "cell_type": "markdown",
   "metadata": {},
   "source": [
    "### Remove Speakers if missing Transcript"
   ]
  },
  {
   "cell_type": "code",
   "execution_count": 18,
   "metadata": {},
   "outputs": [
    {
     "data": {
      "text/html": [
       "<div>\n",
       "<style>\n",
       "    .dataframe thead tr:only-child th {\n",
       "        text-align: right;\n",
       "    }\n",
       "\n",
       "    .dataframe thead th {\n",
       "        text-align: left;\n",
       "    }\n",
       "\n",
       "    .dataframe tbody tr th {\n",
       "        vertical-align: top;\n",
       "    }\n",
       "</style>\n",
       "<table border=\"1\" class=\"dataframe\">\n",
       "  <thead>\n",
       "    <tr style=\"text-align: right;\">\n",
       "      <th></th>\n",
       "      <th>URL</th>\n",
       "      <th>Story</th>\n",
       "      <th>Date</th>\n",
       "      <th>Title</th>\n",
       "      <th>Transcript</th>\n",
       "      <th>Speakers</th>\n",
       "      <th>Number of Comments</th>\n",
       "      <th>Timezone</th>\n",
       "    </tr>\n",
       "  </thead>\n",
       "  <tbody>\n",
       "  </tbody>\n",
       "</table>\n",
       "</div>"
      ],
      "text/plain": [
       "Empty DataFrame\n",
       "Columns: [URL, Story, Date, Title, Transcript, Speakers, Number of Comments, Timezone]\n",
       "Index: []"
      ]
     },
     "execution_count": 18,
     "metadata": {},
     "output_type": "execute_result"
    }
   ],
   "source": [
    "index = df[df.Transcript.map(lambda x: x == []) & df.Speakers.map(lambda x: x != {})].index\n",
    "\n",
    "for row in index:\n",
    "    df.at[row, 'Speakers'] = {}\n",
    "\n",
    "df[df.Transcript.map(lambda x: x == []) & df.Speakers.map(lambda x: x != {})]"
   ]
  },
  {
   "cell_type": "markdown",
   "metadata": {},
   "source": [
    "### Final data look"
   ]
  },
  {
   "cell_type": "code",
   "execution_count": 20,
   "metadata": {},
   "outputs": [
    {
     "data": {
      "text/html": [
       "<div>\n",
       "<style>\n",
       "    .dataframe thead tr:only-child th {\n",
       "        text-align: right;\n",
       "    }\n",
       "\n",
       "    .dataframe thead th {\n",
       "        text-align: left;\n",
       "    }\n",
       "\n",
       "    .dataframe tbody tr th {\n",
       "        vertical-align: top;\n",
       "    }\n",
       "</style>\n",
       "<table border=\"1\" class=\"dataframe\">\n",
       "  <thead>\n",
       "    <tr style=\"text-align: right;\">\n",
       "      <th></th>\n",
       "      <th>URL</th>\n",
       "      <th>Story</th>\n",
       "      <th>Date</th>\n",
       "      <th>Title</th>\n",
       "      <th>Transcript</th>\n",
       "      <th>Speakers</th>\n",
       "      <th>Number of Comments</th>\n",
       "      <th>Timezone</th>\n",
       "    </tr>\n",
       "  </thead>\n",
       "  <tbody>\n",
       "    <tr>\n",
       "      <th>0</th>\n",
       "      <td>https://www.pbs.org/newshour/show/robert-macne...</td>\n",
       "      <td>“How high did the scandals reach and was Presi...</td>\n",
       "      <td>1973-05-17 02:26:00</td>\n",
       "      <td>Watergate: The NewsHour’s 1973 Special Report</td>\n",
       "      <td>[]</td>\n",
       "      <td>{}</td>\n",
       "      <td>0.0</td>\n",
       "      <td>EDT</td>\n",
       "    </tr>\n",
       "    <tr>\n",
       "      <th>1</th>\n",
       "      <td>https://www.pbs.org/newshour/show/tempers-flar...</td>\n",
       "      <td>This MacNeil/Lehrer Report piece highlights th...</td>\n",
       "      <td>1979-06-29 06:00:00</td>\n",
       "      <td>Tempers Flare In Lines for Gasoline in 1979</td>\n",
       "      <td>[]</td>\n",
       "      <td>{}</td>\n",
       "      <td>0.0</td>\n",
       "      <td>EDT</td>\n",
       "    </tr>\n",
       "    <tr>\n",
       "      <th>2</th>\n",
       "      <td>https://www.pbs.org/newshour/show/margaret-tha...</td>\n",
       "      <td>Robert MacNeil and Jim Lehrer interviewed Brit...</td>\n",
       "      <td>1981-02-27 06:00:00</td>\n",
       "      <td>Newsmaker: Margaret Thatcher</td>\n",
       "      <td>[]</td>\n",
       "      <td>{}</td>\n",
       "      <td>0.0</td>\n",
       "      <td>EDT</td>\n",
       "    </tr>\n",
       "    <tr>\n",
       "      <th>3</th>\n",
       "      <td>https://www.pbs.org/newshour/show/macneil-lehr...</td>\n",
       "      <td>Jim Lehrer and Charlene Hunter Gault report on...</td>\n",
       "      <td>1982-10-25 06:00:00</td>\n",
       "      <td>The MacNeil/Lehrer Report – October 25, 1982 –...</td>\n",
       "      <td>[]</td>\n",
       "      <td>{}</td>\n",
       "      <td>0.0</td>\n",
       "      <td>EDT</td>\n",
       "    </tr>\n",
       "    <tr>\n",
       "      <th>4</th>\n",
       "      <td>https://www.pbs.org/newshour/show/the-macneil-...</td>\n",
       "      <td>Robert MacNeil and Charlayne Hunter Gault repo...</td>\n",
       "      <td>1983-11-30 06:00:00</td>\n",
       "      <td>The MacNeil/Lehrer Report from Nov. 30, 1983 o...</td>\n",
       "      <td>[]</td>\n",
       "      <td>{}</td>\n",
       "      <td>0.0</td>\n",
       "      <td>EDT</td>\n",
       "    </tr>\n",
       "  </tbody>\n",
       "</table>\n",
       "</div>"
      ],
      "text/plain": [
       "                                                 URL  \\\n",
       "0  https://www.pbs.org/newshour/show/robert-macne...   \n",
       "1  https://www.pbs.org/newshour/show/tempers-flar...   \n",
       "2  https://www.pbs.org/newshour/show/margaret-tha...   \n",
       "3  https://www.pbs.org/newshour/show/macneil-lehr...   \n",
       "4  https://www.pbs.org/newshour/show/the-macneil-...   \n",
       "\n",
       "                                               Story                Date  \\\n",
       "0  “How high did the scandals reach and was Presi... 1973-05-17 02:26:00   \n",
       "1  This MacNeil/Lehrer Report piece highlights th... 1979-06-29 06:00:00   \n",
       "2  Robert MacNeil and Jim Lehrer interviewed Brit... 1981-02-27 06:00:00   \n",
       "3  Jim Lehrer and Charlene Hunter Gault report on... 1982-10-25 06:00:00   \n",
       "4  Robert MacNeil and Charlayne Hunter Gault repo... 1983-11-30 06:00:00   \n",
       "\n",
       "                                               Title Transcript Speakers  \\\n",
       "0      Watergate: The NewsHour’s 1973 Special Report         []       {}   \n",
       "1        Tempers Flare In Lines for Gasoline in 1979         []       {}   \n",
       "2                       Newsmaker: Margaret Thatcher         []       {}   \n",
       "3  The MacNeil/Lehrer Report – October 25, 1982 –...         []       {}   \n",
       "4  The MacNeil/Lehrer Report from Nov. 30, 1983 o...         []       {}   \n",
       "\n",
       "   Number of Comments Timezone  \n",
       "0                 0.0      EDT  \n",
       "1                 0.0      EDT  \n",
       "2                 0.0      EDT  \n",
       "3                 0.0      EDT  \n",
       "4                 0.0      EDT  "
      ]
     },
     "execution_count": 20,
     "metadata": {},
     "output_type": "execute_result"
    }
   ],
   "source": [
    "df.head()"
   ]
  },
  {
   "cell_type": "code",
   "execution_count": 21,
   "metadata": {},
   "outputs": [
    {
     "data": {
      "text/html": [
       "<div>\n",
       "<style>\n",
       "    .dataframe thead tr:only-child th {\n",
       "        text-align: right;\n",
       "    }\n",
       "\n",
       "    .dataframe thead th {\n",
       "        text-align: left;\n",
       "    }\n",
       "\n",
       "    .dataframe tbody tr th {\n",
       "        vertical-align: top;\n",
       "    }\n",
       "</style>\n",
       "<table border=\"1\" class=\"dataframe\">\n",
       "  <thead>\n",
       "    <tr style=\"text-align: right;\">\n",
       "      <th></th>\n",
       "      <th>URL</th>\n",
       "      <th>Story</th>\n",
       "      <th>Date</th>\n",
       "      <th>Title</th>\n",
       "      <th>Transcript</th>\n",
       "      <th>Speakers</th>\n",
       "      <th>Number of Comments</th>\n",
       "      <th>Timezone</th>\n",
       "    </tr>\n",
       "  </thead>\n",
       "  <tbody>\n",
       "    <tr>\n",
       "      <th>17612</th>\n",
       "      <td>https://www.pbs.org/newshour/show/livingwhileb...</td>\n",
       "      <td>A profusion of national incidents in which whi...</td>\n",
       "      <td>2018-07-02 06:35:00</td>\n",
       "      <td>#LivingWhileBlack: How does racial bias lead t...</td>\n",
       "      <td>[[Judy Woodruff, [ A number of recent incident...</td>\n",
       "      <td>{HOWARD SCHULTZ, JUDY WOODRUFF, DERRICK JOHNSO...</td>\n",
       "      <td>0.0</td>\n",
       "      <td>EDT</td>\n",
       "    </tr>\n",
       "    <tr>\n",
       "      <th>17613</th>\n",
       "      <td>https://www.pbs.org/newshour/show/yemens-spira...</td>\n",
       "      <td>One of the poorest countries in the Middle Eas...</td>\n",
       "      <td>2018-07-02 06:40:00</td>\n",
       "      <td>Yemen’s spiraling hunger crisis is a man-made ...</td>\n",
       "      <td>[[Judy Woodruff, [ The “NewsHour” has reported...</td>\n",
       "      <td>{NAIMI, YAHYA ALHABBARI, MARIAM ALFAKIH, STEPH...</td>\n",
       "      <td>0.0</td>\n",
       "      <td>EDT</td>\n",
       "    </tr>\n",
       "    <tr>\n",
       "      <th>17614</th>\n",
       "      <td>https://www.pbs.org/newshour/show/will-u-s-mex...</td>\n",
       "      <td>There are enormous expectations facing the new...</td>\n",
       "      <td>2018-07-02 06:43:00</td>\n",
       "      <td>Will U.S.-Mexico policy tensions change under ...</td>\n",
       "      <td>[[Judy Woodruff, [ And now perspective from fo...</td>\n",
       "      <td>{ROBERTA JACOBSON, JUDY WOODRUFF}</td>\n",
       "      <td>0.0</td>\n",
       "      <td>EDT</td>\n",
       "    </tr>\n",
       "    <tr>\n",
       "      <th>17615</th>\n",
       "      <td>https://www.pbs.org/newshour/show/elected-in-a...</td>\n",
       "      <td>Mexican president-elect Andrés Manuel López Ob...</td>\n",
       "      <td>2018-07-02 06:45:00</td>\n",
       "      <td>Elected by a landslide, can Mexico’s López Obr...</td>\n",
       "      <td>[[Judy Woodruff, [ After two previous runs for...</td>\n",
       "      <td>{RAFAEL RIVEROS, DIANA MERCADO, ALFONSO ROMO, ...</td>\n",
       "      <td>0.0</td>\n",
       "      <td>EDT</td>\n",
       "    </tr>\n",
       "    <tr>\n",
       "      <th>17616</th>\n",
       "      <td>https://www.pbs.org/newshour/show/news-wrap-tr...</td>\n",
       "      <td>In our news wrap Monday, President Trump's sea...</td>\n",
       "      <td>2018-07-02 06:50:00</td>\n",
       "      <td>News Wrap: Trump interviews Supreme Court cand...</td>\n",
       "      <td>[[Judy Woodruff, [ President Trump’s search fo...</td>\n",
       "      <td>{JUSTIN HERDMAN, DONALD TRUMP, JUDY WOODRUFF, ...</td>\n",
       "      <td>0.0</td>\n",
       "      <td>EDT</td>\n",
       "    </tr>\n",
       "  </tbody>\n",
       "</table>\n",
       "</div>"
      ],
      "text/plain": [
       "                                                     URL  \\\n",
       "17612  https://www.pbs.org/newshour/show/livingwhileb...   \n",
       "17613  https://www.pbs.org/newshour/show/yemens-spira...   \n",
       "17614  https://www.pbs.org/newshour/show/will-u-s-mex...   \n",
       "17615  https://www.pbs.org/newshour/show/elected-in-a...   \n",
       "17616  https://www.pbs.org/newshour/show/news-wrap-tr...   \n",
       "\n",
       "                                                   Story                Date  \\\n",
       "17612  A profusion of national incidents in which whi... 2018-07-02 06:35:00   \n",
       "17613  One of the poorest countries in the Middle Eas... 2018-07-02 06:40:00   \n",
       "17614  There are enormous expectations facing the new... 2018-07-02 06:43:00   \n",
       "17615  Mexican president-elect Andrés Manuel López Ob... 2018-07-02 06:45:00   \n",
       "17616  In our news wrap Monday, President Trump's sea... 2018-07-02 06:50:00   \n",
       "\n",
       "                                                   Title  \\\n",
       "17612  #LivingWhileBlack: How does racial bias lead t...   \n",
       "17613  Yemen’s spiraling hunger crisis is a man-made ...   \n",
       "17614  Will U.S.-Mexico policy tensions change under ...   \n",
       "17615  Elected by a landslide, can Mexico’s López Obr...   \n",
       "17616  News Wrap: Trump interviews Supreme Court cand...   \n",
       "\n",
       "                                              Transcript  \\\n",
       "17612  [[Judy Woodruff, [ A number of recent incident...   \n",
       "17613  [[Judy Woodruff, [ The “NewsHour” has reported...   \n",
       "17614  [[Judy Woodruff, [ And now perspective from fo...   \n",
       "17615  [[Judy Woodruff, [ After two previous runs for...   \n",
       "17616  [[Judy Woodruff, [ President Trump’s search fo...   \n",
       "\n",
       "                                                Speakers  Number of Comments  \\\n",
       "17612  {HOWARD SCHULTZ, JUDY WOODRUFF, DERRICK JOHNSO...                 0.0   \n",
       "17613  {NAIMI, YAHYA ALHABBARI, MARIAM ALFAKIH, STEPH...                 0.0   \n",
       "17614                  {ROBERTA JACOBSON, JUDY WOODRUFF}                 0.0   \n",
       "17615  {RAFAEL RIVEROS, DIANA MERCADO, ALFONSO ROMO, ...                 0.0   \n",
       "17616  {JUSTIN HERDMAN, DONALD TRUMP, JUDY WOODRUFF, ...                 0.0   \n",
       "\n",
       "      Timezone  \n",
       "17612      EDT  \n",
       "17613      EDT  \n",
       "17614      EDT  \n",
       "17615      EDT  \n",
       "17616      EDT  "
      ]
     },
     "execution_count": 21,
     "metadata": {},
     "output_type": "execute_result"
    }
   ],
   "source": [
    "df.tail()"
   ]
  },
  {
   "cell_type": "markdown",
   "metadata": {
    "collapsed": true
   },
   "source": [
    "---\n",
    "<a id=\"save\"></a>\n",
    "\n",
    "# [^](#toc) <u>Save to CSV</u>\n",
    "\n",
    "Now that we've cleaned up our data a bit, let's save it into a different CSV file."
   ]
  },
  {
   "cell_type": "code",
   "execution_count": 22,
   "metadata": {
    "collapsed": true
   },
   "outputs": [],
   "source": [
    "df.to_csv(\"../data/PBS-newhour-clean.csv\", index=False)"
   ]
  },
  {
   "cell_type": "markdown",
   "metadata": {},
   "source": [
    "# Tests"
   ]
  },
  {
   "cell_type": "markdown",
   "metadata": {},
   "source": [
    "### Remove party regex"
   ]
  },
  {
   "cell_type": "code",
   "execution_count": 22,
   "metadata": {
    "collapsed": true
   },
   "outputs": [],
   "source": [
    "%run preprocessing.py\n",
    "\n",
    "ex1 = \"BARBARA MIKULSKI (D-MD.)\"\n",
    "assert remove_party(ex1) == \"BARBARA MIKULSKI\" \n",
    "\n",
    "ex2 = \"JERRY BROWN (D-CALIF.)\"\n",
    "assert remove_party(ex2) == \"JERRY BROWN\" \n",
    "\n",
    "ex3 = \"CHUCK SCHUMER (DN.Y.)\"\n",
    "assert remove_party(ex3) == \"CHUCK SCHUMER\" \n",
    "\n",
    "ex4 = \"JOHN BOEHNER (R-OH.)\"\n",
    "assert remove_party(ex4) == \"JOHN BOEHNER\" \n",
    "\n",
    "ex5 = \"JEFF SESSIONS (R-ALA.)\"\n",
    "assert remove_party(ex5) == \"JEFF SESSIONS\" \n",
    "\n",
    "ex6 = \"TODD YOUNG (RIND.)\"\n",
    "assert remove_party(ex6) == \"TODD YOUNG\" \n",
    "\n",
    "ex7 = \"DONALD TRUMP\"\n",
    "assert remove_party(ex7) == ex7\n",
    "\n",
    "ex8 = \"PRESIDENT BARACK OBAMA (singing)\"\n",
    "assert remove_party(ex8) == ex8"
   ]
  },
  {
   "cell_type": "code",
   "execution_count": null,
   "metadata": {
    "collapsed": true
   },
   "outputs": [],
   "source": []
  }
 ],
 "metadata": {
  "kernelspec": {
   "display_name": "Python 3",
   "language": "python",
   "name": "python3"
  },
  "language_info": {
   "codemirror_mode": {
    "name": "ipython",
    "version": 3
   },
   "file_extension": ".py",
   "mimetype": "text/x-python",
   "name": "python",
   "nbconvert_exporter": "python",
   "pygments_lexer": "ipython3",
   "version": "3.6.3"
  }
 },
 "nbformat": 4,
 "nbformat_minor": 2
}
