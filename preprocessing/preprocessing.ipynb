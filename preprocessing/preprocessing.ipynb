{
 "cells": [
  {
   "cell_type": "markdown",
   "metadata": {},
   "source": [
    "<a id=\"toc\"></a>\n",
    "\n",
    "# <u>Table of Contents</u>\n",
    "\n",
    "1.) [Setup](#setup)  \n",
    "&nbsp;&nbsp;&nbsp;&nbsp; 1.1.) [Imports](#imports)   \n",
    "&nbsp;&nbsp;&nbsp;&nbsp; 1.2.) [Helpers](#helpers)   \n",
    "&nbsp;&nbsp;&nbsp;&nbsp; 1.3.) [Load data](#load)   \n",
    "2.) [Datetime](#datetime)  \n",
    "3.) [Speakers](#speakers)  \n",
    "4.) [Transcript](#transcript)  \n",
    "5.) [Save to CSV](#save)  "
   ]
  },
  {
   "cell_type": "markdown",
   "metadata": {},
   "source": [
    "---\n",
    "<a id=\"setup\"></a>\n",
    "\n",
    "# [^](#toc) <u>Setup</u>"
   ]
  },
  {
   "cell_type": "markdown",
   "metadata": {},
   "source": [
    "<a id=\"imports\"></a>\n",
    "\n",
    "### [^](#toc) Imports"
   ]
  },
  {
   "cell_type": "code",
   "execution_count": 1,
   "metadata": {
    "collapsed": true
   },
   "outputs": [],
   "source": [
    "### Standard imports\n",
    "import pandas as pd\n",
    "import numpy as np\n",
    "\n",
    "### Plotting imports\n",
    "import matplotlib.pyplot as plt\n",
    "import seaborn as sns\n",
    "%matplotlib inline\n",
    "sns.set()\n",
    "\n",
    "import re\n",
    "import datetime\n",
    "\n",
    "# Helps convert String representation of list into a list\n",
    "import ast\n",
    "\n",
    "### Removes warnings that occassionally show in imports\n",
    "import warnings\n",
    "warnings.filterwarnings('ignore')"
   ]
  },
  {
   "cell_type": "markdown",
   "metadata": {},
   "source": [
    "<a id=\"helpers\"></a>\n",
    "\n",
    "### [^](#toc) Helpers"
   ]
  },
  {
   "cell_type": "code",
   "execution_count": 2,
   "metadata": {
    "collapsed": true
   },
   "outputs": [],
   "source": [
    "def string_literal(x):\n",
    "    try:\n",
    "        return ast.literal_eval(x)\n",
    "    except:\n",
    "        return x"
   ]
  },
  {
   "cell_type": "markdown",
   "metadata": {},
   "source": [
    "<a id=\"load\"></a>\n",
    "\n",
    "### [^](#toc) Load data"
   ]
  },
  {
   "cell_type": "code",
   "execution_count": 3,
   "metadata": {},
   "outputs": [
    {
     "name": "stdout",
     "output_type": "stream",
     "text": [
      "Shape of df: (17617, 7)\n"
     ]
    },
    {
     "data": {
      "text/html": [
       "<div>\n",
       "<style>\n",
       "    .dataframe thead tr:only-child th {\n",
       "        text-align: right;\n",
       "    }\n",
       "\n",
       "    .dataframe thead th {\n",
       "        text-align: left;\n",
       "    }\n",
       "\n",
       "    .dataframe tbody tr th {\n",
       "        vertical-align: top;\n",
       "    }\n",
       "</style>\n",
       "<table border=\"1\" class=\"dataframe\">\n",
       "  <thead>\n",
       "    <tr style=\"text-align: right;\">\n",
       "      <th></th>\n",
       "      <th>URL</th>\n",
       "      <th>Story</th>\n",
       "      <th>Date</th>\n",
       "      <th>Title</th>\n",
       "      <th>Transcript</th>\n",
       "      <th>Speakers</th>\n",
       "      <th>Number of Comments</th>\n",
       "    </tr>\n",
       "  </thead>\n",
       "  <tbody>\n",
       "    <tr>\n",
       "      <th>0</th>\n",
       "      <td>https://www.pbs.org/newshour/show/news-wrap-tr...</td>\n",
       "      <td>In our news wrap Monday, President Trump's sea...</td>\n",
       "      <td>Jul 2, 2018 6:50 PM EDT</td>\n",
       "      <td>News Wrap: Trump interviews Supreme Court cand...</td>\n",
       "      <td>[[Judy Woodruff, [ President Trump’s search fo...</td>\n",
       "      <td>{Judy Woodruff, Justin Herdman, President Dona...</td>\n",
       "      <td>0.0</td>\n",
       "    </tr>\n",
       "    <tr>\n",
       "      <th>1</th>\n",
       "      <td>https://www.pbs.org/newshour/show/elected-in-a...</td>\n",
       "      <td>Mexican president-elect Andrés Manuel López Ob...</td>\n",
       "      <td>Jul 2, 2018 6:45 PM EDT</td>\n",
       "      <td>Elected by a landslide, can Mexico’s López Obr...</td>\n",
       "      <td>[[Judy Woodruff, [ After two previous runs for...</td>\n",
       "      <td>{Rafael Riveros (through translator), Nick Sch...</td>\n",
       "      <td>0.0</td>\n",
       "    </tr>\n",
       "    <tr>\n",
       "      <th>2</th>\n",
       "      <td>https://www.pbs.org/newshour/show/will-u-s-mex...</td>\n",
       "      <td>There are enormous expectations facing the new...</td>\n",
       "      <td>Jul 2, 2018 6:43 PM EDT</td>\n",
       "      <td>Will U.S.-Mexico policy tensions change under ...</td>\n",
       "      <td>[[Judy Woodruff, [ And now perspective from fo...</td>\n",
       "      <td>{Judy Woodruff, Roberta Jacobson}</td>\n",
       "      <td>0.0</td>\n",
       "    </tr>\n",
       "    <tr>\n",
       "      <th>3</th>\n",
       "      <td>https://www.pbs.org/newshour/show/yemens-spira...</td>\n",
       "      <td>One of the poorest countries in the Middle Eas...</td>\n",
       "      <td>Jul 2, 2018 6:40 PM EDT</td>\n",
       "      <td>Yemen’s spiraling hunger crisis is a man-made ...</td>\n",
       "      <td>[[Judy Woodruff, [ The “NewsHour” has reported...</td>\n",
       "      <td>{Jane Ferguson, Lise Grande, Judy Woodruff, Na...</td>\n",
       "      <td>0.0</td>\n",
       "    </tr>\n",
       "    <tr>\n",
       "      <th>4</th>\n",
       "      <td>https://www.pbs.org/newshour/show/livingwhileb...</td>\n",
       "      <td>A profusion of national incidents in which whi...</td>\n",
       "      <td>Jul 2, 2018 6:35 PM EDT</td>\n",
       "      <td>#LivingWhileBlack: How does racial bias lead t...</td>\n",
       "      <td>[[Judy Woodruff, [ A number of recent incident...</td>\n",
       "      <td>{Derrick Johnson, Judy Woodruff, Yamiche Alcin...</td>\n",
       "      <td>0.0</td>\n",
       "    </tr>\n",
       "  </tbody>\n",
       "</table>\n",
       "</div>"
      ],
      "text/plain": [
       "                                                 URL  \\\n",
       "0  https://www.pbs.org/newshour/show/news-wrap-tr...   \n",
       "1  https://www.pbs.org/newshour/show/elected-in-a...   \n",
       "2  https://www.pbs.org/newshour/show/will-u-s-mex...   \n",
       "3  https://www.pbs.org/newshour/show/yemens-spira...   \n",
       "4  https://www.pbs.org/newshour/show/livingwhileb...   \n",
       "\n",
       "                                               Story                     Date  \\\n",
       "0  In our news wrap Monday, President Trump's sea...  Jul 2, 2018 6:50 PM EDT   \n",
       "1  Mexican president-elect Andrés Manuel López Ob...  Jul 2, 2018 6:45 PM EDT   \n",
       "2  There are enormous expectations facing the new...  Jul 2, 2018 6:43 PM EDT   \n",
       "3  One of the poorest countries in the Middle Eas...  Jul 2, 2018 6:40 PM EDT   \n",
       "4  A profusion of national incidents in which whi...  Jul 2, 2018 6:35 PM EDT   \n",
       "\n",
       "                                               Title  \\\n",
       "0  News Wrap: Trump interviews Supreme Court cand...   \n",
       "1  Elected by a landslide, can Mexico’s López Obr...   \n",
       "2  Will U.S.-Mexico policy tensions change under ...   \n",
       "3  Yemen’s spiraling hunger crisis is a man-made ...   \n",
       "4  #LivingWhileBlack: How does racial bias lead t...   \n",
       "\n",
       "                                          Transcript  \\\n",
       "0  [[Judy Woodruff, [ President Trump’s search fo...   \n",
       "1  [[Judy Woodruff, [ After two previous runs for...   \n",
       "2  [[Judy Woodruff, [ And now perspective from fo...   \n",
       "3  [[Judy Woodruff, [ The “NewsHour” has reported...   \n",
       "4  [[Judy Woodruff, [ A number of recent incident...   \n",
       "\n",
       "                                            Speakers  Number of Comments  \n",
       "0  {Judy Woodruff, Justin Herdman, President Dona...                 0.0  \n",
       "1  {Rafael Riveros (through translator), Nick Sch...                 0.0  \n",
       "2                  {Judy Woodruff, Roberta Jacobson}                 0.0  \n",
       "3  {Jane Ferguson, Lise Grande, Judy Woodruff, Na...                 0.0  \n",
       "4  {Derrick Johnson, Judy Woodruff, Yamiche Alcin...                 0.0  "
      ]
     },
     "execution_count": 3,
     "metadata": {},
     "output_type": "execute_result"
    }
   ],
   "source": [
    "df = pd.read_csv(\"../data/PBS_full_unedited.csv\")\n",
    "for col in [\"Transcript\", \"Story\", \"Speakers\"]:\n",
    "    df[col] = df[col].map(string_literal)\n",
    "    \n",
    "print(\"Shape of df:\", df.shape)\n",
    "df.head()"
   ]
  },
  {
   "cell_type": "markdown",
   "metadata": {},
   "source": [
    "---\n",
    "<a id=\"datetime\"></a>\n",
    "\n",
    "# [^](#toc) <u>Datetime</u>\n",
    "\n",
    "First let's clear off whitespace and \\n characters"
   ]
  },
  {
   "cell_type": "code",
   "execution_count": 4,
   "metadata": {
    "collapsed": true
   },
   "outputs": [],
   "source": [
    "df[\"Date\"] = df[\"Date\"].map(lambda x: x.strip())"
   ]
  },
  {
   "cell_type": "markdown",
   "metadata": {},
   "source": [
    "### Time Zone\n",
    "\n",
    "It appears, the time is always posted in EDT"
   ]
  },
  {
   "cell_type": "code",
   "execution_count": 5,
   "metadata": {},
   "outputs": [
    {
     "data": {
      "text/plain": [
       "EDT    17617\n",
       "Name: temp, dtype: int64"
      ]
     },
     "execution_count": 5,
     "metadata": {},
     "output_type": "execute_result"
    }
   ],
   "source": [
    "df[\"temp\"] = df.Date.map(lambda x: x[-3:])\n",
    "vc = df[\"temp\"].value_counts()\n",
    "\n",
    "df.drop(\"temp\", axis=1, inplace=True)\n",
    "vc"
   ]
  },
  {
   "cell_type": "markdown",
   "metadata": {},
   "source": [
    "### Updated times\n",
    "\n",
    "There are only 4 videos that were updated.  I don't think this is very interesting so I'm just going to ignore all updated times.\n",
    "\n",
    "I understand why someone would like this data, but I don't need it."
   ]
  },
  {
   "cell_type": "code",
   "execution_count": 6,
   "metadata": {},
   "outputs": [
    {
     "name": "stdout",
     "output_type": "stream",
     "text": [
      "4 clips have had information updated\n"
     ]
    }
   ],
   "source": [
    "df.temp = df.Date.map(lambda x: int(\"Updated\" in x))\n",
    "num_updated = len(df[df.temp == 1])\n",
    "print(f\"{num_updated} clips have had information updated\")\n",
    "\n",
    "df.Date = df.Date.map(lambda x: x.split(\"\\n\")[0])"
   ]
  },
  {
   "cell_type": "markdown",
   "metadata": {},
   "source": [
    "### Convert to Datetime\n",
    "\n",
    "See this Stack Exchange [link](https://english.stackexchange.com/questions/35315/what-is-the-proper-name-for-am-and-pm?newreg=2d443a2ca9dc4ba6abbe1a1e01e4af4b) haha.  I was honored by the line...\n",
    "\n",
    "    software developers think about naming variables properly. It is built into the Object-Oriented mindset. Jader, a commenter, said it well: \"It's funny that the question intrinsically is not programming related, but all programmers can understand why you posted it here.\"\n",
    "    \n",
    "I just considered myself a physicist!"
   ]
  },
  {
   "cell_type": "code",
   "execution_count": 7,
   "metadata": {
    "collapsed": true
   },
   "outputs": [],
   "source": [
    "def format_datetime(x):\n",
    "    return datetime.datetime.strptime(x[:-4], '%b %d, %Y %H:%M %p')\n",
    "\n",
    "df.Date = df.Date.map(format_datetime)"
   ]
  },
  {
   "cell_type": "markdown",
   "metadata": {},
   "source": [
    "### And we're done with times!"
   ]
  },
  {
   "cell_type": "markdown",
   "metadata": {},
   "source": [
    "---\n",
    "<a id=\"speakers\"></a>\n",
    "\n",
    "# [^](#toc) <u>Speakers</u>"
   ]
  },
  {
   "cell_type": "markdown",
   "metadata": {},
   "source": [
    "### Fill in missing speakers"
   ]
  },
  {
   "cell_type": "code",
   "execution_count": 8,
   "metadata": {
    "collapsed": true
   },
   "outputs": [],
   "source": [
    "for row in df.loc[df.Speakers.isnull(), 'Speakers'].index:\n",
    "    df.at[row, 'Speakers'] = {\"Unknown\"}"
   ]
  },
  {
   "cell_type": "markdown",
   "metadata": {},
   "source": [
    "### Overview of names\n",
    "\n",
    "It looks like there's a lot to do here, I want uniform names.\n",
    "\n",
    "When I search for Obama I want to see 'SEN. BARACK OBAMA', 'SENATOR BARACK OBAMA', 'PRESIDENT BARACK OBAMA', 'PRESIDENT BARACK OBAMA (singing)', 'BARACK OBAMA', 'BARACK OBAMA (singing)', and 'Barack Obama'\n",
    "\n",
    "My plan of attack is\n",
    "\n",
    "However removing modifiers only goes so far, sometimes the names are shortened.  In which case I need to manually group \"Obama\" and \"PRESIDENT OBAMA\" to \"BARACK OBAMA\".\n",
    "\n",
    "There also seems to be ASCII errors like \"\\xa0\" popping up."
   ]
  },
  {
   "cell_type": "code",
   "execution_count": 9,
   "metadata": {
    "scrolled": true
   },
   "outputs": [
    {
     "data": {
      "text/plain": [
       "{'And I think Obama and Boehner and Reid all know that their legacies are tied together and they reside around one thing',\n",
       " 'And Obama’s counter will have to be',\n",
       " 'And President Obama says he will do something few presidents have done',\n",
       " 'And so that’s what the FTC and the Obama Administration have both called for',\n",
       " 'Arizona Senator John McCain said today the Obama administration is to blame',\n",
       " 'BARACK OBAMA',\n",
       " 'BARACK OBAMA (singing)',\n",
       " 'Barack Obama',\n",
       " 'Before a fund-raiser for President Obama',\n",
       " 'Brookings institution scholar Shadi Hamid credits Mr. Obama for the Iran deal',\n",
       " 'But the Obama reelection team did wade into the Bain debate with a memo that said',\n",
       " 'Daniel Benjamin was coordinator for counterterrorism at the State Department during the first term of the Obama administration. He’s now a professor at Dartmouth College. And Joby Warrick is a national security correspondent at The Washington Post. He’s also the author of the book “Black Flags',\n",
       " 'FIRST LADY MICHELLE OBAMA',\n",
       " 'FORMER PRESIDENT BARACK OBAMA',\n",
       " 'FORMER PRESIDENT\\xa0BARACK OBAMA',\n",
       " 'Former President Barack Obama',\n",
       " 'He writes of one meeting in 2011 with Mr. Obama and General David Petraeus',\n",
       " 'I had a rule in the Obama campaign',\n",
       " 'Juliette Kayyem was an assistant secretary at the Department of Homeland Security during the Obama administration. She now has her own security consulting firm. William McCants is director of the Project on U.S. Relations with the Islamic world at the Brookings Institution. His most recent book is “The ISIS Apocalypse',\n",
       " 'MICHELLE OBAMA',\n",
       " 'Michelle Obama',\n",
       " 'Michèle Flournoy was undersecretary of defense for policy during the first term of the Obama administration. She’s now chief executive officer at the Center for a New American Security. And retired Army Colonel Andrew Bacevich is professor emeritus of international relations and history at Boston University. His latest book is “Breach of Trust',\n",
       " 'Obama',\n",
       " 'Obama’s is like the Simpson-Bowles. It’s $2 of cuts — I agree with you',\n",
       " 'PRESDIENT BARACK OBAMA',\n",
       " 'PRESIDEDNT BARACK OBAMA',\n",
       " 'PRESIDENT BARACK OBAMA',\n",
       " 'PRESIDENT BARACK OBAMA (singing)',\n",
       " 'PRESIDENT BARACK OBAMA [MAY 2014] ',\n",
       " 'PRESIDENT OBAMA',\n",
       " 'PRESIDENT OF THE UNITED STATE BARACK OBAMA',\n",
       " 'PRESIDENT PRESIDENT BARACK OBAMA',\n",
       " 'PRESIDENT PRESIDENT OBAMA',\n",
       " 'PRESIDENT\\xa0BARACK OBAMA',\n",
       " 'PRESIDNENT BARACK OBAMA',\n",
       " 'PRESIENT BARACK OBAMA',\n",
       " 'President Barack Obama',\n",
       " 'President Obama',\n",
       " 'President Obama and Speaker Ryan have made similar proposals',\n",
       " 'President Obama appealed for peace in a guest column for the Israeli newspaper Haaretz. He wrote',\n",
       " 'President Obama came into office calling for a troop surge in 2009 to defeat the Taliban',\n",
       " 'President Obama condemned the killing. In a statement',\n",
       " 'President Obama said this at the White House',\n",
       " 'President Obama wouldn’t discuss specifics today. Instead',\n",
       " 'President Obama’s remarks to the nation on fighting the Islamic State group',\n",
       " 'President Trump has again accused former President Obama of failing to stop Russian interference in the 2016 election. On Twitter today',\n",
       " 'Questions also continued about the five Taliban leaders long held at Guantanamo Bay and flown to Qatar in exchange for Bergdahl’s release. The Reuters News Service reported they have been moved to a residential compound and it said they are free to move about the country. President Obama acknowledged today that some of them may try to return to the fight in Afghanistan',\n",
       " 'SEN. BARACK OBAMA',\n",
       " 'SENATOR BARACK OBAMA',\n",
       " 'Speaker Ryan said Obamacare cannot stay as it is',\n",
       " 'The Obama administration continues to defend the law',\n",
       " 'The date is set for President Obama to deliver his 2014 State of the Union address to Congress',\n",
       " 'The nuclear agreement with Iran faces a fresh challenge within President Obama’s own party. Democratic Senator Chuck Schumer of New York',\n",
       " 'U. S. PRESIDENT BARACK OBAMA',\n",
       " 'U.S PRESIDENT BARACK OBAMA',\n",
       " 'U.S. PRESIDENT BARACK OBAMA',\n",
       " 'We campaigned hard. We had more people on the ground working for my campaign than President Obama had had. We were in constant communication',\n",
       " 'We explore all this now with retired Brigadier General David McGinnis. He was a senior Defense Department official during President Obama’s first term. And David Rothkopf',\n",
       " 'You would hope that President Obama would go in and think in these terms',\n",
       " '“Barack Obama'}"
      ]
     },
     "execution_count": 9,
     "metadata": {},
     "output_type": "execute_result"
    }
   ],
   "source": [
    "{elem for elem in {x for x in set.union(*df.Speakers)} if (\"OBAMA\" in elem or \"Obama\" in elem or \"obama\" in elem)}"
   ]
  },
  {
   "cell_type": "code",
   "execution_count": 10,
   "metadata": {},
   "outputs": [
    {
     "data": {
      "text/plain": [
       "{'A few blocks to my east is Trump Tower. And',\n",
       " 'AUDRA MCDONALD',\n",
       " 'And I can see no reason that anybody would ever say this about Donald Trump',\n",
       " 'And I think he’s referring specifically to Donald Trump here. And he goes on',\n",
       " 'And I think that’s part of Donald Trump’s introduction of himself every time',\n",
       " 'And I think what Donald Trump is showing',\n",
       " 'And I want to read you a quote from President Trump that he made',\n",
       " 'And Mr. Trump hit McConnell on a major irritant',\n",
       " 'And in a statement from Donald Trump Jr. to Congress',\n",
       " 'As for Trump',\n",
       " 'At issue? Attorney-client privilege and whether the president’s protected conversations with Cohen might be revealed. Mr. Trump voiced his concerns on Twitter over the weekend',\n",
       " 'Baldridge’s father was disturbed by the details of his son’s death and expressed that to President Trump in a phone call. Mr. Trump then apparently took an unusual step for a commander in chief',\n",
       " 'Both Clinton and Trump do have upside-down favorability ratings. According to a\\xa0RealClearPolitics average of national polls',\n",
       " 'But I think we know this much about Trump so far',\n",
       " 'But Ryan is still on the record endorsing Trump.\\xa0 About that',\n",
       " 'But Trump told CNN',\n",
       " 'But what I hear from Trump supporters',\n",
       " 'CARDINAL DONALD WUERL',\n",
       " 'CHARLOTTE MCDONALD GIBSON',\n",
       " 'CHRISTY MCDONALD',\n",
       " 'Criticism of Trump came from 50 Republican national security officials as well. In a letter yesterday',\n",
       " 'DEVARIO MCDONALD',\n",
       " 'DONALD',\n",
       " 'DONALD BARLETT',\n",
       " 'DONALD BERWICK',\n",
       " 'DONALD BLUMBERG',\n",
       " 'DONALD BOOTH',\n",
       " 'DONALD COOK',\n",
       " 'DONALD GIPS',\n",
       " 'DONALD GLOVER',\n",
       " 'DONALD GRAHAM',\n",
       " 'DONALD GREGG',\n",
       " 'DONALD HEAD',\n",
       " 'DONALD HUNTER',\n",
       " 'DONALD KABERUKA',\n",
       " 'DONALD KOHN',\n",
       " 'DONALD LOWE',\n",
       " 'DONALD MARRON',\n",
       " 'DONALD RUMSFELD',\n",
       " 'DONALD SADOWAY',\n",
       " 'DONALD SPICER',\n",
       " 'DONALD STERLING',\n",
       " 'DONALD TRUMP',\n",
       " 'DONALD TRUMP (R)',\n",
       " 'DONALD TRUMP JR.',\n",
       " 'DONALD TRUMP Republican Presidential Candidate',\n",
       " 'DONALD TUSK',\n",
       " 'DONALD VERRILLI',\n",
       " 'DONALD WILLIAMS',\n",
       " 'DR. DONALD ABRAMS',\n",
       " 'DR. DONALD BERWICK',\n",
       " 'DR. DONALD LOW',\n",
       " 'DR. DONALD O’ROURKE',\n",
       " 'DR. DONALD PALMISANO',\n",
       " 'Dannenfelser says neither she nor Trump want to weigh in on the morality of contraception',\n",
       " 'Donald Trump',\n",
       " 'Donald Trump Jr.',\n",
       " 'Donald Trump Jr. responds',\n",
       " 'Donald Trump has gone to',\n",
       " 'Donald Trump himself was on Twitter about an hour ago',\n",
       " 'Donald Trump is stepping up these warnings. He tweeted just a short time ago — and I’m quoting — he said',\n",
       " 'Donald Trump talked a big game on veterans. He said it over and over again',\n",
       " 'Enter President Trump',\n",
       " 'Even President Trump',\n",
       " 'Flake was a staunch member of the #NeverTrump camp in the 2016 presidential election. He doubled down on his criticism of Trump in his new book',\n",
       " 'For Donald and Melania Trump',\n",
       " 'Freshman Senator Ben Sasse of Nebraska said he could never vote for Trump',\n",
       " 'HEATHER MAC DONALD',\n",
       " 'He abandoned those positions to endorse Donald Trump after a disastrous run for president and gave a speech at the convention that sounded like a New York cab driver stuck in traffic at 4',\n",
       " 'I just want to show a tweet that President Trump put out in defending himself. He says',\n",
       " 'I sat down with the former secretary of state earlier today to discuss President Trump’s abrupt firing of former FBI Director James Comey',\n",
       " 'I think that’s the greatest scandal. I also think that Donald Trump’s comments again that he made overnight at 3',\n",
       " 'I want to read a tweet from President Trump. He uses the word appeasement. He wrote',\n",
       " 'IVANHOE DONALDSON',\n",
       " 'IVANKA TRUMP',\n",
       " 'It was Donald Trump’s first trip to Flint since the city found lead in its water in 2014.\\xa0 The Republican nominee made a quick visit to a water plant and a local church.\\xa0 But as Trump turned to criticizing his opponent',\n",
       " 'It’s a debate attracting voices from every corner — including President Trump',\n",
       " 'Ivanka Trump',\n",
       " 'JIM MCDONALD',\n",
       " 'Joining me now to discuss Trump’s infrastructure and jobs plans are',\n",
       " 'KATHLEEN MCDONALD',\n",
       " 'KENNY DONALDSON',\n",
       " 'KIM MCDONALD',\n",
       " 'LILLIAN MCDONALD',\n",
       " 'MELANIA TRUMP',\n",
       " 'MICHAEL MCDONALD',\n",
       " 'Many arrived in groups from churches and schools after long bus rides. President Trump began their day with a tweet',\n",
       " 'Marc Fisher is a senior editor at The Washington Post and co-author of the book “Trump Revealed',\n",
       " 'Melania Trump',\n",
       " 'Mr. Trump also said he’s indifferent about the European Union’s future in the wake of Britain’s vote to leave it',\n",
       " 'Mr. Trump followed up this morning',\n",
       " 'Mr. Trump tweeted',\n",
       " 'OFFICER DONALD PARKER',\n",
       " 'One Trump attack took aim at Clinton for the former secretary of state’s past involvement with the Trans-Pacific Partnership',\n",
       " 'PRESIDENT DONALD TRUMP',\n",
       " 'PRESIDENT DONALD TRUMP JR.',\n",
       " 'PRESIDENT TRUMP',\n",
       " 'PRESIDENT-ELECT DONALD TRUMP',\n",
       " 'PRESIDENTDONALD TRUMP',\n",
       " 'PRESIDENT\\xa0DONALD TRUMP',\n",
       " 'President Donald Trump',\n",
       " 'President Trump',\n",
       " 'President Trump has again accused former President Obama of failing to stop Russian interference in the 2016 election. On Twitter today',\n",
       " 'President Trump said today in a tweet',\n",
       " 'President Trump today praised his new chief of staff',\n",
       " 'President Trump weighed in on it all last night on Twitter. He tweeted',\n",
       " 'President Trump’s counselor Kellyanne Conway',\n",
       " 'President-elect Trump tweeted his reaction to these numbers',\n",
       " 'Puerto Rico Gov. Ricardo Rossello said today Mr. Trump’s statements about building inspections are untrue',\n",
       " 'Pyongyang test-fired yet another missile this week. Mr. Trump told The Financial Times',\n",
       " 'ROBERT MCDONALD',\n",
       " 'RORY MACDONALD',\n",
       " 'Republican Donald Trump got a boost today ahead of the first presidential debate on Monday night.\\xa0 In a reversal',\n",
       " 'Republican Donald Trump said',\n",
       " 'Republican presidential nominee Donald Trump tweeted today',\n",
       " 'Republican reaction to Comey’s announcement was swift and strongly negative.  The GOP’s presumptive presidential nominee Donald Trump took to Twitter',\n",
       " 'Roy Moore is a Trumpian before — of the letter',\n",
       " 'SHANNON MCDONALD',\n",
       " 'SOLICITOR GENERAL DONALD VERRILLI',\n",
       " 'STEVE MACDONALD',\n",
       " 'SUSAN MACDONALD',\n",
       " 'Senior Republicans are brushing aside President Trump’s latest remarks on Russian President Vladimir Putin. In a FOX News interview that aired Sunday',\n",
       " 'TERRENCE MCDONALD',\n",
       " 'TRUMP (State of the Union)',\n",
       " 'TRUMP SUPPORTER',\n",
       " 'The Trump administration imposed new economic sanctions today on 13 people and a dozen companies in Iran. It is a response to Iran’s test this month of a ballistic missile. Early this morning',\n",
       " 'The Trump trade doctrine is this. America will trade with any country',\n",
       " 'The author Gwenda Blair examined that in her book “The Trumps',\n",
       " 'The government ethics director who has prodded the Trump administration over conflicts of interest is resigning. Walter Shaub is stepping down months before his term was set to expire. In a statement on Twitter',\n",
       " 'The question that was asked by Senator Franken was related to contacts between the Russians and the Trump campaign relating to the campaign. And I have got the paper in front of me. He',\n",
       " 'They got no response. The Trump policy claims to target the oppressive Cuban military dictatorship',\n",
       " 'Trump cited no evidence for the claim',\n",
       " 'Trump has repeatedly expressed his own skepticism about climate change',\n",
       " 'VICTORIA MACDONALD',\n",
       " 'We had the clip earlier in the program of Trump saying',\n",
       " 'With less than six weeks left until Donald Trump is sworn in as the 45th president of the United States',\n",
       " '\\xa0CHRISTY MCDONALD'}"
      ]
     },
     "execution_count": 10,
     "metadata": {},
     "output_type": "execute_result"
    }
   ],
   "source": [
    "{elem for elem in {x for x in set.union(*df.Speakers)} if (\"TRUMP\" in elem or \"Trump\" in elem or \"DONALD\" in elem)}"
   ]
  },
  {
   "cell_type": "markdown",
   "metadata": {},
   "source": [
    "### Long names are actually text"
   ]
  },
  {
   "cell_type": "code",
   "execution_count": 11,
   "metadata": {
    "collapsed": true
   },
   "outputs": [],
   "source": [
    "df.Speakers = df.Speakers.map(lambda x: {elem for elem in x if len(elem.split(\" \")) < 9})"
   ]
  },
  {
   "cell_type": "markdown",
   "metadata": {},
   "source": [
    "### Remove titles, parties, and non-name features"
   ]
  },
  {
   "cell_type": "code",
   "execution_count": 12,
   "metadata": {},
   "outputs": [
    {
     "data": {
      "text/plain": [
       "4010"
      ]
     },
     "execution_count": 12,
     "metadata": {},
     "output_type": "execute_result"
    }
   ],
   "source": [
    "%run preprocessing.py\n",
    "%run mistaken_names.py\n",
    "\n",
    "mistaken_names = get_mistaken_names()\n",
    "\n",
    "len(set.union(*df.Speakers)) - len({clean_names(x) for x in set.union(*df.Speakers) if clean_names(x) not in mistaken_names})\n",
    "# {clean_names(x) for x in set.union(*df.Speakers) if \".\" in clean_names(x)}\n",
    "# {x for x in set.union(*df.Speakers) if x == \"(THROUGH TRANSLATOR)\"}\n",
    "# {x for x in set.union(*df.Speakers) if len(x.split(\" \")) > 7}"
   ]
  },
  {
   "cell_type": "markdown",
   "metadata": {},
   "source": [
    "### Manually remove some text that was formatted as a name"
   ]
  },
  {
   "cell_type": "code",
   "execution_count": 13,
   "metadata": {
    "scrolled": false
   },
   "outputs": [
    {
     "data": {
      "text/plain": [
       "{'ABDEL MONEIM ABOUL FOTOUH',\n",
       " 'ABDUL JABBAR AL AIKIDI',\n",
       " 'ABDUL KADER ALDALATI',\n",
       " 'ACRA TIPAROJ',\n",
       " 'ADJUTANT GENERAL BOB LIVINGSTON JR.',\n",
       " 'AHMED BIN AHMED ALMAYSARI',\n",
       " 'AIRMAN  JESSICA HINVES',\n",
       " 'ALISON STEWART',\n",
       " 'ALSO IN THE LINE OF FIRE',\n",
       " 'AMAR AHMED JASSIM',\n",
       " 'AMR ABDUL SADDA',\n",
       " 'AMY GUTTMAN',\n",
       " 'ANDRES MANUEL LOPEZ OBRADOR',\n",
       " 'ASSOCIATE  TONY WEST',\n",
       " 'AUSTRALIAN DEPUTY  WARREN TRUSS',\n",
       " 'AYATOLLAH SADEGH AMOLI LARIJANI',\n",
       " 'BARACK OBAMA [MAY 2014]',\n",
       " 'BEFORE A FUNDRAISER FOR  OBAMA',\n",
       " 'BEFORE THE SALE CAN BE COMPLETED',\n",
       " 'BELLA EPSTEIN (VOICE IN RECORD PLAYER)',\n",
       " 'BERNIE SANDERS',\n",
       " 'BETSEY STEVENSON HAS A WRY ANSWER',\n",
       " 'BING CROSBY AND MARJORIE REYNOLDS',\n",
       " 'BROWN WROTE IN A POLITICO OPED',\n",
       " 'BUSINESSES WERE CARRIED ON AS USUAL',\n",
       " 'CAPTAIN LANFRANCO DISIBIO',\n",
       " 'CARDOZO LAW SCHOOL PROFESSOR EKOW YANKAH',\n",
       " 'CHIEF PETTY  CHRIS KYLE',\n",
       " 'CHIMENS POINT DU JOUR',\n",
       " 'CHINESE FOREIGN MINISTRY SPOKESWOMAN HUA CHUNYING',\n",
       " 'CHRISTOPHER DICKEY OF THE DAILY BEAST',\n",
       " 'CHUYING’S VICE  IS WU YIDE',\n",
       " 'CM BRYAN MCGRATH  HUDSON INSTITUTE',\n",
       " 'COMMITTEE  JOE PITTS',\n",
       " 'COMMITTEE  JOHN MCCAIN ON CHINA',\n",
       " 'CONDOLEEZZA RICE',\n",
       " 'CONGRESSMAN STEVE CHABOT',\n",
       " 'CORINA CRUZ DE PAZ',\n",
       " 'CORRESPONDENT JOHN YANG BEGINS OUR COVERAGE',\n",
       " 'DAVE BING D  OF DETROIT',\n",
       " 'DEB FISCHER',\n",
       " 'DEPUTY  ASHTON CARTER',\n",
       " 'DEPUTY  THOMAS NIDES',\n",
       " 'DEPUTY  ZIAD BAHAA ELDIN',\n",
       " 'DESPITE THE CRITICAL NATURE OF SALES',\n",
       " 'DEVI PRASAD SHETTY',\n",
       " 'DIANA DEL SOCORRO BLANCO',\n",
       " 'DISTRICT ADMINISTRATOR   SCOTT STARK',\n",
       " 'DURING A LOWKEY AND BUSINESSLIKE APPEARANCE',\n",
       " 'EMIR TAMIM BIN HAMAD AL THANI',\n",
       " 'FAHAD AG AL MAHMOUD',\n",
       " 'FALLUJA MILITARY COUNCIL MEMBER',\n",
       " 'FERNANDO RAMOS PEREZ',\n",
       " 'FIDDLER ON THE ROOF CAST',\n",
       " 'FINANCIAL TIMES ARCHITECTURE CRITIC EDWIN HEATHCOTE',\n",
       " 'FOR MORE ON NORTH KOREAN DEFECTORS',\n",
       " 'FRANCIS HELFAND HAD THIS TO SAY',\n",
       " 'FRED BORCH  “THE CONSPIRATOR”',\n",
       " 'FROM PBS’S DESCRIPTION OF THE SHOW',\n",
       " 'FULTON COUNTY DISTRICT ATTORNEY PAUL HOWARD',\n",
       " 'GEORGE BAILEY “IT’S A WONDERFUL LIFE”',\n",
       " 'GEORGE SHULTZ',\n",
       " 'GHAIS ALHAMDAWI',\n",
       " 'GLORIA ABRAHAM PERALTA',\n",
       " 'GOVERNING SOCIALIST PARTY SPOKESPERSON CORRINE NARASSIGUIN',\n",
       " 'HALKWAT RAFAAT',\n",
       " 'HARI SREENIVASAN',\n",
       " 'HARVARD BUSINESS SCHOOL PROFESSOR DAVID MOSS',\n",
       " 'HILLARY CLINTON',\n",
       " 'HILLARY RODHAM CLINTON',\n",
       " 'HILLARY RODHAM CLINTON IC IAL CANDIDATE',\n",
       " 'HIS LATEST BOOK IS “BRIEF ENCOUNTERS',\n",
       " 'HOUSE FREEDOM CAUCUS  MARK MEADOWS',\n",
       " 'HOUSE S HAVE THEIR OWN ANSWER',\n",
       " 'IC SENATOR RICHARD BLUMENTHAL OF CONNECTICUT',\n",
       " 'IF YOU HAVEN’T SEEN IT YET',\n",
       " 'ILLIZA SA’ADUDDIN DJAMAL',\n",
       " 'IMAM ABDRAHAMANE BEN ESSAYOUTI',\n",
       " 'INES MOHAMMED AKLAN',\n",
       " 'JABAR MOHI OSMAN',\n",
       " 'JAMEEL HAMEED KHATIM',\n",
       " 'JAMES BAKER',\n",
       " 'JANET NAPOLITANO',\n",
       " 'JAY CARNEY',\n",
       " 'JEFF GREENFIELD',\n",
       " 'JEFFREY BROWN TALKED TO THE RANDOLPHWRIGHT',\n",
       " 'JEN PSAKI ELABORATED',\n",
       " 'JESSE BUSTAMANTE WROTE US ON FACEBOOK',\n",
       " 'JOHN ANTHONY CHENG LIKED THE IDEA',\n",
       " 'JOHN BOEHNER DEMANDED SPECIFICS',\n",
       " 'JOHN KASICH  IAL CANDIDATE',\n",
       " 'JOINING US NOW TO ADDRESS THEM',\n",
       " 'JOINING US TO PREVIEW THE TERM',\n",
       " 'JOSE LUIS DA CRUZ VILACA',\n",
       " 'JOSH RAUH',\n",
       " 'JUAN MANUEL SANTOS',\n",
       " 'JUST MORE THAN THREE WEEKS AGO',\n",
       " 'JUSTIN WIDHALM ',\n",
       " 'KEITH ELLISON OF',\n",
       " 'KIM MOON SOO',\n",
       " 'LAWRENCE EAGLEBURGER',\n",
       " 'LET’S CALL THIS WHAT IT IS',\n",
       " 'LET’S START WITH THE OBVIOUS LOSERS',\n",
       " 'LINDSEY GRAHAM  IAL CANDIDATE',\n",
       " 'LISA DESJARDINS',\n",
       " 'LUKE MESSER',\n",
       " 'MADELEINE ALBRIGHT',\n",
       " 'MAGNA DE FRANCA SANTOS',\n",
       " 'MAJORITY LEADER  HARRY REID',\n",
       " 'MAJORITY WHIP DICK DURBIN OF ILLINOIS',\n",
       " 'MANRIQUE ARADA ESTRADA',\n",
       " 'MARIA CORREA DE OLIVEIRA',\n",
       " 'MARIA REBECCA CERVANTES CISNEROS',\n",
       " 'MARINE CORPS LIEUTENANT  BRIAN BOWER',\n",
       " 'MARTIN HEINRICH OF NEW MEXICO',\n",
       " 'MARTIN LUTHER KING JR.',\n",
       " 'MAY ALSO MARKED AN IMPORTANT MOMENT',\n",
       " 'MCCLATCHY NEWSPAPERS’ SENIOR WHITE HOUSE CORRESPONDENT',\n",
       " 'MEHDI “D.J. COSTA” AKKARI',\n",
       " 'MEXICAN  JESUS MURILLO KARAM',\n",
       " 'MICHAEL BLOOMBERG OF',\n",
       " 'MICHAEL RODRIGUEZ ',\n",
       " 'MICK MULVANEY',\n",
       " 'MIGUEL ANGEL PECH CEN',\n",
       " 'MITT ROMNEY PROMISED  THREE THINGS',\n",
       " 'MOHAMED NAGY SHEHATA',\n",
       " 'MOHKTAR BEN NASR',\n",
       " 'MOTHER OF MARIO OTTOCENTO',\n",
       " 'MR. TRUMP FOLLOWED UP THIS MORNING',\n",
       " 'MY DAD USED TO TELL US',\n",
       " 'NADINE NEEMA RUKUNHGU',\n",
       " 'NARENDRA MODI',\n",
       " 'NEUROPSYCHOLOGIST LAURA ANTHONY PUTS IT BLUNTLY',\n",
       " 'NGO MINH CHUONG',\n",
       " 'NORTH TOWER OFFICE WORKER KAYLA BERGERON',\n",
       " 'NOW ANOTHER CHAPTER HAS BEEN REVEALED',\n",
       " 'NOW LET’S MAKE TWO THINGS CLEAR',\n",
       " 'O. KAY HENDERSON',\n",
       " 'OAK CREEK POLICE CHIEF JOHN EDWARDS',\n",
       " 'OF KIDNAP VICTIM',\n",
       " 'PALM BEACH COUNTY SHERIFF RIC BRADSHAW',\n",
       " 'PAT TOOMEY',\n",
       " 'PAUL RYAN',\n",
       " 'PENNSYLVANIA  POLICE  BRAD SHIELDS',\n",
       " 'PETTY  3RD CLASS BRIAN LEWIS',\n",
       " 'POSTMASTER ELVIN MERCADO',\n",
       " 'PUERTO RICO GOVERNOR ALEJANDRO GARCIA PADILLA',\n",
       " 'RAND PAUL  IAL CANDIDATE',\n",
       " 'REACTION APPEARED LARGELY POSITIVE. DOC RIVERS',\n",
       " 'RECEP TAYYIP ERDOGAN',\n",
       " 'RECEP TAYYIP ERDOGANT',\n",
       " 'ROBERT GATES',\n",
       " 'ROMILDO SOARES DE OLIVEIRA',\n",
       " 'ROSA FRANCO MARIA SANDOVAL',\n",
       " 'SALMAN BIN HAMAD BIN ISA ALKHALIFA',\n",
       " 'SAN FRANCISCO FIREFIGHTER TONY STEFANI',\n",
       " 'SARAH SANDERS',\n",
       " 'SAVE THE CHILDREN SPOKESMAN RIK GOVERDE',\n",
       " 'SCHOOL DISTRICTS HAVE THEIR OWN TROUBLES',\n",
       " 'SCOTT TUCKER TOOK A BROADER VIEW',\n",
       " 'SCOTT WALKER  IAL CANDIDATE',\n",
       " 'SEAN BURNS HAD THIS TO SAY',\n",
       " 'SEAN SPICER',\n",
       " 'SENATOR JOHN MCCAIN',\n",
       " 'SENATOR KELLY AYOTTE OF NEW HAMPSHIRE',\n",
       " 'SEVERAL TIMES EVEN IN RECENT MONTHS',\n",
       " 'SHEIK ABDULLAH BIN ZAYED AL NAHYAN',\n",
       " 'SHEIK ALI HATEM ALSULEIMAN',\n",
       " 'SHEIK MUHAMMAD HUSSEIN YACOUB',\n",
       " 'SHEIKH AHMED IMAN ALI ON FOOTAGE',\n",
       " 'SHEIKH ZAHARIYA AL MASAOUD',\n",
       " 'SHREE RAM TIWARI',\n",
       " 'SO THE OBVIOUS QUESTION TO WILLIAMS',\n",
       " 'SOME ANALYSIS NOW FROM PAUL EISENSTEIN',\n",
       " 'SOUTH DAKOTA SENATOR JOHN THUNE',\n",
       " 'SPEAKER OF THE HOUSE JOHN BOEHNER',\n",
       " 'SUSAN BRISSETTE ARCHINSKI AND RALPH NEAL',\n",
       " 'TEN POUNDS FOR A SINGLE SHARE',\n",
       " 'TEN YEARS AFTER ITS ORIGINAL PUBLICATION',\n",
       " 'TEXAS   JIMMIE DON AYCOCK',\n",
       " 'TWOTIME OLYMPIC GOLD MEDALIST TED LIGETY',\n",
       " 'UNIVERSITY   GREGORY FENVES',\n",
       " 'UNIVERSITY OF AKRON ECONOMIST AMANDA WEINSTEIN',\n",
       " 'UNLIKE THE MUCHLOVED “AUSTIN CITY LIMITS',\n",
       " 'UNTIL THE GOVERNMENT SOLVES THE PROBLEMS',\n",
       " 'WALL STREET JOURNAL REPORTER BEN FRITZ',\n",
       " 'WASHINGTON POST  ANN HORNADAY',\n",
       " 'WATER BOARD CHAIR FELICIA MARCUS',\n",
       " 'WAYS AND MEANS  KEVIN BRADY',\n",
       " 'YULIZA DE JESUS SANCHEZ',\n",
       " 'ZIAD AL GUBERE',\n",
       " '“AMERICA REMEMBERS 9/11” AIRS AT 8',\n",
       " '“GABRIEL OVER THE WHITE HOUSE” CLIP',\n",
       " '“ROLLING STONE” MUSIC CRITIC ANTHONY DECURTIS'}"
      ]
     },
     "execution_count": 13,
     "metadata": {},
     "output_type": "execute_result"
    }
   ],
   "source": [
    "%run mistaken_names.py\n",
    "\n",
    "mistaken_names = get_mistaken_names()\n",
    "\n",
    "df.Speakers = df.Speakers.map(lambda x: {elem for elem in x if clean_names(elem) not in mistaken_names})\n",
    "{clean_names(x) for x in set.union(*df.Speakers) if len(x.split(\" \")) == 6}"
   ]
  },
  {
   "cell_type": "code",
   "execution_count": 86,
   "metadata": {
    "collapsed": true
   },
   "outputs": [],
   "source": [
    "def transcripts_with_speaker(df, speaker):\n",
    "    includes_speaker = df.Speakers.map(lambda x: any([clean_names(elem) == speaker for elem in x]))\n",
    "    return df[includes_speaker].URL\n",
    "\n",
    "temp = transcripts_with_speaker(df, \"NORTH CAROLINA IS A STRONG ONE FOR THEM\")"
   ]
  },
  {
   "cell_type": "code",
   "execution_count": 88,
   "metadata": {
    "collapsed": true
   },
   "outputs": [],
   "source": [
    "# def h(x):\n",
    "#     if x is not np.nan and x != []:\n",
    "# #         if clean_names(x[0][0]) == \"SHE GOES IN TO INTERVIEW HITLER IN 1931\":\n",
    "#         return x[0]\n",
    "#     return np.nan\n",
    "\n",
    "\n",
    "# df.Transcript.map(h).dropna()"
   ]
  },
  {
   "cell_type": "code",
   "execution_count": null,
   "metadata": {
    "collapsed": true
   },
   "outputs": [],
   "source": []
  },
  {
   "cell_type": "code",
   "execution_count": null,
   "metadata": {
    "collapsed": true
   },
   "outputs": [],
   "source": []
  },
  {
   "cell_type": "markdown",
   "metadata": {},
   "source": [
    "### Transcript\n",
    "\n",
    "1.) Remove all speakers that should not be included.  \n",
    "2.) Go through each Transcript and check if it has a Speaker that is not included.  \n",
    "3.) If this speaker is the first one talking, print the URL and clip this short.  \n",
    "4.) If the speaker is nnot the first talker, print the URL and append the speaker and text to the previous speaker.  \n",
    "- Check out this [video](https://www.pbs.org/newshour/show/with-3-more-wins-romney-pivots-to-general-election#transcript) and search for \"North Carolina is a strong one for them\".  You'll see one of these formating slips."
   ]
  },
  {
   "cell_type": "markdown",
   "metadata": {},
   "source": [
    "---\n",
    "<a id=\"transcript\"></a>\n",
    "\n",
    "# [^](#toc) <u>Transcript</u>"
   ]
  },
  {
   "cell_type": "code",
   "execution_count": 20,
   "metadata": {
    "collapsed": true
   },
   "outputs": [],
   "source": [
    "for row in df.loc[df.Transcript.isnull(), 'Transcript'].index:\n",
    "    df.at[row, 'Transcript'] = [\"Unknown\"]"
   ]
  },
  {
   "cell_type": "code",
   "execution_count": 22,
   "metadata": {},
   "outputs": [
    {
     "data": {
      "text/plain": [
       "0        [[Judy Woodruff, [ President Trump’s search fo...\n",
       "1        [[Judy Woodruff, [ After two previous runs for...\n",
       "2        [[Judy Woodruff, [ And now perspective from fo...\n",
       "3        [[Judy Woodruff, [ The “NewsHour” has reported...\n",
       "4        [[Judy Woodruff, [ A number of recent incident...\n",
       "5        [[Judy Woodruff, [ And now back to the looming...\n",
       "6        [[Judy Woodruff, [ On our Bookshelf tonight, w...\n",
       "7        [[HARI SREENIVASEN, [ Trade is one of the area...\n",
       "8        [[JEFF GREENFIELD, [ It has the look and feel ...\n",
       "9        [[CAMERON ESPOSITO, [ “And I don’t totally rem...\n",
       "10       [[LISA DESJARDINS, [ Despite court orders it i...\n",
       "11       [[IVETTE FELICIANO, [ Success did not come eas...\n",
       "12       [[Judy Woodruff, [ President Trump now says he...\n",
       "13       [[Judy Woodruff, [ This week, a federal judge ...\n",
       "14       [[Judy Woodruff, [ How will the Trump administ...\n",
       "15       [[Judy Woodruff, [ And now, the aftermath of t...\n",
       "16       [[Judy Woodruff, [ While the U.S. grapples wit...\n",
       "17       [[Judy Woodruff, [ On Sunday, Mexicans go to t...\n",
       "18       [[Judy Woodruff, [ And now to the analysis of ...\n",
       "19       [[Judy Woodruff, [ There’s no nominee yet, but...\n",
       "20       [[Judy Woodruff, [ In the day’s other news, a ...\n",
       "21       [[Judy Woodruff, [ The Supreme Court wrapped u...\n",
       "22       [[Judy Woodruff, [ And Justice Kennedy’s vacan...\n",
       "23       [[Judy Woodruff, [ Now, the challenges of reun...\n",
       "24       [[Judy Woodruff, [ But first, discussions abou...\n",
       "25       [[Judy Woodruff, [ Now a look at a group that ...\n",
       "26       [[Judy Woodruff, [ Now another installment of ...\n",
       "27       [[Amna Nawaz, [ Shakeup at the U.S. Supreme Co...\n",
       "28       [[Amna Nawaz, [ And with that Supreme Court va...\n",
       "29       [[Amna Nawaz, [ In the day’s other news, the U...\n",
       "                               ...                        \n",
       "17587    [[JUDY WOODRUFF, [ A raid, a shoot-out, and fi...\n",
       "17588    [[JUDY WOODRUFF, [ President Obama was briefed...\n",
       "17589    [[JUDY WOODRUFF, [ We return to the major Euro...\n",
       "17590    [[JUDY WOODRUFF, [ And that brings us to the a...\n",
       "17591    [[JUDY WOODRUFF, [ And now to politics., The r...\n",
       "17592    [[JUDY WOODRUFF, [ A movie thriller being rele...\n",
       "17593    [[JUDY WOODRUFF, [ Now a “NewsHour” Essay., Th...\n",
       "17594    [[JUDY WOODRUFF, [ And now for our “NewsHour” ...\n",
       "17595    [[JUDY WOODRUFF, [ Good evening. I’m Judy Wood...\n",
       "17596                                            [Unknown]\n",
       "17597    [[JUDY WOODRUFF, [ The popular theme park SeaW...\n",
       "17598    [[JUDY WOODRUFF, [ Millions of viewers began t...\n",
       "17599    [[JUDY WOODRUFF, [ The water crisis in Flint, ...\n",
       "17600    [[JUDY WOODRUFF, [ Supreme Court nominee Merri...\n",
       "17601    [[JUDY WOODRUFF, [ Good evening. I’m Judy Wood...\n",
       "17602                                            [Unknown]\n",
       "17603    [[GWEN IFILL, [ The battle was officially join...\n",
       "17604    [[JUDY WOODRUFF, [ Good evening. I’m Judy Wood...\n",
       "17605    [[JUDY WOODRUFF, [ If confirmed, he’d become t...\n",
       "17606    [[JUDY WOODRUFF, [ Now the latest on the presi...\n",
       "17607    [[GWEN IFILL, [ A sincere, if misguided, young...\n",
       "17608    [[JUDY WOODRUFF, [ March Madness has arrived, ...\n",
       "17609    [[JUDY WOODRUFF, [ Five big states come to the...\n",
       "17610    [[Editor’s Note, [ In our report Tuesday night...\n",
       "17611    [[GWEN IFILL, [ Voters got their say in five k...\n",
       "17612    [[GWEN IFILL, [ Good evening. I’m Gwen Ifill.]...\n",
       "17613    [[JUDY WOODRUFF, [ Today marks five years sinc...\n",
       "17614    [[GWEN IFILL, [ That brings us to the “NewsHou...\n",
       "17615    [[GWEN IFILL, [ Now: offering higher education...\n",
       "17616                                            [Unknown]\n",
       "Name: Transcript, Length: 17617, dtype: object"
      ]
     },
     "execution_count": 22,
     "metadata": {},
     "output_type": "execute_result"
    }
   ],
   "source": [
    "df.Transcript"
   ]
  },
  {
   "cell_type": "code",
   "execution_count": null,
   "metadata": {
    "collapsed": true
   },
   "outputs": [],
   "source": []
  },
  {
   "cell_type": "code",
   "execution_count": null,
   "metadata": {
    "collapsed": true
   },
   "outputs": [],
   "source": []
  },
  {
   "cell_type": "code",
   "execution_count": null,
   "metadata": {
    "collapsed": true
   },
   "outputs": [],
   "source": []
  },
  {
   "cell_type": "markdown",
   "metadata": {
    "collapsed": true
   },
   "source": [
    "---\n",
    "<a id=\"save\"></a>\n",
    "\n",
    "# [^](#toc) <u>Save to CSV</u>\n",
    "\n",
    "Now that we've cleaned up our data a bit, let's save it into a different CSV file."
   ]
  },
  {
   "cell_type": "code",
   "execution_count": null,
   "metadata": {
    "collapsed": true
   },
   "outputs": [],
   "source": [
    "df.to_csv(\"data/PBS-newhour-clean.csv\")"
   ]
  },
  {
   "cell_type": "markdown",
   "metadata": {},
   "source": [
    "# Tests"
   ]
  },
  {
   "cell_type": "markdown",
   "metadata": {},
   "source": [
    "### Remove party regex"
   ]
  },
  {
   "cell_type": "code",
   "execution_count": 47,
   "metadata": {},
   "outputs": [],
   "source": [
    "%run preprocessing.py\n",
    "\n",
    "ex1 = \"BARBARA MIKULSKI (D-MD.)\"\n",
    "assert remove_party(ex1) == \"BARBARA MIKULSKI\" \n",
    "\n",
    "ex2 = \"JERRY BROWN (D-CALIF.)\"\n",
    "assert remove_party(ex2) == \"JERRY BROWN\" \n",
    "\n",
    "ex3 = \"CHUCK SCHUMER (DN.Y.)\"\n",
    "assert remove_party(ex3) == \"CHUCK SCHUMER\" \n",
    "\n",
    "ex4 = \"JOHN BOEHNER (R-OH.)\"\n",
    "assert remove_party(ex4) == \"JOHN BOEHNER\" \n",
    "\n",
    "ex5 = \"JEFF SESSIONS (R-ALA.)\"\n",
    "assert remove_party(ex5) == \"JEFF SESSIONS\" \n",
    "\n",
    "ex6 = \"TODD YOUNG (RIND.)\"\n",
    "assert remove_party(ex6) == \"TODD YOUNG\" \n",
    "\n",
    "ex7 = \"DONALD TRUMP\"\n",
    "assert remove_party(ex7) == ex7\n",
    "\n",
    "ex8 = \"PRESIDENT BARACK OBAMA (singing)\"\n",
    "assert remove_party(ex8) == ex8"
   ]
  },
  {
   "cell_type": "code",
   "execution_count": null,
   "metadata": {
    "collapsed": true
   },
   "outputs": [],
   "source": []
  }
 ],
 "metadata": {
  "kernelspec": {
   "display_name": "Python 3",
   "language": "python",
   "name": "python3"
  },
  "language_info": {
   "codemirror_mode": {
    "name": "ipython",
    "version": 3
   },
   "file_extension": ".py",
   "mimetype": "text/x-python",
   "name": "python",
   "nbconvert_exporter": "python",
   "pygments_lexer": "ipython3",
   "version": "3.6.3"
  }
 },
 "nbformat": 4,
 "nbformat_minor": 2
}
