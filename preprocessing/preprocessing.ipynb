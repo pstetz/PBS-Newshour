{
 "cells": [
  {
   "cell_type": "markdown",
   "metadata": {},
   "source": [
    "<a id=\"toc\"></a>\n",
    "\n",
    "# <u>Table of Contents</u>\n",
    "\n",
    "1.) [Setup](#setup)  \n",
    "&nbsp;&nbsp;&nbsp;&nbsp; 1.1.) [Imports](#imports)   \n",
    "&nbsp;&nbsp;&nbsp;&nbsp; 1.2.) [Helpers](#helpers)   \n",
    "&nbsp;&nbsp;&nbsp;&nbsp; 1.3.) [Load data](#load)   \n",
    "2.) [Datetime](#datetime)  \n",
    "&nbsp;&nbsp;&nbsp;&nbsp; 2.1.) [Time Zone](#time_zone)  \n",
    "&nbsp;&nbsp;&nbsp;&nbsp; 2.2.) [Updated times](#updated_times)  \n",
    "&nbsp;&nbsp;&nbsp;&nbsp; 2.3.) [Convert to Datetime](#convert_to_datetime)  \n",
    "&nbsp;&nbsp;&nbsp;&nbsp; 2.4.) [Create year and month features](#create_year_month)  \n",
    "3.) [Speakers](#speakers)  \n",
    "&nbsp;&nbsp;&nbsp;&nbsp; 3.1.) [Fill in missing speakers](#speaker_nan)   \n",
    "&nbsp;&nbsp;&nbsp;&nbsp; 3.2.) [Overview of names](#overview_of_names)   \n",
    "&nbsp;&nbsp;&nbsp;&nbsp; 3.3.) [Example: Obama](#obama_ex)   \n",
    "&nbsp;&nbsp;&nbsp;&nbsp; 3.4.) [Remove long names](#long_names)   \n",
    "&nbsp;&nbsp;&nbsp;&nbsp; 3.5.) [Remove titles, parties, and non-name features](#clean_speakers)   \n",
    "&nbsp;&nbsp;&nbsp;&nbsp; 3.6.) [Quick Visualization](#speaker_visual)   \n",
    "4.) [Transcript](#transcript)  \n",
    "&nbsp;&nbsp;&nbsp;&nbsp; 4.1.) [Process Transcripts](#process_transcripts)   \n",
    "&nbsp;&nbsp;&nbsp;&nbsp; 4.2.) [Clean Transcripts](#clean_transcripts)   \n",
    "&nbsp;&nbsp;&nbsp;&nbsp; 4.3.) [Quick sanity check](#transcript_sanity)   \n",
    "5.) [Misc cleaning](#misc_cleaning)  \n",
    "&nbsp;&nbsp;&nbsp;&nbsp; 5.1.) [Order dataframe](#misc_order)   \n",
    "&nbsp;&nbsp;&nbsp;&nbsp; 5.2.) [Remove Speakers if missing Transcript](#misc_speakers)   \n",
    "&nbsp;&nbsp;&nbsp;&nbsp; 5.3.) [Final data look](#final_data_look)   \n",
    "6.) [Save to CSV](#save)  \n",
    "7.) [Tests](#tests)  \n",
    "&nbsp;&nbsp;&nbsp;&nbsp; 7.1.) [Remove party regex](#test_party_regex)   "
   ]
  },
  {
   "cell_type": "markdown",
   "metadata": {},
   "source": [
    "---\n",
    "<a id=\"setup\"></a>\n",
    "\n",
    "# [^](#toc) <u>Setup</u>"
   ]
  },
  {
   "cell_type": "markdown",
   "metadata": {},
   "source": [
    "<a id=\"imports\"></a>\n",
    "\n",
    "### [^](#toc) Imports"
   ]
  },
  {
   "cell_type": "code",
   "execution_count": 1,
   "metadata": {
    "collapsed": true
   },
   "outputs": [],
   "source": [
    "### Standard imports\n",
    "import pandas as pd\n",
    "import numpy as np\n",
    "\n",
    "### Plotting imports\n",
    "import matplotlib.pyplot as plt\n",
    "import seaborn as sns\n",
    "%matplotlib inline\n",
    "sns.set()\n",
    "\n",
    "import re\n",
    "import datetime\n",
    "\n",
    "# Helps convert String representation of list into a list\n",
    "import ast\n",
    "\n",
    "### Removes warnings that occassionally show in imports\n",
    "import warnings\n",
    "warnings.filterwarnings('ignore')"
   ]
  },
  {
   "cell_type": "markdown",
   "metadata": {},
   "source": [
    "<a id=\"helpers\"></a>\n",
    "\n",
    "### [^](#toc) Helpers"
   ]
  },
  {
   "cell_type": "code",
   "execution_count": 2,
   "metadata": {
    "collapsed": true
   },
   "outputs": [],
   "source": [
    "def string_literal(x):\n",
    "    try:\n",
    "        return ast.literal_eval(x)\n",
    "    except:\n",
    "        return x"
   ]
  },
  {
   "cell_type": "markdown",
   "metadata": {},
   "source": [
    "<a id=\"load\"></a>\n",
    "\n",
    "### [^](#toc) Load data"
   ]
  },
  {
   "cell_type": "code",
   "execution_count": 3,
   "metadata": {},
   "outputs": [
    {
     "name": "stdout",
     "output_type": "stream",
     "text": [
      "Shape of df: (17617, 7)\n"
     ]
    },
    {
     "data": {
      "text/html": [
       "<div>\n",
       "<style>\n",
       "    .dataframe thead tr:only-child th {\n",
       "        text-align: right;\n",
       "    }\n",
       "\n",
       "    .dataframe thead th {\n",
       "        text-align: left;\n",
       "    }\n",
       "\n",
       "    .dataframe tbody tr th {\n",
       "        vertical-align: top;\n",
       "    }\n",
       "</style>\n",
       "<table border=\"1\" class=\"dataframe\">\n",
       "  <thead>\n",
       "    <tr style=\"text-align: right;\">\n",
       "      <th></th>\n",
       "      <th>URL</th>\n",
       "      <th>Story</th>\n",
       "      <th>Date</th>\n",
       "      <th>Title</th>\n",
       "      <th>Transcript</th>\n",
       "      <th>Speakers</th>\n",
       "      <th>Number of Comments</th>\n",
       "    </tr>\n",
       "  </thead>\n",
       "  <tbody>\n",
       "    <tr>\n",
       "      <th>0</th>\n",
       "      <td>https://www.pbs.org/newshour/show/news-wrap-tr...</td>\n",
       "      <td>In our news wrap Monday, President Trump's sea...</td>\n",
       "      <td>Jul 2, 2018 6:50 PM EDT</td>\n",
       "      <td>News Wrap: Trump interviews Supreme Court cand...</td>\n",
       "      <td>[[Judy Woodruff, [ President Trump’s search fo...</td>\n",
       "      <td>{Justin Herdman, Man (through translator), Pre...</td>\n",
       "      <td>0.0</td>\n",
       "    </tr>\n",
       "    <tr>\n",
       "      <th>1</th>\n",
       "      <td>https://www.pbs.org/newshour/show/elected-in-a...</td>\n",
       "      <td>Mexican president-elect Andrés Manuel López Ob...</td>\n",
       "      <td>Jul 2, 2018 6:45 PM EDT</td>\n",
       "      <td>Elected by a landslide, can Mexico’s López Obr...</td>\n",
       "      <td>[[Judy Woodruff, [ After two previous runs for...</td>\n",
       "      <td>{Diana Mercado (through translator), Alfonso R...</td>\n",
       "      <td>0.0</td>\n",
       "    </tr>\n",
       "    <tr>\n",
       "      <th>2</th>\n",
       "      <td>https://www.pbs.org/newshour/show/will-u-s-mex...</td>\n",
       "      <td>There are enormous expectations facing the new...</td>\n",
       "      <td>Jul 2, 2018 6:43 PM EDT</td>\n",
       "      <td>Will U.S.-Mexico policy tensions change under ...</td>\n",
       "      <td>[[Judy Woodruff, [ And now perspective from fo...</td>\n",
       "      <td>{Roberta Jacobson, Judy Woodruff}</td>\n",
       "      <td>0.0</td>\n",
       "    </tr>\n",
       "    <tr>\n",
       "      <th>3</th>\n",
       "      <td>https://www.pbs.org/newshour/show/yemens-spira...</td>\n",
       "      <td>One of the poorest countries in the Middle Eas...</td>\n",
       "      <td>Jul 2, 2018 6:40 PM EDT</td>\n",
       "      <td>Yemen’s spiraling hunger crisis is a man-made ...</td>\n",
       "      <td>[[Judy Woodruff, [ The “NewsHour” has reported...</td>\n",
       "      <td>{Mariam Al-Fakih (through translator), Naimi (...</td>\n",
       "      <td>0.0</td>\n",
       "    </tr>\n",
       "    <tr>\n",
       "      <th>4</th>\n",
       "      <td>https://www.pbs.org/newshour/show/livingwhileb...</td>\n",
       "      <td>A profusion of national incidents in which whi...</td>\n",
       "      <td>Jul 2, 2018 6:35 PM EDT</td>\n",
       "      <td>#LivingWhileBlack: How does racial bias lead t...</td>\n",
       "      <td>[[Judy Woodruff, [ A number of recent incident...</td>\n",
       "      <td>{Woman, Howard Schultz, Judy Woodruff, Derrick...</td>\n",
       "      <td>0.0</td>\n",
       "    </tr>\n",
       "  </tbody>\n",
       "</table>\n",
       "</div>"
      ],
      "text/plain": [
       "                                                 URL  \\\n",
       "0  https://www.pbs.org/newshour/show/news-wrap-tr...   \n",
       "1  https://www.pbs.org/newshour/show/elected-in-a...   \n",
       "2  https://www.pbs.org/newshour/show/will-u-s-mex...   \n",
       "3  https://www.pbs.org/newshour/show/yemens-spira...   \n",
       "4  https://www.pbs.org/newshour/show/livingwhileb...   \n",
       "\n",
       "                                               Story                     Date  \\\n",
       "0  In our news wrap Monday, President Trump's sea...  Jul 2, 2018 6:50 PM EDT   \n",
       "1  Mexican president-elect Andrés Manuel López Ob...  Jul 2, 2018 6:45 PM EDT   \n",
       "2  There are enormous expectations facing the new...  Jul 2, 2018 6:43 PM EDT   \n",
       "3  One of the poorest countries in the Middle Eas...  Jul 2, 2018 6:40 PM EDT   \n",
       "4  A profusion of national incidents in which whi...  Jul 2, 2018 6:35 PM EDT   \n",
       "\n",
       "                                               Title  \\\n",
       "0  News Wrap: Trump interviews Supreme Court cand...   \n",
       "1  Elected by a landslide, can Mexico’s López Obr...   \n",
       "2  Will U.S.-Mexico policy tensions change under ...   \n",
       "3  Yemen’s spiraling hunger crisis is a man-made ...   \n",
       "4  #LivingWhileBlack: How does racial bias lead t...   \n",
       "\n",
       "                                          Transcript  \\\n",
       "0  [[Judy Woodruff, [ President Trump’s search fo...   \n",
       "1  [[Judy Woodruff, [ After two previous runs for...   \n",
       "2  [[Judy Woodruff, [ And now perspective from fo...   \n",
       "3  [[Judy Woodruff, [ The “NewsHour” has reported...   \n",
       "4  [[Judy Woodruff, [ A number of recent incident...   \n",
       "\n",
       "                                            Speakers  Number of Comments  \n",
       "0  {Justin Herdman, Man (through translator), Pre...                 0.0  \n",
       "1  {Diana Mercado (through translator), Alfonso R...                 0.0  \n",
       "2                  {Roberta Jacobson, Judy Woodruff}                 0.0  \n",
       "3  {Mariam Al-Fakih (through translator), Naimi (...                 0.0  \n",
       "4  {Woman, Howard Schultz, Judy Woodruff, Derrick...                 0.0  "
      ]
     },
     "execution_count": 3,
     "metadata": {},
     "output_type": "execute_result"
    }
   ],
   "source": [
    "df = pd.read_csv(\"../data/PBS_full_unedited.csv\")\n",
    "for col in [\"Transcript\", \"Story\", \"Speakers\"]:\n",
    "    df[col] = df[col].map(string_literal)\n",
    "    \n",
    "print(\"Shape of df:\", df.shape)\n",
    "df.head()"
   ]
  },
  {
   "cell_type": "markdown",
   "metadata": {},
   "source": [
    "---\n",
    "<a id=\"datetime\"></a>\n",
    "\n",
    "# [^](#toc) <u>Datetime</u>\n",
    "\n",
    "First let's clear off whitespace and \\n characters"
   ]
  },
  {
   "cell_type": "code",
   "execution_count": 4,
   "metadata": {
    "collapsed": true
   },
   "outputs": [],
   "source": [
    "df[\"Date\"] = df[\"Date\"].map(lambda x: x.strip())"
   ]
  },
  {
   "cell_type": "markdown",
   "metadata": {},
   "source": [
    "<a id=\"time_zone\"></a>\n",
    "\n",
    "### [^](#toc) Time Zone\n",
    "\n",
    "It appears, the time is always posted in EDT"
   ]
  },
  {
   "cell_type": "code",
   "execution_count": 5,
   "metadata": {},
   "outputs": [
    {
     "data": {
      "text/plain": [
       "EDT    17617\n",
       "Name: Timezone, dtype: int64"
      ]
     },
     "execution_count": 5,
     "metadata": {},
     "output_type": "execute_result"
    }
   ],
   "source": [
    "df[\"Timezone\"] = df.Date.map(lambda x: x[-3:])\n",
    "df[\"Timezone\"].value_counts()"
   ]
  },
  {
   "cell_type": "markdown",
   "metadata": {},
   "source": [
    "<a id=\"updated_times\"></a>\n",
    "\n",
    "### [^](#toc) Updated times\n",
    "\n",
    "There are only 4 videos that were updated.  I don't think this is very interesting so I'm just going to ignore all updated times.\n",
    "\n",
    "I understand why someone would like this data, but I don't need it."
   ]
  },
  {
   "cell_type": "code",
   "execution_count": 6,
   "metadata": {},
   "outputs": [
    {
     "name": "stdout",
     "output_type": "stream",
     "text": [
      "4 clips have had information updated\n"
     ]
    }
   ],
   "source": [
    "df.temp = df.Date.map(lambda x: int(\"Updated\" in x))\n",
    "num_updated = len(df[df.temp == 1])\n",
    "print(f\"{num_updated} clips have had information updated\")\n",
    "\n",
    "df.Date = df.Date.map(lambda x: x.split(\"\\n\")[0])"
   ]
  },
  {
   "cell_type": "markdown",
   "metadata": {},
   "source": [
    "<a id=\"convert_to_datetime\"></a>\n",
    "\n",
    "### [^](#toc) Convert to Datetime\n",
    "\n",
    "See this Stack Exchange [link](https://english.stackexchange.com/questions/35315/what-is-the-proper-name-for-am-and-pm?newreg=2d443a2ca9dc4ba6abbe1a1e01e4af4b) haha.  I was honored by the line...\n",
    "\n",
    "    software developers think about naming variables properly. It is built into the Object-Oriented mindset. Jader, a commenter, said it well: \"It's funny that the question intrinsically is not programming related, but all programmers can understand why you posted it here.\"\n",
    "    \n",
    "I just considered myself a physicist!"
   ]
  },
  {
   "cell_type": "code",
   "execution_count": 7,
   "metadata": {
    "collapsed": true
   },
   "outputs": [],
   "source": [
    "def format_datetime(x):\n",
    "    return datetime.datetime.strptime(x[:-4], '%b %d, %Y %H:%M %p')\n",
    "\n",
    "df.Date = df.Date.map(format_datetime)"
   ]
  },
  {
   "cell_type": "markdown",
   "metadata": {},
   "source": [
    "<a id=\"create_year_month\"></a>\n",
    "\n",
    "### [^](#toc) Create year and month features"
   ]
  },
  {
   "cell_type": "code",
   "execution_count": 8,
   "metadata": {
    "collapsed": true
   },
   "outputs": [],
   "source": [
    "df[\"Year\"]  = df.Date.map(lambda x: x.year)\n",
    "df[\"Month\"] = df.Date.map(lambda x: x.month)"
   ]
  },
  {
   "cell_type": "markdown",
   "metadata": {},
   "source": [
    "### And we're done with times!"
   ]
  },
  {
   "cell_type": "markdown",
   "metadata": {},
   "source": [
    "---\n",
    "<a id=\"speakers\"></a>\n",
    "\n",
    "# [^](#toc) <u>Speakers</u>"
   ]
  },
  {
   "cell_type": "markdown",
   "metadata": {},
   "source": [
    "<a id=\"speaker_nan\"></a>\n",
    "\n",
    "### [^](#toc) Fill in missing speakers"
   ]
  },
  {
   "cell_type": "code",
   "execution_count": 9,
   "metadata": {
    "collapsed": true
   },
   "outputs": [],
   "source": [
    "for row in df.loc[df.Speakers.isnull(), 'Speakers'].index:\n",
    "    df.at[row, 'Speakers'] = {}"
   ]
  },
  {
   "cell_type": "markdown",
   "metadata": {},
   "source": [
    "<a id=\"overview_of_names\"></a>\n",
    "\n",
    "### [^](#toc) Overview of names"
   ]
  },
  {
   "cell_type": "code",
   "execution_count": 10,
   "metadata": {},
   "outputs": [
    {
     "name": "stdout",
     "output_type": "stream",
     "text": [
      "Unique names found in df: 32725\n"
     ]
    }
   ],
   "source": [
    "N = len(set.union(*df.Speakers))\n",
    "\n",
    "print(\"Unique names found in df:\", N)"
   ]
  },
  {
   "cell_type": "markdown",
   "metadata": {},
   "source": [
    "<a id=\"obama_ex\"></a>\n",
    "\n",
    "### [^](#toc) Example: Obama\n",
    "\n",
    "It looks like there's a lot to do here, I want uniform names.\n",
    "\n",
    "When I search for Obama I want to see 'SEN. BARACK OBAMA', 'SENATOR BARACK OBAMA', 'PRESIDENT BARACK OBAMA', 'PRESIDENT BARACK OBAMA (singing)', 'BARACK OBAMA', 'BARACK OBAMA (singing)', and 'Barack Obama'\n",
    "\n",
    "My plan of attack is\n",
    "\n",
    "However removing modifiers only goes so far, sometimes the names are shortened.  In which case I need to manually group \"Obama\" and \"PRESIDENT OBAMA\" to \"BARACK OBAMA\".\n",
    "\n",
    "There also seems to be ASCII errors like \"\\xa0\" popping up."
   ]
  },
  {
   "cell_type": "code",
   "execution_count": 11,
   "metadata": {
    "scrolled": true
   },
   "outputs": [
    {
     "data": {
      "text/plain": [
       "{'And I think Obama and Boehner and Reid all know that their legacies are tied together and they reside around one thing',\n",
       " 'And Obama’s counter will have to be',\n",
       " 'And President Obama says he will do something few presidents have done',\n",
       " 'And so that’s what the FTC and the Obama Administration have both called for',\n",
       " 'Arizona Senator John McCain said today the Obama administration is to blame',\n",
       " 'BARACK OBAMA',\n",
       " 'BARACK OBAMA (singing)',\n",
       " 'Barack Obama',\n",
       " 'Before a fund-raiser for President Obama',\n",
       " 'Brookings institution scholar Shadi Hamid credits Mr. Obama for the Iran deal',\n",
       " 'But the Obama reelection team did wade into the Bain debate with a memo that said',\n",
       " 'Daniel Benjamin was coordinator for counterterrorism at the State Department during the first term of the Obama administration. He’s now a professor at Dartmouth College. And Joby Warrick is a national security correspondent at The Washington Post. He’s also the author of the book “Black Flags',\n",
       " 'FIRST LADY MICHELLE OBAMA',\n",
       " 'FORMER PRESIDENT BARACK OBAMA',\n",
       " 'FORMER PRESIDENT\\xa0BARACK OBAMA',\n",
       " 'Former President Barack Obama',\n",
       " 'He writes of one meeting in 2011 with Mr. Obama and General David Petraeus',\n",
       " 'I had a rule in the Obama campaign',\n",
       " 'Juliette Kayyem was an assistant secretary at the Department of Homeland Security during the Obama administration. She now has her own security consulting firm. William McCants is director of the Project on U.S. Relations with the Islamic world at the Brookings Institution. His most recent book is “The ISIS Apocalypse',\n",
       " 'MICHELLE OBAMA',\n",
       " 'Michelle Obama',\n",
       " 'Michèle Flournoy was undersecretary of defense for policy during the first term of the Obama administration. She’s now chief executive officer at the Center for a New American Security. And retired Army Colonel Andrew Bacevich is professor emeritus of international relations and history at Boston University. His latest book is “Breach of Trust',\n",
       " 'Obama',\n",
       " 'Obama’s is like the Simpson-Bowles. It’s $2 of cuts — I agree with you',\n",
       " 'PRESDIENT BARACK OBAMA',\n",
       " 'PRESIDEDNT BARACK OBAMA',\n",
       " 'PRESIDENT BARACK OBAMA',\n",
       " 'PRESIDENT BARACK OBAMA (singing)',\n",
       " 'PRESIDENT BARACK OBAMA [MAY 2014] ',\n",
       " 'PRESIDENT OBAMA',\n",
       " 'PRESIDENT OF THE UNITED STATE BARACK OBAMA',\n",
       " 'PRESIDENT PRESIDENT BARACK OBAMA',\n",
       " 'PRESIDENT PRESIDENT OBAMA',\n",
       " 'PRESIDENT\\xa0BARACK OBAMA',\n",
       " 'PRESIDNENT BARACK OBAMA',\n",
       " 'PRESIENT BARACK OBAMA',\n",
       " 'President Barack Obama',\n",
       " 'President Obama',\n",
       " 'President Obama and Speaker Ryan have made similar proposals',\n",
       " 'President Obama appealed for peace in a guest column for the Israeli newspaper Haaretz. He wrote',\n",
       " 'President Obama came into office calling for a troop surge in 2009 to defeat the Taliban',\n",
       " 'President Obama condemned the killing. In a statement',\n",
       " 'President Obama said this at the White House',\n",
       " 'President Obama wouldn’t discuss specifics today. Instead',\n",
       " 'President Obama’s remarks to the nation on fighting the Islamic State group',\n",
       " 'President Trump has again accused former President Obama of failing to stop Russian interference in the 2016 election. On Twitter today',\n",
       " 'Questions also continued about the five Taliban leaders long held at Guantanamo Bay and flown to Qatar in exchange for Bergdahl’s release. The Reuters News Service reported they have been moved to a residential compound and it said they are free to move about the country. President Obama acknowledged today that some of them may try to return to the fight in Afghanistan',\n",
       " 'SEN. BARACK OBAMA',\n",
       " 'SENATOR BARACK OBAMA',\n",
       " 'Speaker Ryan said Obamacare cannot stay as it is',\n",
       " 'The Obama administration continues to defend the law',\n",
       " 'The date is set for President Obama to deliver his 2014 State of the Union address to Congress',\n",
       " 'The nuclear agreement with Iran faces a fresh challenge within President Obama’s own party. Democratic Senator Chuck Schumer of New York',\n",
       " 'U. S. PRESIDENT BARACK OBAMA',\n",
       " 'U.S PRESIDENT BARACK OBAMA',\n",
       " 'U.S. PRESIDENT BARACK OBAMA',\n",
       " 'We campaigned hard. We had more people on the ground working for my campaign than President Obama had had. We were in constant communication',\n",
       " 'We explore all this now with retired Brigadier General David McGinnis. He was a senior Defense Department official during President Obama’s first term. And David Rothkopf',\n",
       " 'You would hope that President Obama would go in and think in these terms',\n",
       " '“Barack Obama'}"
      ]
     },
     "execution_count": 11,
     "metadata": {},
     "output_type": "execute_result"
    }
   ],
   "source": [
    "{elem for elem in {x for x in set.union(*df.Speakers)} if (\"OBAMA\" in elem or \"Obama\" in elem or \"obama\" in elem)}"
   ]
  },
  {
   "cell_type": "markdown",
   "metadata": {},
   "source": [
    "<a id=\"long_names\"></a>\n",
    "\n",
    "### [^](#toc) Remove long names\n",
    "\n",
    "Long names are actually text"
   ]
  },
  {
   "cell_type": "code",
   "execution_count": 12,
   "metadata": {
    "collapsed": true
   },
   "outputs": [],
   "source": [
    "df.Speakers = df.Speakers.map(lambda x: {elem for elem in x if len(elem.split(\" \")) < 9})"
   ]
  },
  {
   "cell_type": "markdown",
   "metadata": {},
   "source": [
    "<a id=\"clean_speakers\"></a>\n",
    "\n",
    "### [^](#toc) Remove titles, parties, and non-name features\n",
    "\n",
    "We went from 32,725 names to 26,834 names.  This is either from dropping bad names or merging two names that are actually the same person.\n",
    "\n",
    "This is not perfect, PBS does not have a standardized format.  PBS is not considerate of robots as this [example](https://www.pbs.org/newshour/show/trump-considering-sending-troops-afghanistan) shows.  The names start out as full names, but than move to last names.  This makes complete sense to a human in context.  I can't get a machine to understand context though.  Thankfully this type of format is rare and \"SREENIVASAN\" is a rare name so I can map it to \"HARI SREENIVASAN\".  \"RUBIN\" is probably a more common name and less popular on PBS newshour so unfortunately there's nothing I can easily do."
   ]
  },
  {
   "cell_type": "code",
   "execution_count": 13,
   "metadata": {},
   "outputs": [
    {
     "name": "stdout",
     "output_type": "stream",
     "text": [
      "New number of unique names: 26836\n"
     ]
    }
   ],
   "source": [
    "%run preprocessing.py\n",
    "\n",
    "mistaken_names = get_mistaken_names()\n",
    "\n",
    "def map_speakers(x):\n",
    "    return {clean_names(elem) for elem in x if clean_names(elem) not in mistaken_names}\n",
    "\n",
    "df.Speakers = df.Speakers.map(map_speakers)\n",
    "N = len(set.union(*df.Speakers))\n",
    "print(\"New number of unique names:\", N)"
   ]
  },
  {
   "cell_type": "markdown",
   "metadata": {},
   "source": [
    "<a id=\"speaker_visual\"></a>\n",
    "\n",
    "### [^](#toc) Quick Visualization\n",
    "\n",
    "There might be more work needed to be done.  I don't know why \"S\", \"T\", or \"E\" are all names.  They seem to be only found in cases where no Transcript is provided.  I'll deal with this issue later"
   ]
  },
  {
   "cell_type": "code",
   "execution_count": 14,
   "metadata": {},
   "outputs": [
    {
     "data": {
      "image/png": "[encoded data removed]",
      "text/plain": [
       "<matplotlib.figure.Figure at 0x1a27faf5f8>"
      ]
     },
     "metadata": {},
     "output_type": "display_data"
    }
   ],
   "source": [
    "# Will count number of unique words in a sentence\n",
    "from collections import Counter\n",
    "import operator\n",
    "    \n",
    "persons = df.Speakers.map(list).sum()\n",
    "\n",
    "freq = sorted(Counter(persons).items(), key=operator.itemgetter(1), reverse=True)\n",
    "\n",
    "x, y = list(zip(*freq[:25]))\n",
    "plt.figure(figsize=(14, 14))\n",
    "sns.barplot(list(y), list(x));"
   ]
  },
  {
   "cell_type": "markdown",
   "metadata": {},
   "source": [
    "---\n",
    "<a id=\"transcript\"></a>\n",
    "\n",
    "# [^](#toc) <u>Transcript</u>"
   ]
  },
  {
   "cell_type": "code",
   "execution_count": 14,
   "metadata": {
    "collapsed": true
   },
   "outputs": [],
   "source": [
    "for row in df.loc[df.Transcript.isnull(), 'Transcript'].index:\n",
    "    df.at[row, 'Transcript'] = []"
   ]
  },
  {
   "cell_type": "markdown",
   "metadata": {
    "collapsed": true
   },
   "source": [
    "<a id=\"process_transcripts\"></a>\n",
    "\n",
    "### [^](#toc) Process Transcripts\n",
    "\n",
    "Plan of attack\n",
    "\n",
    "1.) Remove all speakers that should not be included.  \n",
    "2.) Go through each Transcript and check if it has a Speaker that is not included.  \n",
    "3.) If this speaker is the first one talking, clip the transcript short.  This is probably more intro if there isn't a direct speaker.  \n",
    "4.) If the speaker is not the first talker, append the speaker and text to the previous speaker.  \n",
    "\n",
    "Check out this [video](https://www.pbs.org/newshour/show/with-3-more-wins-romney-pivots-to-general-election#transcript) and search for \"North Carolina is a strong one for them\".  You'll see one of these formating slips and understand what the problem is.  If you know how to do a webpage inspection, try to figure out a difference between speaker names and emphasized text.  I couldn't"
   ]
  },
  {
   "cell_type": "code",
   "execution_count": 15,
   "metadata": {
    "collapsed": true,
    "scrolled": false
   },
   "outputs": [],
   "source": [
    "def map_transcript(speakers):\n",
    "    def map_transcript_helper(x):\n",
    "        if x is np.nan:\n",
    "            return x\n",
    "        \n",
    "        i = 0\n",
    "        while i < len(x):\n",
    "            speeches = x[i]\n",
    "            if speeches[1] == [\"\"]:\n",
    "                x[i-1][1].append(speeches[0])\n",
    "                del x[i]\n",
    "                i -= 1\n",
    "            \n",
    "            elif clean_names(speeches[0]) not in speakers:\n",
    "                if i == 0:\n",
    "                    x = x[1:]\n",
    "                else:\n",
    "                    temp = speeches[1][:]\n",
    "                    temp.insert(0, speeches[0])\n",
    "                    x[i-1][1] = x[i-1][1] + temp\n",
    "\n",
    "                    del x[i]\n",
    "                    i -= 1\n",
    "            i += 1\n",
    "        return x\n",
    "    return map_transcript_helper\n",
    "\n",
    "speakers = set.union(*df.Speakers)\n",
    "df.Transcript = df.Transcript.map(map_transcript(speakers))"
   ]
  },
  {
   "cell_type": "markdown",
   "metadata": {},
   "source": [
    "<a id=\"clean_transcripts\"></a>\n",
    "\n",
    "### [^](#toc) Clean Transcripts\n",
    "\n",
    "I've only seen newline and space formatting errors (they get rendered as `\\n` and `\\xa0` respectively)"
   ]
  },
  {
   "cell_type": "code",
   "execution_count": 16,
   "metadata": {
    "collapsed": true
   },
   "outputs": [],
   "source": [
    "def clean_transcripts(transcript):\n",
    "    for i, speaker in enumerate(transcript):\n",
    "        for j, txt in enumerate(speaker[1:]):\n",
    "            transcript[i][j] = transcript[i][j].replace(\"\\n\",   \" \")\n",
    "            transcript[i][j] = transcript[i][j].replace(\"\\xa0\", \" \")\n",
    "    return transcript\n",
    "\n",
    "df.Transcript = df.Transcript.map(clean_transcripts)"
   ]
  },
  {
   "cell_type": "markdown",
   "metadata": {},
   "source": [
    "<a id=\"transcript_sanity\"></a>\n",
    "\n",
    "### [^](#toc) Quick sanity check\n",
    "\n",
    "I'll check a few random transcripts to see if they were formatted correctly\n",
    "\n",
    "And wow!  This works almost perfectly!  I haven't seen one mistake yet"
   ]
  },
  {
   "cell_type": "code",
   "execution_count": 17,
   "metadata": {
    "scrolled": true
   },
   "outputs": [
    {
     "name": "stdout",
     "output_type": "stream",
     "text": [
      "\n",
      "https://www.pbs.org/newshour/show/news-wrap-march-storm-roars-grounding-6000-flights\n",
      "\u001b[1m TRANSCRIPT \u001b[0m\n",
      "\u001b[4m JUDY WOODRUFF: \u001b[0m\n",
      "    There is less than a week to go before the official start of spring, but you wouldn’t have known it today in the Northeastern United States. A blizzard grounded more than 6,000 passenger flights, shuttered schools and claimed at least one life. John Yang has our report.\n",
      "\n",
      "\u001b[4m JOHN YANG: \u001b[0m\n",
      "    From Western Pennsylvania to New England, snow fell at a furious pace. This time-lapse video shows it piling up in New York state.\n",
      "\n",
      "\u001b[4m MAN: \u001b[0m\n",
      "    After Daylight Savings Time, I wouldn’t have expected a storm like this. It kind of feels more like January than it does March.\n",
      "\n",
      "\u001b[4m JOHN YANG: \u001b[0m\n",
      "    Wind gusts of more than 70 an hour sent waves pounding into the shore from Delaware to Massachusetts.\n",
      "\n",
      "\u001b[4m DANNEL MALLOY: \u001b[0m\n",
      "    Good day to make brownies and/or read a book.\n",
      "\n",
      "\u001b[4m JOHN YANG: \u001b[0m\n",
      "    Connecticut Governor Dannel Malloy banned all but emergency travel, so plows could do their work in near white-out conditions.\n",
      "\n",
      "\u001b[4m DANNEL MALLOY: \u001b[0m\n",
      "    This is New England. We’re used to handling snow. But when you get predictions of 18 to 30 inches with potentially four-, five- and 6-inch snowfalls in an hour, that’s when you have to act.\n",
      "\n",
      "\u001b[4m JOHN YANG: \u001b[0m\n",
      "    Boston was on track for up to 18 inches. Schools there were closed, as they were in cities like Philadelphia and New York. That left thousands of kids with a day to play. Even four-legged frolickers got in the act. For air travelers, it was anything but a holiday. Southwest Airlines, which flies more domestic passengers than any other carrier, canceled all flights at 14 airports from Portland, Maine, to Washington, D.C. Thousands of people were stranded, like this new bride from Britain.\n",
      "\n",
      "\u001b[4m LAURA BALDERSTONE: \u001b[0m\n",
      "    We’re here on honeymoon, and we flew to New York and we got here fine, but now we’re stuck here on our way to Orlando. We can’t get a flight out until tomorrow now. We’re hoping to get a hotel room, but at the moment, there aren’t any.\n",
      "\n",
      "\u001b[4m JOHN YANG: \u001b[0m\n",
      "    NCAA Tournament-bound basketball teams and fans had to change plans to get to March Madness games later this week. Amtrak suspended or modified rail service along the busy Northeast Corridor. Nearly a quarter-million customers lost power. New York City was spared the worst, as the arctic blast shifted north and west, bringing less snow and more pelting sleet.\n",
      "\n",
      "\u001b[4m ANDREW CUOMO: \u001b[0m\n",
      "    Mother Nature is an unpredictable lady sometimes. She was unpredictable once again today.\n",
      "\n",
      "\u001b[4m JOHN YANG: \u001b[0m\n",
      "    The nation’s capital got less than expected as well, allowing federal agencies to open on a three-hour delay. For the PBS NewsHour, I’m John Yang.\n",
      "\n",
      "\u001b[4m JUDY WOODRUFF: \u001b[0m\n",
      "    In the day’s other news: The commandant of the U.S. Marine Corps faced a grilling today over a scandal involving photos shared online of female Corps members in the nude. General Robert Neller pledged to fix the problem and culture that led to the scandal. But women senators in particular said they’d heard it all before, including New York Democrat Kirsten Gillibrand.\n",
      "\n",
      "\u001b[4m KIRSTEN GILLIBRAND: \u001b[0m\n",
      "    When you say to us it’s got to be different, that rings hollow. I don’t know what you mean when you say that. Why does it have to be different? Because you all of a sudden feel that it has to be different? Who has been held accountable?\n",
      "\n",
      "\u001b[4m ROBERT NELLER: \u001b[0m\n",
      "    I don’t have a good answer for you. I’m not going to sit here and duck around this thing. I’m not. I’m responsible. I’m the commandant. I own this. That’s a lame answer, but, ma’am, that’s all I — that’s the best I can tell you right now.\n",
      "\n",
      "\u001b[4m JUDY WOODRUFF: \u001b[0m\n",
      "    The general acknowledged the scandal may hurt the Marine Corps efforts to recruit women. The European Union’s highest court ruled today that employers may bar Muslim women from wearing head scarves on the job. The ruling says that a ban is permitted, so long as it is part of a company policy, and not a sign of prejudice. It’s a response to cases brought by two women, one Belgian and one French. Both were fired for refusing to remove their head scarves at work. The U.N. Human Rights Office is demanding that the Syrian government release tens of thousands of prisoners. In a statement today  “The entire country has become a torture-chamber, a place of savage horror and absolute injustice.” In the past, Syria has denied allegations of systematic torture in its prisons. It had no direct response today. In Iraq, government troops pushed deeper into Western Mosul, and killed a key Islamic State commander. Military leaders now say it’s only a matter of time before they crush the remaining ISIS fighters in Iraq’s second largest city. John Irvine of Independent Television News reports from the front lines.\n",
      "\n",
      "\u001b[4m JOHN IRVINE: \u001b[0m\n",
      "    Rolling back the Islamic State has been tortuous. The fighting here is intense and brutal. Advances made by the Iraqi army have been slow and the extent of the damage being wrought by this inch-by-inch battle for a city is simply appalling. In 2014, the Iraqi army lost Mosul in six hours. Getting it all back is going to take them at least six months. The battle for Eastern Mosul lasted 100 days, and it cost the Iraqi army at least 500 dead. They want to limit the casualties this side of the river in Western Mosul. And, to that end, they’re using far more ordnance, artillery, and airstrikes, like the one you have just heard. I.S. can also strike from the air. That was a grenade dropped close to us by one of their drones. This propaganda video appears to confirm the commitment of their fighters here in Mosul. It also shows they are far from running short on ammunition. No quarter is being given or asked for. Are they good fighters?\n",
      "\n",
      "\u001b[4m BAHAA AZZAWI: \u001b[0m\n",
      "    Actually, they fight, they fight, they fight, they fight. But we have also good fighters.\n",
      "\n",
      "\u001b[4m JOHN IRVINE: \u001b[0m\n",
      "    (INAUDIBLE) in Mosul Museum today was rubble. This where I.S. sledgehammered history. And while much of what they bludgeoned was replica stuff, some priceless artifacts were destroyed here. Now the museum is on the front line of more history being made. And the records will show that the battle of Mosul was one of the most brutal urban fights the world has ever seen. Much of the place is uninhabitable. And, as the advance continues, more districts are being abandoned. As they fled today, they can only have been wondering, what will be left of Mosul to return to?\n",
      "\n",
      "\u001b[4m JUDY WOODRUFF: \u001b[0m\n",
      "    More than 200,000 Mosul residents have been displaced since the start of the Iraqi government offensive last October. Off the coast of Somalia, pirates today seized an oil tanker, the first such hijacking since 2012. The Aris 13, manned by Sri Lankan sailors, was carrying fuel from Djibouti to the Somali capital of Mogadishu. The pirates forced it to sail to a port town near the country’s tip. European Union officials said the men demanded a ransom. In Mexico, authorities say they have found more than 250 skulls in what appears to be a drug cartel burial ground. A prosecutor confirms that the hidden site was discovered on the outskirts of Veracruz. Only one-third of the site has been excavated, opening the possibility of more victims to be found. Here in Washington, the new head of Medicaid and Medicare Services was sworn in today, as lawmakers grapple with the federal government’s role in health care. Vice President Pence administered the oath of office to Seema Verma. She had been working as a health care consultant in his home state of Indiana. Meanwhile, the nominee to be U.S. trade representative, Robert Lighthizer, had his Senate confirmation hearing. He argued for an America-first trade policy. On Wall Street today, another slide in oil prices pulled stocks lower again. The Dow Jones industrial average lost 44 points to close at 20837. The Nasdaq fell almost 19, and the S&P 500 slipped eight. And Goodyear is saying goodbye to an icon. In pre-dawn darkness, the last of the company’s blimps was decommissioned and deflated in Carson, California. Goodyear began flying blimps more than 90 years ago. The tire company is shifting to semi-rigid dirigibles that are larger and faster in providing aerial television coverage at major sports and entertainment events.\n",
      "\n",
      "\n",
      "https://www.pbs.org/newshour/show/immigration2\n",
      "\u001b[1m TRANSCRIPT \u001b[0m\n",
      "\u001b[4m JUDY WOODRUFF: \u001b[0m\n",
      "    Back in Washington, President Obama begins consulting congressional leaders tomorrow. He plans to present the full strategy to the nation in a speech on Wednesday. So, can the Islamic State group be destroyed and degraded, as President Obama laid out?  For that, we get three views. Feisal Istrabadi was Iraq’s deputy ambassador to the United Nations from 2004 to 2007. He’s now a professor of international law and diplomacy at Indiana University. Frederic Wehrey is a former U.S. Air Force officer who served in and around the Middle East, including in Iraq. He’s now at the Carnegie Endowment for International Peace. And Hussein Ibish is a senior fellow on the American Task Force on Palestine. He writes extensively on Middle East issues. And we welcome all three of you back to the program. I’m going to start with you, Hussein Istra — I’m sorry — Feisal Istrabadi. My mistake. Is it realistic to say that the U.S. or anyone can destroy the Islamic State?\n",
      "\n",
      "\u001b[4m FEISAL ISTRABADI: \u001b[0m\n",
      "    Well, I think that, I mean, you obviously can’t destroy an ideology, but you can go after the individuals who have signed up for this ideology and who have taken the field. So, yes, I think you can, because they have — they represent a very small minority of the populations of the countries that they are in the midst of. There is a rising consensus amongst all the countries of the region and the peoples of the region that these people represent a direct threat in the region and internationally. And I think that an appropriate response by the countries of the region in coordination with the United States and NATO allies can result and must result — indeed, we don’t seem to me to have much of a choice — in the defeat of these organizations.\n",
      "\n",
      "\u001b[4m JUDY WOODRUFF: \u001b[0m\n",
      "    Fred Wehrey, do you think it’s a realistic goal?\n",
      "\n",
      "\u001b[4m FREDERIC WEHREY: \u001b[0m\n",
      "    Just to add to that, I mean, I think you can degrade and disrupt and destroy their combat capability. I mean, you’re talking about a hybrid military force that uses mechanized forces that is sweeping across territory. So you can really I think constrain that capability. But, as we heard, undercutting this movement’s ideology is going to be a long-term, perhaps even generational process. You’re really talking about removing a cancer from the region and undercutting that ideology.\n",
      "\n",
      "\u001b[4m JUDY WOODRUFF: \u001b[0m\n",
      "    Hussein Ibish, you’re nodding.\n",
      "\n",
      "\u001b[4m HUSSEIN IBISH: \u001b[0m\n",
      "    Yes, I like that analogy. It is exactly a cancer. But it’s a cancer that’s metastasized into Iraq. And I think it’s maybe more doable to degrade them to the point that they’re a nuisance and a problem in Iraq, I think going after their stronghold in Raqqa, in Syria, where they are really quite dug in and where they are running what amounts to a mini-state that is, as Nabil Elaraby, the head of the Arab League, was just saying in your promo clip there, is a threat to the state system. It’s not a state that wants to join the state system. It’s a state that posits itself as an alternative, not to Syria and Iraq, but to the whole Westphalian state system. I mean, it’s just — it’s a threat to the international structure as we have known it for hundreds of years.\n",
      "\n",
      "\u001b[4m JUDY WOODRUFF: \u001b[0m\n",
      "    So the president is talking about a staged approach here.\n",
      "\n",
      "\u001b[4m HUSSEIN IBISH: \u001b[0m\n",
      "    Yes.\n",
      "\n",
      "\u001b[4m JUDY WOODRUFF: \u001b[0m\n",
      "    Is that — is that — does that make sense?  One assumes he is talking about starting in Iraq.\n",
      "\n",
      "\u001b[4m HUSSEIN IBISH: \u001b[0m\n",
      "    Yes. I think that’s right. I think it’s essential. I think Iraq gives you the opportunity to build the coalition, and especially with local forces on the ground, with Sunni forces, Sunni tribal forces, even maybe some former Baathists, who — anyone who will join the campaign against ISIS would be welcome, and then from there, you could see how it could present new opportunities in Syria and change the dynamics in Syria.\n",
      "\n",
      "\u001b[4m JUDY WOODRUFF: \u001b[0m\n",
      "    Feisal Istrabadi, back to Iraq, though. We heard — we reported a few minutes ago the parliament has now signed off on Mr. Abadi as the new prime minister. Are the pieces coming into place now in Iraq for there to be a cooperative effort between the U.S., the Iraqis, the Kurds to go after ISIS?\n",
      "\n",
      "\u001b[4m FEISAL ISTRABADI: \u001b[0m\n",
      "    Yes. And, of course, the Kurds are Iraqis. They are participating in this government. And their forces, the Peshmerga, are Iraqi forces provided for in the Iraqi constitution. I think we are seeing the beginning of the pieces falling into place, I think, although Iraqis have been optimistic in the past over the past eleven years, only to have their high hopes dashed. I think most of us realize this may well be our last chance to keep our country together. We have to do a number of things at the same time, including fighting ISIS or ISIL, but we also have to make a compact that allows us to live with one another in peace and harmony to confront mutual enemies.\n",
      "\n",
      "\u001b[4m JUDY WOODRUFF: \u001b[0m\n",
      "    Fred Wehrey, just building on that, the question, I think, in so many people’s minds, is, OK, what — when the president said a minute ago these other countries need to be involved, and he named Jordan, the UAE, Turkey, what can we look for from these countries because they all relate to this in very different ways?\n",
      "\n",
      "\u001b[4m FREDERIC WEHREY: \u001b[0m\n",
      "    They do. They all have links into Iraq and Syria. I think we’re going to be looking at certain capabilities that are leveraged. They’re not all going to be applying military power to this problem. They are going to be leveraging their tribal links. They’re going to be tackling the finances of ISIL.\n",
      "\n",
      "\u001b[4m JUDY WOODRUFF: \u001b[0m\n",
      "    What do you mean leveraging tribal links?\n",
      "\n",
      "\u001b[4m FREDERIC WEHREY: \u001b[0m\n",
      "    Well, they’re going to — they’re going to — they have linkages. There are tribes that straddle the border that they tribal linkages between these countries and they will probably try to engage the Sunni tribes in those countries to peel them away from ISIS through cash, through incentives. They have excellent intelligence networks. They will tackle the refugee problem. But, again, I don’t think we should expect all of them to be sending jets into the air long — with some massive military coalition.\n",
      "\n",
      "\u001b[4m JUDY WOODRUFF: \u001b[0m\n",
      "    So you’re saying it’s mainly a U.S. military…\n",
      "\n",
      "\u001b[4m FREDERIC WEHREY: \u001b[0m\n",
      "    Unfortunately, I think, in terms of actual value-added, I don’t think many of these countries have the capability, perhaps the United Arab Emirates or Turkey. But, again, we’re talking — for the type of precision campaign that you need to avoid collateral damage and to go after the key leadership nodes, you’re talking really about a U.S. and perhaps some NATO countries.\n",
      "\n",
      "\u001b[4m HUSSEIN IBISH: \u001b[0m\n",
      "    I do think there have to be boots on the ground, of course, though, to replace ISIL fighters when they are defeated. And I think that can’t be sectarian forces in — either in Iraq or in Syria, or perceived to be sectarian forces.\n",
      "\n",
      "\u001b[4m JUDY WOODRUFF: \u001b[0m\n",
      "    Well, who is that?\n",
      "\n",
      "\u001b[4m HUSSEIN IBISH: \u001b[0m\n",
      "    So, it’s got to come from the local Sunni population. It’s got to come mainly from the people the ISIS is now claiming to represent and they have got to be flipped. One of the things that coalition partners can bring to the table beyond just the military, the law enforcement and the financial crackdown is the credibility, the Sunni Arab credibility that this is not an attack on Sunnis, that this is not shilling for sectarianism or for Iran or for Shiites or anything like that, that this is essential for the Arab Sunnis as a collective and for local Arab Sunnis in Iraq and ultimately in Syria as well.\n",
      "\n",
      "\u001b[4m JUDY WOODRUFF: \u001b[0m\n",
      "    Well, and you bring up something that I want to turn to Feisal Istrabadi on. And that is, when this is done, assuming it gets done and however long it takes, who is going to be in place to hold the — this — the situation stable and to keep it from falling apart again?  Whose boots are they going to be?\n",
      "\n",
      "\u001b[4m FEISAL ISTRABADI: \u001b[0m\n",
      "    Look, you cannot say on the one hand you cannot have — we shouldn’t have sectarian forces in Iraq, a proposition with which I agree, and then on the other hand say, but there need to be Sunnis in these areas. What we need to do is build institutions of the state. Unfortunately, we have wasted the last eight years, so we have to build state institutions at the same time that we are doing this work. It’s going to be extremely difficult, but this is the challenge the new prime minister has before him, to build truly Iraqi — an Iraqi security force that all groups and sects and nationalities that constitute Iraq buy into. If we’re unable to do that, and if we say the Shia have to patrol the Shia areas and the Sunni the Sunni areas, we’re really talking about the de facto and perhaps the de jure division of Iraq. And if that happens, then we have a true Pandora’s box in which Iraq ends up looking like Somalia.\n",
      "\n",
      "\u001b[4m FEISAL ISTRABADI: \u001b[0m\n",
      "    We need to build state institutions.\n",
      "\n",
      "\u001b[4m HUSSEIN IBISH: \u001b[0m\n",
      "    No, I’m not actually saying that. What I am saying is that any force that is on the ground that takes the place of ISIS has to have credibility with the local population. That’s essential. That’s really…\n",
      "\n",
      "\u001b[4m FEISAL ISTRABADI: \u001b[0m\n",
      "     That’s another story.\n",
      "\n",
      "\u001b[4m HUSSEIN IBISH: \u001b[0m\n",
      "    Fine. That’s exactly what I’m…\n",
      "\n",
      "\u001b[4m FEISAL ISTRABADI: \u001b[0m\n",
      "    That, I agree with.\n",
      "\n",
      "\u001b[4m HUSSEIN IBISH: \u001b[0m\n",
      "    OK.\n",
      "\n",
      "\u001b[4m FEISAL ISTRABADI: \u001b[0m\n",
      "    That, I agree with.\n",
      "\n",
      "\u001b[4m JUDY WOODRUFF: \u001b[0m\n",
      "    Fred Wehrey, how does the U.S., in trying to manage or help oversee all this, ensure that the things happen that the three of you are describing?\n",
      "\n",
      "\u001b[4m FREDERIC WEHREY: \u001b[0m\n",
      "    Well, we don’t always have a good track record of social engineering these sorts of things. It’s going to be very shaky. We know that many of these states compete with one another, that — within the Gulf — to say that there’s a unified Sunni bloc is a bit of a misnomer. There’s really a Sunni cold war going on right now. So it’s going to be a very delicate task. But I think much of it hinges on what goes on in Baghdad itself and the actions that the Iraqi government takes toward its own population.\n",
      "\n",
      "\u001b[4m JUDY WOODRUFF: \u001b[0m\n",
      "    And we already see it’s moving from one president, administration in this country, to the next one. The president has already said it’s going to go beyond the term — his term in office. We thank you, all three, Fred Wehrey, Hussein Ibish, Feisal Istrabadi. We appreciate it.\n",
      "\n",
      "\u001b[4m FEISAL ISTRABADI: \u001b[0m\n",
      "    Thank you.\n",
      "\n",
      "\u001b[4m HUSSEIN IBISH: \u001b[0m\n",
      "    Thank you very much.\n",
      "\n",
      "\n",
      "https://www.pbs.org/newshour/show/news-wrap-teen-shot-milwaukee-protests-33-dead-nepal-bus-falls-off-cliff\n",
      "\u001b[1m TRANSCRIPT \u001b[0m\n",
      "\u001b[4m JUDY WOODRUFF: \u001b[0m\n",
      "    In the day’s other news: An 18-year-old was shot and seriously injured after a second night of protests in a Milwaukee neighborhood. It followed the fatal police shooting of Sylville Smith, a black man authorities say was carrying a stolen handgun. Dozens of officers clashed with protesters overnight, and four sheriff’s deputies were wounded. Milwaukee’s mayor blamed outsiders for the unrest, and called for calm.\n",
      "\n",
      "\u001b[4m TOM BARRETT: \u001b[0m\n",
      "    We have issues in this city. We know there are issues. There’s too much poverty, there are housing issues, there are public safety issues, there are education issues. None of those issues get addressed if your intent is to inflict property or personal damage in this great neighborhood.\n",
      "\n",
      "\u001b[4m JUDY WOODRUFF: \u001b[0m\n",
      "    No major property damage was reported last night, unlike the previous night, when six businesses were torched. Officials also said they will now strictly enforce the city’s 10 00 p.m. curfew for teenagers. In Nepal, 33 people are dead after their bus plunged off a mountain road, careening almost a hundred feet down a hillside. The bus had departed from Kathmandu, and crashed about 50 miles east of the capital city. At least 28 more people were injured, some critically. Victims were airlifted back to hospitals in Kathmandu. An airstrike sent a Doctors Without Borders hospital in Northern Yemen today — the exact death toll wasn’t immediately clear, but Yemeni officials said there were some 20 casualties among hospital patients and staff. A Saudi Arabian-led coalition has been bombing rebel targets in the country for more than a year. Back in the U.S., a wildfire spanning more than six square miles is burning out of control north of San Francisco. More than 4,000 people in and around the rural town of Lower Lake have been forced to evacuate. The fire first broke out Saturday, and has since destroyed at least 175 structures. It’s one of 11 major fires burning across California right now. Major hotel chains in 10 states and the District of Columbia have been hit by hackers. Malware was installed on the payment processing systems of 20 different Hyatt, Sheraton, Marriott, and Westin properties as far back as March of 2015. The company that manages the hotels insists the security breach has been contained. There’s no immediate word how many customers were affected. A banner day on Wall Street  All three major stock indexes closed at record highs, driven in part by gains in the chemical and the mining sectors. The Dow Jones industrial average climbed more than 59 points to close at 18636. The Nasdaq rose 29 points, and the S&P 500 added six. And at the Summer Olympic Games, U.S. gymnast Laurie Hernandez won silver in the balance beam finals. Her teammate Simone Biles added a bronze medal to her collection of golds, after a rare stumble on the beam. Meanwhile, on the track, Emma Coburn became the first American woman to ever medal in the 3,000-meter steeplechase, taking the bronze. Still to come on the “NewsHour”  new revelations tying Donald Trump’s campaign chair to Ukraine’s pro-Russian party; on Politics Monday, Hillary Clinton’s edge in key swing states; doctors desperately trying to save lives amid Syrian airstrikes; and much more. And how political unrest in Ukraine has made its way into the race for president of the United States. Before becoming Donald Trump’s campaign manager, Paul Manafort consulted for Viktor Yanukovych, the former Ukrainian president who fled to Russia in 2014 and later faced charges in the deaths of civilian protesters. Yanukovych’s removal exposed a political system in Kiev rife with corruption. Today, The New York Times reports of a — quote — “black ledger” that allegedly links Manafort to millions of dollars in secret cash payments. John Yang has the story.\n",
      "\n",
      "\n",
      "https://www.pbs.org/newshour/show/demand-for-power-in-india-outstrips-energy-infrastructure\n",
      "\u001b[1m TRANSCRIPT \u001b[0m\n",
      "\u001b[4m JUDY WOODRUFF: \u001b[0m\n",
      "    For more, we turn to Stephen Cohen. He’s lived in Delhi and is the author of many books on India and South Asia. And Arvind Subramanian of the Peterson Institute, where he’s an expert on Indian growth, trade and development. And, gentlemen, we thank you both for being here. Arvind Subramanian, let me start with you. India is accustomed to smaller blackouts, but this was of a different magnitude.\n",
      "\n",
      "\u001b[4m ARVIND SUBRAMANIAN: \u001b[0m\n",
      "    Yes, this was an entirely different magnitude, 700 million people. But in some ways, the real tragedy, Judy, of this is the fact that this highlights the fact that India’s chronically shortage — short of power. And that’s been a problem for 10, 20, 30, 40 years. And I’m hoping that this will shed the spotlight on that bigger and more persistent problem.\n",
      "\n",
      "\u001b[4m JUDY WOODRUFF: \u001b[0m\n",
      "    Chronically short of power, is that what’s behind this, Stephen Cohen?\n",
      "\n",
      "\u001b[4m STEPHEN COHEN: \u001b[0m\n",
      "    I think that’s true, but I think behind that is the fact that India, like China, shifting from a state-directed system of economy to one where enterprise operates on its own. And both countries are in a state of transition. The Chinese have set up a weird capitalist market, market system operating. India is moving in that direction. But — so then they’re in this transitional period where it’s neither a market system that functions in response to demands nor a directed system where the state can compel things to happen. That’s still true to some degree in China, but not true in India. When it breaks down in India, we see it very clearly.\n",
      "\n",
      "\u001b[4m JUDY WOODRUFF: \u001b[0m\n",
      "    What’s known to be the immediate cause of this? Is there something that triggered what happened yesterday and then today?\n",
      "\n",
      "\u001b[4m ARVIND SUBRAMANIAN: \u001b[0m\n",
      "    Yes. As the report said, I think what happened was that because the monsoons have almost failed, 20 percent efficiency of rainfall. So supply has come down because the water tables have dropped. Hydropower is just 20 percent. So, in the face of this declining supply and demand growing, what happened was that some states, especially the agricultural states like Punjab, started overdrawing on the grid. And the grid wasn’t equipped to handle that. So that tripped some line somewhere. And then that cascaded backwards, creating this big blowup.\n",
      "\n",
      "\u001b[4m JUDY WOODRUFF: \u001b[0m\n",
      "    So, Stephen Cohen, some of this, as I was reading today, has to do with the states drawing more power than they’re supposed to. How is that regulated?\n",
      "\n",
      "\u001b[4m STEPHEN COHEN: \u001b[0m\n",
      "    It’s not. That’s the problem. There’s no way of enforcing the states to stop drawing power that they doesn’t have, except to cut them off. And that may have been one of the triggers of this. In all these disasters, complex disasters, there are many causes. In this case, the action of the states, the absence of a market in coal and other energy supplies, failure of the monsoon, these are all contributing factors. At the bottom of this, I think, is politics. In a sense, India has too much democracy. There’s too much…\n",
      "\n",
      "\u001b[4m JUDY WOODRUFF: \u001b[0m\n",
      "    Too much democracy?\n",
      "\n",
      "\u001b[4m STEPHEN COHEN: \u001b[0m\n",
      "    Too much democracy, in the sense that the central government can’t control these states the way they used to in the days of Nehru, when there was a single party at the center and the states. Yet, they need the states. They need the state parties to stay in power at the center. So, they have to make concessions with the state. They can’t compel the states to do something. So, in a sense, that’s democracy, but it’s a negative aspect of democracy.\n",
      "\n",
      "\u001b[4m JUDY WOODRUFF: \u001b[0m\n",
      "    How do you see that, the politics?\n"
     ]
    },
    {
     "name": "stdout",
     "output_type": "stream",
     "text": [
      "\n",
      "\u001b[4m ARVIND SUBRAMANIAN: \u001b[0m\n",
      "    Yes, I think it’s more an imperfect democracy than too much democracy, because the fundamental problem with power in India is that, if people were to pay for power, private investors would come rushing in to build an increased supply. But the point is that politicians find it politically opportunistic to say, we will either give you no power, or we will give you free power or subsidized power. And, therefore, people don’t pay. And that’s OK. But 30 percent of the power generated in India is lost to theft and to free power. So…\n",
      "\n",
      "\u001b[4m JUDY WOODRUFF: \u001b[0m\n",
      "    To theft.\n",
      "\n",
      "\u001b[4m ARVIND SUBRAMANIAN: \u001b[0m\n",
      "    To theft, yes.\n",
      "\n",
      "\u001b[4m JUDY WOODRUFF: \u001b[0m\n",
      "    This is people — as we saw the video, people just plug in. (CROSSTALK)\n",
      "\n",
      "\u001b[4m ARVIND SUBRAMANIAN: \u001b[0m\n",
      "    Yes, plugging in lines, people do. And then agriculture — the farmers are very powerful in India. So they get free and subsidized power. And it’s proved to be environmentally catastrophic because water tables have dropped, the aquifers have dropped — have dried up. So, this is a situation where politicians basically think it’s — they can win elections by promising free power. But the tragedy is that it leads to all these very adverse outcomes.\n",
      "\n",
      "\u001b[4m JUDY WOODRUFF: \u001b[0m\n",
      "    Stephen Cohen, I think people also look at India and they see the incredible business progress that it’s made, commercial progress, the progress in education, and yet the infrastructure not catching up.\n",
      "\n",
      "\u001b[4m STEPHEN COHEN: \u001b[0m\n",
      "    The business community are the first to say that the infrastructure is failing, that the government hasn’t invested as much in infrastructure as they can. In a country that has so many billionaires, you ask why isn’t some of this money going to infrastructure? Partly, it is politics, in the sense that the billionaires and the rich of India can protect themselves from the kind of taxation that would build up the infrastructure. And, again, it’s a question of political priorities. I would say that India is an imperfect democracy, perhaps maybe not too much democracy. But in an imperfect democracy, decisions are — these decisions are being made on political calculations, not economic and energy calculations.\n",
      "\n",
      "\u001b[4m ARVIND SUBRAMANIAN: \u001b[0m\n",
      "    In this case, I think business is actually hurt by what’s happening in power, because some people get very cheap power, and some people have to pay too much for power. And that’s business. So… (CROSSTALK)\n",
      "\n",
      "\u001b[4m JUDY WOODRUFF: \u001b[0m\n",
      "    There’s a real imbalance.\n",
      "\n",
      "\u001b[4m ARVIND SUBRAMANIAN: \u001b[0m\n",
      "    There’s imbalance, exactly. And so what do they do? As the report showed, they get — acquire private generators, diesel-powered generators to generate their own power. And that’s, again, environmentally disastrous.\n",
      "\n",
      "\u001b[4m JUDY WOODRUFF: \u001b[0m\n",
      "    So, what does it take to change a system like this, in terms where India wants to go in the future?\n",
      "\n",
      "\u001b[4m STEPHEN COHEN: \u001b[0m\n",
      "    Well, sometimes, a shock like this will lead to a reform which would lead to, you know, major innovations and transformation of the system. I’m not sure whether the Indian system will respond in that way this time. We will have to wait and see. (CROSSTALK)\n",
      "\n",
      "\u001b[4m ARVIND SUBRAMANIAN: \u001b[0m\n",
      "    I’m a bit more hopeful on this, because what’s happening in India is that some of the states are actually doing innovative things. The state of Gujarat, which is like India’s China, has started implementing a system of power where people — where the farmers have to pay for power. But in return, they get more regular power. And that system, if it works, will help emulation by other parts of the country.\n",
      "\n",
      "\u001b[4m JUDY WOODRUFF: \u001b[0m\n",
      "    That’s not in the region, though, where there… (CROSSTALK)\n",
      "\n",
      "\u001b[4m ARVIND SUBRAMANIAN: \u001b[0m\n",
      "    That escaped the power, because… (CROSSTALK)\n",
      "\n",
      "\u001b[4m JUDY WOODRUFF: \u001b[0m\n",
      "    … it’s better-run.\n",
      "\n",
      "\u001b[4m STEPHEN COHEN: \u001b[0m\n",
      "    Yes. India is such a vast country that some of the states are doing very well. Others are doing very badly. In a sense, a system where the states that are moving well should be rewarded and the states that are doing badly ignored if necessary is the system that has to be in place. But the problem is the political calculation depends on the number of votes, not on how well a state is doing economically. So, some states that have a lot of votes which are doing badly in terms of policy are getting political rewards from the center.\n",
      "\n",
      "\u001b[4m JUDY WOODRUFF: \u001b[0m\n",
      "    So, at the moment, as you look at what India aspires to be, what does this say about how difficult it’s going to be to get there?\n",
      "\n",
      "\u001b[4m ARVIND SUBRAMANIAN: \u001b[0m\n",
      "    It’s going to be very difficult to get there because, you know, the demand for power is just outstripping the ability to handle it. But I think if we get some good, successful experiments in some of the states like, you know, what is happening in two or three states, I think in principle that can spread. And that’s I think the only basis for hope in India, because, fundamentally, the politics in New   Delhi is not going to change very much.\n",
      "\n",
      "\u001b[4m STEPHEN COHEN: \u001b[0m\n",
      "    I think there are three things that have to happen. The coal industry is a state monopoly. That has to be broken up. Secondly, they have to move on the question of nuclear energy. For political reasons, they block the importation of American nuclear power plants. Whether you like nuclear or not, they expect to have 25 percent of their power produced by nuclear in 15 or 20 years. And now they’re not going to reach their goal. And, thirdly, they need to work with regional states, other regional states, Nepal, Bhutan, even Pakistan, to develop a hydroelectric grid based on water power, which is environmentally secure.\n",
      "\n",
      "\u001b[4m JUDY WOODRUFF: \u001b[0m\n",
      "    Complicated, and a stunning situation, yet one that at least has drawn the world’s attention. (CROSSTALK)\n",
      "\n",
      "\u001b[4m STEPHEN COHEN: \u001b[0m\n",
      "    I lived through blackouts in New Delhi. It’s no fun. (LAUGHTER)\n",
      "\n",
      "\u001b[4m JUDY WOODRUFF: \u001b[0m\n",
      "    Stephen Cohen, Arvind Subramanian, thank you very much. Appreciate it.\n",
      "\n",
      "\n",
      "https://www.pbs.org/newshour/show/supreme-court-opens-cases-on-campaign-money-abortion\n",
      "\u001b[1m TRANSCRIPT \u001b[0m\n",
      "\u001b[4m JUDY WOODRUFF: \u001b[0m\n",
      "    It’s the first Monday in October, and the federal government may be shut down, but the Supreme Court opened its new term on schedule. Ray Suarez takes a look at what lies ahead.\n",
      "\n",
      "\u001b[4m RAY SUAREZ: \u001b[0m\n",
      "    There isn’t one single blockbuster case on the docket, as in recent Supreme Court terms, but the high court will consider a number of weighty issues. The nine justices will hear cases dealing with campaign finance, abortion, prayer in government, presidential power, affirmative action, and housing discrimination. Our guide for the term will be, as always, Marcia Coyle of The National Law Journal. She joins us now. And before we get to the nitty-gritty, why didn’t the Supreme Court shut down?\n",
      "\n",
      "\u001b[4m MARCIA COYLE: \u001b[0m\n",
      "    Well, our federal courts, including the Supreme Court, are dependent on congressional appropriations to operate. The Supreme Court says it can continue to operate at least through the end of this week, when it will then stop and evaluate. Federal courts have a small source of independent money, usually from fines. But it’s not going to be enough to carry it through a long-term shutdown. But the court has operated in prior shutdowns and even when blizzards have shut down Washington, D.C. I think there’s a quiet sense of pride that it continues to do its work and to do it on time.\n",
      "\n",
      "\u001b[4m RAY SUAREZ: \u001b[0m\n",
      "    We mentioned at the outset that there isn’t a single case, as there has been in recent terms.\n",
      "\n",
      "\u001b[4m MARCIA COYLE: \u001b[0m\n",
      "    Right.\n",
      "\n",
      "\u001b[4m RAY SUAREZ: \u001b[0m\n",
      "    But there is a lot of attention right out of the gate with campaign contributions. I couldn’t spit it out there. (LAUGHTER)\n",
      "\n",
      "\u001b[4m RAY SUAREZ: \u001b[0m\n",
      "    They are revisiting whether money can ever be regulated as speech when it’s being given to a political campaign. Tell us about the case.\n",
      "\n",
      "\u001b[4m MARCIA COYLE: \u001b[0m\n",
      "    OK, Ray. Well, this is a very important case. The court back in 1976 approved of the way Congress had divided campaign regulation between campaign spending and campaign contributions. It said that spending was something that you really could not regulate, put limits on. It was more closely aligned with pure speech under the First Amendment. And — but campaign contributions, even though they involve speech that was protected, you could regulate that because there was a greater risk of corruption or the appearance of corruption of giving large sums of money directly to a candidate or a political committee. This case is asking the justices whether the total limits on what someone can give in a two-year election cycle violates the First Amendment now. The proponents of this case argue that the risk of corruption is no longer there because of changes in election laws over the years, and it’s time to at least limit the aggregate total amount that can be given, but keep in place the base limits, limits that someone can contribute during one election.\n",
      "\n",
      "\u001b[4m RAY SUAREZ: \u001b[0m\n",
      "    So this would — has the potential like so many of these cases for revisiting or revising what has been guiding case law, the guiding precedents on which a lot of decisions have been based, no?\n",
      "\n",
      "\u001b[4m MARCIA COYLE: \u001b[0m\n",
      "    In particular that 1976 decision. There are briefs that have been filed in the case aggressively asking the court to overturn it. And the result is going to be basically more money in campaigns if the court goes down that road. But limits on contributions, the court has upheld those for almost 40 years now. They are considered sacrosanct. We will have to wait and see if the court is willing to take that very new step.\n",
      "\n",
      "\u001b[4m RAY SUAREZ: \u001b[0m\n",
      "    Let’s look at some of the other big cases. Abortion going to be revisited?\n",
      "\n",
      "\u001b[4m MARCIA COYLE: \u001b[0m\n",
      "    Yes, we’re coming back to abortion. Two cases are on the docket. One involves a 35-foot buffer zone around abortion clinics in Massachusetts. Back in 2000, the Supreme Court upheld an eight-foot buffer zone around clinics in Colorado. Here again, those who are challenging the buffer zone are saying, well, if this 35-foot buffer zone doesn’t comport with what you said in the 2000 case, overrule that 2000 case. The second case will be the first time the Supreme Court would look at medication abortions, drugs used to terminate a pregnancy, for example, RU-486. This involves an Oklahoma law. It is in a strange position, because the court asked the Oklahoma Supreme Court to clarify the meaning of the law. It did what we call certified two questions to that court. Oklahoma Supreme Court hasn’t answered yet. So we’re not sure what the court’s going to do when it does get the answers, whether it’s going to go forward with it or not. That state law requires the drugs to be used according to the FDA label. But since the FDA label was approved some seven years ago, I believe it is, science has advanced, and there is now an off-label use.\n",
      "\n",
      "\u001b[4m RAY SUAREZ: \u001b[0m\n",
      "    The Supreme Court has been ruling on prayer in public institutions for half-a-century now.\n",
      "\n",
      "\u001b[4m MARCIA COYLE: \u001b[0m\n",
      "    There’s another one.\n",
      "\n",
      "\u001b[4m RAY SUAREZ: \u001b[0m\n",
      "    But I guess they have to do another one now. Tell us… (CROSSTALK)\n",
      "\n",
      "\u001b[4m MARCIA COYLE: \u001b[0m\n",
      "    That’s right. This — this issue goes back to 1983, when that Supreme Court met in that term, upheld legislative prayers in a challenge brought to the Nebraska legislature’s use of prayers at opening sessions. The case before the court now involves the town of Greece, New York, which opens its town board meetings with prayers by local clergies — clergy. The lower federal appellate court found that those prayers were predominantly Christian in nature, and that violated the establishment clause of the First Amendment. So the Supreme Court is going to have to look once again at how much government accommodation of prayer in the public sphere it’s going to allow.\n",
      "\n",
      "\u001b[4m RAY SUAREZ: \u001b[0m\n",
      "    Are there still some big cases waiting to find out if they have been granted cert, that is, the court has agreed to hear them for this term?\n",
      "\n",
      "\u001b[4m MARCIA COYLE: \u001b[0m\n",
      "    Absolutely, Ray. We may see the health care law back — in fact, I’m almost sure we will — before the end of this term. There are some for-profit business owners who have challenged the mandate that they provide health care insurance that includes contraception. They contend that that mandate violates their religious beliefs. And there are two cases involving cell phone searches by police and whether they violate the Fourth Amendment of the Constitution.\n",
      "\n",
      "\u001b[4m RAY SUAREZ: \u001b[0m\n",
      "    Marcia Coyle from The National Law Journal, thanks a lot.\n",
      "\n",
      "\u001b[4m MARCIA COYLE: \u001b[0m\n",
      "    My pleasure, Ray.\n",
      "\n"
     ]
    }
   ],
   "source": [
    "### Used to style Python print statements\n",
    "class color:\n",
    "    BOLD = '\\033[1m'\n",
    "    UNDERLINE = '\\033[4m'\n",
    "    END = '\\033[0m'\n",
    "\n",
    "def pretty_transcript(transcript, convert_name=False):\n",
    "    print(color.BOLD, \"TRANSCRIPT\", color.END)\n",
    "    for speaker in transcript:\n",
    "        if convert_name:\n",
    "            speaker[0] = clean_names(speaker[0])\n",
    "        print(color.UNDERLINE, speaker[0] + \":\", color.END)\n",
    "        for txt in speaker[1:]:\n",
    "            print(\"  \", \" \".join(txt))\n",
    "        print()\n",
    "            \n",
    "for _ in range(5):\n",
    "    print()\n",
    "    temp = df[df.Transcript.map(lambda x: x != [])].reset_index(drop=True)\n",
    "    index = np.random.randint(0, len(temp) - 1)\n",
    "    print(temp.iloc[index].URL)\n",
    "    pretty_transcript(temp.iloc[index].Transcript, convert_name=True)"
   ]
  },
  {
   "cell_type": "markdown",
   "metadata": {},
   "source": [
    "---\n",
    "<a id=\"misc_cleaning\"></a>\n",
    "\n",
    "# [^](#toc) <u>Misc cleaning</u>"
   ]
  },
  {
   "cell_type": "markdown",
   "metadata": {},
   "source": [
    "<a id=\"misc_order\"></a>\n",
    "\n",
    "### [^](#toc) Order dataframe"
   ]
  },
  {
   "cell_type": "code",
   "execution_count": 18,
   "metadata": {},
   "outputs": [
    {
     "name": "stdout",
     "output_type": "stream",
     "text": [
      "Shape of df: (17617, 10)\n"
     ]
    },
    {
     "data": {
      "text/html": [
       "<div>\n",
       "<style>\n",
       "    .dataframe thead tr:only-child th {\n",
       "        text-align: right;\n",
       "    }\n",
       "\n",
       "    .dataframe thead th {\n",
       "        text-align: left;\n",
       "    }\n",
       "\n",
       "    .dataframe tbody tr th {\n",
       "        vertical-align: top;\n",
       "    }\n",
       "</style>\n",
       "<table border=\"1\" class=\"dataframe\">\n",
       "  <thead>\n",
       "    <tr style=\"text-align: right;\">\n",
       "      <th></th>\n",
       "      <th>URL</th>\n",
       "      <th>Story</th>\n",
       "      <th>Date</th>\n",
       "      <th>Title</th>\n",
       "      <th>Transcript</th>\n",
       "      <th>Speakers</th>\n",
       "      <th>Number of Comments</th>\n",
       "      <th>Timezone</th>\n",
       "      <th>Year</th>\n",
       "      <th>Month</th>\n",
       "    </tr>\n",
       "  </thead>\n",
       "  <tbody>\n",
       "    <tr>\n",
       "      <th>0</th>\n",
       "      <td>https://www.pbs.org/newshour/show/robert-macne...</td>\n",
       "      <td>“How high did the scandals reach and was Presi...</td>\n",
       "      <td>1973-05-17 02:26:00</td>\n",
       "      <td>Watergate: The NewsHour’s 1973 Special Report</td>\n",
       "      <td>[]</td>\n",
       "      <td>{S, T, E}</td>\n",
       "      <td>0.0</td>\n",
       "      <td>EDT</td>\n",
       "      <td>1973</td>\n",
       "      <td>5</td>\n",
       "    </tr>\n",
       "    <tr>\n",
       "      <th>1</th>\n",
       "      <td>https://www.pbs.org/newshour/show/tempers-flar...</td>\n",
       "      <td>This MacNeil/Lehrer Report piece highlights th...</td>\n",
       "      <td>1979-06-29 06:00:00</td>\n",
       "      <td>Tempers Flare In Lines for Gasoline in 1979</td>\n",
       "      <td>[]</td>\n",
       "      <td>{S, T, E}</td>\n",
       "      <td>0.0</td>\n",
       "      <td>EDT</td>\n",
       "      <td>1979</td>\n",
       "      <td>6</td>\n",
       "    </tr>\n",
       "    <tr>\n",
       "      <th>2</th>\n",
       "      <td>https://www.pbs.org/newshour/show/margaret-tha...</td>\n",
       "      <td>Robert MacNeil and Jim Lehrer interviewed Brit...</td>\n",
       "      <td>1981-02-27 06:00:00</td>\n",
       "      <td>Newsmaker: Margaret Thatcher</td>\n",
       "      <td>[]</td>\n",
       "      <td>{S, T, E}</td>\n",
       "      <td>0.0</td>\n",
       "      <td>EDT</td>\n",
       "      <td>1981</td>\n",
       "      <td>2</td>\n",
       "    </tr>\n",
       "    <tr>\n",
       "      <th>3</th>\n",
       "      <td>https://www.pbs.org/newshour/show/macneil-lehr...</td>\n",
       "      <td>Jim Lehrer and Charlene Hunter Gault report on...</td>\n",
       "      <td>1982-10-25 06:00:00</td>\n",
       "      <td>The MacNeil/Lehrer Report – October 25, 1982 –...</td>\n",
       "      <td>[]</td>\n",
       "      <td>{S, T, E}</td>\n",
       "      <td>0.0</td>\n",
       "      <td>EDT</td>\n",
       "      <td>1982</td>\n",
       "      <td>10</td>\n",
       "    </tr>\n",
       "    <tr>\n",
       "      <th>4</th>\n",
       "      <td>https://www.pbs.org/newshour/show/the-macneil-...</td>\n",
       "      <td>Robert MacNeil and Charlayne Hunter Gault repo...</td>\n",
       "      <td>1983-11-30 06:00:00</td>\n",
       "      <td>The MacNeil/Lehrer Report from Nov. 30, 1983 o...</td>\n",
       "      <td>[]</td>\n",
       "      <td>{S, T, E}</td>\n",
       "      <td>0.0</td>\n",
       "      <td>EDT</td>\n",
       "      <td>1983</td>\n",
       "      <td>11</td>\n",
       "    </tr>\n",
       "  </tbody>\n",
       "</table>\n",
       "</div>"
      ],
      "text/plain": [
       "                                                 URL  \\\n",
       "0  https://www.pbs.org/newshour/show/robert-macne...   \n",
       "1  https://www.pbs.org/newshour/show/tempers-flar...   \n",
       "2  https://www.pbs.org/newshour/show/margaret-tha...   \n",
       "3  https://www.pbs.org/newshour/show/macneil-lehr...   \n",
       "4  https://www.pbs.org/newshour/show/the-macneil-...   \n",
       "\n",
       "                                               Story                Date  \\\n",
       "0  “How high did the scandals reach and was Presi... 1973-05-17 02:26:00   \n",
       "1  This MacNeil/Lehrer Report piece highlights th... 1979-06-29 06:00:00   \n",
       "2  Robert MacNeil and Jim Lehrer interviewed Brit... 1981-02-27 06:00:00   \n",
       "3  Jim Lehrer and Charlene Hunter Gault report on... 1982-10-25 06:00:00   \n",
       "4  Robert MacNeil and Charlayne Hunter Gault repo... 1983-11-30 06:00:00   \n",
       "\n",
       "                                               Title Transcript   Speakers  \\\n",
       "0      Watergate: The NewsHour’s 1973 Special Report         []  {S, T, E}   \n",
       "1        Tempers Flare In Lines for Gasoline in 1979         []  {S, T, E}   \n",
       "2                       Newsmaker: Margaret Thatcher         []  {S, T, E}   \n",
       "3  The MacNeil/Lehrer Report – October 25, 1982 –...         []  {S, T, E}   \n",
       "4  The MacNeil/Lehrer Report from Nov. 30, 1983 o...         []  {S, T, E}   \n",
       "\n",
       "   Number of Comments Timezone  Year  Month  \n",
       "0                 0.0      EDT  1973      5  \n",
       "1                 0.0      EDT  1979      6  \n",
       "2                 0.0      EDT  1981      2  \n",
       "3                 0.0      EDT  1982     10  \n",
       "4                 0.0      EDT  1983     11  "
      ]
     },
     "execution_count": 18,
     "metadata": {},
     "output_type": "execute_result"
    }
   ],
   "source": [
    "df = df.sort_values(\"Date\").reset_index(drop=True)\n",
    "print(\"Shape of df:\", df.shape)\n",
    "df.head()"
   ]
  },
  {
   "cell_type": "markdown",
   "metadata": {},
   "source": [
    "<a id=\"misc_speakers\"></a>\n",
    "\n",
    "### [^](#toc) Remove Speakers if missing Transcript"
   ]
  },
  {
   "cell_type": "code",
   "execution_count": 19,
   "metadata": {},
   "outputs": [
    {
     "data": {
      "text/html": [
       "<div>\n",
       "<style>\n",
       "    .dataframe thead tr:only-child th {\n",
       "        text-align: right;\n",
       "    }\n",
       "\n",
       "    .dataframe thead th {\n",
       "        text-align: left;\n",
       "    }\n",
       "\n",
       "    .dataframe tbody tr th {\n",
       "        vertical-align: top;\n",
       "    }\n",
       "</style>\n",
       "<table border=\"1\" class=\"dataframe\">\n",
       "  <thead>\n",
       "    <tr style=\"text-align: right;\">\n",
       "      <th></th>\n",
       "      <th>URL</th>\n",
       "      <th>Story</th>\n",
       "      <th>Date</th>\n",
       "      <th>Title</th>\n",
       "      <th>Transcript</th>\n",
       "      <th>Speakers</th>\n",
       "      <th>Number of Comments</th>\n",
       "      <th>Timezone</th>\n",
       "      <th>Year</th>\n",
       "      <th>Month</th>\n",
       "    </tr>\n",
       "  </thead>\n",
       "  <tbody>\n",
       "  </tbody>\n",
       "</table>\n",
       "</div>"
      ],
      "text/plain": [
       "Empty DataFrame\n",
       "Columns: [URL, Story, Date, Title, Transcript, Speakers, Number of Comments, Timezone, Year, Month]\n",
       "Index: []"
      ]
     },
     "execution_count": 19,
     "metadata": {},
     "output_type": "execute_result"
    }
   ],
   "source": [
    "index = df[df.Transcript.map(lambda x: x == []) & df.Speakers.map(lambda x: x != {})].index\n",
    "\n",
    "for row in index:\n",
    "    df.at[row, 'Speakers'] = {}\n",
    "\n",
    "df[df.Transcript.map(lambda x: x == []) & df.Speakers.map(lambda x: x != {})]"
   ]
  },
  {
   "cell_type": "markdown",
   "metadata": {},
   "source": [
    "<a id=\"final_data_look\"></a>\n",
    "\n",
    "### [^](#toc) Final data look"
   ]
  },
  {
   "cell_type": "code",
   "execution_count": 20,
   "metadata": {},
   "outputs": [
    {
     "data": {
      "text/html": [
       "<div>\n",
       "<style>\n",
       "    .dataframe thead tr:only-child th {\n",
       "        text-align: right;\n",
       "    }\n",
       "\n",
       "    .dataframe thead th {\n",
       "        text-align: left;\n",
       "    }\n",
       "\n",
       "    .dataframe tbody tr th {\n",
       "        vertical-align: top;\n",
       "    }\n",
       "</style>\n",
       "<table border=\"1\" class=\"dataframe\">\n",
       "  <thead>\n",
       "    <tr style=\"text-align: right;\">\n",
       "      <th></th>\n",
       "      <th>URL</th>\n",
       "      <th>Story</th>\n",
       "      <th>Date</th>\n",
       "      <th>Title</th>\n",
       "      <th>Transcript</th>\n",
       "      <th>Speakers</th>\n",
       "      <th>Number of Comments</th>\n",
       "      <th>Timezone</th>\n",
       "      <th>Year</th>\n",
       "      <th>Month</th>\n",
       "    </tr>\n",
       "  </thead>\n",
       "  <tbody>\n",
       "    <tr>\n",
       "      <th>0</th>\n",
       "      <td>https://www.pbs.org/newshour/show/robert-macne...</td>\n",
       "      <td>“How high did the scandals reach and was Presi...</td>\n",
       "      <td>1973-05-17 02:26:00</td>\n",
       "      <td>Watergate: The NewsHour’s 1973 Special Report</td>\n",
       "      <td>[]</td>\n",
       "      <td>{}</td>\n",
       "      <td>0.0</td>\n",
       "      <td>EDT</td>\n",
       "      <td>1973</td>\n",
       "      <td>5</td>\n",
       "    </tr>\n",
       "    <tr>\n",
       "      <th>1</th>\n",
       "      <td>https://www.pbs.org/newshour/show/tempers-flar...</td>\n",
       "      <td>This MacNeil/Lehrer Report piece highlights th...</td>\n",
       "      <td>1979-06-29 06:00:00</td>\n",
       "      <td>Tempers Flare In Lines for Gasoline in 1979</td>\n",
       "      <td>[]</td>\n",
       "      <td>{}</td>\n",
       "      <td>0.0</td>\n",
       "      <td>EDT</td>\n",
       "      <td>1979</td>\n",
       "      <td>6</td>\n",
       "    </tr>\n",
       "    <tr>\n",
       "      <th>2</th>\n",
       "      <td>https://www.pbs.org/newshour/show/margaret-tha...</td>\n",
       "      <td>Robert MacNeil and Jim Lehrer interviewed Brit...</td>\n",
       "      <td>1981-02-27 06:00:00</td>\n",
       "      <td>Newsmaker: Margaret Thatcher</td>\n",
       "      <td>[]</td>\n",
       "      <td>{}</td>\n",
       "      <td>0.0</td>\n",
       "      <td>EDT</td>\n",
       "      <td>1981</td>\n",
       "      <td>2</td>\n",
       "    </tr>\n",
       "    <tr>\n",
       "      <th>3</th>\n",
       "      <td>https://www.pbs.org/newshour/show/macneil-lehr...</td>\n",
       "      <td>Jim Lehrer and Charlene Hunter Gault report on...</td>\n",
       "      <td>1982-10-25 06:00:00</td>\n",
       "      <td>The MacNeil/Lehrer Report – October 25, 1982 –...</td>\n",
       "      <td>[]</td>\n",
       "      <td>{}</td>\n",
       "      <td>0.0</td>\n",
       "      <td>EDT</td>\n",
       "      <td>1982</td>\n",
       "      <td>10</td>\n",
       "    </tr>\n",
       "    <tr>\n",
       "      <th>4</th>\n",
       "      <td>https://www.pbs.org/newshour/show/the-macneil-...</td>\n",
       "      <td>Robert MacNeil and Charlayne Hunter Gault repo...</td>\n",
       "      <td>1983-11-30 06:00:00</td>\n",
       "      <td>The MacNeil/Lehrer Report from Nov. 30, 1983 o...</td>\n",
       "      <td>[]</td>\n",
       "      <td>{}</td>\n",
       "      <td>0.0</td>\n",
       "      <td>EDT</td>\n",
       "      <td>1983</td>\n",
       "      <td>11</td>\n",
       "    </tr>\n",
       "  </tbody>\n",
       "</table>\n",
       "</div>"
      ],
      "text/plain": [
       "                                                 URL  \\\n",
       "0  https://www.pbs.org/newshour/show/robert-macne...   \n",
       "1  https://www.pbs.org/newshour/show/tempers-flar...   \n",
       "2  https://www.pbs.org/newshour/show/margaret-tha...   \n",
       "3  https://www.pbs.org/newshour/show/macneil-lehr...   \n",
       "4  https://www.pbs.org/newshour/show/the-macneil-...   \n",
       "\n",
       "                                               Story                Date  \\\n",
       "0  “How high did the scandals reach and was Presi... 1973-05-17 02:26:00   \n",
       "1  This MacNeil/Lehrer Report piece highlights th... 1979-06-29 06:00:00   \n",
       "2  Robert MacNeil and Jim Lehrer interviewed Brit... 1981-02-27 06:00:00   \n",
       "3  Jim Lehrer and Charlene Hunter Gault report on... 1982-10-25 06:00:00   \n",
       "4  Robert MacNeil and Charlayne Hunter Gault repo... 1983-11-30 06:00:00   \n",
       "\n",
       "                                               Title Transcript Speakers  \\\n",
       "0      Watergate: The NewsHour’s 1973 Special Report         []       {}   \n",
       "1        Tempers Flare In Lines for Gasoline in 1979         []       {}   \n",
       "2                       Newsmaker: Margaret Thatcher         []       {}   \n",
       "3  The MacNeil/Lehrer Report – October 25, 1982 –...         []       {}   \n",
       "4  The MacNeil/Lehrer Report from Nov. 30, 1983 o...         []       {}   \n",
       "\n",
       "   Number of Comments Timezone  Year  Month  \n",
       "0                 0.0      EDT  1973      5  \n",
       "1                 0.0      EDT  1979      6  \n",
       "2                 0.0      EDT  1981      2  \n",
       "3                 0.0      EDT  1982     10  \n",
       "4                 0.0      EDT  1983     11  "
      ]
     },
     "execution_count": 20,
     "metadata": {},
     "output_type": "execute_result"
    }
   ],
   "source": [
    "df.head()"
   ]
  },
  {
   "cell_type": "code",
   "execution_count": 21,
   "metadata": {},
   "outputs": [
    {
     "data": {
      "text/html": [
       "<div>\n",
       "<style>\n",
       "    .dataframe thead tr:only-child th {\n",
       "        text-align: right;\n",
       "    }\n",
       "\n",
       "    .dataframe thead th {\n",
       "        text-align: left;\n",
       "    }\n",
       "\n",
       "    .dataframe tbody tr th {\n",
       "        vertical-align: top;\n",
       "    }\n",
       "</style>\n",
       "<table border=\"1\" class=\"dataframe\">\n",
       "  <thead>\n",
       "    <tr style=\"text-align: right;\">\n",
       "      <th></th>\n",
       "      <th>URL</th>\n",
       "      <th>Story</th>\n",
       "      <th>Date</th>\n",
       "      <th>Title</th>\n",
       "      <th>Transcript</th>\n",
       "      <th>Speakers</th>\n",
       "      <th>Number of Comments</th>\n",
       "      <th>Timezone</th>\n",
       "      <th>Year</th>\n",
       "      <th>Month</th>\n",
       "    </tr>\n",
       "  </thead>\n",
       "  <tbody>\n",
       "    <tr>\n",
       "      <th>17612</th>\n",
       "      <td>https://www.pbs.org/newshour/show/livingwhileb...</td>\n",
       "      <td>A profusion of national incidents in which whi...</td>\n",
       "      <td>2018-07-02 06:35:00</td>\n",
       "      <td>#LivingWhileBlack: How does racial bias lead t...</td>\n",
       "      <td>[[Judy Woodruff, [ A number of recent incident...</td>\n",
       "      <td>{JUDY WOODRUFF, HOWARD SCHULTZ, YAMICHE ALCIND...</td>\n",
       "      <td>0.0</td>\n",
       "      <td>EDT</td>\n",
       "      <td>2018</td>\n",
       "      <td>7</td>\n",
       "    </tr>\n",
       "    <tr>\n",
       "      <th>17613</th>\n",
       "      <td>https://www.pbs.org/newshour/show/yemens-spira...</td>\n",
       "      <td>One of the poorest countries in the Middle Eas...</td>\n",
       "      <td>2018-07-02 06:40:00</td>\n",
       "      <td>Yemen’s spiraling hunger crisis is a man-made ...</td>\n",
       "      <td>[[Judy Woodruff, [ The “NewsHour” has reported...</td>\n",
       "      <td>{JUDY WOODRUFF, LISE GRANDE, MARIAM ALFAKIH, J...</td>\n",
       "      <td>0.0</td>\n",
       "      <td>EDT</td>\n",
       "      <td>2018</td>\n",
       "      <td>7</td>\n",
       "    </tr>\n",
       "    <tr>\n",
       "      <th>17614</th>\n",
       "      <td>https://www.pbs.org/newshour/show/will-u-s-mex...</td>\n",
       "      <td>There are enormous expectations facing the new...</td>\n",
       "      <td>2018-07-02 06:43:00</td>\n",
       "      <td>Will U.S.-Mexico policy tensions change under ...</td>\n",
       "      <td>[[Judy Woodruff, [ And now perspective from fo...</td>\n",
       "      <td>{JUDY WOODRUFF, ROBERTA JACOBSON}</td>\n",
       "      <td>0.0</td>\n",
       "      <td>EDT</td>\n",
       "      <td>2018</td>\n",
       "      <td>7</td>\n",
       "    </tr>\n",
       "    <tr>\n",
       "      <th>17615</th>\n",
       "      <td>https://www.pbs.org/newshour/show/elected-in-a...</td>\n",
       "      <td>Mexican president-elect Andrés Manuel López Ob...</td>\n",
       "      <td>2018-07-02 06:45:00</td>\n",
       "      <td>Elected by a landslide, can Mexico’s López Obr...</td>\n",
       "      <td>[[Judy Woodruff, [ After two previous runs for...</td>\n",
       "      <td>{NICK SCHIFRIN, JUDY WOODRUFF, ANDRES MANUEL L...</td>\n",
       "      <td>0.0</td>\n",
       "      <td>EDT</td>\n",
       "      <td>2018</td>\n",
       "      <td>7</td>\n",
       "    </tr>\n",
       "    <tr>\n",
       "      <th>17616</th>\n",
       "      <td>https://www.pbs.org/newshour/show/news-wrap-tr...</td>\n",
       "      <td>In our news wrap Monday, President Trump's sea...</td>\n",
       "      <td>2018-07-02 06:50:00</td>\n",
       "      <td>News Wrap: Trump interviews Supreme Court cand...</td>\n",
       "      <td>[[Judy Woodruff, [ President Trump’s search fo...</td>\n",
       "      <td>{JUDY WOODRUFF, JUSTIN HERDMAN, DONALD TRUMP, ...</td>\n",
       "      <td>0.0</td>\n",
       "      <td>EDT</td>\n",
       "      <td>2018</td>\n",
       "      <td>7</td>\n",
       "    </tr>\n",
       "  </tbody>\n",
       "</table>\n",
       "</div>"
      ],
      "text/plain": [
       "                                                     URL  \\\n",
       "17612  https://www.pbs.org/newshour/show/livingwhileb...   \n",
       "17613  https://www.pbs.org/newshour/show/yemens-spira...   \n",
       "17614  https://www.pbs.org/newshour/show/will-u-s-mex...   \n",
       "17615  https://www.pbs.org/newshour/show/elected-in-a...   \n",
       "17616  https://www.pbs.org/newshour/show/news-wrap-tr...   \n",
       "\n",
       "                                                   Story                Date  \\\n",
       "17612  A profusion of national incidents in which whi... 2018-07-02 06:35:00   \n",
       "17613  One of the poorest countries in the Middle Eas... 2018-07-02 06:40:00   \n",
       "17614  There are enormous expectations facing the new... 2018-07-02 06:43:00   \n",
       "17615  Mexican president-elect Andrés Manuel López Ob... 2018-07-02 06:45:00   \n",
       "17616  In our news wrap Monday, President Trump's sea... 2018-07-02 06:50:00   \n",
       "\n",
       "                                                   Title  \\\n",
       "17612  #LivingWhileBlack: How does racial bias lead t...   \n",
       "17613  Yemen’s spiraling hunger crisis is a man-made ...   \n",
       "17614  Will U.S.-Mexico policy tensions change under ...   \n",
       "17615  Elected by a landslide, can Mexico’s López Obr...   \n",
       "17616  News Wrap: Trump interviews Supreme Court cand...   \n",
       "\n",
       "                                              Transcript  \\\n",
       "17612  [[Judy Woodruff, [ A number of recent incident...   \n",
       "17613  [[Judy Woodruff, [ The “NewsHour” has reported...   \n",
       "17614  [[Judy Woodruff, [ And now perspective from fo...   \n",
       "17615  [[Judy Woodruff, [ After two previous runs for...   \n",
       "17616  [[Judy Woodruff, [ President Trump’s search fo...   \n",
       "\n",
       "                                                Speakers  Number of Comments  \\\n",
       "17612  {JUDY WOODRUFF, HOWARD SCHULTZ, YAMICHE ALCIND...                 0.0   \n",
       "17613  {JUDY WOODRUFF, LISE GRANDE, MARIAM ALFAKIH, J...                 0.0   \n",
       "17614                  {JUDY WOODRUFF, ROBERTA JACOBSON}                 0.0   \n",
       "17615  {NICK SCHIFRIN, JUDY WOODRUFF, ANDRES MANUEL L...                 0.0   \n",
       "17616  {JUDY WOODRUFF, JUSTIN HERDMAN, DONALD TRUMP, ...                 0.0   \n",
       "\n",
       "      Timezone  Year  Month  \n",
       "17612      EDT  2018      7  \n",
       "17613      EDT  2018      7  \n",
       "17614      EDT  2018      7  \n",
       "17615      EDT  2018      7  \n",
       "17616      EDT  2018      7  "
      ]
     },
     "execution_count": 21,
     "metadata": {},
     "output_type": "execute_result"
    }
   ],
   "source": [
    "df.tail()"
   ]
  },
  {
   "cell_type": "markdown",
   "metadata": {
    "collapsed": true
   },
   "source": [
    "---\n",
    "<a id=\"save\"></a>\n",
    "\n",
    "# [^](#toc) <u>Save to CSV</u>\n",
    "\n",
    "Now that we've cleaned up our data a bit, let's save it into a different CSV file."
   ]
  },
  {
   "cell_type": "code",
   "execution_count": 22,
   "metadata": {
    "collapsed": true
   },
   "outputs": [],
   "source": [
    "df.to_csv(\"../data/PBS-newhour-clean.csv\", index=False)"
   ]
  },
  {
   "cell_type": "markdown",
   "metadata": {},
   "source": [
    "---\n",
    "<a id=\"tests\"></a>\n",
    "\n",
    "# [^](#toc) <u>Tests</u>"
   ]
  },
  {
   "cell_type": "markdown",
   "metadata": {},
   "source": [
    "<a id=\"test_party_regex\"></a>\n",
    "\n",
    "### [^](#toc) Remove party regex"
   ]
  },
  {
   "cell_type": "code",
   "execution_count": 24,
   "metadata": {},
   "outputs": [
    {
     "data": {
      "text/plain": [
       "<matplotlib.figure.Figure at 0x1a22fe8c88>"
      ]
     },
     "metadata": {},
     "output_type": "display_data"
    }
   ],
   "source": [
    "%run preprocessing.py\n",
    "\n",
    "ex1 = \"BARBARA MIKULSKI (D-MD.)\"\n",
    "assert remove_party(ex1) == \"BARBARA MIKULSKI\" \n",
    "\n",
    "ex2 = \"JERRY BROWN (D-CALIF.)\"\n",
    "assert remove_party(ex2) == \"JERRY BROWN\" \n",
    "\n",
    "ex3 = \"CHUCK SCHUMER (DN.Y.)\"\n",
    "assert remove_party(ex3) == \"CHUCK SCHUMER\" \n",
    "\n",
    "ex4 = \"JOHN BOEHNER (R-OH.)\"\n",
    "assert remove_party(ex4) == \"JOHN BOEHNER\" \n",
    "\n",
    "ex5 = \"JEFF SESSIONS (R-ALA.)\"\n",
    "assert remove_party(ex5) == \"JEFF SESSIONS\" \n",
    "\n",
    "ex6 = \"TODD YOUNG (RIND.)\"\n",
    "assert remove_party(ex6) == \"TODD YOUNG\" \n",
    "\n",
    "ex7 = \"DONALD TRUMP\"\n",
    "assert remove_party(ex7) == ex7\n",
    "\n",
    "ex8 = \"PRESIDENT BARACK OBAMA (singing)\"\n",
    "assert remove_party(ex8) == ex8"
   ]
  },
  {
   "cell_type": "code",
   "execution_count": null,
   "metadata": {
    "collapsed": true
   },
   "outputs": [],
   "source": []
  }
 ],
 "metadata": {
  "kernelspec": {
   "display_name": "Python 3",
   "language": "python",
   "name": "python3"
  },
  "language_info": {
   "codemirror_mode": {
    "name": "ipython",
    "version": 3
   },
   "file_extension": ".py",
   "mimetype": "text/x-python",
   "name": "python",
   "nbconvert_exporter": "python",
   "pygments_lexer": "ipython3",
   "version": "3.6.3"
  }
 },
 "nbformat": 4,
 "nbformat_minor": 2
}
