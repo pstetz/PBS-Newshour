{
 "cells": [
  {
   "cell_type": "markdown",
   "metadata": {},
   "source": [
    "<a id=\"toc\"></a>\n",
    "\n",
    "# <u>Table of Contents</u>\n",
    "\n",
    "1.) [Setup](#setup)  \n",
    "&nbsp;&nbsp;&nbsp;&nbsp; 1.1.) [Imports](#imports)   \n",
    "&nbsp;&nbsp;&nbsp;&nbsp; 1.2.) [Helpers](#helpers)   \n",
    "&nbsp;&nbsp;&nbsp;&nbsp; 1.3.) [Load data](#load)   \n",
    "2.) [Datetime](#datetime)  \n",
    "3.) [Speakers](#speakers)  \n",
    "4.) [Transcript](#transcript)  \n",
    "5.) [Save to CSV](#save)  "
   ]
  },
  {
   "cell_type": "markdown",
   "metadata": {},
   "source": [
    "---\n",
    "<a id=\"setup\"></a>\n",
    "\n",
    "# [^](#toc) <u>Setup</u>"
   ]
  },
  {
   "cell_type": "markdown",
   "metadata": {},
   "source": [
    "<a id=\"imports\"></a>\n",
    "\n",
    "### [^](#toc) Imports"
   ]
  },
  {
   "cell_type": "code",
   "execution_count": 1,
   "metadata": {
    "collapsed": true
   },
   "outputs": [],
   "source": [
    "### Standard imports\n",
    "import pandas as pd\n",
    "import numpy as np\n",
    "\n",
    "### Plotting imports\n",
    "import matplotlib.pyplot as plt\n",
    "import seaborn as sns\n",
    "%matplotlib inline\n",
    "sns.set()\n",
    "\n",
    "import re\n",
    "import datetime\n",
    "\n",
    "# Helps convert String representation of list into a list\n",
    "import ast\n",
    "\n",
    "### Removes warnings that occassionally show in imports\n",
    "import warnings\n",
    "warnings.filterwarnings('ignore')"
   ]
  },
  {
   "cell_type": "markdown",
   "metadata": {},
   "source": [
    "<a id=\"helpers\"></a>\n",
    "\n",
    "### [^](#toc) Helpers"
   ]
  },
  {
   "cell_type": "code",
   "execution_count": 2,
   "metadata": {
    "collapsed": true
   },
   "outputs": [],
   "source": [
    "def string_literal(x):\n",
    "    try:\n",
    "        return ast.literal_eval(x)\n",
    "    except:\n",
    "        return x"
   ]
  },
  {
   "cell_type": "markdown",
   "metadata": {},
   "source": [
    "<a id=\"load\"></a>\n",
    "\n",
    "### [^](#toc) Load data"
   ]
  },
  {
   "cell_type": "code",
   "execution_count": 3,
   "metadata": {},
   "outputs": [
    {
     "name": "stdout",
     "output_type": "stream",
     "text": [
      "Shape of df: (17617, 7)\n"
     ]
    },
    {
     "data": {
      "text/html": [
       "<div>\n",
       "<style>\n",
       "    .dataframe thead tr:only-child th {\n",
       "        text-align: right;\n",
       "    }\n",
       "\n",
       "    .dataframe thead th {\n",
       "        text-align: left;\n",
       "    }\n",
       "\n",
       "    .dataframe tbody tr th {\n",
       "        vertical-align: top;\n",
       "    }\n",
       "</style>\n",
       "<table border=\"1\" class=\"dataframe\">\n",
       "  <thead>\n",
       "    <tr style=\"text-align: right;\">\n",
       "      <th></th>\n",
       "      <th>URL</th>\n",
       "      <th>Story</th>\n",
       "      <th>Date</th>\n",
       "      <th>Title</th>\n",
       "      <th>Transcript</th>\n",
       "      <th>Speakers</th>\n",
       "      <th>Number of Comments</th>\n",
       "    </tr>\n",
       "  </thead>\n",
       "  <tbody>\n",
       "    <tr>\n",
       "      <th>0</th>\n",
       "      <td>https://www.pbs.org/newshour/show/news-wrap-tr...</td>\n",
       "      <td>In our news wrap Monday, President Trump's sea...</td>\n",
       "      <td>Jul 2, 2018 6:50 PM EDT</td>\n",
       "      <td>News Wrap: Trump interviews Supreme Court cand...</td>\n",
       "      <td>[[Judy Woodruff, [ President Trump’s search fo...</td>\n",
       "      <td>{Judy Woodruff, President Donald Trump, Man (t...</td>\n",
       "      <td>0.0</td>\n",
       "    </tr>\n",
       "    <tr>\n",
       "      <th>1</th>\n",
       "      <td>https://www.pbs.org/newshour/show/elected-in-a...</td>\n",
       "      <td>Mexican president-elect Andrés Manuel López Ob...</td>\n",
       "      <td>Jul 2, 2018 6:45 PM EDT</td>\n",
       "      <td>Elected by a landslide, can Mexico’s López Obr...</td>\n",
       "      <td>[[Judy Woodruff, [ After two previous runs for...</td>\n",
       "      <td>{Rafael Riveros (through translator), Judy Woo...</td>\n",
       "      <td>0.0</td>\n",
       "    </tr>\n",
       "    <tr>\n",
       "      <th>2</th>\n",
       "      <td>https://www.pbs.org/newshour/show/will-u-s-mex...</td>\n",
       "      <td>There are enormous expectations facing the new...</td>\n",
       "      <td>Jul 2, 2018 6:43 PM EDT</td>\n",
       "      <td>Will U.S.-Mexico policy tensions change under ...</td>\n",
       "      <td>[[Judy Woodruff, [ And now perspective from fo...</td>\n",
       "      <td>{Judy Woodruff, Roberta Jacobson}</td>\n",
       "      <td>0.0</td>\n",
       "    </tr>\n",
       "    <tr>\n",
       "      <th>3</th>\n",
       "      <td>https://www.pbs.org/newshour/show/yemens-spira...</td>\n",
       "      <td>One of the poorest countries in the Middle Eas...</td>\n",
       "      <td>Jul 2, 2018 6:40 PM EDT</td>\n",
       "      <td>Yemen’s spiraling hunger crisis is a man-made ...</td>\n",
       "      <td>[[Judy Woodruff, [ The “NewsHour” has reported...</td>\n",
       "      <td>{Jane Ferguson, Naimi (through translator), Ju...</td>\n",
       "      <td>0.0</td>\n",
       "    </tr>\n",
       "    <tr>\n",
       "      <th>4</th>\n",
       "      <td>https://www.pbs.org/newshour/show/livingwhileb...</td>\n",
       "      <td>A profusion of national incidents in which whi...</td>\n",
       "      <td>Jul 2, 2018 6:35 PM EDT</td>\n",
       "      <td>#LivingWhileBlack: How does racial bias lead t...</td>\n",
       "      <td>[[Judy Woodruff, [ A number of recent incident...</td>\n",
       "      <td>{Judy Woodruff, Woman, Howard Schultz, Yamiche...</td>\n",
       "      <td>0.0</td>\n",
       "    </tr>\n",
       "  </tbody>\n",
       "</table>\n",
       "</div>"
      ],
      "text/plain": [
       "                                                 URL  \\\n",
       "0  https://www.pbs.org/newshour/show/news-wrap-tr...   \n",
       "1  https://www.pbs.org/newshour/show/elected-in-a...   \n",
       "2  https://www.pbs.org/newshour/show/will-u-s-mex...   \n",
       "3  https://www.pbs.org/newshour/show/yemens-spira...   \n",
       "4  https://www.pbs.org/newshour/show/livingwhileb...   \n",
       "\n",
       "                                               Story                     Date  \\\n",
       "0  In our news wrap Monday, President Trump's sea...  Jul 2, 2018 6:50 PM EDT   \n",
       "1  Mexican president-elect Andrés Manuel López Ob...  Jul 2, 2018 6:45 PM EDT   \n",
       "2  There are enormous expectations facing the new...  Jul 2, 2018 6:43 PM EDT   \n",
       "3  One of the poorest countries in the Middle Eas...  Jul 2, 2018 6:40 PM EDT   \n",
       "4  A profusion of national incidents in which whi...  Jul 2, 2018 6:35 PM EDT   \n",
       "\n",
       "                                               Title  \\\n",
       "0  News Wrap: Trump interviews Supreme Court cand...   \n",
       "1  Elected by a landslide, can Mexico’s López Obr...   \n",
       "2  Will U.S.-Mexico policy tensions change under ...   \n",
       "3  Yemen’s spiraling hunger crisis is a man-made ...   \n",
       "4  #LivingWhileBlack: How does racial bias lead t...   \n",
       "\n",
       "                                          Transcript  \\\n",
       "0  [[Judy Woodruff, [ President Trump’s search fo...   \n",
       "1  [[Judy Woodruff, [ After two previous runs for...   \n",
       "2  [[Judy Woodruff, [ And now perspective from fo...   \n",
       "3  [[Judy Woodruff, [ The “NewsHour” has reported...   \n",
       "4  [[Judy Woodruff, [ A number of recent incident...   \n",
       "\n",
       "                                            Speakers  Number of Comments  \n",
       "0  {Judy Woodruff, President Donald Trump, Man (t...                 0.0  \n",
       "1  {Rafael Riveros (through translator), Judy Woo...                 0.0  \n",
       "2                  {Judy Woodruff, Roberta Jacobson}                 0.0  \n",
       "3  {Jane Ferguson, Naimi (through translator), Ju...                 0.0  \n",
       "4  {Judy Woodruff, Woman, Howard Schultz, Yamiche...                 0.0  "
      ]
     },
     "execution_count": 3,
     "metadata": {},
     "output_type": "execute_result"
    }
   ],
   "source": [
    "df = pd.read_csv(\"../data/PBS_full_unedited.csv\")\n",
    "for col in [\"Transcript\", \"Story\", \"Speakers\"]:\n",
    "    df[col] = df[col].map(string_literal)\n",
    "    \n",
    "print(\"Shape of df:\", df.shape)\n",
    "df.head()"
   ]
  },
  {
   "cell_type": "markdown",
   "metadata": {},
   "source": [
    "---\n",
    "<a id=\"datetime\"></a>\n",
    "\n",
    "# [^](#toc) <u>Datetime</u>\n",
    "\n",
    "First let's clear off whitespace and \\n characters"
   ]
  },
  {
   "cell_type": "code",
   "execution_count": 4,
   "metadata": {
    "collapsed": true
   },
   "outputs": [],
   "source": [
    "df[\"Date\"] = df[\"Date\"].map(lambda x: x.strip())"
   ]
  },
  {
   "cell_type": "markdown",
   "metadata": {},
   "source": [
    "### Time Zone\n",
    "\n",
    "It appears, the time is always posted in EDT"
   ]
  },
  {
   "cell_type": "code",
   "execution_count": 5,
   "metadata": {},
   "outputs": [
    {
     "data": {
      "text/plain": [
       "EDT    17617\n",
       "Name: Timezone, dtype: int64"
      ]
     },
     "execution_count": 5,
     "metadata": {},
     "output_type": "execute_result"
    }
   ],
   "source": [
    "df[\"Timezone\"] = df.Date.map(lambda x: x[-3:])\n",
    "df[\"Timezone\"].value_counts()"
   ]
  },
  {
   "cell_type": "markdown",
   "metadata": {},
   "source": [
    "### Updated times\n",
    "\n",
    "There are only 4 videos that were updated.  I don't think this is very interesting so I'm just going to ignore all updated times.\n",
    "\n",
    "I understand why someone would like this data, but I don't need it."
   ]
  },
  {
   "cell_type": "code",
   "execution_count": 6,
   "metadata": {},
   "outputs": [
    {
     "name": "stdout",
     "output_type": "stream",
     "text": [
      "4 clips have had information updated\n"
     ]
    }
   ],
   "source": [
    "df.temp = df.Date.map(lambda x: int(\"Updated\" in x))\n",
    "num_updated = len(df[df.temp == 1])\n",
    "print(f\"{num_updated} clips have had information updated\")\n",
    "\n",
    "df.Date = df.Date.map(lambda x: x.split(\"\\n\")[0])"
   ]
  },
  {
   "cell_type": "markdown",
   "metadata": {},
   "source": [
    "### Convert to Datetime\n",
    "\n",
    "See this Stack Exchange [link](https://english.stackexchange.com/questions/35315/what-is-the-proper-name-for-am-and-pm?newreg=2d443a2ca9dc4ba6abbe1a1e01e4af4b) haha.  I was honored by the line...\n",
    "\n",
    "    software developers think about naming variables properly. It is built into the Object-Oriented mindset. Jader, a commenter, said it well: \"It's funny that the question intrinsically is not programming related, but all programmers can understand why you posted it here.\"\n",
    "    \n",
    "I just considered myself a physicist!"
   ]
  },
  {
   "cell_type": "code",
   "execution_count": 7,
   "metadata": {
    "collapsed": true
   },
   "outputs": [],
   "source": [
    "def format_datetime(x):\n",
    "    return datetime.datetime.strptime(x[:-4], '%b %d, %Y %H:%M %p')\n",
    "\n",
    "df.Date = df.Date.map(format_datetime)"
   ]
  },
  {
   "cell_type": "markdown",
   "metadata": {},
   "source": [
    "### And we're done with times!"
   ]
  },
  {
   "cell_type": "markdown",
   "metadata": {},
   "source": [
    "---\n",
    "<a id=\"speakers\"></a>\n",
    "\n",
    "# [^](#toc) <u>Speakers</u>"
   ]
  },
  {
   "cell_type": "markdown",
   "metadata": {},
   "source": [
    "### Fill in missing speakers"
   ]
  },
  {
   "cell_type": "code",
   "execution_count": 8,
   "metadata": {
    "collapsed": true
   },
   "outputs": [],
   "source": [
    "for row in df.loc[df.Speakers.isnull(), 'Speakers'].index:\n",
    "    df.at[row, 'Speakers'] = {}"
   ]
  },
  {
   "cell_type": "markdown",
   "metadata": {},
   "source": [
    "### Overview of names"
   ]
  },
  {
   "cell_type": "code",
   "execution_count": 9,
   "metadata": {},
   "outputs": [
    {
     "name": "stdout",
     "output_type": "stream",
     "text": [
      "Unique names found in df: 32725\n"
     ]
    }
   ],
   "source": [
    "N = len(set.union(*df.Speakers))\n",
    "\n",
    "print(\"Unique names found in df:\", N)"
   ]
  },
  {
   "cell_type": "markdown",
   "metadata": {},
   "source": [
    "### Example: Obama\n",
    "\n",
    "It looks like there's a lot to do here, I want uniform names.\n",
    "\n",
    "When I search for Obama I want to see 'SEN. BARACK OBAMA', 'SENATOR BARACK OBAMA', 'PRESIDENT BARACK OBAMA', 'PRESIDENT BARACK OBAMA (singing)', 'BARACK OBAMA', 'BARACK OBAMA (singing)', and 'Barack Obama'\n",
    "\n",
    "My plan of attack is\n",
    "\n",
    "However removing modifiers only goes so far, sometimes the names are shortened.  In which case I need to manually group \"Obama\" and \"PRESIDENT OBAMA\" to \"BARACK OBAMA\".\n",
    "\n",
    "There also seems to be ASCII errors like \"\\xa0\" popping up."
   ]
  },
  {
   "cell_type": "code",
   "execution_count": 10,
   "metadata": {
    "scrolled": true
   },
   "outputs": [
    {
     "data": {
      "text/plain": [
       "{'And I think Obama and Boehner and Reid all know that their legacies are tied together and they reside around one thing',\n",
       " 'And Obama’s counter will have to be',\n",
       " 'And President Obama says he will do something few presidents have done',\n",
       " 'And so that’s what the FTC and the Obama Administration have both called for',\n",
       " 'Arizona Senator John McCain said today the Obama administration is to blame',\n",
       " 'BARACK OBAMA',\n",
       " 'BARACK OBAMA (singing)',\n",
       " 'Barack Obama',\n",
       " 'Before a fund-raiser for President Obama',\n",
       " 'Brookings institution scholar Shadi Hamid credits Mr. Obama for the Iran deal',\n",
       " 'But the Obama reelection team did wade into the Bain debate with a memo that said',\n",
       " 'Daniel Benjamin was coordinator for counterterrorism at the State Department during the first term of the Obama administration. He’s now a professor at Dartmouth College. And Joby Warrick is a national security correspondent at The Washington Post. He’s also the author of the book “Black Flags',\n",
       " 'FIRST LADY MICHELLE OBAMA',\n",
       " 'FORMER PRESIDENT BARACK OBAMA',\n",
       " 'FORMER PRESIDENT\\xa0BARACK OBAMA',\n",
       " 'Former President Barack Obama',\n",
       " 'He writes of one meeting in 2011 with Mr. Obama and General David Petraeus',\n",
       " 'I had a rule in the Obama campaign',\n",
       " 'Juliette Kayyem was an assistant secretary at the Department of Homeland Security during the Obama administration. She now has her own security consulting firm. William McCants is director of the Project on U.S. Relations with the Islamic world at the Brookings Institution. His most recent book is “The ISIS Apocalypse',\n",
       " 'MICHELLE OBAMA',\n",
       " 'Michelle Obama',\n",
       " 'Michèle Flournoy was undersecretary of defense for policy during the first term of the Obama administration. She’s now chief executive officer at the Center for a New American Security. And retired Army Colonel Andrew Bacevich is professor emeritus of international relations and history at Boston University. His latest book is “Breach of Trust',\n",
       " 'Obama',\n",
       " 'Obama’s is like the Simpson-Bowles. It’s $2 of cuts — I agree with you',\n",
       " 'PRESDIENT BARACK OBAMA',\n",
       " 'PRESIDEDNT BARACK OBAMA',\n",
       " 'PRESIDENT BARACK OBAMA',\n",
       " 'PRESIDENT BARACK OBAMA (singing)',\n",
       " 'PRESIDENT BARACK OBAMA [MAY 2014] ',\n",
       " 'PRESIDENT OBAMA',\n",
       " 'PRESIDENT OF THE UNITED STATE BARACK OBAMA',\n",
       " 'PRESIDENT PRESIDENT BARACK OBAMA',\n",
       " 'PRESIDENT PRESIDENT OBAMA',\n",
       " 'PRESIDENT\\xa0BARACK OBAMA',\n",
       " 'PRESIDNENT BARACK OBAMA',\n",
       " 'PRESIENT BARACK OBAMA',\n",
       " 'President Barack Obama',\n",
       " 'President Obama',\n",
       " 'President Obama and Speaker Ryan have made similar proposals',\n",
       " 'President Obama appealed for peace in a guest column for the Israeli newspaper Haaretz. He wrote',\n",
       " 'President Obama came into office calling for a troop surge in 2009 to defeat the Taliban',\n",
       " 'President Obama condemned the killing. In a statement',\n",
       " 'President Obama said this at the White House',\n",
       " 'President Obama wouldn’t discuss specifics today. Instead',\n",
       " 'President Obama’s remarks to the nation on fighting the Islamic State group',\n",
       " 'President Trump has again accused former President Obama of failing to stop Russian interference in the 2016 election. On Twitter today',\n",
       " 'Questions also continued about the five Taliban leaders long held at Guantanamo Bay and flown to Qatar in exchange for Bergdahl’s release. The Reuters News Service reported they have been moved to a residential compound and it said they are free to move about the country. President Obama acknowledged today that some of them may try to return to the fight in Afghanistan',\n",
       " 'SEN. BARACK OBAMA',\n",
       " 'SENATOR BARACK OBAMA',\n",
       " 'Speaker Ryan said Obamacare cannot stay as it is',\n",
       " 'The Obama administration continues to defend the law',\n",
       " 'The date is set for President Obama to deliver his 2014 State of the Union address to Congress',\n",
       " 'The nuclear agreement with Iran faces a fresh challenge within President Obama’s own party. Democratic Senator Chuck Schumer of New York',\n",
       " 'U. S. PRESIDENT BARACK OBAMA',\n",
       " 'U.S PRESIDENT BARACK OBAMA',\n",
       " 'U.S. PRESIDENT BARACK OBAMA',\n",
       " 'We campaigned hard. We had more people on the ground working for my campaign than President Obama had had. We were in constant communication',\n",
       " 'We explore all this now with retired Brigadier General David McGinnis. He was a senior Defense Department official during President Obama’s first term. And David Rothkopf',\n",
       " 'You would hope that President Obama would go in and think in these terms',\n",
       " '“Barack Obama'}"
      ]
     },
     "execution_count": 10,
     "metadata": {},
     "output_type": "execute_result"
    }
   ],
   "source": [
    "{elem for elem in {x for x in set.union(*df.Speakers)} if (\"OBAMA\" in elem or \"Obama\" in elem or \"obama\" in elem)}"
   ]
  },
  {
   "cell_type": "markdown",
   "metadata": {},
   "source": [
    "### Long names are actually text"
   ]
  },
  {
   "cell_type": "code",
   "execution_count": 11,
   "metadata": {
    "collapsed": true
   },
   "outputs": [],
   "source": [
    "df.Speakers = df.Speakers.map(lambda x: {elem for elem in x if len(elem.split(\" \")) < 9})"
   ]
  },
  {
   "cell_type": "markdown",
   "metadata": {},
   "source": [
    "### Remove titles, parties, and non-name features\n",
    "\n",
    "We went from 32,725 names to 27,188 names.  This is either from dropping bad names or merging two names that are actually the same person.\n",
    "\n",
    "This is not perfect, PBS does not have a standardized format.  PBS is not considerate of robots as this [example](https://www.pbs.org/newshour/show/trump-considering-sending-troops-afghanistan) shows.  The names start out as full names, but than move to last names.  This makes complete sense to a human in context.  I can't get a machine to understand context though.  Thankfully this type of format is rare and \"SREENIVASAN\" is a rare name so I can map it to \"HARI SREENIVASAN\".  \"RUBIN\" is probably a more common name and less popular on PBS newshour so unfortunately there's nothing I can easily do."
   ]
  },
  {
   "cell_type": "code",
   "execution_count": 1,
   "metadata": {
    "collapsed": true
   },
   "outputs": [],
   "source": [
    "### Standard imports\n",
    "import pandas as pd\n",
    "import numpy as np\n",
    "\n",
    "### Plotting imports\n",
    "import matplotlib.pyplot as plt\n",
    "import seaborn as sns\n",
    "%matplotlib inline\n",
    "sns.set()\n",
    "\n",
    "import re\n",
    "import datetime\n",
    "\n",
    "# Helps convert String representation of list into a list\n",
    "import ast\n",
    "\n",
    "def string_literal(x):\n",
    "    try:\n",
    "        return ast.literal_eval(x)\n",
    "    except:\n",
    "        return x\n",
    "\n",
    "df = pd.read_csv(\"../data/PBS_full_unedited.csv\")\n",
    "for col in [\"Transcript\", \"Story\", \"Speakers\"]:\n",
    "    df[col] = df[col].map(string_literal)\n",
    "\n",
    "for row in df.loc[df.Speakers.isnull(), 'Speakers'].index:\n",
    "    df.at[row, 'Speakers'] = {}\n",
    "    \n",
    "df.Speakers = df.Speakers.map(lambda x: {elem for elem in x if len(elem.split(\" \")) < 9})"
   ]
  },
  {
   "cell_type": "code",
   "execution_count": null,
   "metadata": {},
   "outputs": [],
   "source": [
    "%run preprocessing.py\n",
    "\n",
    "mistaken_names = get_mistaken_names()\n",
    "\n",
    "def map_speakers(x):\n",
    "    return {clean_names(elem) for elem in x if clean_names(elem) not in mistaken_names}\n",
    "\n",
    "df.Speakers = df.Speakers.map(map_speakers)\n",
    "N = len(set.union(*df.Speakers))\n",
    "print(\"New number of unique names:\", N)"
   ]
  },
  {
   "cell_type": "code",
   "execution_count": null,
   "metadata": {},
   "outputs": [],
   "source": [
    "# df[df.Speakers.map(lambda x: \"JAY INSLEE  WASHINGTON\" in x)].Transcript.iloc[0]"
   ]
  },
  {
   "cell_type": "code",
   "execution_count": null,
   "metadata": {},
   "outputs": [],
   "source": [
    "{x for x in set.union(*df.Speakers) if \"WASHING\" in x}"
   ]
  },
  {
   "cell_type": "markdown",
   "metadata": {},
   "source": [
    "### Quick Visualization\n",
    "\n",
    "There might be more work needed to be done.  I don't know why \"S\", \"T\", or \"E\" are all names.  They seem to be only found in cases where no Transcript is provided.  I'll deal with this issue later"
   ]
  },
  {
   "cell_type": "code",
   "execution_count": 13,
   "metadata": {},
   "outputs": [
    {
     "data": {
      "image/png": "[encoded data removed]",
      "text/plain": [
       "<matplotlib.figure.Figure at 0x1a08f84320>"
      ]
     },
     "metadata": {},
     "output_type": "display_data"
    }
   ],
   "source": [
    "# Will count number of unique words in a sentence\n",
    "from collections import Counter\n",
    "import operator\n",
    "    \n",
    "persons = df.Speakers.map(list).sum()\n",
    "\n",
    "freq = sorted(Counter(persons).items(), key=operator.itemgetter(1), reverse=True)\n",
    "freq\n",
    "x, y = list(zip(*freq[:25]))\n",
    "plt.figure(figsize=(14, 14))\n",
    "sns.barplot(list(y), list(x));"
   ]
  },
  {
   "cell_type": "markdown",
   "metadata": {},
   "source": [
    "---\n",
    "<a id=\"transcript\"></a>\n",
    "\n",
    "# [^](#toc) <u>Transcript</u>"
   ]
  },
  {
   "cell_type": "code",
   "execution_count": 13,
   "metadata": {
    "collapsed": true
   },
   "outputs": [],
   "source": [
    "for row in df.loc[df.Transcript.isnull(), 'Transcript'].index:\n",
    "    df.at[row, 'Transcript'] = []"
   ]
  },
  {
   "cell_type": "markdown",
   "metadata": {
    "collapsed": true
   },
   "source": [
    "### Plan of attack\n",
    "\n",
    "1.) Remove all speakers that should not be included.  \n",
    "2.) Go through each Transcript and check if it has a Speaker that is not included.  \n",
    "3.) If this speaker is the first one talking, clip the transcript short.  This is probably more intro if there isn't a direct speaker.  \n",
    "4.) If the speaker is not the first talker, append the speaker and text to the previous speaker.  \n",
    "\n",
    "Check out this [video](https://www.pbs.org/newshour/show/with-3-more-wins-romney-pivots-to-general-election#transcript) and search for \"North Carolina is a strong one for them\".  You'll see one of these formating slips and understand what the problem is.  If you know how to do a webpage inspection, try to figure out a difference between speaker names and emphasized text.  I couldn't"
   ]
  },
  {
   "cell_type": "code",
   "execution_count": 14,
   "metadata": {
    "collapsed": true,
    "scrolled": false
   },
   "outputs": [],
   "source": [
    "def map_transcript(speakers):\n",
    "    def map_transcript_helper(x):\n",
    "        if x is np.nan:\n",
    "            return x\n",
    "        i = 0\n",
    "        while i < len(x):\n",
    "            speeches = x[i]\n",
    "            \n",
    "            if clean_names(speeches[0]) not in speakers:\n",
    "                if i == 0:\n",
    "                    x = x[1:]\n",
    "                else:\n",
    "                    temp = speeches[1][:]\n",
    "                    temp.insert(0, speeches[0])\n",
    "                    x[i-1][1] = x[i-1][1] + temp\n",
    "\n",
    "                    del x[i]\n",
    "                    i -= 1\n",
    "            i += 1\n",
    "        return x\n",
    "    return map_transcript_helper\n",
    "\n",
    "speakers = set.union(*df.Speakers)\n",
    "df.Transcript = df.Transcript.map(map_transcript(speakers))"
   ]
  },
  {
   "cell_type": "markdown",
   "metadata": {},
   "source": [
    "### Quick check\n",
    "\n",
    "I'll check a few random transcripts to see if they were formatted correctly\n",
    "\n",
    "And wow!  This works almost perfectly!  I haven't seen one mistake yet"
   ]
  },
  {
   "cell_type": "code",
   "execution_count": 16,
   "metadata": {
    "scrolled": true
   },
   "outputs": [
    {
     "name": "stdout",
     "output_type": "stream",
     "text": [
      "\n",
      "https://www.pbs.org/newshour/show/investing-health-americans-start-early\n",
      "\u001b[1m TRANSCRIPT \u001b[0m\n",
      "\u001b[4m JUDY WOODRUFF: \u001b[0m\n",
      "    Much of the national focus on improving health care has centered on the expansion of coverage that’s starting to take effect. But a report out today says it’s time for the country to pay more attention to the socioeconomic conditions that play a role in health outcomes, especially for lower-income Americans. The recommendations, issued by a nonpartisan commission created by the Robert Wood Johnson Foundation, call for new investments like pre-k education for children under 5. David Williams is a professor at Harvard’s School of Public Health. He was a staff director for the commission as well. And, for the record, the foundation is one of our sponsors for health coverage. Professor Williams, it’s good to have you with us.\n",
      "\n",
      "\u001b[4m DAVID WILLIAMS: \u001b[0m\n",
      "    It’s good to be with you.\n",
      "\n",
      "\u001b[4m JUDY WOODRUFF: \u001b[0m\n",
      "    So what is the rationale for thinking that doing something about socioeconomic conditions is going to be connected to a health improvement?\n",
      "\n",
      "\u001b[4m DAVID WILLIAMS: \u001b[0m\n",
      "    Well, first, the larger context is, as a nation, we have a huge problem. We spend more money on medical care than any other country in the world. According to the World Bank, half of the money spent on medical care in the world annually is spent in the United States. Yet we rank among — at the bottom of the industrialized world on health and we are losing ground over time. So we have a crisis. And the problem is not just a problem of the low-income individuals and the poor. Even the best-off Americans are not currently achieving a level of health that is possible. And more medical care spending will not solve it. We now need to look at what are the drivers of health in the first place. Our health care system is wonderful. We have great facilities. We have the best-trained medical work force in the world, but to a large degree, medical care is a repair shop that takes care of us once we get sick, and it doesn’t determine whether we get sick or not in the first place.\n",
      "\n",
      "\u001b[4m JUDY WOODRUFF: \u001b[0m\n",
      "    So, what is an example of something that can be done to improve someone’s what we call socioeconomic status, whether it’s education or something else, that then leads to an improvement in health?\n",
      "\n",
      "\u001b[4m DAVID WILLIAMS: \u001b[0m\n",
      "    So, let’s talk about early childhood development. What we know is that the foundations of health in adulthood are laid in childhood. And the opportunities and the experiences that children have even before they go to school shape their risk of chronic disease 30, 40 years later, so that everything that we can do to prepare those children and give them the optimal health and optimal developmental opportunities in the preschool area, then they’re ready for school, and they have high levels of education, and they will have better health for the rest of their life.\n",
      "\n",
      "\u001b[4m JUDY WOODRUFF: \u001b[0m\n",
      "    But can you give us an example of something they would learn in school that would then lead to a better health outcome?\n",
      "\n",
      "\u001b[4m DAVID WILLIAMS: \u001b[0m\n",
      "    Certainly, more health education and more physical fitness in school are good, but that is not where I’m going. We’re going on preparing those kids for learning. So, for example, a child exposed to toxic stress — and toxic stress are examples of being taken care of by a caregiver who is chronically depressed, growing up in chronic poverty, being a victim of abuse — that child will have more problems in success in school, but will also have more health problems as an adult. Studies show that we can actually measure the alteration of brain structure in those preschool kids linked to their exposure to toxic stress.\n",
      "\n",
      "\u001b[4m JUDY WOODRUFF: \u001b[0m\n",
      "    At the same time, I was reading today that, of course, there is disagreement among experts about whether universal pre-K education, which is one the things I think your task force is calling for, is good for all children. How do you look at the arguments that are out there about this?\n",
      "\n",
      "\u001b[4m DAVID WILLIAMS: \u001b[0m\n",
      "    I think every child needs the opportunity for healthy development. For many children, they may get that in the home. And they don’t have to go to a preschool setting. So we are not necessarily calling for preschool — universal preschool for all. We are calling for universal preschool for those who are in environments where they need that healthy environment to do well. And that certainly characterizes many of our lower socioeconomic populations.\n",
      "\n",
      "\u001b[4m JUDY WOODRUFF: \u001b[0m\n",
      "    Looking at — looking again at some of your recommendations, it’s a pretty ambitious agenda. How do you pay for it?\n",
      "\n",
      "\u001b[4m DAVID WILLIAMS: \u001b[0m\n",
      "    That is a really good question. Given our expenditure on medical care, this money is not — there isn’t a shortage of money in this country. The question is, how do we spend our money and what are our priorities? But the good news is, there are promising models all across the country right now with creative public-private participations, like in the state of Minnesota, where the business community and the state has come together to provide scholarships so that all poor kids can get a preschool education. Or there’s an example from Texas where the state raised the sales tax by one-eighth of a penny, and that money is allocated for preschool education. So there are wonderful examples.\n",
      "\n",
      "\u001b[4m JUDY WOODRUFF: \u001b[0m\n",
      "    So, you are saying the evidence is already out there that this works?\n",
      "\n",
      "\u001b[4m DAVID WILLIAMS: \u001b[0m\n",
      "    Let me tell you how powerful the evidence is. The best evidence comes from a study done in Ypsilanti, Michigan, more than 50 years ago, the Perry Preschool study, where kids were randomly, by the flip of a coin, received preschool or didn’t receive preschool. They have now been followed for 40 years. Those kids that got the preschool, 40 years later, higher levels of education, higher levels of income, higher levels of home ownership, higher levels of marriage, less involvement with the criminal justice system, less involvement with the social welfare system. And for every dollar invested, there is a $17 return to society from that preschool program. That is stunning. That is amazing economic development that we can achieve.\n",
      "\n",
      "\u001b[4m JUDY WOODRUFF: \u001b[0m\n",
      "    So, just very quickly, finally, is this something you have to persuade the White House and the Congress to go along with to make it happen?\n",
      "\n",
      "\u001b[4m DAVID WILLIAMS: \u001b[0m\n",
      "    I think there is a lot of interest in pre-K education across the political spectrum in the United States now, because the evidence is so strong that there is such enormous benefit for our society.\n",
      "\n",
      "\u001b[4m JUDY WOODRUFF: \u001b[0m\n",
      "    All right, Professor David Williams of Harvard, we thank you very much.\n",
      "\n",
      "\u001b[4m DAVID WILLIAMS: \u001b[0m\n",
      "    Thank you.  \n",
      "\n",
      "\n",
      "https://www.pbs.org/newshour/show/dont-wait-till-dying-words-say-whats-important\n",
      "\u001b[1m TRANSCRIPT \u001b[0m\n",
      "\u001b[4m JUDY WOODRUFF: \u001b[0m\n",
      "    Finally tonight: What we can learn about life from those facing death? Chaplain Kerry Egan’s new book is called “On Living” and is the latest edition in our essay series In My Humble Opinion.\n",
      "\n",
      "\u001b[4m KERRY EGAN: \u001b[0m\n",
      "    When people learn that I’m a hospice chaplain, they usually have one of two reactions. They either say they could never do that job and change the subject completely, or they have questions, lots of questions. One of the questions I hear more often than I would have thought is about people’s last words. People are enormously curious about what people who are actively dying talk about. Have you ever heard anything really amazing? What’s the craziest deathbed confession you have ever heard? Should I plan out my last words? That last question seemed really odd to me the first time someone asked, but I have been asked it at least a dozen times, so it’s obviously on some people’s minds. The questions don’t actually match up with what typically happens when someone is dying. Instead, I suspect they’re coming from a sort of Hollywood movie or television idea of what dying should be like, clean, calm, bizarrely romantic, always with the good sense to close your eyes before taking a long sigh and limply tossing your head to the side, and beautiful, urgent, life-altering utterances. So, if this is what you think happens in death, I can see how you would feel a lot of pressure to get it right. When someone asks me if they should plan their last words  No. People who are dying are often unconscious for days before they die. Sometimes, they’re in pain. They’re often highly medicated. Honestly, most of the last words I have heard are so mundane, I can’t even give an example. When you know you have a terminal diagnosis, death often takes a person by surprise. You might not even know that your last words are your last words. But there’s a longer, more complex answer too. If you had something so important to tell your loved ones that you feel the need to plan out what to say, then why would you wait to say it? If it’s so important that you’re worried about it now, then say it now. Ask for forgiveness now. Say you love someone now. Share whatever wisdom you have with the world right now. Here’s the thing. When people ask me about dying words, what they’re really asking is, what is so important in this life that it should be the very last thing we talk about? So, instead of asking, what do other people talk about, ask yourself, what do I really want to talk about now? And that’s a really good question. That’s a really good thing to ponder.\n",
      "\n",
      "\u001b[4m JUDY WOODRUFF: \u001b[0m\n",
      "    A lot to think about there. And you can watch more of our series In My Humble Opinion on our website.\n",
      "\n",
      "\n",
      "https://www.pbs.org/newshour/show/gillibrand-calls-to-reform-handling-of-military-sexual-crime\n",
      "\u001b[1m TRANSCRIPT \u001b[0m\n",
      "\u001b[4m JUDY WOODRUFF: \u001b[0m\n",
      "    The numbers are grim: A female soldier is more likely to be raped by a fellow officer than she is to die in combat. It’s one of many statistics that have fixed new attention on the problem of sexual assault in the armed forces. Pentagon findings last May estimated 26,000 troops were sexually assaulted last year, but only 3,400 attacks were reported. Democratic Senator Kirsten Gillibrand of New York is leading an effort to change the way the military handles these cases.\n",
      "\n",
      "\u001b[4m KIRSTEN GILLIBRAND: \u001b[0m\n",
      "    So, today we’re standing in a united front to take on these issues with new legislation that will fundamentally remove the decision-making from the chain of command and give that discretion to an experienced military prosecutor, where it belongs.\n",
      "\n",
      "\u001b[4m JUDY WOODRUFF: \u001b[0m\n",
      "    Gillibrand points to victims who complain that too often commanders ignore their allegations or their careers suffer. But her proposal was defeated by the Senate Armed Services Committee in June in favor of an alternative by committee Chair Carl Levin, Democrat of Michigan. It requires automatic review of any commander’s decision not to prosecute a sexual assault case. Last week, Levin released two letters from senior military officials supporting his argument that prosecution should remain within the chain of command. Missouri Democratic Senator Claire McCaskill agrees with him.\n",
      "\n",
      "\u001b[4m CLAIRE MCCASKILL: \u001b[0m\n",
      "    We believe there will be more prosecutions, and the numbers support that. We believe that the only way to hold command accountable is to make them responsible, not to completely remove their responsibility. We believe that’s a recipe for disaster.\n",
      "\n",
      "\u001b[4m JUDY WOODRUFF: \u001b[0m\n",
      "    Still, Gillibrand is undaunted. She says she hopes to take her measure to the full Senate. Already, she has 44 supporters from both parties. The legislation could be brought to the floor as early as September. And joining us from Capitol Hill to talk about her proposal and its prospects going forward is New York Senator Kirsten Gillibrand. Welcome to the NewsHour Senator. First of all, tell us why it’s so important to you that the prosecution of sexual assault charges be taken out of the chain of military command.\n",
      "\n",
      "\u001b[4m KIRSTEN GILLIBRAND: \u001b[0m\n",
      "    Because it’s exactly what the victims have asked for. They have said over and over again that they don’t trust the chain of command to deliver justice in their cases. For those victims who have been courageous enough to report these cases, 62 percent have said they have been retaliated against for reporting those cases. Of the tens of thousands who didn’t report incidents of sexual assault, rape, and unwanted sexual assault contact, the reason they give us is they don’t trust the chain of command, that they think nothing will be done, or that they fear retaliation, or they have seen someone else be retaliated against. So what we’re looking for is a way to address these cases in a more objective way, where a trained military prosecutor becomes the decision-maker as to whether or not these cases should go to trial. And hopefully with that objectivity and lack of bias, more victims will feel confident in coming forward.\n",
      "\n",
      "\u001b[4m JUDY WOODRUFF: \u001b[0m\n",
      "    Senator, as you know, the chairman of the Armed Services Committee, your fellow Democrat, Carl Levin, is arguing something very different. He says it could take responsibility away from the commanders, relieve them of the kind of incentive they should feel. He argues that you should leave it with them and, when they don’t prosecute a case, it should go to a superior officer.\n",
      "\n",
      "\u001b[4m KIRSTEN GILLIBRAND: \u001b[0m\n",
      "    My response is quite simple. They are still responsible for these cases. They’re 100 percent responsible to make sure no one is raped or sexually assaulted within the military. They are still responsible that no one is retaliated against, and that they can set a command climate that’s consistent with victims being able to come forward and report these cases. The chain of command is entirely on the hook for good order and discipline. And, frankly, Judy, if you’re having 26,000 sexual assaults, rapes, and unwanted sexual contacts a year, you’re not maintaining good order and discipline. And if those few victims that do come forward, 62 percent are being retaliated against, you’re not setting a command climate that’s conducive for victims receiving justice. So I don’t believe commanders are off the hook. I think they’re entirely on the hook to do a better job than they’re doing today and to have that legal decision, which is just a legal decision, where evidence is weighed, being made by someone who is trained to do that. Commanders are still 100 percent responsible for making sure these crimes don’t happen and making sure that there’s no retaliation for a victim when they come forward.\n",
      "\n",
      "\u001b[4m JUDY WOODRUFF: \u001b[0m\n",
      "    I was just going to say, Chairman Levin, again, his argument then is that what he wants to do is make it a crime if there’s a retaliation against a victim.\n",
      "\n",
      "\u001b[4m KIRSTEN GILLIBRAND: \u001b[0m\n",
      "    And I agree. And we have already voted on that. We are 100 percent in agreement, and consensus has already been reached on that. We have passed that measure out of the Armed Services Committee unanimously. So now retaliation is going to be a crime, and it is a crime under the jurisdiction of commanders. And they are 100 percent responsible for making sure it doesn’t happen and, if it does, that it can be reported and that justice can be done.\n",
      "\n",
      "\u001b[4m JUDY WOODRUFF: \u001b[0m\n",
      "    Senator, what do you think it says about this issue that in order to put together a coalition of support, you have had to reach way beyond your own party? You have reached into the Republican Party to people who you would typically disagree with politically, Senator Ted Cruz, Senator Rand Paul? And, meanwhile, you are fighting opposing fellow Democrats like Senator Levin, Senator McCaskill and a number of others?\n",
      "\n",
      "\u001b[4m KIRSTEN GILLIBRAND: \u001b[0m\n",
      "    Well, we all agree that we have to do something about sexual assault and rape within the military. And victims aren’t Democrats or Republicans. They don’t have an ideology. Victims’ voices have to be heard. And that’s why you’re hearing from senators across the political spectrum who say the status quo is unacceptable, we have to do something. And they’re listening to those victims when they say they don’t trust the chain of command to bring justice in these cases and that the current command climate is untenable for them. The secretaries of defense since Dick Cheney was secretary of defense some 20-odd years ago have said, Judy, over and over again zero tolerance for sexual assaults and rape. This has been within the chain of command every one of those years since. The commanders have had every bit of authority they need to tackle this problem and solve this problem, but it’s not being solved. So I think that measure of transparency and accountability and objectivity makes sense. And I don’t think, as they say, it will undermine good order and discipline because we have allies that we fight side by side with, the U.K., Israel, Canada, who have done this already and they still have good order and discipline within their ranks.\n",
      "\n",
      "\u001b[4m JUDY WOODRUFF: \u001b[0m\n",
      "    Two other quick questions. Of course, Defense Secretary Chuck Hagel has not gone along with your approach. Where does President Obama stand? Have you talked to him about this?\n",
      "\n",
      "\u001b[4m KIRSTEN GILLIBRAND: \u001b[0m\n",
      "    I have not been able to speak to him directly, although I have asked for that conversation. I’m hopeful that President Obama will support this change, this reform, this commonsense reform that creates that transparency and accountability. I also hope Secretary Hagel will. Secretary Hagel has already made the bold decision that taking the decision of whether or not to overturn a jury verdict out of the chain of command. Now, he’s already changed and recommended a change to the Uniform Code of Military Justice to say this one legal decision should be taken out of the chain of command. I think we should add a second legal decision, whether or not to go to trial, and also take that out of the chain of command.\n",
      "\n",
      "\u001b[4m JUDY WOODRUFF: \u001b[0m\n",
      "    So, just quickly, right now, you have 44 supporters among your fellow senators. Do you think you will get a majority?\n",
      "\n",
      "\u001b[4m KIRSTEN GILLIBRAND: \u001b[0m\n",
      "    I do. And I think that the more time we have so that I can — and my allies and colleagues, we have so many senators who support this reform. The more time we have to talk to our colleagues, to explain the facts, what’s actually happening, the fact that there’s 26,000 cases, but only 3,300 being reported, the fact that only one in 10 go to trial, those statistics are highly concerning. And when they hear that and they hear what the victims tell us, it causes them very grave concern. And that’s how we have slowly won the support that we have.\n",
      "\n",
      "\u001b[4m JUDY WOODRUFF: \u001b[0m\n",
      "    Senator Kirsten Gillibrand, thank you very much.\n",
      "\n",
      "\u001b[4m KIRSTEN GILLIBRAND: \u001b[0m\n",
      "    Thank you.  \n",
      "\n",
      "\n",
      "https://www.pbs.org/newshour/show/teachers-and-students-retrace-the-lives-of-those-who-died-at-normandy\n",
      "\u001b[1m TRANSCRIPT \u001b[0m\n",
      "\u001b[4m EDITOR’S NOTE: \u001b[0m\n",
      "    The full name of the National History Day program is Normandy: Sacrifice for Freedom Albert H. Small Student & Teacher Institute.\n",
      "\n",
      "\u001b[4m JUDY WOODRUFF: \u001b[0m\n",
      "    Now: an effort to make history more meaningful by bring the classroom to where it happened. The NewsHour’s April Brown traveled to Normandy, France, to see a program that uses a personal approach to highlight the sacrifices made during World War II. The report is part of our American Graduate series, a public media initiative funded by the Corporation for Public Broadcasting.\n",
      "\n",
      "\u001b[4m APRIL BROWN: \u001b[0m\n",
      "    It has been more than 70-years since Broadway Valentine Sims, Eugene Mlot, and Francisco Blas died during the invasion of Normandy, the turning point in the allied campaign to liberate Europe from Nazi Germany in World War II. But their sacrifice and that of 13 other servicemen is being remembered and honored in graveside eulogies at the American cemetery perched above Omaha Beach in Northern France.\n",
      "\n",
      "\u001b[4m STUDENT: \u001b[0m\n",
      "    Technician 5th Class Broadway Valentine Sims was born in 1916 in the remote town of Elizabethton, Tennessee.\n",
      "\n",
      "\u001b[4m STUDENT: \u001b[0m\n",
      "    Eugene G. Mlot was an orderly worker, shipping clerk and electrician with four years of high school under his belt when he joined the Army Air Force in 1942.\n",
      "\n",
      "\u001b[4m STUDENT: \u001b[0m\n",
      "    Francisco Blas embodied the characteristics of bravery, courage and unwavering loyalty as he faced segregation, uncertainty and even death itself.\n",
      "\n",
      "\u001b[4m APRIL BROWN: \u001b[0m\n",
      "    This is an important part of National History Day’s Normandy Institute.\n",
      "\n",
      "\u001b[4m VANESSA TAYLOR: \u001b[0m\n",
      "    I will never sacrifice of Henry and Louie made for their country and the sacrifice they made for me.\n",
      "\n",
      "\u001b[4m CATHY GORN: \u001b[0m\n",
      "    The program started because of a concern that today’s young people don’t really understand what sacrifice is all about, sacrifice and freedom and how those two fit together.\n",
      "\n",
      "\u001b[4m APRIL BROWN: \u001b[0m\n",
      "    As executive director of National History Day, Cathy Gorn has led 15 student-teacher teams on a journey through history each summer over the past five years. By following in the footsteps of those who served and died during the Normandy campaign, they learn about D-Day and World War II.\n",
      "\n",
      "\u001b[4m CATHY GORN: \u001b[0m\n",
      "    We have asked them to look at someone from their own backyards, their own community, or at least their own state, and find out all they could about this individual who gave that ultimate sacrifice — many of these people were not much older than the kids that we bring here — and to honor them in way that gives them their history back.\n",
      "\n",
      "\u001b[4m APRIL BROWN: \u001b[0m\n",
      "    Before they even go to France, teachers and students selected for the institute spend months becoming historians. They contact living family members, collect pictures, love letters and official military documents, hoping to unlock any clues about their silent hero.\n",
      "\n",
      "\u001b[4m CATHY GORN: \u001b[0m\n",
      "    We know about the generals. We know about the really famous heroes, but the average guy that went out there and did what he had to do, they are just numbers. So these kids are getting to know them.\n",
      "\n",
      "\u001b[4m APRIL BROWN: \u001b[0m\n",
      "    There is a stop in Washington, D.C., to learn more about the war beyond what can be taken from a textbook. At the National Archives in College Park, Maryland, the teams work with some of the nation’s leading caretakers of World War II artifacts, hoping to uncover further details amid the Archives’ four billion documents.\n",
      "\n",
      "\u001b[4m NORWOOD THOMAS JR.: \u001b[0m\n",
      "    We had several planes that crashed with all men on board.\n",
      "\n",
      "\u001b[4m APRIL BROWN: \u001b[0m\n",
      "    But the human costs of war can perhaps best be told by those who were there; 92-year-old Norwood Thomas Jr. fought as part of famed 101st Airborne Division. He was among the first Allied troops to land in Normandy, parachuting into a field under cover of darkness.\n",
      "\n",
      "\u001b[4m NORWOOD THOMAS JR.: \u001b[0m\n",
      "    On the drop zone that I landed on, we were supposed to have three battalions of infantry. This would be approximately 2,000 men. I landed at 1:21 in the morning. Daybreak, we moved off that drop zone, we were able to garner 95 men.\n",
      "\n",
      "\u001b[4m APRIL BROWN: \u001b[0m\n",
      "    When they get to France, it’s time to tell the stories of their servicemen, among them a pilot, a technician and two radiomen, twin brothers from Nebraska. Vanessa Taylor from Ainsworth, Nebraska, learned Henry and Louie Pieper died together when their ship struck a mine in the English Channel.\n",
      "\n",
      "\u001b[4m VANESSA TAYLOR: \u001b[0m\n",
      "    Their parents had received a letter from the twins only two days before their deaths, stating: “Do not worry about us. We are together.”\n",
      "\n",
      "\u001b[4m SPENCER VALENTI: \u001b[0m\n",
      "    So he probably landed like right there.\n",
      "\n",
      "\u001b[4m APRIL BROWN: \u001b[0m\n",
      "    Spencer Valenti and his teacher, Thomas Leighty of Wilmington, Delaware, studied the life of medic William Verderamo, who saw action in North Africa and Sicily before the Battle of Normandy.\n",
      "\n",
      "\u001b[4m SPENCER VALENTI: \u001b[0m\n",
      "    A lot of his family members say that he was a really outgoing sort of person, that he’d always say — when he registered for the Army, that he would always say that he’s going out to save the world.\n",
      "\n",
      "\u001b[4m APRIL BROWN: \u001b[0m\n",
      "    Private Verderamo was killed on June 6, 1944 D-Day. Spencer uncovered a letter that was later sent by the Army Effects Bureau to soldier’s wife of six months, Mary.\n",
      "\n",
      "\u001b[4m IT READS: \u001b[0m\n",
      "   \n",
      "\n",
      "\u001b[4m MAN: \u001b[0m\n",
      "    “I regret to advise that included among your husband’s effects are some photos which are damaged, apparently by bloodstains. I shall appreciate it if you will indicate whether you desire these articles forwarded with his property.”\n",
      "\n",
      "\u001b[4m AUDREY CALOVICH: \u001b[0m\n",
      "    It makes it very real and vivid. And I do have a very vivid imagination. So, I’m able to put myself in stories. I’m able to imagine if this is where they ran up the beach, got shot down.\n",
      "\n",
      "\u001b[4m APRIL BROWN: \u001b[0m\n",
      "    At first, Audrey Calovich of Kansas City, Missouri, only knew Flight Officer Edmund Decker as a decorated pilot killed by German fire on June 8, 1944. She’d eventually find out much more.\n",
      "\n",
      "\u001b[4m AUDREY CALOVICH: \u001b[0m\n",
      "    Ed possessed a joy of mischief and adventure, an eye for trouble, and a lover of life. He was dashing and handsome. Flight Officer Decker was idealistic, cocky and brave. He was a fighter pilot, a good one.\n",
      "\n",
      "\u001b[4m APRIL BROWN: \u001b[0m\n",
      "    Many of the details Audrey discovered came from Decker’s family in Kansas city and an alumni group at his old high school. But she found few military documents that mentioned Decker, and that has given her a new empathy for historians.\n",
      "\n",
      "\u001b[4m AUDREY CALOVICH: \u001b[0m\n",
      "    Being on this trip, you understand how important it is to preserve those documents for future researchers like us.\n",
      "APRIL BROWN: Audrey’s history teacher, Lisa Lauck, will use lessons learned on this trip to change how she teaches.\n",
      "\n",
      "\u001b[4m LISA LAUCK: \u001b[0m\n",
      "    Looking at it in the past, how I have taught it, you think about the troop movements and the overall big picture. And you know people died, but you don’t really, I don’t know, connect to it emotionally. And that’s something I really want to change for my students. So, I hope that they can take away that these are people like you and I that had families, had loved ones.\n",
      "\n",
      "\u001b[4m APRIL BROWN: \u001b[0m\n",
      "    While there is much emphasis on the personal stories here, historian Antonin Dehays is conveying another important goal of the institute, that the past can be seen in many ways.\n",
      "\n",
      "\u001b[4m ANTONIN DEHAYS: \u001b[0m\n",
      "    Our job is to mention all the aspects of an event, the glorious ones, but the darkest ones as well.\n",
      "\n",
      "\u001b[4m APRIL BROWN: \u001b[0m\n",
      "    Among them, the horrors of the Holocaust and the almost six million Jews who died. But at a visit to a German cemetery, Nicole Cordes of Indianapolis became aware of how families in that country were affected as well.\n",
      "\n",
      "\u001b[4m NICOLE CORDES: \u001b[0m\n",
      "    Someone had come recently and put a laminated picture of a soldier, and they put flowers around it. And they were fresh flowers. So, I think he was 19 when he died.\n",
      "\n",
      "\u001b[4m APRIL BROWN: \u001b[0m\n",
      "    Back at the American cemetery, the students say a final goodbye to the men they have grown to know.\n",
      "\n",
      "\u001b[4m STUDENT: \u001b[0m\n",
      "    While Mack and I have never met, I feel that this experience has given me an opportunity to get to know a face beyond the statistics. A project that began as a way for me to share and teach history has now instead been a teacher to me.\n",
      "\n",
      "\u001b[4m STUDENT: \u001b[0m\n",
      "    Eventually, time and the elements will take back this plot, but it is a beautiful thought to think that he will stay here and that the earth will always remember him and his sacrifice.\n",
      "\n",
      "\u001b[4m APRIL BROWN: \u001b[0m\n",
      "    For the PBS NewsHour, I’m April Brown in Normandy, France.\n",
      "\n",
      "\u001b[4m GWEN IFILL: \u001b[0m\n",
      "    The students and teachers are building Web sites to share what they learned about their silent heroes. You can find a link to them on our home page, PBS.org/NewsHour. PBS NewsHour education coverage is part of American Graduate  Let’s Make it Happen, a public media initiative made possible by the Corporation for Public Broadcasting.\n",
      "\n",
      "\n",
      "https://www.pbs.org/newshour/show/makes-volcano-erupt\n",
      "\u001b[1m TRANSCRIPT \u001b[0m\n"
     ]
    }
   ],
   "source": [
    "### Used to style Python print statements\n",
    "class color:\n",
    "    BOLD = '\\033[1m'\n",
    "    UNDERLINE = '\\033[4m'\n",
    "    END = '\\033[0m'\n",
    "\n",
    "def pretty_transcript(transcript, convert_name=False):\n",
    "    print(color.BOLD, \"TRANSCRIPT\", color.END)\n",
    "    for speaker in transcript:\n",
    "        if convert_name:\n",
    "            speaker[0] = clean_names(speaker[0])\n",
    "        print(color.UNDERLINE, speaker[0] + \":\", color.END)\n",
    "        for txt in speaker[1:]:\n",
    "            print(\"  \", \" \".join(txt))\n",
    "        print()\n",
    "            \n",
    "for _ in range(5):\n",
    "    print()\n",
    "    index = np.random.randint(0, len(df) - 1)\n",
    "    print(df.iloc[index].URL)\n",
    "    pretty_transcript(df.iloc[index].Transcript, convert_name=True)"
   ]
  },
  {
   "cell_type": "markdown",
   "metadata": {},
   "source": [
    "# Misc cleaning"
   ]
  },
  {
   "cell_type": "markdown",
   "metadata": {},
   "source": [
    "### Order dataframe"
   ]
  },
  {
   "cell_type": "code",
   "execution_count": 15,
   "metadata": {},
   "outputs": [
    {
     "name": "stdout",
     "output_type": "stream",
     "text": [
      "Shape of df: (17617, 8)\n"
     ]
    },
    {
     "data": {
      "text/html": [
       "<div>\n",
       "<style>\n",
       "    .dataframe thead tr:only-child th {\n",
       "        text-align: right;\n",
       "    }\n",
       "\n",
       "    .dataframe thead th {\n",
       "        text-align: left;\n",
       "    }\n",
       "\n",
       "    .dataframe tbody tr th {\n",
       "        vertical-align: top;\n",
       "    }\n",
       "</style>\n",
       "<table border=\"1\" class=\"dataframe\">\n",
       "  <thead>\n",
       "    <tr style=\"text-align: right;\">\n",
       "      <th></th>\n",
       "      <th>URL</th>\n",
       "      <th>Story</th>\n",
       "      <th>Date</th>\n",
       "      <th>Title</th>\n",
       "      <th>Transcript</th>\n",
       "      <th>Speakers</th>\n",
       "      <th>Number of Comments</th>\n",
       "      <th>Timezone</th>\n",
       "    </tr>\n",
       "  </thead>\n",
       "  <tbody>\n",
       "    <tr>\n",
       "      <th>0</th>\n",
       "      <td>https://www.pbs.org/newshour/show/robert-macne...</td>\n",
       "      <td>“How high did the scandals reach and was Presi...</td>\n",
       "      <td>1973-05-17 02:26:00</td>\n",
       "      <td>Watergate: The NewsHour’s 1973 Special Report</td>\n",
       "      <td>[]</td>\n",
       "      <td>{T, S, E}</td>\n",
       "      <td>0.0</td>\n",
       "      <td>EDT</td>\n",
       "    </tr>\n",
       "    <tr>\n",
       "      <th>1</th>\n",
       "      <td>https://www.pbs.org/newshour/show/tempers-flar...</td>\n",
       "      <td>This MacNeil/Lehrer Report piece highlights th...</td>\n",
       "      <td>1979-06-29 06:00:00</td>\n",
       "      <td>Tempers Flare In Lines for Gasoline in 1979</td>\n",
       "      <td>[]</td>\n",
       "      <td>{T, S, E}</td>\n",
       "      <td>0.0</td>\n",
       "      <td>EDT</td>\n",
       "    </tr>\n",
       "    <tr>\n",
       "      <th>2</th>\n",
       "      <td>https://www.pbs.org/newshour/show/margaret-tha...</td>\n",
       "      <td>Robert MacNeil and Jim Lehrer interviewed Brit...</td>\n",
       "      <td>1981-02-27 06:00:00</td>\n",
       "      <td>Newsmaker: Margaret Thatcher</td>\n",
       "      <td>[]</td>\n",
       "      <td>{T, S, E}</td>\n",
       "      <td>0.0</td>\n",
       "      <td>EDT</td>\n",
       "    </tr>\n",
       "    <tr>\n",
       "      <th>3</th>\n",
       "      <td>https://www.pbs.org/newshour/show/macneil-lehr...</td>\n",
       "      <td>Jim Lehrer and Charlene Hunter Gault report on...</td>\n",
       "      <td>1982-10-25 06:00:00</td>\n",
       "      <td>The MacNeil/Lehrer Report – October 25, 1982 –...</td>\n",
       "      <td>[]</td>\n",
       "      <td>{T, S, E}</td>\n",
       "      <td>0.0</td>\n",
       "      <td>EDT</td>\n",
       "    </tr>\n",
       "    <tr>\n",
       "      <th>4</th>\n",
       "      <td>https://www.pbs.org/newshour/show/the-macneil-...</td>\n",
       "      <td>Robert MacNeil and Charlayne Hunter Gault repo...</td>\n",
       "      <td>1983-11-30 06:00:00</td>\n",
       "      <td>The MacNeil/Lehrer Report from Nov. 30, 1983 o...</td>\n",
       "      <td>[]</td>\n",
       "      <td>{T, S, E}</td>\n",
       "      <td>0.0</td>\n",
       "      <td>EDT</td>\n",
       "    </tr>\n",
       "  </tbody>\n",
       "</table>\n",
       "</div>"
      ],
      "text/plain": [
       "                                                 URL  \\\n",
       "0  https://www.pbs.org/newshour/show/robert-macne...   \n",
       "1  https://www.pbs.org/newshour/show/tempers-flar...   \n",
       "2  https://www.pbs.org/newshour/show/margaret-tha...   \n",
       "3  https://www.pbs.org/newshour/show/macneil-lehr...   \n",
       "4  https://www.pbs.org/newshour/show/the-macneil-...   \n",
       "\n",
       "                                               Story                Date  \\\n",
       "0  “How high did the scandals reach and was Presi... 1973-05-17 02:26:00   \n",
       "1  This MacNeil/Lehrer Report piece highlights th... 1979-06-29 06:00:00   \n",
       "2  Robert MacNeil and Jim Lehrer interviewed Brit... 1981-02-27 06:00:00   \n",
       "3  Jim Lehrer and Charlene Hunter Gault report on... 1982-10-25 06:00:00   \n",
       "4  Robert MacNeil and Charlayne Hunter Gault repo... 1983-11-30 06:00:00   \n",
       "\n",
       "                                               Title Transcript   Speakers  \\\n",
       "0      Watergate: The NewsHour’s 1973 Special Report         []  {T, S, E}   \n",
       "1        Tempers Flare In Lines for Gasoline in 1979         []  {T, S, E}   \n",
       "2                       Newsmaker: Margaret Thatcher         []  {T, S, E}   \n",
       "3  The MacNeil/Lehrer Report – October 25, 1982 –...         []  {T, S, E}   \n",
       "4  The MacNeil/Lehrer Report from Nov. 30, 1983 o...         []  {T, S, E}   \n",
       "\n",
       "   Number of Comments Timezone  \n",
       "0                 0.0      EDT  \n",
       "1                 0.0      EDT  \n",
       "2                 0.0      EDT  \n",
       "3                 0.0      EDT  \n",
       "4                 0.0      EDT  "
      ]
     },
     "execution_count": 15,
     "metadata": {},
     "output_type": "execute_result"
    }
   ],
   "source": [
    "df = df.sort_values(\"Date\").reset_index(drop=True)\n",
    "print(\"Shape of df:\", df.shape)\n",
    "df.head()"
   ]
  },
  {
   "cell_type": "markdown",
   "metadata": {},
   "source": [
    "### Remove Speakers if missing Transcript"
   ]
  },
  {
   "cell_type": "code",
   "execution_count": 16,
   "metadata": {},
   "outputs": [
    {
     "data": {
      "text/html": [
       "<div>\n",
       "<style>\n",
       "    .dataframe thead tr:only-child th {\n",
       "        text-align: right;\n",
       "    }\n",
       "\n",
       "    .dataframe thead th {\n",
       "        text-align: left;\n",
       "    }\n",
       "\n",
       "    .dataframe tbody tr th {\n",
       "        vertical-align: top;\n",
       "    }\n",
       "</style>\n",
       "<table border=\"1\" class=\"dataframe\">\n",
       "  <thead>\n",
       "    <tr style=\"text-align: right;\">\n",
       "      <th></th>\n",
       "      <th>URL</th>\n",
       "      <th>Story</th>\n",
       "      <th>Date</th>\n",
       "      <th>Title</th>\n",
       "      <th>Transcript</th>\n",
       "      <th>Speakers</th>\n",
       "      <th>Number of Comments</th>\n",
       "      <th>Timezone</th>\n",
       "    </tr>\n",
       "  </thead>\n",
       "  <tbody>\n",
       "  </tbody>\n",
       "</table>\n",
       "</div>"
      ],
      "text/plain": [
       "Empty DataFrame\n",
       "Columns: [URL, Story, Date, Title, Transcript, Speakers, Number of Comments, Timezone]\n",
       "Index: []"
      ]
     },
     "execution_count": 16,
     "metadata": {},
     "output_type": "execute_result"
    }
   ],
   "source": [
    "index = df[df.Transcript.map(lambda x: x == []) & df.Speakers.map(lambda x: x != {})].index\n",
    "\n",
    "for row in index:\n",
    "    df.at[row, 'Speakers'] = {}\n",
    "\n",
    "df[df.Transcript.map(lambda x: x == []) & df.Speakers.map(lambda x: x != {})]"
   ]
  },
  {
   "cell_type": "code",
   "execution_count": 18,
   "metadata": {},
   "outputs": [
    {
     "data": {
      "text/plain": [
       "{'ANGELA MERKEL', 'FROM  ANGELA MERKEL', 'JUDY MERKEL'}"
      ]
     },
     "execution_count": 18,
     "metadata": {},
     "output_type": "execute_result"
    }
   ],
   "source": [
    "df.Speakers = df.Speakers.map(set)\n",
    "\n",
    "{x for x in set.union(*df.Speakers) if \"MERKEL\" in x}"
   ]
  },
  {
   "cell_type": "markdown",
   "metadata": {},
   "source": [
    "### Final data look"
   ]
  },
  {
   "cell_type": "code",
   "execution_count": 19,
   "metadata": {},
   "outputs": [
    {
     "data": {
      "text/html": [
       "<div>\n",
       "<style>\n",
       "    .dataframe thead tr:only-child th {\n",
       "        text-align: right;\n",
       "    }\n",
       "\n",
       "    .dataframe thead th {\n",
       "        text-align: left;\n",
       "    }\n",
       "\n",
       "    .dataframe tbody tr th {\n",
       "        vertical-align: top;\n",
       "    }\n",
       "</style>\n",
       "<table border=\"1\" class=\"dataframe\">\n",
       "  <thead>\n",
       "    <tr style=\"text-align: right;\">\n",
       "      <th></th>\n",
       "      <th>URL</th>\n",
       "      <th>Story</th>\n",
       "      <th>Date</th>\n",
       "      <th>Title</th>\n",
       "      <th>Transcript</th>\n",
       "      <th>Speakers</th>\n",
       "      <th>Number of Comments</th>\n",
       "      <th>Timezone</th>\n",
       "    </tr>\n",
       "  </thead>\n",
       "  <tbody>\n",
       "    <tr>\n",
       "      <th>0</th>\n",
       "      <td>https://www.pbs.org/newshour/show/robert-macne...</td>\n",
       "      <td>“How high did the scandals reach and was Presi...</td>\n",
       "      <td>1973-05-17 02:26:00</td>\n",
       "      <td>Watergate: The NewsHour’s 1973 Special Report</td>\n",
       "      <td>[]</td>\n",
       "      <td>{}</td>\n",
       "      <td>0.0</td>\n",
       "      <td>EDT</td>\n",
       "    </tr>\n",
       "    <tr>\n",
       "      <th>1</th>\n",
       "      <td>https://www.pbs.org/newshour/show/tempers-flar...</td>\n",
       "      <td>This MacNeil/Lehrer Report piece highlights th...</td>\n",
       "      <td>1979-06-29 06:00:00</td>\n",
       "      <td>Tempers Flare In Lines for Gasoline in 1979</td>\n",
       "      <td>[]</td>\n",
       "      <td>{}</td>\n",
       "      <td>0.0</td>\n",
       "      <td>EDT</td>\n",
       "    </tr>\n",
       "    <tr>\n",
       "      <th>2</th>\n",
       "      <td>https://www.pbs.org/newshour/show/margaret-tha...</td>\n",
       "      <td>Robert MacNeil and Jim Lehrer interviewed Brit...</td>\n",
       "      <td>1981-02-27 06:00:00</td>\n",
       "      <td>Newsmaker: Margaret Thatcher</td>\n",
       "      <td>[]</td>\n",
       "      <td>{}</td>\n",
       "      <td>0.0</td>\n",
       "      <td>EDT</td>\n",
       "    </tr>\n",
       "    <tr>\n",
       "      <th>3</th>\n",
       "      <td>https://www.pbs.org/newshour/show/macneil-lehr...</td>\n",
       "      <td>Jim Lehrer and Charlene Hunter Gault report on...</td>\n",
       "      <td>1982-10-25 06:00:00</td>\n",
       "      <td>The MacNeil/Lehrer Report – October 25, 1982 –...</td>\n",
       "      <td>[]</td>\n",
       "      <td>{}</td>\n",
       "      <td>0.0</td>\n",
       "      <td>EDT</td>\n",
       "    </tr>\n",
       "    <tr>\n",
       "      <th>4</th>\n",
       "      <td>https://www.pbs.org/newshour/show/the-macneil-...</td>\n",
       "      <td>Robert MacNeil and Charlayne Hunter Gault repo...</td>\n",
       "      <td>1983-11-30 06:00:00</td>\n",
       "      <td>The MacNeil/Lehrer Report from Nov. 30, 1983 o...</td>\n",
       "      <td>[]</td>\n",
       "      <td>{}</td>\n",
       "      <td>0.0</td>\n",
       "      <td>EDT</td>\n",
       "    </tr>\n",
       "  </tbody>\n",
       "</table>\n",
       "</div>"
      ],
      "text/plain": [
       "                                                 URL  \\\n",
       "0  https://www.pbs.org/newshour/show/robert-macne...   \n",
       "1  https://www.pbs.org/newshour/show/tempers-flar...   \n",
       "2  https://www.pbs.org/newshour/show/margaret-tha...   \n",
       "3  https://www.pbs.org/newshour/show/macneil-lehr...   \n",
       "4  https://www.pbs.org/newshour/show/the-macneil-...   \n",
       "\n",
       "                                               Story                Date  \\\n",
       "0  “How high did the scandals reach and was Presi... 1973-05-17 02:26:00   \n",
       "1  This MacNeil/Lehrer Report piece highlights th... 1979-06-29 06:00:00   \n",
       "2  Robert MacNeil and Jim Lehrer interviewed Brit... 1981-02-27 06:00:00   \n",
       "3  Jim Lehrer and Charlene Hunter Gault report on... 1982-10-25 06:00:00   \n",
       "4  Robert MacNeil and Charlayne Hunter Gault repo... 1983-11-30 06:00:00   \n",
       "\n",
       "                                               Title Transcript Speakers  \\\n",
       "0      Watergate: The NewsHour’s 1973 Special Report         []       {}   \n",
       "1        Tempers Flare In Lines for Gasoline in 1979         []       {}   \n",
       "2                       Newsmaker: Margaret Thatcher         []       {}   \n",
       "3  The MacNeil/Lehrer Report – October 25, 1982 –...         []       {}   \n",
       "4  The MacNeil/Lehrer Report from Nov. 30, 1983 o...         []       {}   \n",
       "\n",
       "   Number of Comments Timezone  \n",
       "0                 0.0      EDT  \n",
       "1                 0.0      EDT  \n",
       "2                 0.0      EDT  \n",
       "3                 0.0      EDT  \n",
       "4                 0.0      EDT  "
      ]
     },
     "execution_count": 19,
     "metadata": {},
     "output_type": "execute_result"
    }
   ],
   "source": [
    "df.head()"
   ]
  },
  {
   "cell_type": "code",
   "execution_count": 20,
   "metadata": {},
   "outputs": [
    {
     "data": {
      "text/html": [
       "<div>\n",
       "<style>\n",
       "    .dataframe thead tr:only-child th {\n",
       "        text-align: right;\n",
       "    }\n",
       "\n",
       "    .dataframe thead th {\n",
       "        text-align: left;\n",
       "    }\n",
       "\n",
       "    .dataframe tbody tr th {\n",
       "        vertical-align: top;\n",
       "    }\n",
       "</style>\n",
       "<table border=\"1\" class=\"dataframe\">\n",
       "  <thead>\n",
       "    <tr style=\"text-align: right;\">\n",
       "      <th></th>\n",
       "      <th>URL</th>\n",
       "      <th>Story</th>\n",
       "      <th>Date</th>\n",
       "      <th>Title</th>\n",
       "      <th>Transcript</th>\n",
       "      <th>Speakers</th>\n",
       "      <th>Number of Comments</th>\n",
       "      <th>Timezone</th>\n",
       "    </tr>\n",
       "  </thead>\n",
       "  <tbody>\n",
       "    <tr>\n",
       "      <th>17612</th>\n",
       "      <td>https://www.pbs.org/newshour/show/livingwhileb...</td>\n",
       "      <td>A profusion of national incidents in which whi...</td>\n",
       "      <td>2018-07-02 06:35:00</td>\n",
       "      <td>#LivingWhileBlack: How does racial bias lead t...</td>\n",
       "      <td>[[Judy Woodruff, [ A number of recent incident...</td>\n",
       "      <td>{HOWARD SCHULTZ, YAMICHE ALCINDOR, JUDY WOODRU...</td>\n",
       "      <td>0.0</td>\n",
       "      <td>EDT</td>\n",
       "    </tr>\n",
       "    <tr>\n",
       "      <th>17613</th>\n",
       "      <td>https://www.pbs.org/newshour/show/yemens-spira...</td>\n",
       "      <td>One of the poorest countries in the Middle Eas...</td>\n",
       "      <td>2018-07-02 06:40:00</td>\n",
       "      <td>Yemen’s spiraling hunger crisis is a man-made ...</td>\n",
       "      <td>[[Judy Woodruff, [ The “NewsHour” has reported...</td>\n",
       "      <td>{DHABIA KHARFOUSH, NAIMI, STEPHEN ANDERSON, JA...</td>\n",
       "      <td>0.0</td>\n",
       "      <td>EDT</td>\n",
       "    </tr>\n",
       "    <tr>\n",
       "      <th>17614</th>\n",
       "      <td>https://www.pbs.org/newshour/show/will-u-s-mex...</td>\n",
       "      <td>There are enormous expectations facing the new...</td>\n",
       "      <td>2018-07-02 06:43:00</td>\n",
       "      <td>Will U.S.-Mexico policy tensions change under ...</td>\n",
       "      <td>[[Judy Woodruff, [ And now perspective from fo...</td>\n",
       "      <td>{ROBERTA JACOBSON, JUDY WOODRUFF}</td>\n",
       "      <td>0.0</td>\n",
       "      <td>EDT</td>\n",
       "    </tr>\n",
       "    <tr>\n",
       "      <th>17615</th>\n",
       "      <td>https://www.pbs.org/newshour/show/elected-in-a...</td>\n",
       "      <td>Mexican president-elect Andrés Manuel López Ob...</td>\n",
       "      <td>2018-07-02 06:45:00</td>\n",
       "      <td>Elected by a landslide, can Mexico’s López Obr...</td>\n",
       "      <td>[[Judy Woodruff, [ After two previous runs for...</td>\n",
       "      <td>{ALFONSO ROMO, ANDRES MANUEL LOPEZ OBRADOR, RA...</td>\n",
       "      <td>0.0</td>\n",
       "      <td>EDT</td>\n",
       "    </tr>\n",
       "    <tr>\n",
       "      <th>17616</th>\n",
       "      <td>https://www.pbs.org/newshour/show/news-wrap-tr...</td>\n",
       "      <td>In our news wrap Monday, President Trump's sea...</td>\n",
       "      <td>2018-07-02 06:50:00</td>\n",
       "      <td>News Wrap: Trump interviews Supreme Court cand...</td>\n",
       "      <td>[[Judy Woodruff, [ President Trump’s search fo...</td>\n",
       "      <td>{DONALD TRUMP, JUSTIN HERDMAN, JUDY WOODRUFF, ...</td>\n",
       "      <td>0.0</td>\n",
       "      <td>EDT</td>\n",
       "    </tr>\n",
       "  </tbody>\n",
       "</table>\n",
       "</div>"
      ],
      "text/plain": [
       "                                                     URL  \\\n",
       "17612  https://www.pbs.org/newshour/show/livingwhileb...   \n",
       "17613  https://www.pbs.org/newshour/show/yemens-spira...   \n",
       "17614  https://www.pbs.org/newshour/show/will-u-s-mex...   \n",
       "17615  https://www.pbs.org/newshour/show/elected-in-a...   \n",
       "17616  https://www.pbs.org/newshour/show/news-wrap-tr...   \n",
       "\n",
       "                                                   Story                Date  \\\n",
       "17612  A profusion of national incidents in which whi... 2018-07-02 06:35:00   \n",
       "17613  One of the poorest countries in the Middle Eas... 2018-07-02 06:40:00   \n",
       "17614  There are enormous expectations facing the new... 2018-07-02 06:43:00   \n",
       "17615  Mexican president-elect Andrés Manuel López Ob... 2018-07-02 06:45:00   \n",
       "17616  In our news wrap Monday, President Trump's sea... 2018-07-02 06:50:00   \n",
       "\n",
       "                                                   Title  \\\n",
       "17612  #LivingWhileBlack: How does racial bias lead t...   \n",
       "17613  Yemen’s spiraling hunger crisis is a man-made ...   \n",
       "17614  Will U.S.-Mexico policy tensions change under ...   \n",
       "17615  Elected by a landslide, can Mexico’s López Obr...   \n",
       "17616  News Wrap: Trump interviews Supreme Court cand...   \n",
       "\n",
       "                                              Transcript  \\\n",
       "17612  [[Judy Woodruff, [ A number of recent incident...   \n",
       "17613  [[Judy Woodruff, [ The “NewsHour” has reported...   \n",
       "17614  [[Judy Woodruff, [ And now perspective from fo...   \n",
       "17615  [[Judy Woodruff, [ After two previous runs for...   \n",
       "17616  [[Judy Woodruff, [ President Trump’s search fo...   \n",
       "\n",
       "                                                Speakers  Number of Comments  \\\n",
       "17612  {HOWARD SCHULTZ, YAMICHE ALCINDOR, JUDY WOODRU...                 0.0   \n",
       "17613  {DHABIA KHARFOUSH, NAIMI, STEPHEN ANDERSON, JA...                 0.0   \n",
       "17614                  {ROBERTA JACOBSON, JUDY WOODRUFF}                 0.0   \n",
       "17615  {ALFONSO ROMO, ANDRES MANUEL LOPEZ OBRADOR, RA...                 0.0   \n",
       "17616  {DONALD TRUMP, JUSTIN HERDMAN, JUDY WOODRUFF, ...                 0.0   \n",
       "\n",
       "      Timezone  \n",
       "17612      EDT  \n",
       "17613      EDT  \n",
       "17614      EDT  \n",
       "17615      EDT  \n",
       "17616      EDT  "
      ]
     },
     "execution_count": 20,
     "metadata": {},
     "output_type": "execute_result"
    }
   ],
   "source": [
    "df.tail()"
   ]
  },
  {
   "cell_type": "markdown",
   "metadata": {
    "collapsed": true
   },
   "source": [
    "---\n",
    "<a id=\"save\"></a>\n",
    "\n",
    "# [^](#toc) <u>Save to CSV</u>\n",
    "\n",
    "Now that we've cleaned up our data a bit, let's save it into a different CSV file."
   ]
  },
  {
   "cell_type": "code",
   "execution_count": 21,
   "metadata": {
    "collapsed": true
   },
   "outputs": [],
   "source": [
    "df.to_csv(\"../data/PBS-newhour-clean.csv\", index=False)"
   ]
  },
  {
   "cell_type": "markdown",
   "metadata": {},
   "source": [
    "# Tests"
   ]
  },
  {
   "cell_type": "markdown",
   "metadata": {},
   "source": [
    "### Remove party regex"
   ]
  },
  {
   "cell_type": "code",
   "execution_count": 22,
   "metadata": {
    "collapsed": true
   },
   "outputs": [],
   "source": [
    "%run preprocessing.py\n",
    "\n",
    "ex1 = \"BARBARA MIKULSKI (D-MD.)\"\n",
    "assert remove_party(ex1) == \"BARBARA MIKULSKI\" \n",
    "\n",
    "ex2 = \"JERRY BROWN (D-CALIF.)\"\n",
    "assert remove_party(ex2) == \"JERRY BROWN\" \n",
    "\n",
    "ex3 = \"CHUCK SCHUMER (DN.Y.)\"\n",
    "assert remove_party(ex3) == \"CHUCK SCHUMER\" \n",
    "\n",
    "ex4 = \"JOHN BOEHNER (R-OH.)\"\n",
    "assert remove_party(ex4) == \"JOHN BOEHNER\" \n",
    "\n",
    "ex5 = \"JEFF SESSIONS (R-ALA.)\"\n",
    "assert remove_party(ex5) == \"JEFF SESSIONS\" \n",
    "\n",
    "ex6 = \"TODD YOUNG (RIND.)\"\n",
    "assert remove_party(ex6) == \"TODD YOUNG\" \n",
    "\n",
    "ex7 = \"DONALD TRUMP\"\n",
    "assert remove_party(ex7) == ex7\n",
    "\n",
    "ex8 = \"PRESIDENT BARACK OBAMA (singing)\"\n",
    "assert remove_party(ex8) == ex8"
   ]
  },
  {
   "cell_type": "code",
   "execution_count": null,
   "metadata": {
    "collapsed": true
   },
   "outputs": [],
   "source": []
  }
 ],
 "metadata": {
  "kernelspec": {
   "display_name": "Python 3",
   "language": "python",
   "name": "python3"
  },
  "language_info": {
   "codemirror_mode": {
    "name": "ipython",
    "version": 3
   },
   "file_extension": ".py",
   "mimetype": "text/x-python",
   "name": "python",
   "nbconvert_exporter": "python",
   "pygments_lexer": "ipython3",
   "version": "3.6.3"
  }
 },
 "nbformat": 4,
 "nbformat_minor": 2
}
