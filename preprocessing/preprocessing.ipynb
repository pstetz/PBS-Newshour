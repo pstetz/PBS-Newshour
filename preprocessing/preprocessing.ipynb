{
 "cells": [
  {
   "cell_type": "markdown",
   "metadata": {},
   "source": [
    "<a id=\"toc\"></a>\n",
    "\n",
    "# <u>Table of Contents</u>\n",
    "\n",
    "1.) [Setup](#setup)  \n",
    "&nbsp;&nbsp;&nbsp;&nbsp; 1.1.) [Imports](#imports)   \n",
    "&nbsp;&nbsp;&nbsp;&nbsp; 1.2.) [Helpers](#helpers)   \n",
    "&nbsp;&nbsp;&nbsp;&nbsp; 1.3.) [Load data](#load)   \n",
    "2.) [Datetime](#datetime)  \n",
    "3.) [Speakers](#speakers)  \n",
    "4.) [Transcript](#transcript)  \n",
    "5.) [Save to CSV](#save)  "
   ]
  },
  {
   "cell_type": "markdown",
   "metadata": {},
   "source": [
    "---\n",
    "<a id=\"setup\"></a>\n",
    "\n",
    "# [^](#toc) <u>Setup</u>"
   ]
  },
  {
   "cell_type": "markdown",
   "metadata": {},
   "source": [
    "<a id=\"imports\"></a>\n",
    "\n",
    "### [^](#toc) Imports"
   ]
  },
  {
   "cell_type": "code",
   "execution_count": 1,
   "metadata": {
    "collapsed": true
   },
   "outputs": [],
   "source": [
    "### Standard imports\n",
    "import pandas as pd\n",
    "import numpy as np\n",
    "\n",
    "### Plotting imports\n",
    "import matplotlib.pyplot as plt\n",
    "import seaborn as sns\n",
    "%matplotlib inline\n",
    "sns.set()\n",
    "\n",
    "import re\n",
    "import datetime\n",
    "\n",
    "# Helps convert String representation of list into a list\n",
    "import ast\n",
    "\n",
    "### Removes warnings that occassionally show in imports\n",
    "import warnings\n",
    "warnings.filterwarnings('ignore')"
   ]
  },
  {
   "cell_type": "markdown",
   "metadata": {},
   "source": [
    "<a id=\"helpers\"></a>\n",
    "\n",
    "### [^](#toc) Helpers"
   ]
  },
  {
   "cell_type": "code",
   "execution_count": 2,
   "metadata": {
    "collapsed": true
   },
   "outputs": [],
   "source": [
    "def string_literal(x):\n",
    "    try:\n",
    "        return ast.literal_eval(x)\n",
    "    except:\n",
    "        return x"
   ]
  },
  {
   "cell_type": "markdown",
   "metadata": {},
   "source": [
    "<a id=\"load\"></a>\n",
    "\n",
    "### [^](#toc) Load data"
   ]
  },
  {
   "cell_type": "code",
   "execution_count": null,
   "metadata": {},
   "outputs": [],
   "source": [
    "df = pd.read_csv(\"../data/PBS_full_unedited.csv\")\n",
    "for col in [\"Transcript\", \"Story\", \"Speakers\"]:\n",
    "    df[col] = df[col].map(string_literal)\n",
    "    \n",
    "print(\"Shape of df:\", df.shape)\n",
    "df.head()"
   ]
  },
  {
   "cell_type": "markdown",
   "metadata": {},
   "source": [
    "---\n",
    "<a id=\"datetime\"></a>\n",
    "\n",
    "# [^](#toc) <u>Datetime</u>\n",
    "\n",
    "First let's clear off whitespace and \\n characters"
   ]
  },
  {
   "cell_type": "code",
   "execution_count": null,
   "metadata": {
    "collapsed": true
   },
   "outputs": [],
   "source": [
    "df[\"Date\"] = df[\"Date\"].map(lambda x: x.strip())"
   ]
  },
  {
   "cell_type": "markdown",
   "metadata": {},
   "source": [
    "### Time Zone\n",
    "\n",
    "It appears, the time is always posted in EDT"
   ]
  },
  {
   "cell_type": "code",
   "execution_count": null,
   "metadata": {},
   "outputs": [],
   "source": [
    "df[\"Timzone\"] = df.Date.map(lambda x: x[-3:])\n",
    "df[\"Timzone\"].value_counts()"
   ]
  },
  {
   "cell_type": "markdown",
   "metadata": {},
   "source": [
    "### Updated times\n",
    "\n",
    "There are only 4 videos that were updated.  I don't think this is very interesting so I'm just going to ignore all updated times.\n",
    "\n",
    "I understand why someone would like this data, but I don't need it."
   ]
  },
  {
   "cell_type": "code",
   "execution_count": null,
   "metadata": {},
   "outputs": [],
   "source": [
    "df.temp = df.Date.map(lambda x: int(\"Updated\" in x))\n",
    "num_updated = len(df[df.temp == 1])\n",
    "print(f\"{num_updated} clips have had information updated\")\n",
    "\n",
    "df.Date = df.Date.map(lambda x: x.split(\"\\n\")[0])"
   ]
  },
  {
   "cell_type": "markdown",
   "metadata": {},
   "source": [
    "### Convert to Datetime\n",
    "\n",
    "See this Stack Exchange [link](https://english.stackexchange.com/questions/35315/what-is-the-proper-name-for-am-and-pm?newreg=2d443a2ca9dc4ba6abbe1a1e01e4af4b) haha.  I was honored by the line...\n",
    "\n",
    "    software developers think about naming variables properly. It is built into the Object-Oriented mindset. Jader, a commenter, said it well: \"It's funny that the question intrinsically is not programming related, but all programmers can understand why you posted it here.\"\n",
    "    \n",
    "I just considered myself a physicist!"
   ]
  },
  {
   "cell_type": "code",
   "execution_count": null,
   "metadata": {
    "collapsed": true
   },
   "outputs": [],
   "source": [
    "def format_datetime(x):\n",
    "    return datetime.datetime.strptime(x[:-4], '%b %d, %Y %H:%M %p')\n",
    "\n",
    "df.Date = df.Date.map(format_datetime)"
   ]
  },
  {
   "cell_type": "markdown",
   "metadata": {},
   "source": [
    "### And we're done with times!"
   ]
  },
  {
   "cell_type": "markdown",
   "metadata": {},
   "source": [
    "---\n",
    "<a id=\"speakers\"></a>\n",
    "\n",
    "# [^](#toc) <u>Speakers</u>"
   ]
  },
  {
   "cell_type": "markdown",
   "metadata": {},
   "source": [
    "### Fill in missing speakers"
   ]
  },
  {
   "cell_type": "code",
   "execution_count": null,
   "metadata": {
    "collapsed": true
   },
   "outputs": [],
   "source": [
    "for row in df.loc[df.Speakers.isnull(), 'Speakers'].index:\n",
    "    df.at[row, 'Speakers'] = {}"
   ]
  },
  {
   "cell_type": "markdown",
   "metadata": {},
   "source": [
    "### Overview of names\n",
    "\n",
    "It looks like there's a lot to do here, I want uniform names.\n",
    "\n",
    "When I search for Obama I want to see 'SEN. BARACK OBAMA', 'SENATOR BARACK OBAMA', 'PRESIDENT BARACK OBAMA', 'PRESIDENT BARACK OBAMA (singing)', 'BARACK OBAMA', 'BARACK OBAMA (singing)', and 'Barack Obama'\n",
    "\n",
    "My plan of attack is\n",
    "\n",
    "However removing modifiers only goes so far, sometimes the names are shortened.  In which case I need to manually group \"Obama\" and \"PRESIDENT OBAMA\" to \"BARACK OBAMA\".\n",
    "\n",
    "There also seems to be ASCII errors like \"\\xa0\" popping up."
   ]
  },
  {
   "cell_type": "code",
   "execution_count": null,
   "metadata": {
    "scrolled": true
   },
   "outputs": [],
   "source": [
    "{elem for elem in {x for x in set.union(*df.Speakers)} if (\"OBAMA\" in elem or \"Obama\" in elem or \"obama\" in elem)}"
   ]
  },
  {
   "cell_type": "code",
   "execution_count": null,
   "metadata": {},
   "outputs": [],
   "source": [
    "{elem for elem in {x for x in set.union(*df.Speakers)} if (\"TRUMP\" in elem or \"Trump\" in elem)}"
   ]
  },
  {
   "cell_type": "markdown",
   "metadata": {},
   "source": [
    "### Long names are actually text"
   ]
  },
  {
   "cell_type": "code",
   "execution_count": 11,
   "metadata": {
    "collapsed": true
   },
   "outputs": [],
   "source": [
    "df.Speakers = df.Speakers.map(lambda x: {elem for elem in x if len(elem.split(\" \")) < 9})"
   ]
  },
  {
   "cell_type": "markdown",
   "metadata": {},
   "source": [
    "### Remove titles, parties, and non-name features"
   ]
  },
  {
   "cell_type": "code",
   "execution_count": 38,
   "metadata": {},
   "outputs": [
    {
     "data": {
      "text/plain": [
       "set()"
      ]
     },
     "execution_count": 38,
     "metadata": {},
     "output_type": "execute_result"
    }
   ],
   "source": [
    "# %run preprocessing.py\n",
    "%run mistaken_names.py\n",
    "\n",
    "mistaken_names = get_mistaken_names()\n",
    "\n",
    "# len(set.union(*df.Speakers)) - len({clean_names(x) for x in set.union(*df.Speakers) if clean_names(x) not in mistaken_names})\n",
    "{clean_names(x) for x in set.union(*df.Speakers) if \"{\" in clean_names(x) and clean_names(x) not in mistaken_names}\n",
    "# {x for x in set.union(*df.Speakers) if x == \"(THROUGH TRANSLATOR)\"}\n",
    "# {x for x in set.union(*df.Speakers) if len(x.split(\" \")) > 7}\n",
    "\n",
    "# "
   ]
  },
  {
   "cell_type": "markdown",
   "metadata": {},
   "source": [
    "### Manually remove some text that was formatted as a name"
   ]
  },
  {
   "cell_type": "code",
   "execution_count": null,
   "metadata": {
    "scrolled": false
   },
   "outputs": [],
   "source": [
    "%run mistaken_names.py\n",
    "\n",
    "mistaken_names = get_mistaken_names()\n",
    "\n",
    "df.Speakers = df.Speakers.map(lambda x: {elem for elem in x if clean_names(elem) not in mistaken_names})\n",
    "{clean_names(x) for x in set.union(*df.Speakers) if len(x.split(\" \")) == 6}"
   ]
  },
  {
   "cell_type": "code",
   "execution_count": 86,
   "metadata": {
    "collapsed": true
   },
   "outputs": [],
   "source": [
    "def transcripts_with_speaker(df, speaker):\n",
    "    includes_speaker = df.Speakers.map(lambda x: any([clean_names(elem) == speaker for elem in x]))\n",
    "    return df[includes_speaker].URL\n",
    "\n",
    "temp = transcripts_with_speaker(df, \"NORTH CAROLINA IS A STRONG ONE FOR THEM\")"
   ]
  },
  {
   "cell_type": "code",
   "execution_count": 88,
   "metadata": {
    "collapsed": true
   },
   "outputs": [],
   "source": [
    "# def h(x):\n",
    "#     if x is not np.nan and x != []:\n",
    "# #         if clean_names(x[0][0]) == \"SHE GOES IN TO INTERVIEW HITLER IN 1931\":\n",
    "#         return x[0]\n",
    "#     return np.nan\n",
    "\n",
    "\n",
    "# df.Transcript.map(h).dropna()"
   ]
  },
  {
   "cell_type": "code",
   "execution_count": null,
   "metadata": {
    "collapsed": true
   },
   "outputs": [],
   "source": []
  },
  {
   "cell_type": "code",
   "execution_count": null,
   "metadata": {
    "collapsed": true
   },
   "outputs": [],
   "source": []
  },
  {
   "cell_type": "markdown",
   "metadata": {},
   "source": [
    "### Transcript\n",
    "\n",
    "1.) Remove all speakers that should not be included.  \n",
    "2.) Go through each Transcript and check if it has a Speaker that is not included.  \n",
    "3.) If this speaker is the first one talking, print the URL and clip this short.  \n",
    "4.) If the speaker is nnot the first talker, print the URL and append the speaker and text to the previous speaker.  \n",
    "- Check out this [video](https://www.pbs.org/newshour/show/with-3-more-wins-romney-pivots-to-general-election#transcript) and search for \"North Carolina is a strong one for them\".  You'll see one of these formating slips."
   ]
  },
  {
   "cell_type": "markdown",
   "metadata": {},
   "source": [
    "---\n",
    "<a id=\"transcript\"></a>\n",
    "\n",
    "# [^](#toc) <u>Transcript</u>"
   ]
  },
  {
   "cell_type": "code",
   "execution_count": 20,
   "metadata": {
    "collapsed": true
   },
   "outputs": [],
   "source": [
    "for row in df.loc[df.Transcript.isnull(), 'Transcript'].index:\n",
    "    df.at[row, 'Transcript'] = [\"Unknown\"]"
   ]
  },
  {
   "cell_type": "code",
   "execution_count": 22,
   "metadata": {},
   "outputs": [
    {
     "data": {
      "text/plain": [
       "0        [[Judy Woodruff, [ President Trump’s search fo...\n",
       "1        [[Judy Woodruff, [ After two previous runs for...\n",
       "2        [[Judy Woodruff, [ And now perspective from fo...\n",
       "3        [[Judy Woodruff, [ The “NewsHour” has reported...\n",
       "4        [[Judy Woodruff, [ A number of recent incident...\n",
       "5        [[Judy Woodruff, [ And now back to the looming...\n",
       "6        [[Judy Woodruff, [ On our Bookshelf tonight, w...\n",
       "7        [[HARI SREENIVASEN, [ Trade is one of the area...\n",
       "8        [[JEFF GREENFIELD, [ It has the look and feel ...\n",
       "9        [[CAMERON ESPOSITO, [ “And I don’t totally rem...\n",
       "10       [[LISA DESJARDINS, [ Despite court orders it i...\n",
       "11       [[IVETTE FELICIANO, [ Success did not come eas...\n",
       "12       [[Judy Woodruff, [ President Trump now says he...\n",
       "13       [[Judy Woodruff, [ This week, a federal judge ...\n",
       "14       [[Judy Woodruff, [ How will the Trump administ...\n",
       "15       [[Judy Woodruff, [ And now, the aftermath of t...\n",
       "16       [[Judy Woodruff, [ While the U.S. grapples wit...\n",
       "17       [[Judy Woodruff, [ On Sunday, Mexicans go to t...\n",
       "18       [[Judy Woodruff, [ And now to the analysis of ...\n",
       "19       [[Judy Woodruff, [ There’s no nominee yet, but...\n",
       "20       [[Judy Woodruff, [ In the day’s other news, a ...\n",
       "21       [[Judy Woodruff, [ The Supreme Court wrapped u...\n",
       "22       [[Judy Woodruff, [ And Justice Kennedy’s vacan...\n",
       "23       [[Judy Woodruff, [ Now, the challenges of reun...\n",
       "24       [[Judy Woodruff, [ But first, discussions abou...\n",
       "25       [[Judy Woodruff, [ Now a look at a group that ...\n",
       "26       [[Judy Woodruff, [ Now another installment of ...\n",
       "27       [[Amna Nawaz, [ Shakeup at the U.S. Supreme Co...\n",
       "28       [[Amna Nawaz, [ And with that Supreme Court va...\n",
       "29       [[Amna Nawaz, [ In the day’s other news, the U...\n",
       "                               ...                        \n",
       "17587    [[JUDY WOODRUFF, [ A raid, a shoot-out, and fi...\n",
       "17588    [[JUDY WOODRUFF, [ President Obama was briefed...\n",
       "17589    [[JUDY WOODRUFF, [ We return to the major Euro...\n",
       "17590    [[JUDY WOODRUFF, [ And that brings us to the a...\n",
       "17591    [[JUDY WOODRUFF, [ And now to politics., The r...\n",
       "17592    [[JUDY WOODRUFF, [ A movie thriller being rele...\n",
       "17593    [[JUDY WOODRUFF, [ Now a “NewsHour” Essay., Th...\n",
       "17594    [[JUDY WOODRUFF, [ And now for our “NewsHour” ...\n",
       "17595    [[JUDY WOODRUFF, [ Good evening. I’m Judy Wood...\n",
       "17596                                            [Unknown]\n",
       "17597    [[JUDY WOODRUFF, [ The popular theme park SeaW...\n",
       "17598    [[JUDY WOODRUFF, [ Millions of viewers began t...\n",
       "17599    [[JUDY WOODRUFF, [ The water crisis in Flint, ...\n",
       "17600    [[JUDY WOODRUFF, [ Supreme Court nominee Merri...\n",
       "17601    [[JUDY WOODRUFF, [ Good evening. I’m Judy Wood...\n",
       "17602                                            [Unknown]\n",
       "17603    [[GWEN IFILL, [ The battle was officially join...\n",
       "17604    [[JUDY WOODRUFF, [ Good evening. I’m Judy Wood...\n",
       "17605    [[JUDY WOODRUFF, [ If confirmed, he’d become t...\n",
       "17606    [[JUDY WOODRUFF, [ Now the latest on the presi...\n",
       "17607    [[GWEN IFILL, [ A sincere, if misguided, young...\n",
       "17608    [[JUDY WOODRUFF, [ March Madness has arrived, ...\n",
       "17609    [[JUDY WOODRUFF, [ Five big states come to the...\n",
       "17610    [[Editor’s Note, [ In our report Tuesday night...\n",
       "17611    [[GWEN IFILL, [ Voters got their say in five k...\n",
       "17612    [[GWEN IFILL, [ Good evening. I’m Gwen Ifill.]...\n",
       "17613    [[JUDY WOODRUFF, [ Today marks five years sinc...\n",
       "17614    [[GWEN IFILL, [ That brings us to the “NewsHou...\n",
       "17615    [[GWEN IFILL, [ Now: offering higher education...\n",
       "17616                                            [Unknown]\n",
       "Name: Transcript, Length: 17617, dtype: object"
      ]
     },
     "execution_count": 22,
     "metadata": {},
     "output_type": "execute_result"
    }
   ],
   "source": [
    "df.Transcript"
   ]
  },
  {
   "cell_type": "code",
   "execution_count": null,
   "metadata": {
    "collapsed": true
   },
   "outputs": [],
   "source": []
  },
  {
   "cell_type": "code",
   "execution_count": null,
   "metadata": {
    "collapsed": true
   },
   "outputs": [],
   "source": []
  },
  {
   "cell_type": "code",
   "execution_count": null,
   "metadata": {
    "collapsed": true
   },
   "outputs": [],
   "source": []
  },
  {
   "cell_type": "markdown",
   "metadata": {
    "collapsed": true
   },
   "source": [
    "---\n",
    "<a id=\"save\"></a>\n",
    "\n",
    "# [^](#toc) <u>Save to CSV</u>\n",
    "\n",
    "Now that we've cleaned up our data a bit, let's save it into a different CSV file."
   ]
  },
  {
   "cell_type": "code",
   "execution_count": null,
   "metadata": {
    "collapsed": true
   },
   "outputs": [],
   "source": [
    "df.to_csv(\"data/PBS-newhour-clean.csv\")"
   ]
  },
  {
   "cell_type": "markdown",
   "metadata": {},
   "source": [
    "# Tests"
   ]
  },
  {
   "cell_type": "markdown",
   "metadata": {},
   "source": [
    "### Remove party regex"
   ]
  },
  {
   "cell_type": "code",
   "execution_count": 47,
   "metadata": {
    "collapsed": true
   },
   "outputs": [],
   "source": [
    "%run preprocessing.py\n",
    "\n",
    "ex1 = \"BARBARA MIKULSKI (D-MD.)\"\n",
    "assert remove_party(ex1) == \"BARBARA MIKULSKI\" \n",
    "\n",
    "ex2 = \"JERRY BROWN (D-CALIF.)\"\n",
    "assert remove_party(ex2) == \"JERRY BROWN\" \n",
    "\n",
    "ex3 = \"CHUCK SCHUMER (DN.Y.)\"\n",
    "assert remove_party(ex3) == \"CHUCK SCHUMER\" \n",
    "\n",
    "ex4 = \"JOHN BOEHNER (R-OH.)\"\n",
    "assert remove_party(ex4) == \"JOHN BOEHNER\" \n",
    "\n",
    "ex5 = \"JEFF SESSIONS (R-ALA.)\"\n",
    "assert remove_party(ex5) == \"JEFF SESSIONS\" \n",
    "\n",
    "ex6 = \"TODD YOUNG (RIND.)\"\n",
    "assert remove_party(ex6) == \"TODD YOUNG\" \n",
    "\n",
    "ex7 = \"DONALD TRUMP\"\n",
    "assert remove_party(ex7) == ex7\n",
    "\n",
    "ex8 = \"PRESIDENT BARACK OBAMA (singing)\"\n",
    "assert remove_party(ex8) == ex8"
   ]
  },
  {
   "cell_type": "code",
   "execution_count": null,
   "metadata": {
    "collapsed": true
   },
   "outputs": [],
   "source": []
  }
 ],
 "metadata": {
  "kernelspec": {
   "display_name": "Python 3",
   "language": "python",
   "name": "python3"
  },
  "language_info": {
   "codemirror_mode": {
    "name": "ipython",
    "version": 3
   },
   "file_extension": ".py",
   "mimetype": "text/x-python",
   "name": "python",
   "nbconvert_exporter": "python",
   "pygments_lexer": "ipython3",
   "version": "3.6.3"
  }
 },
 "nbformat": 4,
 "nbformat_minor": 2
}
