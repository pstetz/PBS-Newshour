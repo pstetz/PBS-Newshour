{
 "cells": [
  {
   "cell_type": "markdown",
   "metadata": {},
   "source": [
    "<a id=\"toc\"></a>\n",
    "\n",
    "# <u>Table of Contents</u>\n",
    "\n",
    "1.) [Setup](#setup)  \n",
    "&nbsp;&nbsp;&nbsp;&nbsp; 1.1.) [Imports](#imports)   \n",
    "&nbsp;&nbsp;&nbsp;&nbsp; 1.2.) [Helpers](#helpers)   \n",
    "&nbsp;&nbsp;&nbsp;&nbsp; 1.3.) [Load data](#load)   \n",
    "2.) [Datetime](#datetime)  \n",
    "3.) [Speakers](#speakers)  \n",
    "4.) [Transcript](#transcript)  \n",
    "5.) [Save to CSV](#save)  "
   ]
  },
  {
   "cell_type": "markdown",
   "metadata": {},
   "source": [
    "---\n",
    "<a id=\"setup\"></a>\n",
    "\n",
    "# [^](#toc) <u>Setup</u>"
   ]
  },
  {
   "cell_type": "markdown",
   "metadata": {},
   "source": [
    "<a id=\"imports\"></a>\n",
    "\n",
    "### [^](#toc) Imports"
   ]
  },
  {
   "cell_type": "code",
   "execution_count": 1,
   "metadata": {
    "collapsed": true
   },
   "outputs": [],
   "source": [
    "### Standard imports\n",
    "import pandas as pd\n",
    "import numpy as np\n",
    "\n",
    "### Plotting imports\n",
    "import matplotlib.pyplot as plt\n",
    "import seaborn as sns\n",
    "%matplotlib inline\n",
    "sns.set()\n",
    "\n",
    "import re\n",
    "import datetime\n",
    "\n",
    "# Helps convert String representation of list into a list\n",
    "import ast\n",
    "\n",
    "### Removes warnings that occassionally show in imports\n",
    "import warnings\n",
    "warnings.filterwarnings('ignore')"
   ]
  },
  {
   "cell_type": "markdown",
   "metadata": {},
   "source": [
    "<a id=\"helpers\"></a>\n",
    "\n",
    "### [^](#toc) Helpers"
   ]
  },
  {
   "cell_type": "code",
   "execution_count": 2,
   "metadata": {
    "collapsed": true
   },
   "outputs": [],
   "source": [
    "def string_literal(x):\n",
    "    try:\n",
    "        return ast.literal_eval(x)\n",
    "    except:\n",
    "        return x"
   ]
  },
  {
   "cell_type": "markdown",
   "metadata": {},
   "source": [
    "<a id=\"load\"></a>\n",
    "\n",
    "### [^](#toc) Load data"
   ]
  },
  {
   "cell_type": "code",
   "execution_count": 3,
   "metadata": {},
   "outputs": [
    {
     "name": "stdout",
     "output_type": "stream",
     "text": [
      "Shape of df: (17617, 7)\n"
     ]
    },
    {
     "data": {
      "text/html": [
       "<div>\n",
       "<style>\n",
       "    .dataframe thead tr:only-child th {\n",
       "        text-align: right;\n",
       "    }\n",
       "\n",
       "    .dataframe thead th {\n",
       "        text-align: left;\n",
       "    }\n",
       "\n",
       "    .dataframe tbody tr th {\n",
       "        vertical-align: top;\n",
       "    }\n",
       "</style>\n",
       "<table border=\"1\" class=\"dataframe\">\n",
       "  <thead>\n",
       "    <tr style=\"text-align: right;\">\n",
       "      <th></th>\n",
       "      <th>URL</th>\n",
       "      <th>Story</th>\n",
       "      <th>Date</th>\n",
       "      <th>Title</th>\n",
       "      <th>Transcript</th>\n",
       "      <th>Speakers</th>\n",
       "      <th>Number of Comments</th>\n",
       "    </tr>\n",
       "  </thead>\n",
       "  <tbody>\n",
       "    <tr>\n",
       "      <th>0</th>\n",
       "      <td>https://www.pbs.org/newshour/show/news-wrap-tr...</td>\n",
       "      <td>In our news wrap Monday, President Trump's sea...</td>\n",
       "      <td>Jul 2, 2018 6:50 PM EDT</td>\n",
       "      <td>News Wrap: Trump interviews Supreme Court cand...</td>\n",
       "      <td>[[Judy Woodruff, [ President Trump’s search fo...</td>\n",
       "      <td>{President Donald Trump, Justin Herdman, Judy ...</td>\n",
       "      <td>0.0</td>\n",
       "    </tr>\n",
       "    <tr>\n",
       "      <th>1</th>\n",
       "      <td>https://www.pbs.org/newshour/show/elected-in-a...</td>\n",
       "      <td>Mexican president-elect Andrés Manuel López Ob...</td>\n",
       "      <td>Jul 2, 2018 6:45 PM EDT</td>\n",
       "      <td>Elected by a landslide, can Mexico’s López Obr...</td>\n",
       "      <td>[[Judy Woodruff, [ After two previous runs for...</td>\n",
       "      <td>{Marcos Fastlicht, Andres Manuel Lopez Obrador...</td>\n",
       "      <td>0.0</td>\n",
       "    </tr>\n",
       "    <tr>\n",
       "      <th>2</th>\n",
       "      <td>https://www.pbs.org/newshour/show/will-u-s-mex...</td>\n",
       "      <td>There are enormous expectations facing the new...</td>\n",
       "      <td>Jul 2, 2018 6:43 PM EDT</td>\n",
       "      <td>Will U.S.-Mexico policy tensions change under ...</td>\n",
       "      <td>[[Judy Woodruff, [ And now perspective from fo...</td>\n",
       "      <td>{Judy Woodruff, Roberta Jacobson}</td>\n",
       "      <td>0.0</td>\n",
       "    </tr>\n",
       "    <tr>\n",
       "      <th>3</th>\n",
       "      <td>https://www.pbs.org/newshour/show/yemens-spira...</td>\n",
       "      <td>One of the poorest countries in the Middle Eas...</td>\n",
       "      <td>Jul 2, 2018 6:40 PM EDT</td>\n",
       "      <td>Yemen’s spiraling hunger crisis is a man-made ...</td>\n",
       "      <td>[[Judy Woodruff, [ The “NewsHour” has reported...</td>\n",
       "      <td>{Lise Grande, Stephen Anderson, Naimi (through...</td>\n",
       "      <td>0.0</td>\n",
       "    </tr>\n",
       "    <tr>\n",
       "      <th>4</th>\n",
       "      <td>https://www.pbs.org/newshour/show/livingwhileb...</td>\n",
       "      <td>A profusion of national incidents in which whi...</td>\n",
       "      <td>Jul 2, 2018 6:35 PM EDT</td>\n",
       "      <td>#LivingWhileBlack: How does racial bias lead t...</td>\n",
       "      <td>[[Judy Woodruff, [ A number of recent incident...</td>\n",
       "      <td>{Woman, Judy Woodruff, Yamiche Alcindor, Derri...</td>\n",
       "      <td>0.0</td>\n",
       "    </tr>\n",
       "  </tbody>\n",
       "</table>\n",
       "</div>"
      ],
      "text/plain": [
       "                                                 URL  \\\n",
       "0  https://www.pbs.org/newshour/show/news-wrap-tr...   \n",
       "1  https://www.pbs.org/newshour/show/elected-in-a...   \n",
       "2  https://www.pbs.org/newshour/show/will-u-s-mex...   \n",
       "3  https://www.pbs.org/newshour/show/yemens-spira...   \n",
       "4  https://www.pbs.org/newshour/show/livingwhileb...   \n",
       "\n",
       "                                               Story                     Date  \\\n",
       "0  In our news wrap Monday, President Trump's sea...  Jul 2, 2018 6:50 PM EDT   \n",
       "1  Mexican president-elect Andrés Manuel López Ob...  Jul 2, 2018 6:45 PM EDT   \n",
       "2  There are enormous expectations facing the new...  Jul 2, 2018 6:43 PM EDT   \n",
       "3  One of the poorest countries in the Middle Eas...  Jul 2, 2018 6:40 PM EDT   \n",
       "4  A profusion of national incidents in which whi...  Jul 2, 2018 6:35 PM EDT   \n",
       "\n",
       "                                               Title  \\\n",
       "0  News Wrap: Trump interviews Supreme Court cand...   \n",
       "1  Elected by a landslide, can Mexico’s López Obr...   \n",
       "2  Will U.S.-Mexico policy tensions change under ...   \n",
       "3  Yemen’s spiraling hunger crisis is a man-made ...   \n",
       "4  #LivingWhileBlack: How does racial bias lead t...   \n",
       "\n",
       "                                          Transcript  \\\n",
       "0  [[Judy Woodruff, [ President Trump’s search fo...   \n",
       "1  [[Judy Woodruff, [ After two previous runs for...   \n",
       "2  [[Judy Woodruff, [ And now perspective from fo...   \n",
       "3  [[Judy Woodruff, [ The “NewsHour” has reported...   \n",
       "4  [[Judy Woodruff, [ A number of recent incident...   \n",
       "\n",
       "                                            Speakers  Number of Comments  \n",
       "0  {President Donald Trump, Justin Herdman, Judy ...                 0.0  \n",
       "1  {Marcos Fastlicht, Andres Manuel Lopez Obrador...                 0.0  \n",
       "2                  {Judy Woodruff, Roberta Jacobson}                 0.0  \n",
       "3  {Lise Grande, Stephen Anderson, Naimi (through...                 0.0  \n",
       "4  {Woman, Judy Woodruff, Yamiche Alcindor, Derri...                 0.0  "
      ]
     },
     "execution_count": 3,
     "metadata": {},
     "output_type": "execute_result"
    }
   ],
   "source": [
    "df = pd.read_csv(\"../data/PBS_full_unedited.csv\")\n",
    "for col in [\"Transcript\", \"Story\", \"Speakers\"]:\n",
    "    df[col] = df[col].map(string_literal)\n",
    "    \n",
    "print(\"Shape of df:\", df.shape)\n",
    "df.head()"
   ]
  },
  {
   "cell_type": "markdown",
   "metadata": {},
   "source": [
    "---\n",
    "<a id=\"datetime\"></a>\n",
    "\n",
    "# [^](#toc) <u>Datetime</u>\n",
    "\n",
    "First let's clear off whitespace and \\n characters"
   ]
  },
  {
   "cell_type": "code",
   "execution_count": 4,
   "metadata": {
    "collapsed": true
   },
   "outputs": [],
   "source": [
    "df[\"Date\"] = df[\"Date\"].map(lambda x: x.strip())"
   ]
  },
  {
   "cell_type": "markdown",
   "metadata": {},
   "source": [
    "### Time Zone\n",
    "\n",
    "It appears, the time is always posted in EDT"
   ]
  },
  {
   "cell_type": "code",
   "execution_count": 5,
   "metadata": {},
   "outputs": [
    {
     "data": {
      "text/plain": [
       "EDT    17617\n",
       "Name: Timzone, dtype: int64"
      ]
     },
     "execution_count": 5,
     "metadata": {},
     "output_type": "execute_result"
    }
   ],
   "source": [
    "df[\"Timzone\"] = df.Date.map(lambda x: x[-3:])\n",
    "df[\"Timzone\"].value_counts()"
   ]
  },
  {
   "cell_type": "markdown",
   "metadata": {},
   "source": [
    "### Updated times\n",
    "\n",
    "There are only 4 videos that were updated.  I don't think this is very interesting so I'm just going to ignore all updated times.\n",
    "\n",
    "I understand why someone would like this data, but I don't need it."
   ]
  },
  {
   "cell_type": "code",
   "execution_count": 6,
   "metadata": {},
   "outputs": [
    {
     "name": "stdout",
     "output_type": "stream",
     "text": [
      "4 clips have had information updated\n"
     ]
    }
   ],
   "source": [
    "df.temp = df.Date.map(lambda x: int(\"Updated\" in x))\n",
    "num_updated = len(df[df.temp == 1])\n",
    "print(f\"{num_updated} clips have had information updated\")\n",
    "\n",
    "df.Date = df.Date.map(lambda x: x.split(\"\\n\")[0])"
   ]
  },
  {
   "cell_type": "markdown",
   "metadata": {},
   "source": [
    "### Convert to Datetime\n",
    "\n",
    "See this Stack Exchange [link](https://english.stackexchange.com/questions/35315/what-is-the-proper-name-for-am-and-pm?newreg=2d443a2ca9dc4ba6abbe1a1e01e4af4b) haha.  I was honored by the line...\n",
    "\n",
    "    software developers think about naming variables properly. It is built into the Object-Oriented mindset. Jader, a commenter, said it well: \"It's funny that the question intrinsically is not programming related, but all programmers can understand why you posted it here.\"\n",
    "    \n",
    "I just considered myself a physicist!"
   ]
  },
  {
   "cell_type": "code",
   "execution_count": 7,
   "metadata": {
    "collapsed": true
   },
   "outputs": [],
   "source": [
    "def format_datetime(x):\n",
    "    return datetime.datetime.strptime(x[:-4], '%b %d, %Y %H:%M %p')\n",
    "\n",
    "df.Date = df.Date.map(format_datetime)"
   ]
  },
  {
   "cell_type": "markdown",
   "metadata": {},
   "source": [
    "### And we're done with times!"
   ]
  },
  {
   "cell_type": "markdown",
   "metadata": {},
   "source": [
    "---\n",
    "<a id=\"speakers\"></a>\n",
    "\n",
    "# [^](#toc) <u>Speakers</u>"
   ]
  },
  {
   "cell_type": "markdown",
   "metadata": {},
   "source": [
    "### Fill in missing speakers"
   ]
  },
  {
   "cell_type": "code",
   "execution_count": 8,
   "metadata": {
    "collapsed": true
   },
   "outputs": [],
   "source": [
    "for row in df.loc[df.Speakers.isnull(), 'Speakers'].index:\n",
    "    df.at[row, 'Speakers'] = {}"
   ]
  },
  {
   "cell_type": "markdown",
   "metadata": {},
   "source": [
    "### Overview of names"
   ]
  },
  {
   "cell_type": "code",
   "execution_count": 9,
   "metadata": {},
   "outputs": [
    {
     "name": "stdout",
     "output_type": "stream",
     "text": [
      "Unique names found in df: 32725\n"
     ]
    }
   ],
   "source": [
    "N = len(set.union(*df.Speakers))\n",
    "\n",
    "print(\"Unique names found in df:\", N)"
   ]
  },
  {
   "cell_type": "markdown",
   "metadata": {},
   "source": [
    "### Example: Obama\n",
    "\n",
    "It looks like there's a lot to do here, I want uniform names.\n",
    "\n",
    "When I search for Obama I want to see 'SEN. BARACK OBAMA', 'SENATOR BARACK OBAMA', 'PRESIDENT BARACK OBAMA', 'PRESIDENT BARACK OBAMA (singing)', 'BARACK OBAMA', 'BARACK OBAMA (singing)', and 'Barack Obama'\n",
    "\n",
    "My plan of attack is\n",
    "\n",
    "However removing modifiers only goes so far, sometimes the names are shortened.  In which case I need to manually group \"Obama\" and \"PRESIDENT OBAMA\" to \"BARACK OBAMA\".\n",
    "\n",
    "There also seems to be ASCII errors like \"\\xa0\" popping up."
   ]
  },
  {
   "cell_type": "code",
   "execution_count": 10,
   "metadata": {
    "scrolled": true
   },
   "outputs": [
    {
     "data": {
      "text/plain": [
       "{'And I think Obama and Boehner and Reid all know that their legacies are tied together and they reside around one thing',\n",
       " 'And Obama’s counter will have to be',\n",
       " 'And President Obama says he will do something few presidents have done',\n",
       " 'And so that’s what the FTC and the Obama Administration have both called for',\n",
       " 'Arizona Senator John McCain said today the Obama administration is to blame',\n",
       " 'BARACK OBAMA',\n",
       " 'BARACK OBAMA (singing)',\n",
       " 'Barack Obama',\n",
       " 'Before a fund-raiser for President Obama',\n",
       " 'Brookings institution scholar Shadi Hamid credits Mr. Obama for the Iran deal',\n",
       " 'But the Obama reelection team did wade into the Bain debate with a memo that said',\n",
       " 'Daniel Benjamin was coordinator for counterterrorism at the State Department during the first term of the Obama administration. He’s now a professor at Dartmouth College. And Joby Warrick is a national security correspondent at The Washington Post. He’s also the author of the book “Black Flags',\n",
       " 'FIRST LADY MICHELLE OBAMA',\n",
       " 'FORMER PRESIDENT BARACK OBAMA',\n",
       " 'FORMER PRESIDENT\\xa0BARACK OBAMA',\n",
       " 'Former President Barack Obama',\n",
       " 'He writes of one meeting in 2011 with Mr. Obama and General David Petraeus',\n",
       " 'I had a rule in the Obama campaign',\n",
       " 'Juliette Kayyem was an assistant secretary at the Department of Homeland Security during the Obama administration. She now has her own security consulting firm. William McCants is director of the Project on U.S. Relations with the Islamic world at the Brookings Institution. His most recent book is “The ISIS Apocalypse',\n",
       " 'MICHELLE OBAMA',\n",
       " 'Michelle Obama',\n",
       " 'Michèle Flournoy was undersecretary of defense for policy during the first term of the Obama administration. She’s now chief executive officer at the Center for a New American Security. And retired Army Colonel Andrew Bacevich is professor emeritus of international relations and history at Boston University. His latest book is “Breach of Trust',\n",
       " 'Obama',\n",
       " 'Obama’s is like the Simpson-Bowles. It’s $2 of cuts — I agree with you',\n",
       " 'PRESDIENT BARACK OBAMA',\n",
       " 'PRESIDEDNT BARACK OBAMA',\n",
       " 'PRESIDENT BARACK OBAMA',\n",
       " 'PRESIDENT BARACK OBAMA (singing)',\n",
       " 'PRESIDENT BARACK OBAMA [MAY 2014] ',\n",
       " 'PRESIDENT OBAMA',\n",
       " 'PRESIDENT OF THE UNITED STATE BARACK OBAMA',\n",
       " 'PRESIDENT PRESIDENT BARACK OBAMA',\n",
       " 'PRESIDENT PRESIDENT OBAMA',\n",
       " 'PRESIDENT\\xa0BARACK OBAMA',\n",
       " 'PRESIDNENT BARACK OBAMA',\n",
       " 'PRESIENT BARACK OBAMA',\n",
       " 'President Barack Obama',\n",
       " 'President Obama',\n",
       " 'President Obama and Speaker Ryan have made similar proposals',\n",
       " 'President Obama appealed for peace in a guest column for the Israeli newspaper Haaretz. He wrote',\n",
       " 'President Obama came into office calling for a troop surge in 2009 to defeat the Taliban',\n",
       " 'President Obama condemned the killing. In a statement',\n",
       " 'President Obama said this at the White House',\n",
       " 'President Obama wouldn’t discuss specifics today. Instead',\n",
       " 'President Obama’s remarks to the nation on fighting the Islamic State group',\n",
       " 'President Trump has again accused former President Obama of failing to stop Russian interference in the 2016 election. On Twitter today',\n",
       " 'Questions also continued about the five Taliban leaders long held at Guantanamo Bay and flown to Qatar in exchange for Bergdahl’s release. The Reuters News Service reported they have been moved to a residential compound and it said they are free to move about the country. President Obama acknowledged today that some of them may try to return to the fight in Afghanistan',\n",
       " 'SEN. BARACK OBAMA',\n",
       " 'SENATOR BARACK OBAMA',\n",
       " 'Speaker Ryan said Obamacare cannot stay as it is',\n",
       " 'The Obama administration continues to defend the law',\n",
       " 'The date is set for President Obama to deliver his 2014 State of the Union address to Congress',\n",
       " 'The nuclear agreement with Iran faces a fresh challenge within President Obama’s own party. Democratic Senator Chuck Schumer of New York',\n",
       " 'U. S. PRESIDENT BARACK OBAMA',\n",
       " 'U.S PRESIDENT BARACK OBAMA',\n",
       " 'U.S. PRESIDENT BARACK OBAMA',\n",
       " 'We campaigned hard. We had more people on the ground working for my campaign than President Obama had had. We were in constant communication',\n",
       " 'We explore all this now with retired Brigadier General David McGinnis. He was a senior Defense Department official during President Obama’s first term. And David Rothkopf',\n",
       " 'You would hope that President Obama would go in and think in these terms',\n",
       " '“Barack Obama'}"
      ]
     },
     "execution_count": 10,
     "metadata": {},
     "output_type": "execute_result"
    }
   ],
   "source": [
    "{elem for elem in {x for x in set.union(*df.Speakers)} if (\"OBAMA\" in elem or \"Obama\" in elem or \"obama\" in elem)}"
   ]
  },
  {
   "cell_type": "markdown",
   "metadata": {},
   "source": [
    "### Long names are actually text"
   ]
  },
  {
   "cell_type": "code",
   "execution_count": 11,
   "metadata": {
    "collapsed": true
   },
   "outputs": [],
   "source": [
    "df.Speakers = df.Speakers.map(lambda x: {elem for elem in x if len(elem.split(\" \")) < 9})"
   ]
  },
  {
   "cell_type": "markdown",
   "metadata": {},
   "source": [
    "### Remove titles, parties, and non-name features\n",
    "\n",
    "We went from 32,725 names to 27,188 names.  This is either from dropping bad names or merging two names that are actually the same person.\n",
    "\n",
    "This is not perfect, PBS does not have a standardized format.  PBS is not considerate of robots as this [example](https://www.pbs.org/newshour/show/trump-considering-sending-troops-afghanistan) shows.  The names start out as full names, but than move to last names.  This makes complete sense to a human in context.  I can't get a machine to understand context though.  Thankfully this type of format is rare and \"SREENIVASAN\" is a rare name so I can map it to \"HARI SREENIVASAN\".  \"RUBIN\" is probably a more common name and less popular on PBS newshour so unfortunately there's nothing I can easily do."
   ]
  },
  {
   "cell_type": "code",
   "execution_count": 12,
   "metadata": {},
   "outputs": [
    {
     "name": "stdout",
     "output_type": "stream",
     "text": [
      "New number of unique names: 27187\n"
     ]
    }
   ],
   "source": [
    "%run preprocessing.py\n",
    "%run mistaken_names.py\n",
    "\n",
    "mistaken_names = get_mistaken_names()\n",
    "\n",
    "def map_speakers(x):\n",
    "    return {clean_names(elem) for elem in x if clean_names(elem) not in mistaken_names}\n",
    "\n",
    "df.Speakers = df.Speakers.map(map_speakers)\n",
    "N = len(set.union(*df.Speakers))\n",
    "print(\"New number of unique names:\", N)"
   ]
  },
  {
   "cell_type": "markdown",
   "metadata": {},
   "source": [
    "### Quick Visualization\n",
    "\n",
    "There might be more work needed to be done.  I don't know why \"S\", \"T\", or \"E\" are all names."
   ]
  },
  {
   "cell_type": "code",
   "execution_count": 13,
   "metadata": {},
   "outputs": [
    {
     "data": {
      "image/png": "[encoded data removed]",
      "text/plain": [
       "<matplotlib.figure.Figure at 0x1a1a166e48>"
      ]
     },
     "metadata": {},
     "output_type": "display_data"
    }
   ],
   "source": [
    "# Will count number of unique words in a sentence\n",
    "from collections import Counter\n",
    "import operator\n",
    "    \n",
    "persons = df.Speakers.map(list).sum()\n",
    "\n",
    "freq = sorted(Counter(persons).items(), key=operator.itemgetter(1), reverse=True)\n",
    "\n",
    "x, y = list(zip(*freq[:25]))\n",
    "plt.figure(figsize=(14, 14))\n",
    "sns.barplot(list(y), list(x));"
   ]
  },
  {
   "cell_type": "markdown",
   "metadata": {},
   "source": [
    "---\n",
    "<a id=\"transcript\"></a>\n",
    "\n",
    "# [^](#toc) <u>Transcript</u>"
   ]
  },
  {
   "cell_type": "code",
   "execution_count": 14,
   "metadata": {
    "collapsed": true
   },
   "outputs": [],
   "source": [
    "for row in df.loc[df.Transcript.isnull(), 'Transcript'].index:\n",
    "    df.at[row, 'Transcript'] = []"
   ]
  },
  {
   "cell_type": "markdown",
   "metadata": {
    "collapsed": true
   },
   "source": [
    "### Plan of attack\n",
    "\n",
    "1.) Remove all speakers that should not be included.  \n",
    "2.) Go through each Transcript and check if it has a Speaker that is not included.  \n",
    "3.) If this speaker is the first one talking, print the URL and clip this short.  \n",
    "4.) If the speaker is nnot the first talker, print the URL and append the speaker and text to the previous speaker.  \n",
    "- Check out this [video](https://www.pbs.org/newshour/show/with-3-more-wins-romney-pivots-to-general-election#transcript) and search for \"North Carolina is a strong one for them\".  You'll see one of these formating slips."
   ]
  },
  {
   "cell_type": "code",
   "execution_count": 15,
   "metadata": {
    "collapsed": true,
    "scrolled": false
   },
   "outputs": [],
   "source": [
    "def map_transcript(speakers):\n",
    "    def map_transcript_helper(x):\n",
    "        if x is np.nan:\n",
    "            return x\n",
    "        i = 0\n",
    "        while i < len(x):\n",
    "            speeches = x[i]\n",
    "            \n",
    "            if clean_names(speeches[0]) not in speakers:\n",
    "                if i == 0:\n",
    "                    x = x[1:]\n",
    "                else:\n",
    "                    temp = speeches[1][:]\n",
    "                    temp.insert(0, speeches[0])\n",
    "                    x[i-1][1] = x[i-1][1] + temp\n",
    "\n",
    "                    del x[i]\n",
    "                    i -= 1\n",
    "            i += 1\n",
    "        return x\n",
    "    return map_transcript_helper\n",
    "\n",
    "speakers = set.union(*df.Speakers)\n",
    "df.Transcript = df.Transcript.map(map_transcript(speakers))"
   ]
  },
  {
   "cell_type": "markdown",
   "metadata": {},
   "source": [
    "### Quick check\n",
    "\n",
    "I'll check a few random transcripts to see if they were formatted correctly\n",
    "\n",
    "And wow!  This works almost perfectly!  I haven't seen one mistake yet"
   ]
  },
  {
   "cell_type": "code",
   "execution_count": 16,
   "metadata": {
    "scrolled": false
   },
   "outputs": [
    {
     "name": "stdout",
     "output_type": "stream",
     "text": [
      "\n",
      "https://www.pbs.org/newshour/show/mitt-romney-and-president-obama-to-square-off-in-debate\n",
      "\u001b[1m TRANSCRIPT \u001b[0m\n",
      "\u001b[4m JUDY WOODRUFF: \u001b[0m\n",
      "    In just a few hours, President Barack Obama and former Massachusetts Governor Mitt Romney will take the stage at the University of Denver’s Magness Arena for the first of three election debates.\n",
      "\n",
      "\u001b[4m TONIGHT’S ENCOUNTER: \u001b[0m\n",
      "    the economy. Joining us for the debate later and here with us now to preview what to expect tonight, two familiar faces, syndicated columnist Mark Shields and New York Times columnist David Brooks. Gentlemen, welcome. The night is finally here. Mark, no pressure, just 60 million people will be watching. What are you looking for from tonight’s encounter?\n",
      "\n",
      "\u001b[4m MARK SHIELDS: \u001b[0m\n",
      "    What I’m looking for, Judy, is that the — the candidate who understands of the two that the most important thing is not making a mistake, but really making a point as to what his presidency would be about. And I think that’s — I think both of them are geared, because so much has been — attention has been directed to gaffes in the past that have affected or influenced, shaped the outcome, or that impression. But it’s a magic moment, because, with no pundits, no prism of editorial columnists, of anybody else, 60 million individuals sit down and, in a comparative situation, they make their own assessment. And it’s just — I think it’s a marvelous public exercise.\n",
      "\n",
      "\u001b[4m JUDY WOODRUFF: \u001b[0m\n",
      "    A magic moment, David? (LAUGHTER)\n",
      "\n",
      "\u001b[4m DAVID BROOKS: \u001b[0m\n",
      "    Well, we will see. It is the biggest night of the election. That’s doesn’t mean it’s dispositive. Usually, the debates have some effect. They almost never really change the dynamic of the race, but it is the single biggest night. And I guess I am watching Mitt Romney more. Barack Obama’s great skill is that he doesn’t commit turnovers, with maybe the one exception, “You’re likable enough, Hillary.”\n",
      "\n",
      "\u001b[4m MARK SHIELDS: \u001b[0m\n",
      "    Yes.\n",
      "\n",
      "\u001b[4m DAVID BROOKS: \u001b[0m\n",
      "    That was the one moment where he probably said something foolish, but generally he runs — he doesn’t commit a turnover. He’s not very daring, but doesn’t make mistakes.\n",
      "\n",
      "\u001b[4m ROMNEY’S MUCH MORE INTERESTING: \u001b[0m\n",
      "    Barack Obama has been to be replaced because, and fill in that because, very clear. The second thing that is interesting about Romney, he’s so insistently aggressive at debates. The moment I was reminded of by a Jim Fallows piece in “The Atlantic” was — they were talking about gun control in a debate against Ted Kennedy in Massachusetts when they were competing for the Senate seat. Kennedy says, I know about guns, referring to his family’s tragedies. Most candidates would withdraw and not go there. Romney went there and he said, you always fall back on that. That’s not going to work here. That’s a pretty aggressive debater.\n",
      "\n",
      "\u001b[4m MARK SHIELDS: \u001b[0m\n",
      "    That’s when he was for gun control, before he was a lifetime member of the NRA.\n",
      "\n",
      "\u001b[4m DAVID BROOKS: \u001b[0m\n",
      "    That’s true. That’s true.\n",
      "\n",
      "\u001b[4m MARK SHIELDS: \u001b[0m\n",
      "    So I will be watching.\n",
      "\n",
      "\u001b[4m JUDY WOODRUFF: \u001b[0m\n",
      "    Well, what do you see Governor Romney has to accomplish tonight?\n",
      "\n",
      "\u001b[4m MARK SHIELDS: \u001b[0m\n",
      "    He has to come out of it — he has got to forget likability. He is never going to compete on likability. And the only…\n",
      "\n",
      "\u001b[4m JUDY WOODRUFF: \u001b[0m\n",
      "    You say forget likability?\n",
      "\n",
      "\u001b[4m MARK SHIELDS: \u001b[0m\n",
      "    Forget likability in the sense of trying to be as likable as the president. He’s not going to do that. That is not his forte. And his only hope on likability is that the president, who, according to all evidence and all testimony, has minimum high regard for Mitt Romney, lets that show in the debate. He had respect — the president had great respect for John McCain. He didn’t think he should be president, but he had great respect. He doesn’t feel that way toward Mitt Romney. He has to get that. Mitt Romney ought to go in it with a little bit of confidence, Judy, because of the fact that he’s had a terrible two weeks. By a 2-1 margin in the Wall Street Journal/NBC poll, people feel the information they have gotten over the last two weeks make them less favorable toward him, and yet he’s closed the gap. And I think he ought to go in and he has got to have a sense that this race is winnable, but he’s got to come out with two things. One is that now I know that he understands what we are going through. His manifest acts of kindness to fellow his parishioners who have lost their jobs, which we heard about at the convention, which were really admirable, there is no sense that that goes beyond to a continental or a national sense. And the second thing that has to come away is, now I understand what he wants to do about the economy. These are the three things. And they make sense. I understand it, that the three things he’s proposing make sense.\n",
      "\n",
      "\u001b[4m JUDY WOODRUFF: \u001b[0m\n",
      "    Romney?\n",
      "\n",
      "\u001b[4m MARK SHIELDS: \u001b[0m\n",
      "    That’s what Romney has to do.\n",
      "\n",
      "\u001b[4m JUDY WOODRUFF: \u001b[0m\n",
      "    So, if that’s what Romney needs to do, David, what about the president? And is there as much pressure on the president tonight as there is on Governor Romney?\n",
      "\n",
      "\u001b[4m DAVID BROOKS: \u001b[0m\n",
      "    No, he’s ahead. But Mark is right. It’s closed. It’s closed from a week ago. Maybe there’s a four-point national gap. It’s closed to maybe a 2.5-point gap. And even in some of the swing states, we have seen a tightening in the polls. And that suggests — not because Romney has done anything special in the last week or two, but the underlying dynamic of the race is still the underlying dynamic, that the country is still heading in the wrong direction. There’s still a desire to change. There’s still a desire to replace the president. And so I guess for him I would go back to the single most impressive speech of the year, which was Bill Clinton’s speech, which was also the wonkiest speech of the year. And I really wouldn’t shy away from being wonky, not that everybody is going to follow every Medicare reform plan you have, or economic policy you have. They want to be treated like adults. And so if the president gives us a bit of a hint of an agenda, that would be a breakthrough.\n",
      "\n",
      "\u001b[4m JUDY WOODRUFF: \u001b[0m\n",
      "    Go ahead.\n",
      "\n",
      "\u001b[4m MARK SHIELDS: \u001b[0m\n",
      "    Could I just dissent a little from David? We now have the highest right direction number we have had since June of ’09. So, there is a growing sense of confidence, a sense…\n",
      "\n",
      "\u001b[4m JUDY WOODRUFF: \u001b[0m\n",
      "    Direction of the country.\n",
      "\n",
      "\u001b[4m DAVID BROOKS: \u001b[0m\n",
      "    It’s not close to positive.\n",
      "\n",
      "\u001b[4m MARK SHIELDS: \u001b[0m\n",
      "    No, I agree. But it’s an improvement. It’s a graph. The people who think the economy is getting better has increased by 17 points since July. I mean, there’s really a sense that — the president has to confirm to them that he — A., his policies have made a difference in this improvement, that they are right in sensing the improvement, and that he can take it from here. He has a big advantage. And that is, when asked who is better prepared to lead the nation over the next four years, by a 13-point margin, 49-36, people say the president — 35 — percent say the president over Mitt Romney. Even people who are voting for Mitt Romney don’t think he’s better prepared to do so. That’s what the president has to accomplish, I think.\n",
      "\n",
      "\u001b[4m JUDY WOODRUFF: \u001b[0m\n",
      "    And, David, finally, and just quickly, you touched on this earlier. There is this conversation out there that, well, debates don’t really — I think you said they’re not always dispositive. So, is it possible this debate might not matter?\n",
      "\n",
      "\u001b[4m DAVID BROOKS: \u001b[0m\n",
      "    It’s certainly possible. The candidate who has gone in with the lead in the polls pre-debate has won the election almost every time. So — but that doesn’t mean they don’t change the votes.\n",
      "\n",
      "\u001b[4m DAVID BROOKS: \u001b[0m\n",
      "    And so — but this is a closer race than most campaigns. And so if it’s a 2.5- or a 2.8-point race, then you could certainly see a movement of two points, making it feel like a tie, at least.\n",
      "\n",
      "\u001b[4m MARK SHIELDS: \u001b[0m\n",
      "    No, I think it is important, Judy. The people who are undecided and the president — see, the president has a number of discrete constituencies, Latinos, working women, college-educated women, to whom he has spoken and has spoken very effectively. The thing about a national debate is, and for Mitt Romney as well, his 47 percent remarks, you’re speaking to everybody at the same time. And there’s no demographic cliques or subgroups. It’s everybody. So, that’s why this — I think debates are so important.\n",
      "\n",
      "\u001b[4m JUDY WOODRUFF: \u001b[0m\n",
      "    Well, we’re popping the popcorn. We’re on the edge of our seats.\n",
      "\n",
      "\u001b[4m MARK SHIELDS: \u001b[0m\n",
      "    Absolutely.\n",
      "\n",
      "\n",
      "https://www.pbs.org/newshour/show/criminal-charges-filed-against-dorner\n",
      "\u001b[1m TRANSCRIPT \u001b[0m\n",
      "\n",
      "https://www.pbs.org/newshour/show/harvard-s-david-cutler-on-how-to-cut-health-care-costs\n",
      "\u001b[1m TRANSCRIPT \u001b[0m\n",
      "\n",
      "https://www.pbs.org/newshour/show/policies-helped-south-koreas-capital-decrease-food-waste\n",
      "\u001b[1m TRANSCRIPT \u001b[0m\n",
      "\u001b[4m MORI ROTHMAN: \u001b[0m\n",
      "    Sujin Woo and her mother, Lee Bo-ok live in an apartment in South Korea’s capital of Seoul. On this Saturday morning, Lee is making Korean fried sweet potatoes for lunch. Some parts of the food, like the sweet potato peels, won’t make the final dish, but instead of tossing them in the trash, Lee places the food waste in this special container. In South Korea, separating food waste from the rest of your garbage is required by law…and anyone who doesn’t recycle food waste faces potential fines. Seoul’s 10 million residents started paying for their food waste by weight in 2013….a policy now in 16 other cities and provinces. Woo disposes of the food waste in bags bought from the city and tracks her food waste with a radio frequency ID card. Woo taps the card to register the household and dumps her food waste into the bin, which logs how much waste she’ll be charged for.\n",
      "\n",
      "\u001b[4m SUJIN WOO: \u001b[0m\n",
      "    At the end of the month, depending on how much food we wasted we get charged and then we get a bill.\n",
      "\n",
      "\u001b[4m MORI ROTHMAN: \u001b[0m\n",
      "    So how much do you normally spend on that bill?\n",
      "\n",
      "\u001b[4m SUJIN WOO: \u001b[0m\n",
      "    It’s only 2-3 dollars, not that much.\n",
      "\n",
      "\u001b[4m MORI ROTHMAN: \u001b[0m\n",
      "    As their economy grew over the past few decades, South Koreans started dining out more and wasting more food. The country banned all food waste from landfills in 2005. Today, Sujin and her mom say there’s a difference in the way their generations think about the problem.\n",
      "\n",
      "\u001b[4m SUJIN WOO: \u001b[0m\n",
      "    I tend to have a big appetite but I also want to make sure I’m not eating too much or gaining too much weight so although it’s bad to leave food I also think about my diet so I don’t feel as guilty.\n",
      "\n",
      "\u001b[4m LEE BOOK: \u001b[0m\n",
      "    Before Korea was struggling economically, but now that we live in a more prosperous society I think there’s more food being wasted, because there’s more variety of food as well. And I always feel very guilty if I end up wasting food.\n",
      "\n",
      "\u001b[4m MORI ROTHMAN: \u001b[0m\n",
      "    Han Sung Hyun oversees Seoul’s food waste program at the city Environmental Management Division.\n",
      "\n",
      "\u001b[4m HAN SUNG HYUN: \u001b[0m\n",
      "    At first, we processed all the food waste in landfills. Then we realized the pollution it created, and wanted to find a way to recycle the waste.\n",
      "\n",
      "\u001b[4m MORI ROTHMAN: \u001b[0m\n",
      "    Hyun says the city used to spend 600-thousand dollars a day on food waste disposal- money now saved through recycling.\n",
      "\n",
      "\u001b[4m HAN SUNG HYUN: \u001b[0m\n",
      "    It actually costs a lot to process the food waste. So we were like, let us find the way to save money, also to reduce pollution, and eventually to find a way to recycle the waste.\n",
      "\n",
      "\u001b[4m MORI ROTHMAN: \u001b[0m\n",
      "    Seoul deploys special trucks to pick up food waste from apartment complexes, restaurants, and other businesses and bring them to special recycling facilities. This one handles 80 to 90 truck-loads every day. This is one of five factories in Seoul that processes food waste. This machine dries the food waste and turns it into animal feed in just three hours. Another byproduct of the food recycling is biogas  a mix of methane and other gases that can be burned for energy. This plant creates enough biogas to meet 90 percent of its electricity needs. Hyun says besides assessing fines – publicizing the benefits of food recycling is key to citywide cooperation.\n",
      "\n",
      "\u001b[4m HAN SUNG HYUN: \u001b[0m\n",
      "    As the awareness increases, I can say that out of 1000 households, there are about 10-15 percent of households that do not produce any food waste at all.  As we receive more support, I see we are on the right path to save the environment and more recycling.\n",
      "\n",
      "\u001b[4m MORI ROTHMAN: \u001b[0m\n",
      "    In the four years residents and businesses have been charged by the weight of their food waste, Seoul’s overall food waste has decreased 10-percent, by more than 300 tons a day. The Environmental Management Division hopes to triple that reduction to 30-percent over the next four years.\n",
      "\n",
      "\n",
      "https://www.pbs.org/newshour/show/controversial-case-opens-up-discussion-of-abortion-in-chile\n",
      "\u001b[1m TRANSCRIPT \u001b[0m\n",
      "\u001b[4m PETER EISNER: \u001b[0m\n",
      "    What happened to an 11-year-old girl in Chile last summer ignited a national debate and sparked demonstrations in this conservative catholic country about an always taboo subject; abortion.  Newspapers reported the story of the girl, known only as Belen, who had been raped repeatedly and impregnated by her step-father.  And it got to be even bigger news after the Chilean president went on national television to congratulate the fifth-grader for deciding not to terminate her pregnancy.\n",
      "\n",
      "\u001b[4m PIÑERA: \u001b[0m\n",
      "    With words that showed depth and maturity, she said despite the pain that the man who raped her had caused, she was going to love and take care of her baby.”\n",
      "\n",
      "\u001b[4m PETER EISNER: \u001b[0m\n",
      "    The President’s comments drew condemnation from international organizations like amnesty international and provoked demonstrations.  In one case a group of young women even bared their breasts and marched in downtown Santiago.  A recent public opinion poll shows that two thirds of Chileans supporting a woman’s right to choose an abortion after being raped.\n",
      "\n",
      "\u001b[4m CLAUDIA DIDES: \u001b[0m\n",
      "    The case of the little girl who was raped by her stepfather in southern Chile is a case that very much moved public opinion. Maybe women can have the right to decide freely on their bodies, our bodies…\n",
      "\n",
      "\u001b[4m PETER EISNER: \u001b[0m\n",
      "    South America is overwhelmingly Catholic and abortion is generally illegal, but most countries allow exceptions for rape, and in cases involving the health of mother and fetus. For most of the 20th century, Chile also allowed those exceptions. That changed in 1989 at the end of General Augusto Pinochet’s 27- year dictatorship. Pinochet issued a decree banning all abortions. Chile is now one of four countries in the Americas that prohibit all abortions for any reason — a topic little discussed in the years since until the case of the 11 year-old made national news.  In a round-about way, that case shone a spotlight on practices that have been going on for years in Chile but are rarely acknowledged in public.  Despite the total ban on all abortions the government usually looks the other way for affluent or well-connected women if a physician determines there is a medical reason for the procedure. Doctors perform about 30,000 such abortions every year and sometimes falsify records to say they had performed appendectomies or other procedures instead.  And by most estimates there are another 120,000 elective abortions done every year. This woman’s story illustrates that statistic.  Francisca, a 30-year-old woman who lives in Santiago, says she became pregnant after her doctor told her to stop taking birth control pills due to a circulatory problem.  She spoke in shadow because she would be subject to arrest if indentified.  More than 100 people were charged with having an abortion or helping to provide an abortion in 2012, and more than 400 women and men, are currently in jail or on probation on such charges. \n",
      "\n",
      "\u001b[4m FRANCISCA: \u001b[0m\n",
      "    The truth is that I think if someone gets pregnant at 30 years old and wasn’t on any sort of hormonal birth control or at least counting days, its pretty ignorant.  I knew that I was involved in a risky situation.\n",
      "\n",
      "\u001b[4m PETER EISNER: \u001b[0m\n",
      "    She says arranging an elective abortion in Chile is like making a drug deal.\n",
      "\n",
      "\u001b[4m FRANCISCA: \u001b[0m\n",
      "    It feels like you are doing something criminal, like the entire time you fell you are doing something really really wrong.\n",
      "\n",
      "\u001b[4m PETER EISNER: \u001b[0m\n",
      "    She says she met a woman on a street corner, was led by another woman she didn’t know to a building she could never find again. The woman took her to a small apartment.\n",
      "\n",
      "\u001b[4m FRANCISCA: \u001b[0m\n",
      "    When she injected me with the dilator, it was mixed in a serum, I had no idea what they were injecting me with.\n",
      "\n",
      "\u001b[4m PETER EISNER: \u001b[0m\n",
      "    So, you have to hope and trust that the person is…\n",
      "\n",
      "\u001b[4m FRANCISCA: \u001b[0m\n",
      "    I thought, well, what if something happens to me?  Who do I call? Should I call the ambulance? Ok, well, then we’ll all go to jail.\n",
      "\n",
      "\u001b[4m PETER EISNER: \u001b[0m\n",
      "    Some people would say here that this is a very religious, socially conservative country and you know that very well, and you also know the risks,.  You know what the rules are. What would you say to them?\n",
      "\n",
      "\u001b[4m FRANCISCA: \u001b[0m\n",
      "    There’s no sympathy.  Why can’t I make a mistake? I feel that this is a big injustice and it makes me motivated to do more.  I have to be responsible because there are women behind me and I do not want them to go through this.\n",
      "\n",
      "\u001b[4m PETER EISNER: \u001b[0m\n",
      "    She says that she and her friends never discuss abortion and few of them knows what she has gone through.  She says it’s a conspiracy of silence for fear of going to jail or being shunned by those who oppose abortion.\n",
      "\n",
      "\u001b[4m FRANCISCA: \u001b[0m\n",
      "    It’s sad. It’s very lonely.\n",
      "\n",
      "\u001b[4m PETER EISNER: \u001b[0m\n",
      "    In her case, she stayed healthy and she wasn’t caught. But she says the first procedure didn’t work. A second chemical abortion was successful only after another visit to the same clandestine practitioner. Francisca says she paid more than $1,000, approaching a month’s average salary. Some women pay many times that much. Chile has a ministerial level government agency dedicated to women’s issues, The National Institute for Women.  We wanted to know whether the federal government was doing anything to help women having these dangerous procedures.  The institute’s director, Loreto Seguel, agreed to talk with us.   \n",
      "\n",
      "\u001b[4m PETER EISNER: \u001b[0m\n",
      "    We see statistics that say that maybe there are 120,000 abortions in Chile every year. Understanding that abortion is absolutely illegal in Chile, does the government still have a responsibility to help the women who have had these illegal abortions?\n",
      "\n",
      "\u001b[4m LORETO SEGUEL: \u001b[0m\n",
      "    It is important to say that the national women’s service does not do direct work in terms of abortions.  Of course those stats you’re mentioning could be right but the goals of our programming is geared towards adolescent  pregnancies and preventing a second pregnancy.\n",
      "\n",
      "\u001b[4m PETER EISNER: \u001b[0m\n",
      "    Who else could I talk to in the government that would tell me how one can take care of women who nevertheless are having abortions and who nevertheless are sometimes operating underground in frightening ways that could hurt their health?\n",
      "\n",
      "\u001b[4m LORETO SEGEUL: \u001b[0m\n",
      "    Chile hasn’t been attempting to tackle the issue of clandestine abortions or adolescent pregnancies through one service agency.\n",
      "\n",
      "\u001b[4m PETER EISNER: \u001b[0m\n",
      "    While the government says it has limited ability to provide support or counseling to women facing unwanted pregnancies, private groups, pro-life and pro-choice, do provide hotline counseling. Veronica Hoffman is the director of a pro-life, anti-abortion group, Chile United. She says that her hotline is successful in comforting women and counseling them to keep their babies.\n",
      "\n",
      "\u001b[4m VERONICA HOFFMAN: \u001b[0m\n",
      "    They are very lonely, very worried, perhaps they are young women who did not think they would be having a baby, so… somehow when the test tells them they are going to have a baby, they feel very desperate, and that’s when they call us, then we decrease their stress level, and we start to check in with those who are thinking that they want an abortion. \n",
      "\n",
      "\u001b[4m PETER EISNER: \u001b[0m\n",
      "    She says she also sympathizes with the case of 11-year-old Belen and young girls like her, but she thinks an abortion would be worse.\n",
      "\n",
      "\u001b[4m VERONICA HOFFMAN: \u001b[0m\n",
      "    I want to make it clear, it’s not that we are not empathizing with that little girl, with that situation with the rape, but we do know that if they make the decision to terminate pregnancy of their child… that damage will be more severe than continuing with her pregnancy.\n",
      "\n",
      "\u001b[4m PETER EISNER: \u001b[0m\n",
      "    Pro-choice advocates also provide abortion counseling… The difference is that these organizations, such as Chile’s safe abortion hotline, operate underground.  Volunteers wear masks when promoting the hotline in public. Pro-choice sociologist Claudia Dides says politicians have been afraid to reverse Pinochet’s decree against abortion, even though a majority of Chileans support changes in the case of rape or when the life of the mother is in danger. \n",
      "\n",
      "\u001b[4m CLAUDIA DIDES: \u001b[0m\n",
      "    They wanted to avoid talking about them or legislating them. We say the political elite or political class, they decided not to open the debate on these issues. So there hasn’t been a debate in the last 24 years.\n",
      "\n",
      "\u001b[4m PETER EISNER: \u001b[0m\n",
      "    But controversy surrounding the 11-year-old girl, Belen, has prompted Michelle Bachelet,  the former president and likely to be Chile’s next president according to polls, to declare that she is in favor of exceptions to the country’s strict abortion laws.  While Claudia Dides fears that a divided Congress may yet block Bachelet’s commitment to change the law, she is glad that finally there is a national dialogue on the subject. \n",
      "\n",
      "\u001b[4m CLAUDIA DIDES: \u001b[0m\n",
      "    I think the issue of abortion has come into the public agenda, we have approached all the candidates to talk about it, and I think that is progress. And in that sense I think we’ve taken a step for the first time in 24 years,\n",
      "\n",
      "\u001b[4m PETER EISNER: \u001b[0m\n",
      "    And as for the little girl, Belen, who started all this.. Loreto Seguel, the head of the National Institute for Women, says that the government is keeping a close eye on her. \n",
      "\n",
      "\u001b[4m LORETO SEGUEL: \u001b[0m\n",
      "    Right now Belen is carrying out her pregnancy with special support.\n",
      "\n",
      "\u001b[4m PETER EISNER: \u001b[0m\n",
      "    Certainly in the case of Belen, there were calls for allowing an exemption so that she could have an abortion. Was there ever any consideration by you or by the President that in this particular case there should be an exemption?\n",
      "\n",
      "\u001b[4m LORETO SEGUEL: \u001b[0m\n",
      "    Well, the position and the conviction of the national women’s service and of President Piñera’s government has been and is to protect and save the life of the child that is due to be born.\n",
      "\n",
      "\u001b[4m PETER EISNER: \u001b[0m\n",
      "    But, final question, you still don’t want to see any change in the law as it is. LORETO SEGUEL President Piniera’s position has been very clear about the politics of this issue–\n",
      "\n",
      "\u001b[4m PETER EISNER: \u001b[0m\n",
      "    But in short the answer is no need for any change in the law?\n",
      "\n",
      "\u001b[4m LORETO SEGUEL: \u001b[0m\n",
      "    The administration has a position and a conviction, and in Chile, this is our challenge, what kind of society do we want to be?\n",
      "\n"
     ]
    }
   ],
   "source": [
    "### Used to style Python print statements\n",
    "class color:\n",
    "    BOLD = '\\033[1m'\n",
    "    UNDERLINE = '\\033[4m'\n",
    "    END = '\\033[0m'\n",
    "\n",
    "def pretty_transcript(transcript, convert_name=False):\n",
    "    print(color.BOLD, \"TRANSCRIPT\", color.END)\n",
    "    for speaker in transcript:\n",
    "        if convert_name:\n",
    "            speaker[0] = clean_names(speaker[0])\n",
    "        print(color.UNDERLINE, speaker[0] + \":\", color.END)\n",
    "        for txt in speaker[1:]:\n",
    "            print(\"  \", \" \".join(txt))\n",
    "        print()\n",
    "            \n",
    "for _ in range(5):\n",
    "    print()\n",
    "    index = np.random.randint(0, len(df) - 1)\n",
    "    print(df.iloc[index].URL)\n",
    "    pretty_transcript(df.iloc[index].Transcript, convert_name=True)"
   ]
  },
  {
   "cell_type": "markdown",
   "metadata": {},
   "source": [
    "# Misc cleaning"
   ]
  },
  {
   "cell_type": "markdown",
   "metadata": {},
   "source": [
    "### Order dataframe"
   ]
  },
  {
   "cell_type": "code",
   "execution_count": 21,
   "metadata": {},
   "outputs": [
    {
     "data": {
      "text/html": [
       "<div>\n",
       "<style>\n",
       "    .dataframe thead tr:only-child th {\n",
       "        text-align: right;\n",
       "    }\n",
       "\n",
       "    .dataframe thead th {\n",
       "        text-align: left;\n",
       "    }\n",
       "\n",
       "    .dataframe tbody tr th {\n",
       "        vertical-align: top;\n",
       "    }\n",
       "</style>\n",
       "<table border=\"1\" class=\"dataframe\">\n",
       "  <thead>\n",
       "    <tr style=\"text-align: right;\">\n",
       "      <th></th>\n",
       "      <th>URL</th>\n",
       "      <th>Story</th>\n",
       "      <th>Date</th>\n",
       "      <th>Title</th>\n",
       "      <th>Transcript</th>\n",
       "      <th>Speakers</th>\n",
       "      <th>Number of Comments</th>\n",
       "      <th>Timzone</th>\n",
       "    </tr>\n",
       "  </thead>\n",
       "  <tbody>\n",
       "    <tr>\n",
       "      <th>0</th>\n",
       "      <td>https://www.pbs.org/newshour/show/robert-macne...</td>\n",
       "      <td>“How high did the scandals reach and was Presi...</td>\n",
       "      <td>1973-05-17 02:26:00</td>\n",
       "      <td>Watergate: The NewsHour’s 1973 Special Report</td>\n",
       "      <td>[]</td>\n",
       "      <td>{S, T, E}</td>\n",
       "      <td>0.0</td>\n",
       "      <td>EDT</td>\n",
       "    </tr>\n",
       "    <tr>\n",
       "      <th>1</th>\n",
       "      <td>https://www.pbs.org/newshour/show/tempers-flar...</td>\n",
       "      <td>This MacNeil/Lehrer Report piece highlights th...</td>\n",
       "      <td>1979-06-29 06:00:00</td>\n",
       "      <td>Tempers Flare In Lines for Gasoline in 1979</td>\n",
       "      <td>[]</td>\n",
       "      <td>{S, T, E}</td>\n",
       "      <td>0.0</td>\n",
       "      <td>EDT</td>\n",
       "    </tr>\n",
       "    <tr>\n",
       "      <th>2</th>\n",
       "      <td>https://www.pbs.org/newshour/show/margaret-tha...</td>\n",
       "      <td>Robert MacNeil and Jim Lehrer interviewed Brit...</td>\n",
       "      <td>1981-02-27 06:00:00</td>\n",
       "      <td>Newsmaker: Margaret Thatcher</td>\n",
       "      <td>[]</td>\n",
       "      <td>{S, T, E}</td>\n",
       "      <td>0.0</td>\n",
       "      <td>EDT</td>\n",
       "    </tr>\n",
       "    <tr>\n",
       "      <th>3</th>\n",
       "      <td>https://www.pbs.org/newshour/show/macneil-lehr...</td>\n",
       "      <td>Jim Lehrer and Charlene Hunter Gault report on...</td>\n",
       "      <td>1982-10-25 06:00:00</td>\n",
       "      <td>The MacNeil/Lehrer Report – October 25, 1982 –...</td>\n",
       "      <td>[]</td>\n",
       "      <td>{S, T, E}</td>\n",
       "      <td>0.0</td>\n",
       "      <td>EDT</td>\n",
       "    </tr>\n",
       "    <tr>\n",
       "      <th>4</th>\n",
       "      <td>https://www.pbs.org/newshour/show/the-macneil-...</td>\n",
       "      <td>Robert MacNeil and Charlayne Hunter Gault repo...</td>\n",
       "      <td>1983-11-30 06:00:00</td>\n",
       "      <td>The MacNeil/Lehrer Report from Nov. 30, 1983 o...</td>\n",
       "      <td>[]</td>\n",
       "      <td>{S, T, E}</td>\n",
       "      <td>0.0</td>\n",
       "      <td>EDT</td>\n",
       "    </tr>\n",
       "  </tbody>\n",
       "</table>\n",
       "</div>"
      ],
      "text/plain": [
       "                                                 URL  \\\n",
       "0  https://www.pbs.org/newshour/show/robert-macne...   \n",
       "1  https://www.pbs.org/newshour/show/tempers-flar...   \n",
       "2  https://www.pbs.org/newshour/show/margaret-tha...   \n",
       "3  https://www.pbs.org/newshour/show/macneil-lehr...   \n",
       "4  https://www.pbs.org/newshour/show/the-macneil-...   \n",
       "\n",
       "                                               Story                Date  \\\n",
       "0  “How high did the scandals reach and was Presi... 1973-05-17 02:26:00   \n",
       "1  This MacNeil/Lehrer Report piece highlights th... 1979-06-29 06:00:00   \n",
       "2  Robert MacNeil and Jim Lehrer interviewed Brit... 1981-02-27 06:00:00   \n",
       "3  Jim Lehrer and Charlene Hunter Gault report on... 1982-10-25 06:00:00   \n",
       "4  Robert MacNeil and Charlayne Hunter Gault repo... 1983-11-30 06:00:00   \n",
       "\n",
       "                                               Title Transcript   Speakers  \\\n",
       "0      Watergate: The NewsHour’s 1973 Special Report         []  {S, T, E}   \n",
       "1        Tempers Flare In Lines for Gasoline in 1979         []  {S, T, E}   \n",
       "2                       Newsmaker: Margaret Thatcher         []  {S, T, E}   \n",
       "3  The MacNeil/Lehrer Report – October 25, 1982 –...         []  {S, T, E}   \n",
       "4  The MacNeil/Lehrer Report from Nov. 30, 1983 o...         []  {S, T, E}   \n",
       "\n",
       "   Number of Comments Timzone  \n",
       "0                 0.0     EDT  \n",
       "1                 0.0     EDT  \n",
       "2                 0.0     EDT  \n",
       "3                 0.0     EDT  \n",
       "4                 0.0     EDT  "
      ]
     },
     "execution_count": 21,
     "metadata": {},
     "output_type": "execute_result"
    }
   ],
   "source": [
    "df = df.sort_values(\"Date\").reset_index(drop=True)\n",
    "df.head()"
   ]
  },
  {
   "cell_type": "markdown",
   "metadata": {},
   "source": [
    "### Remove Speakers if missing Transcript"
   ]
  },
  {
   "cell_type": "code",
   "execution_count": 44,
   "metadata": {},
   "outputs": [
    {
     "data": {
      "text/html": [
       "<div>\n",
       "<style>\n",
       "    .dataframe thead tr:only-child th {\n",
       "        text-align: right;\n",
       "    }\n",
       "\n",
       "    .dataframe thead th {\n",
       "        text-align: left;\n",
       "    }\n",
       "\n",
       "    .dataframe tbody tr th {\n",
       "        vertical-align: top;\n",
       "    }\n",
       "</style>\n",
       "<table border=\"1\" class=\"dataframe\">\n",
       "  <thead>\n",
       "    <tr style=\"text-align: right;\">\n",
       "      <th></th>\n",
       "      <th>URL</th>\n",
       "      <th>Story</th>\n",
       "      <th>Date</th>\n",
       "      <th>Title</th>\n",
       "      <th>Transcript</th>\n",
       "      <th>Speakers</th>\n",
       "      <th>Number of Comments</th>\n",
       "      <th>Timzone</th>\n",
       "    </tr>\n",
       "  </thead>\n",
       "  <tbody>\n",
       "  </tbody>\n",
       "</table>\n",
       "</div>"
      ],
      "text/plain": [
       "Empty DataFrame\n",
       "Columns: [URL, Story, Date, Title, Transcript, Speakers, Number of Comments, Timzone]\n",
       "Index: []"
      ]
     },
     "execution_count": 44,
     "metadata": {},
     "output_type": "execute_result"
    }
   ],
   "source": [
    "temp = df.Transcript.map(lambda x: x != []).index\n",
    "df.at[temp, \"Speakers\"] = [{} for _ in range(len(temp))]\n",
    "\n",
    "df[df.Transcript.map(lambda x: x == []) & df.Speakers.map(lambda x: x != {})]"
   ]
  },
  {
   "cell_type": "markdown",
   "metadata": {
    "collapsed": true
   },
   "source": [
    "---\n",
    "<a id=\"save\"></a>\n",
    "\n",
    "# [^](#toc) <u>Save to CSV</u>\n",
    "\n",
    "Now that we've cleaned up our data a bit, let's save it into a different CSV file."
   ]
  },
  {
   "cell_type": "code",
   "execution_count": 45,
   "metadata": {
    "collapsed": true
   },
   "outputs": [],
   "source": [
    "df.to_csv(\"../data/PBS-newhour-clean.csv\", index=False)"
   ]
  },
  {
   "cell_type": "markdown",
   "metadata": {},
   "source": [
    "# Tests"
   ]
  },
  {
   "cell_type": "markdown",
   "metadata": {},
   "source": [
    "### Remove party regex"
   ]
  },
  {
   "cell_type": "code",
   "execution_count": 18,
   "metadata": {},
   "outputs": [
    {
     "data": {
      "text/plain": [
       "<matplotlib.figure.Figure at 0x10b7ea9b0>"
      ]
     },
     "metadata": {},
     "output_type": "display_data"
    }
   ],
   "source": [
    "%run preprocessing.py\n",
    "\n",
    "ex1 = \"BARBARA MIKULSKI (D-MD.)\"\n",
    "assert remove_party(ex1) == \"BARBARA MIKULSKI\" \n",
    "\n",
    "ex2 = \"JERRY BROWN (D-CALIF.)\"\n",
    "assert remove_party(ex2) == \"JERRY BROWN\" \n",
    "\n",
    "ex3 = \"CHUCK SCHUMER (DN.Y.)\"\n",
    "assert remove_party(ex3) == \"CHUCK SCHUMER\" \n",
    "\n",
    "ex4 = \"JOHN BOEHNER (R-OH.)\"\n",
    "assert remove_party(ex4) == \"JOHN BOEHNER\" \n",
    "\n",
    "ex5 = \"JEFF SESSIONS (R-ALA.)\"\n",
    "assert remove_party(ex5) == \"JEFF SESSIONS\" \n",
    "\n",
    "ex6 = \"TODD YOUNG (RIND.)\"\n",
    "assert remove_party(ex6) == \"TODD YOUNG\" \n",
    "\n",
    "ex7 = \"DONALD TRUMP\"\n",
    "assert remove_party(ex7) == ex7\n",
    "\n",
    "ex8 = \"PRESIDENT BARACK OBAMA (singing)\"\n",
    "assert remove_party(ex8) == ex8"
   ]
  },
  {
   "cell_type": "code",
   "execution_count": null,
   "metadata": {
    "collapsed": true
   },
   "outputs": [],
   "source": []
  }
 ],
 "metadata": {
  "kernelspec": {
   "display_name": "Python 3",
   "language": "python",
   "name": "python3"
  },
  "language_info": {
   "codemirror_mode": {
    "name": "ipython",
    "version": 3
   },
   "file_extension": ".py",
   "mimetype": "text/x-python",
   "name": "python",
   "nbconvert_exporter": "python",
   "pygments_lexer": "ipython3",
   "version": "3.6.3"
  }
 },
 "nbformat": 4,
 "nbformat_minor": 2
}
