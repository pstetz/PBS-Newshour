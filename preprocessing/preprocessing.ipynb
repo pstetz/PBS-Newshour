{
 "cells": [
  {
   "cell_type": "markdown",
   "metadata": {},
   "source": [
    "<a id=\"toc\"></a>\n",
    "\n",
    "# <u>Table of Contents</u>\n",
    "\n",
    "1.) [Setup](#setup)  \n",
    "&nbsp;&nbsp;&nbsp;&nbsp; 1.1.) [Imports](#imports)   \n",
    "&nbsp;&nbsp;&nbsp;&nbsp; 1.2.) [Load data](#load)   \n",
    "2.) [Datetime](#datetime)  \n",
    "&nbsp;&nbsp;&nbsp;&nbsp; 2.1.) [Time Zone](#time_zone)  \n",
    "&nbsp;&nbsp;&nbsp;&nbsp; 2.2.) [Updated times](#updated_times)  \n",
    "&nbsp;&nbsp;&nbsp;&nbsp; 2.3.) [Convert to Datetime](#convert_to_datetime)  \n",
    "&nbsp;&nbsp;&nbsp;&nbsp; 2.4.) [Create year and month features](#create_year_month)  \n",
    "3.) [Speakers](#speakers)  \n",
    "&nbsp;&nbsp;&nbsp;&nbsp; 3.1.) [Fill in missing speakers](#speaker_nan)   \n",
    "&nbsp;&nbsp;&nbsp;&nbsp; 3.2.) [Overview of names](#overview_of_names)   \n",
    "&nbsp;&nbsp;&nbsp;&nbsp; 3.3.) [Example: Obama](#obama_ex)   \n",
    "&nbsp;&nbsp;&nbsp;&nbsp; 3.4.) [Remove long names](#long_names)   \n",
    "&nbsp;&nbsp;&nbsp;&nbsp; 3.5.) [Remove titles, parties, and non-name features](#clean_speakers)   \n",
    "&nbsp;&nbsp;&nbsp;&nbsp; 3.6.) [Quick Visualization](#speaker_visual)   \n",
    "4.) [Transcript](#transcript)  \n",
    "&nbsp;&nbsp;&nbsp;&nbsp; 4.1.) [Process Transcripts](#process_transcripts)   \n",
    "&nbsp;&nbsp;&nbsp;&nbsp; 4.2.) [Clean Transcripts](#clean_transcripts)   \n",
    "&nbsp;&nbsp;&nbsp;&nbsp; 4.3.) [Quick sanity check](#transcript_sanity)   \n",
    "5.) [Misc cleaning](#misc_cleaning)  \n",
    "&nbsp;&nbsp;&nbsp;&nbsp; 5.1.) [Order dataframe](#misc_order)   \n",
    "&nbsp;&nbsp;&nbsp;&nbsp; 5.2.) [Remove Speakers if missing Transcript](#misc_speakers)   \n",
    "&nbsp;&nbsp;&nbsp;&nbsp; 5.3.) [Final data look](#final_data_look)   \n",
    "6.) [Save to JSON](#save)  \n",
    "7.) [Tests](#tests)  \n",
    "&nbsp;&nbsp;&nbsp;&nbsp; 7.1.) [Remove party regex](#test_party_regex)   "
   ]
  },
  {
   "cell_type": "markdown",
   "metadata": {},
   "source": [
    "---\n",
    "<a id=\"setup\"></a>\n",
    "\n",
    "# [^](#toc) <u>Setup</u>"
   ]
  },
  {
   "cell_type": "markdown",
   "metadata": {},
   "source": [
    "<a id=\"imports\"></a>\n",
    "\n",
    "### [^](#toc) Imports"
   ]
  },
  {
   "cell_type": "code",
   "execution_count": 1,
   "metadata": {
    "collapsed": true
   },
   "outputs": [],
   "source": [
    "### Standard imports\n",
    "import pandas as pd\n",
    "import numpy as np\n",
    "\n",
    "### Plotting imports\n",
    "import matplotlib.pyplot as plt\n",
    "import seaborn as sns\n",
    "%matplotlib inline\n",
    "sns.set()\n",
    "\n",
    "import re\n",
    "import datetime\n",
    "\n",
    "### Removes warnings that occassionally show in imports\n",
    "import warnings\n",
    "warnings.filterwarnings('ignore')"
   ]
  },
  {
   "cell_type": "markdown",
   "metadata": {},
   "source": [
    "<a id=\"load\"></a>\n",
    "\n",
    "### [^](#toc) Load data"
   ]
  },
  {
   "cell_type": "code",
   "execution_count": null,
   "metadata": {
    "collapsed": true
   },
   "outputs": [],
   "source": []
  },
  {
   "cell_type": "code",
   "execution_count": null,
   "metadata": {
    "collapsed": true
   },
   "outputs": [],
   "source": []
  },
  {
   "cell_type": "code",
   "execution_count": null,
   "metadata": {
    "collapsed": true
   },
   "outputs": [],
   "source": []
  },
  {
   "cell_type": "code",
   "execution_count": 2,
   "metadata": {},
   "outputs": [
    {
     "name": "stdout",
     "output_type": "stream",
     "text": [
      "Shape of df: (17617, 6)\n"
     ]
    },
    {
     "data": {
      "text/html": [
       "<div>\n",
       "<style>\n",
       "    .dataframe thead tr:only-child th {\n",
       "        text-align: right;\n",
       "    }\n",
       "\n",
       "    .dataframe thead th {\n",
       "        text-align: left;\n",
       "    }\n",
       "\n",
       "    .dataframe tbody tr th {\n",
       "        vertical-align: top;\n",
       "    }\n",
       "</style>\n",
       "<table border=\"1\" class=\"dataframe\">\n",
       "  <thead>\n",
       "    <tr style=\"text-align: right;\">\n",
       "      <th></th>\n",
       "      <th>Date</th>\n",
       "      <th>Speakers</th>\n",
       "      <th>Story</th>\n",
       "      <th>Title</th>\n",
       "      <th>Transcript</th>\n",
       "      <th>URL</th>\n",
       "    </tr>\n",
       "  </thead>\n",
       "  <tbody>\n",
       "    <tr>\n",
       "      <th>0</th>\n",
       "      <td>Jul 2, 2018 6:50 PM EDT</td>\n",
       "      <td>{'Man (through translator)', 'Judy Woodruff', ...</td>\n",
       "      <td>In our news wrap Monday, President Trump's sea...</td>\n",
       "      <td>News Wrap: Trump interviews Supreme Court cand...</td>\n",
       "      <td>[['Judy Woodruff', [' President Trump’s search...</td>\n",
       "      <td>https://www.pbs.org/newshour/show/news-wrap-tr...</td>\n",
       "    </tr>\n",
       "    <tr>\n",
       "      <th>1</th>\n",
       "      <td>Jul 2, 2018 6:45 PM EDT</td>\n",
       "      <td>{'Nick Schifrin', 'Diana Mercado (through tran...</td>\n",
       "      <td>Mexican president-elect Andrés Manuel López Ob...</td>\n",
       "      <td>Elected by a landslide, can Mexico’s López Obr...</td>\n",
       "      <td>[['Judy Woodruff', [' After two previous runs ...</td>\n",
       "      <td>https://www.pbs.org/newshour/show/elected-in-a...</td>\n",
       "    </tr>\n",
       "    <tr>\n",
       "      <th>10</th>\n",
       "      <td>Jun 30, 2018 7:19 PM EDT</td>\n",
       "      <td>{'LISA DESJARDINS', 'DANIEL BUSH'}</td>\n",
       "      <td>On this edition for Saturday, June 30, people ...</td>\n",
       "      <td>Stiffer bonds keeping some migrant families ap...</td>\n",
       "      <td>[['LISA DESJARDINS', [' Despite court orders i...</td>\n",
       "      <td>https://www.pbs.org/newshour/show/stiffer-bond...</td>\n",
       "    </tr>\n",
       "    <tr>\n",
       "      <th>100</th>\n",
       "      <td>Jun 15, 2018 6:45 PM EDT</td>\n",
       "      <td>{'Judy Woodruff', 'Geng Shuang (through transl...</td>\n",
       "      <td>In our news wrap Friday, the Trump administrat...</td>\n",
       "      <td>News Wrap: U.S. imposes tariffs on $50B worth ...</td>\n",
       "      <td>[['Judy Woodruff', [' In the day’s other news,...</td>\n",
       "      <td>https://www.pbs.org/newshour/show/news-wrap-u-...</td>\n",
       "    </tr>\n",
       "    <tr>\n",
       "      <th>1000</th>\n",
       "      <td>Nov 7, 2017 6:40 PM EDT</td>\n",
       "      <td>{'Sen. Chris Murphy', 'Judy Woodruff'}</td>\n",
       "      <td>Sen. Chris Murphy. D-Conn., has been one of th...</td>\n",
       "      <td>Closing gun background check loopholes may be ...</td>\n",
       "      <td>[['Judy Woodruff', [' As more becomes known ab...</td>\n",
       "      <td>https://www.pbs.org/newshour/show/closing-gun-...</td>\n",
       "    </tr>\n",
       "  </tbody>\n",
       "</table>\n",
       "</div>"
      ],
      "text/plain": [
       "                          Date  \\\n",
       "0      Jul 2, 2018 6:50 PM EDT   \n",
       "1      Jul 2, 2018 6:45 PM EDT   \n",
       "10    Jun 30, 2018 7:19 PM EDT   \n",
       "100   Jun 15, 2018 6:45 PM EDT   \n",
       "1000   Nov 7, 2017 6:40 PM EDT   \n",
       "\n",
       "                                               Speakers  \\\n",
       "0     {'Man (through translator)', 'Judy Woodruff', ...   \n",
       "1     {'Nick Schifrin', 'Diana Mercado (through tran...   \n",
       "10                   {'LISA DESJARDINS', 'DANIEL BUSH'}   \n",
       "100   {'Judy Woodruff', 'Geng Shuang (through transl...   \n",
       "1000             {'Sen. Chris Murphy', 'Judy Woodruff'}   \n",
       "\n",
       "                                                  Story  \\\n",
       "0     In our news wrap Monday, President Trump's sea...   \n",
       "1     Mexican president-elect Andrés Manuel López Ob...   \n",
       "10    On this edition for Saturday, June 30, people ...   \n",
       "100   In our news wrap Friday, the Trump administrat...   \n",
       "1000  Sen. Chris Murphy. D-Conn., has been one of th...   \n",
       "\n",
       "                                                  Title  \\\n",
       "0     News Wrap: Trump interviews Supreme Court cand...   \n",
       "1     Elected by a landslide, can Mexico’s López Obr...   \n",
       "10    Stiffer bonds keeping some migrant families ap...   \n",
       "100   News Wrap: U.S. imposes tariffs on $50B worth ...   \n",
       "1000  Closing gun background check loopholes may be ...   \n",
       "\n",
       "                                             Transcript  \\\n",
       "0     [['Judy Woodruff', [' President Trump’s search...   \n",
       "1     [['Judy Woodruff', [' After two previous runs ...   \n",
       "10    [['LISA DESJARDINS', [' Despite court orders i...   \n",
       "100   [['Judy Woodruff', [' In the day’s other news,...   \n",
       "1000  [['Judy Woodruff', [' As more becomes known ab...   \n",
       "\n",
       "                                                    URL  \n",
       "0     https://www.pbs.org/newshour/show/news-wrap-tr...  \n",
       "1     https://www.pbs.org/newshour/show/elected-in-a...  \n",
       "10    https://www.pbs.org/newshour/show/stiffer-bond...  \n",
       "100   https://www.pbs.org/newshour/show/news-wrap-u-...  \n",
       "1000  https://www.pbs.org/newshour/show/closing-gun-...  "
      ]
     },
     "execution_count": 2,
     "metadata": {},
     "output_type": "execute_result"
    }
   ],
   "source": [
    "df = pd.read_json(\"../data/PBS_full_unedited.json\")\n",
    "df.Transcript = df.Transcript.map(lambda x: list() if x is np.nan else x)\n",
    "df.Speakers   = df.Speakers.map(  lambda x: set()  if x is np.nan else x)\n",
    "    \n",
    "print(\"Shape of df:\", df.shape)\n",
    "df.head()"
   ]
  },
  {
   "cell_type": "markdown",
   "metadata": {},
   "source": [
    "---\n",
    "<a id=\"datetime\"></a>\n",
    "\n",
    "# [^](#toc) <u>Datetime</u>\n",
    "\n",
    "First let's clear off whitespace and \\n characters"
   ]
  },
  {
   "cell_type": "code",
   "execution_count": 3,
   "metadata": {},
   "outputs": [],
   "source": [
    "df[\"Date\"] = df[\"Date\"].map(lambda x: x.strip())"
   ]
  },
  {
   "cell_type": "markdown",
   "metadata": {},
   "source": [
    "<a id=\"time_zone\"></a>\n",
    "\n",
    "### [^](#toc) Time Zone\n",
    "\n",
    "It appears, the time is always posted in EDT"
   ]
  },
  {
   "cell_type": "code",
   "execution_count": 4,
   "metadata": {},
   "outputs": [
    {
     "data": {
      "text/plain": [
       "EDT    17617\n",
       "Name: Timezone, dtype: int64"
      ]
     },
     "execution_count": 4,
     "metadata": {},
     "output_type": "execute_result"
    }
   ],
   "source": [
    "df[\"Timezone\"] = df.Date.map(lambda x: x[-3:])\n",
    "df[\"Timezone\"].value_counts()"
   ]
  },
  {
   "cell_type": "markdown",
   "metadata": {},
   "source": [
    "<a id=\"updated_times\"></a>\n",
    "\n",
    "### [^](#toc) Updated times\n",
    "\n",
    "There are only 4 videos that were updated.  I don't think this is very interesting so I'm just going to ignore all updated times.\n",
    "\n",
    "I understand why someone would like this data, but I don't need it."
   ]
  },
  {
   "cell_type": "code",
   "execution_count": 5,
   "metadata": {},
   "outputs": [
    {
     "name": "stdout",
     "output_type": "stream",
     "text": [
      "4 clips have had information updated\n"
     ]
    }
   ],
   "source": [
    "df.temp = df.Date.map(lambda x: int(\"Updated\" in x))\n",
    "num_updated = len(df[df.temp == 1])\n",
    "print(f\"{num_updated} clips have had information updated\")\n",
    "\n",
    "df.Date = df.Date.map(lambda x: x.split(\"\\n\")[0])"
   ]
  },
  {
   "cell_type": "markdown",
   "metadata": {},
   "source": [
    "<a id=\"convert_to_datetime\"></a>\n",
    "\n",
    "### [^](#toc) Convert to Datetime\n",
    "\n",
    "See this Stack Exchange [link](https://english.stackexchange.com/questions/35315/what-is-the-proper-name-for-am-and-pm?newreg=2d443a2ca9dc4ba6abbe1a1e01e4af4b) haha.  I was honored by the line...\n",
    "\n",
    "    software developers think about naming variables properly. It is built into the Object-Oriented mindset. Jader, a commenter, said it well: \"It's funny that the question intrinsically is not programming related, but all programmers can understand why you posted it here.\"\n",
    "    \n",
    "I just considered myself a physicist!"
   ]
  },
  {
   "cell_type": "code",
   "execution_count": 6,
   "metadata": {
    "collapsed": true
   },
   "outputs": [],
   "source": [
    "def format_datetime(x):\n",
    "    return datetime.datetime.strptime(x[:-4], '%b %d, %Y %H:%M %p')\n",
    "\n",
    "df.Date = df.Date.map(format_datetime)"
   ]
  },
  {
   "cell_type": "markdown",
   "metadata": {},
   "source": [
    "<a id=\"create_year_month\"></a>\n",
    "\n",
    "### [^](#toc) Create year and month features"
   ]
  },
  {
   "cell_type": "code",
   "execution_count": 7,
   "metadata": {
    "collapsed": true
   },
   "outputs": [],
   "source": [
    "df[\"Year\"]  = df.Date.map(lambda x: x.year)\n",
    "df[\"Month\"] = df.Date.map(lambda x: x.month)"
   ]
  },
  {
   "cell_type": "markdown",
   "metadata": {},
   "source": [
    "### And we're done with times!"
   ]
  },
  {
   "cell_type": "markdown",
   "metadata": {},
   "source": [
    "---\n",
    "<a id=\"speakers\"></a>\n",
    "\n",
    "# [^](#toc) <u>Speakers</u>"
   ]
  },
  {
   "cell_type": "markdown",
   "metadata": {},
   "source": [
    "<a id=\"speaker_nan\"></a>\n",
    "\n",
    "### [^](#toc) Fill in missing speakers"
   ]
  },
  {
   "cell_type": "code",
   "execution_count": 10,
   "metadata": {
    "collapsed": true
   },
   "outputs": [],
   "source": [
    "for row in df.loc[df.Speakers.isnull(), 'Speakers'].index:\n",
    "    df.at[row, 'Speakers'] = {}"
   ]
  },
  {
   "cell_type": "markdown",
   "metadata": {},
   "source": [
    "<a id=\"overview_of_names\"></a>\n",
    "\n",
    "### [^](#toc) Overview of names"
   ]
  },
  {
   "cell_type": "code",
   "execution_count": 11,
   "metadata": {},
   "outputs": [
    {
     "ename": "TypeError",
     "evalue": "descriptor 'union' requires a 'set' object but received a 'str'",
     "output_type": "error",
     "traceback": [
      "\u001b[0;31m---------------------------------------------------------------------------\u001b[0m",
      "\u001b[0;31mTypeError\u001b[0m                                 Traceback (most recent call last)",
      "\u001b[0;32m<ipython-input-11-ac72058c5f05>\u001b[0m in \u001b[0;36m<module>\u001b[0;34m()\u001b[0m\n\u001b[0;32m----> 1\u001b[0;31m \u001b[0mN\u001b[0m \u001b[0;34m=\u001b[0m \u001b[0mlen\u001b[0m\u001b[0;34m(\u001b[0m\u001b[0mset\u001b[0m\u001b[0;34m.\u001b[0m\u001b[0munion\u001b[0m\u001b[0;34m(\u001b[0m\u001b[0;34m*\u001b[0m\u001b[0mdf\u001b[0m\u001b[0;34m.\u001b[0m\u001b[0mSpeakers\u001b[0m\u001b[0;34m)\u001b[0m\u001b[0;34m)\u001b[0m\u001b[0;34m\u001b[0m\u001b[0m\n\u001b[0m\u001b[1;32m      2\u001b[0m \u001b[0;34m\u001b[0m\u001b[0m\n\u001b[1;32m      3\u001b[0m \u001b[0mprint\u001b[0m\u001b[0;34m(\u001b[0m\u001b[0;34m\"Unique names found in df:\"\u001b[0m\u001b[0;34m,\u001b[0m \u001b[0mN\u001b[0m\u001b[0;34m)\u001b[0m\u001b[0;34m\u001b[0m\u001b[0m\n",
      "\u001b[0;31mTypeError\u001b[0m: descriptor 'union' requires a 'set' object but received a 'str'"
     ]
    }
   ],
   "source": [
    "N = len(set.union(*df.Speakers))\n",
    "\n",
    "print(\"Unique names found in df:\", N)"
   ]
  },
  {
   "cell_type": "markdown",
   "metadata": {},
   "source": [
    "<a id=\"obama_ex\"></a>\n",
    "\n",
    "### [^](#toc) Example: Obama\n",
    "\n",
    "It looks like there's a lot to do here, I want uniform names.\n",
    "\n",
    "When I search for Obama I want to see 'SEN. BARACK OBAMA', 'SENATOR BARACK OBAMA', 'PRESIDENT BARACK OBAMA', 'PRESIDENT BARACK OBAMA (singing)', 'BARACK OBAMA', 'BARACK OBAMA (singing)', and 'Barack Obama'\n",
    "\n",
    "My plan of attack is\n",
    "\n",
    "However removing modifiers only goes so far, sometimes the names are shortened.  In which case I need to manually group \"Obama\" and \"PRESIDENT OBAMA\" to \"BARACK OBAMA\".\n",
    "\n",
    "There also seems to be ASCII errors like \"\\xa0\" popping up."
   ]
  },
  {
   "cell_type": "code",
   "execution_count": null,
   "metadata": {
    "scrolled": false
   },
   "outputs": [],
   "source": [
    "{elem for elem in {x for x in set.union(*df.Speakers)} if (\"OBAMA\" in elem or \"Obama\" in elem or \"obama\" in elem)}"
   ]
  },
  {
   "cell_type": "markdown",
   "metadata": {},
   "source": [
    "<a id=\"long_names\"></a>\n",
    "\n",
    "### [^](#toc) Remove long names\n",
    "\n",
    "Long names are actually text"
   ]
  },
  {
   "cell_type": "code",
   "execution_count": 11,
   "metadata": {
    "collapsed": true
   },
   "outputs": [],
   "source": [
    "df.Speakers = df.Speakers.map(lambda x: {elem for elem in x if len(elem.split(\" \")) < 9})"
   ]
  },
  {
   "cell_type": "markdown",
   "metadata": {},
   "source": [
    "<a id=\"clean_speakers\"></a>\n",
    "\n",
    "### [^](#toc) Remove titles, parties, and non-name features\n",
    "\n",
    "We went from 32,725 names to 26,834 names.  This is either from dropping bad names or merging two names that are actually the same person.\n",
    "\n",
    "This is not perfect, PBS does not have a standardized format.  PBS is not considerate of robots as this [example](https://www.pbs.org/newshour/show/trump-considering-sending-troops-afghanistan) shows.  The names start out as full names, but than move to last names.  This makes complete sense to a human in context.  I can't get a machine to understand context though.  Thankfully this type of format is rare and \"SREENIVASAN\" is a rare name so I can map it to \"HARI SREENIVASAN\".  \"RUBIN\" is probably a more common name and less popular on PBS newshour so unfortunately there's nothing I can easily do."
   ]
  },
  {
   "cell_type": "code",
   "execution_count": 12,
   "metadata": {},
   "outputs": [
    {
     "name": "stdout",
     "output_type": "stream",
     "text": [
      "New number of unique names: 26797\n"
     ]
    }
   ],
   "source": [
    "%run preprocessing.py\n",
    "\n",
    "mistaken_names = get_mistaken_names()\n",
    "\n",
    "def map_speakers(x):\n",
    "    return {clean_names(elem) for elem in x if clean_names(elem) not in mistaken_names}\n",
    "\n",
    "df.Speakers = df.Speakers.map(map_speakers)\n",
    "N = len(set.union(*df.Speakers))\n",
    "print(\"New number of unique names:\", N)"
   ]
  },
  {
   "cell_type": "markdown",
   "metadata": {},
   "source": [
    "<a id=\"speaker_visual\"></a>\n",
    "\n",
    "### [^](#toc) Quick Visualization\n",
    "\n",
    "There might be more work needed to be done.  I don't know why \"S\", \"T\", or \"E\" are all names.  They seem to be only found in cases where no Transcript is provided.  I'll deal with this issue later"
   ]
  },
  {
   "cell_type": "code",
   "execution_count": 13,
   "metadata": {},
   "outputs": [
    {
     "data": {
      "image/png": "[encoded data removed]",
      "text/plain": [
       "<matplotlib.figure.Figure at 0x10c623080>"
      ]
     },
     "metadata": {},
     "output_type": "display_data"
    }
   ],
   "source": [
    "# Will count number of unique words in a sentence\n",
    "from collections import Counter\n",
    "import operator\n",
    "    \n",
    "persons = df.Speakers.map(list).sum()\n",
    "\n",
    "freq = sorted(Counter(persons).items(), key=operator.itemgetter(1), reverse=True)\n",
    "\n",
    "x, y = list(zip(*freq[:25]))\n",
    "plt.figure(figsize=(14, 14))\n",
    "sns.barplot(list(y), list(x));"
   ]
  },
  {
   "cell_type": "markdown",
   "metadata": {},
   "source": [
    "---\n",
    "<a id=\"transcript\"></a>\n",
    "\n",
    "# [^](#toc) <u>Transcript</u>"
   ]
  },
  {
   "cell_type": "code",
   "execution_count": 14,
   "metadata": {
    "collapsed": true
   },
   "outputs": [],
   "source": [
    "for row in df.loc[df.Transcript.isnull(), 'Transcript'].index:\n",
    "    df.at[row, 'Transcript'] = []"
   ]
  },
  {
   "cell_type": "markdown",
   "metadata": {
    "collapsed": true
   },
   "source": [
    "<a id=\"process_transcripts\"></a>\n",
    "\n",
    "### [^](#toc) Process Transcripts\n",
    "\n",
    "Plan of attack\n",
    "\n",
    "1.) Remove all speakers that should not be included.  \n",
    "2.) Go through each Transcript and check if it has a Speaker that is not included.  \n",
    "3.) If this speaker is the first one talking, clip the transcript short.  This is probably more intro if there isn't a direct speaker.  \n",
    "4.) If the speaker is not the first talker, append the speaker and text to the previous speaker.  \n",
    "\n",
    "Check out this [video](https://www.pbs.org/newshour/show/with-3-more-wins-romney-pivots-to-general-election#transcript) and search for \"North Carolina is a strong one for them\".  You'll see one of these formating slips and understand what the problem is.  If you know how to do a webpage inspection, try to figure out a difference between speaker names and emphasized text.  I couldn't"
   ]
  },
  {
   "cell_type": "code",
   "execution_count": 15,
   "metadata": {
    "collapsed": true,
    "scrolled": false
   },
   "outputs": [],
   "source": [
    "def map_transcript(speakers):\n",
    "    def map_transcript_helper(x):\n",
    "        if x is np.nan:\n",
    "            return x\n",
    "        \n",
    "        i = 0\n",
    "        while i < len(x):\n",
    "            speeches = x[i]\n",
    "            if speeches[1] == [\"\"]:\n",
    "                x[i-1][1].append(speeches[0])\n",
    "                del x[i]\n",
    "                i -= 1\n",
    "            \n",
    "            elif clean_names(speeches[0]) not in speakers:\n",
    "                if i == 0:\n",
    "                    x = x[1:]\n",
    "                else:\n",
    "                    temp = speeches[1][:]\n",
    "                    temp.insert(0, speeches[0])\n",
    "                    x[i-1][1] = x[i-1][1] + temp\n",
    "\n",
    "                    del x[i]\n",
    "                    i -= 1\n",
    "            i += 1\n",
    "        return x\n",
    "    return map_transcript_helper\n",
    "\n",
    "speakers = set.union(*df.Speakers)\n",
    "df.Transcript = df.Transcript.map(map_transcript(speakers))"
   ]
  },
  {
   "cell_type": "markdown",
   "metadata": {},
   "source": [
    "<a id=\"clean_transcripts\"></a>\n",
    "\n",
    "### [^](#toc) Clean Transcripts\n",
    "\n",
    "I've only seen newline and space formatting errors (they get rendered as `\\n` and `\\xa0` respectively)"
   ]
  },
  {
   "cell_type": "code",
   "execution_count": 16,
   "metadata": {},
   "outputs": [],
   "source": [
    "def clean_transcripts(transcript):\n",
    "    for i, speaker in enumerate(transcript):\n",
    "        for j, txt in enumerate(speaker[1:]):\n",
    "            for k, paragraph in enumerate(txt):\n",
    "                transcript[i][j+1][k] = paragraph.replace(\"\\n\",   \" \")\n",
    "                transcript[i][j+1][k] = paragraph.replace(\"\\xa0\", \" \")\n",
    "    return transcript\n",
    "\n",
    "df.Transcript = df.Transcript.map(clean_transcripts)"
   ]
  },
  {
   "cell_type": "markdown",
   "metadata": {},
   "source": [
    "<a id=\"transcript_clean_name\"></a>\n",
    "\n",
    "### [^](#toc) Clean Names\n",
    "\n",
    "Clean all the names in the Transcript.  I sort of like seeing the titles and qualifiers, however I can't migrate my clean_names preprocessing function to Kaggle so I have to clean here and now."
   ]
  },
  {
   "cell_type": "code",
   "execution_count": 17,
   "metadata": {},
   "outputs": [],
   "source": [
    "def clean_name(transcript):\n",
    "    for i, speaker in enumerate(transcript):\n",
    "        transcript[i][0] = clean_names(speaker[0])\n",
    "    return transcript\n",
    "\n",
    "df.Transcript = df.Transcript.map(clean_name)"
   ]
  },
  {
   "cell_type": "markdown",
   "metadata": {},
   "source": [
    "<a id=\"transcript_sanity\"></a>\n",
    "\n",
    "### [^](#toc) Quick sanity check\n",
    "\n",
    "I'll check a few random transcripts to see if they were formatted correctly\n",
    "\n",
    "And wow!  This works almost perfectly!  I haven't seen one mistake yet"
   ]
  },
  {
   "cell_type": "code",
   "execution_count": 18,
   "metadata": {
    "scrolled": true
   },
   "outputs": [
    {
     "name": "stdout",
     "output_type": "stream",
     "text": [
      "\n",
      "https://www.pbs.org/newshour/show/human-trafficking-camps-mass-graves-discovered-in-malaysia\n",
      "\u001b[1m TRANSCRIPT \u001b[0m\n",
      "\u001b[4m JUDY WOODRUFF: \u001b[0m\n",
      "    We travel now to Malaysia, where thousands of migrants, fleeing persecution and impoverishment, are spending weeks trapped at sea, find a different nightmare when they finally land ashore. Jonathan Sparks of Independent Television News reports. And a warning  The story contains some graphic elements.\n",
      "\n",
      "\u001b[4m JOHN SPARKS: \u001b[0m\n",
      "    We were taken in army trucks to the bottom of the mountain, where the Malaysian authorities said they’d found a human traffickers’ camp. This was a significant development. Last week, they vehemently denied there were any. We’re still going, are we?  We’re still going to the camp?\n",
      "\n",
      "\u001b[4m MAN: \u001b[0m\n",
      "    Yes, yes, yes, yes.\n",
      "\n",
      "\u001b[4m JOHN SPARKS: \u001b[0m\n",
      "    The order was given and we began to climb. Yesterday, the Malaysians came clean, admitting there were at least 28 of these camps where traffickers held thousands of migrants, persecuted Burmese Muslims called Rohingya and impoverished Bangladeshis. And we followed in their footsteps, men, women and children forced up and down this trail. The track is rough, and it’s also very steep, but you can see that it’s well used. There’s litter all over the place. And it’s difficult to believe that local people and members of the authorities didn’t know that there were hundreds of people living out here. The camp took shape from a distance. Such was it size, it wasn’t easy to hide a bamboo jail that stretched across a mountain clearing, but further details were hard to come by. How many people do you think were kept there?\n",
      "\n",
      "\u001b[4m MAN: \u001b[0m\n",
      "    I’m not sure.\n",
      "\n",
      "\u001b[4m JOHN SPARKS: \u001b[0m\n",
      "    Not sure?\n",
      "\n",
      "\u001b[4m MAN: \u001b[0m\n",
      "    Not sure, yes.\n",
      "\n",
      "\u001b[4m JOHN SPARKS: \u001b[0m\n",
      "    We have been given a few seconds to walk through the camp, but I think that’s the wrong name for this place. It’s more like a village or a prison complex. There are cells wrung with barbed wire and watchtowers and food and water storage facilities. There’s even a cage where people were kept, I presume, because they tried to escape. Clearly, it was a place of real cruelty, where hundreds were held for the purposes of extortion. To earn their release, the victims’ family members had to pay a ransom of $2,000 to $3,000. Later, we spoke to young Rohingya who was held for seven months in a jungle camp.\n",
      "\n",
      "\u001b[4m SHARUF KHAN: \u001b[0m\n",
      "    Brokers told our relatives to send the money and beat us while we were on the phone. They’re very bad people. There’s little to eat here. Some people starve. Many are sick.\n",
      "\n",
      "\u001b[4m JOHN SPARKS: \u001b[0m\n",
      "    Sharuf managed to escape two months ago, but many prisoners never leave. Up on the mountain, forensics teams have begun examining 37 graves, or burial pits. And on the earth’s surface, we saw bone fragments.\n",
      "\n",
      "\u001b[4m SHARUF KHAN: \u001b[0m\n",
      "    One man didn’t have any money to pay the ransom, so the brokers beat him. They had handed him over to the camp guards and said, “You can finish him.” The guards took a rope and hanged him. I saw it.\n",
      "\n",
      "\u001b[4m JOHN SPARKS: \u001b[0m\n",
      "    It is an odious business, and it’s gone on for years. But the authorities here in Malaysia and neighboring Thailand seem determined to uncover the truth, the Thais making more than 60 arrests. Still, many think the traffickers will soon return to the mountains.\n",
      "\n",
      "\n",
      "https://www.pbs.org/newshour/show/obama-unveils-roadmap-for-reducing-deficit-by-4-trillion\n",
      "\u001b[1m TRANSCRIPT \u001b[0m\n",
      "\u001b[4m JIM LEHRER: \u001b[0m\n",
      "    The deficit battle in Washington was fully joined today, as President Obama laid out his ideas. NewsHour congressional correspondent Kwame Holman begins our coverage. (APPLAUSE)\n",
      "\n",
      "\u001b[4m KWAME HOLMAN: \u001b[0m\n",
      "    The president took the stage at George Washington University in Washington and called for cutting the deficit by $4 trillion over 12 years.\n",
      "\n",
      "\u001b[4m BARACK OBAMA: \u001b[0m\n",
      "    It’s an approach that achieves about $2 trillion in spending cuts across the budget. It will lower our interest payments on the debt by $1 trillion. It calls for tax reform to cut about $1 trillion in tax expenditures — spending in the tax code. And it achieves these goals while protecting the middle class, protecting our commitment to seniors and protecting our investments in the future.\n",
      "\n",
      "\u001b[4m KWAME HOLMAN: \u001b[0m\n",
      "    To get to the total, the Obama plan would end tax breaks first instituted by President Bush, for households earning more than $250,000 a year, look for up to $400 billion in new defense spending cuts, reduce domestic discretionary spending by $770 billion, and exact $480 billion in fresh savings from Medicare and Medicaid. The plan outlined by the president today came two months after the release of his 2012 budget proposal. That blueprint did little to address entitlements, prompting Republicans to accuse Mr. Obama of failing to lead. Today, they portrayed his speech as a do-over. The president gave congressional leaders a personal preview of the speech at the White House this morning. But Republicans emerged as cool to his plan as they had been going in, especially to tax hikes.\n",
      "\n",
      "\u001b[4m JOHN BOEHNER: \u001b[0m\n",
      "    I think the president heard us loud and clear. If we’re going to resolve our differences and do something meaningful, raising taxes will not be part of that.\n",
      "\n",
      "\u001b[4m KWAME HOLMAN: \u001b[0m\n",
      "    Mr. Obama anticipated those objections in his speech.\n",
      "\n",
      "\u001b[4m BARACK OBAMA: \u001b[0m\n",
      "    Some will argue we should not even consider — ever, ever — raising taxes, even if only on the wealthiest Americans. It’s just an article of faith to them. I say that at a time when the tax burden on the wealthy is at its lowest level in half a century, the most fortunate among us can afford to pay a little more.\n",
      "\n",
      "\u001b[4m KWAME HOLMAN: \u001b[0m\n",
      "    The president’s overall strategy today was to draw a sharp contrast to Republican ideas, especially to last week’s proposal by Paul Ryan, chair of the House Budget Committee. He called for reductions of more than $5 trillion over 10 years, well beyond the Obama numbers. Ryan would revamp Medicare by paying private health plans, instead of reimbursing doctors and hospitals directly. And the GOP also would transform Medicaid into block grants, giving governors less money but more flexibility in caring for the poor and disabled. The president insisted those changes would end Medicare and Medicaid, not strengthen them.\n",
      "\n",
      "\u001b[4m BARACK OBAMA: \u001b[0m\n",
      "    I will not allow Medicare to become a voucher program that leaves seniors at the mercy of the insurance industry, with a shrinking benefit to pay for rising costs. I will not tell families with children who have disabilities that they have to fend for themselves.\n",
      "\n",
      "\u001b[4m KWAME HOLMAN: \u001b[0m\n",
      "    Congressman Ryan rejected that criticism.\n",
      "\n",
      "\u001b[4m PAUL RYAN: \u001b[0m\n",
      "    I’m very disappointed in the president. I was excited when we got invited to attend his speech today. I thought the president’s invitation of Mr. Camp, Mr. Hensarling and myself was an olive branch. Instead, what we got was a speech that was excessively partisan, dramatically inaccurate and hopelessly inadequate to addressing our country’s pressing fiscal challenges.\n",
      "\n",
      "\u001b[4m KWAME HOLMAN: \u001b[0m\n",
      "    Beyond Republican opposition, the president acknowledged today he faces skepticism from Democratic allies, leery of any cuts to entitlements.\n",
      "\n",
      "\u001b[4m BARACK OBAMA: \u001b[0m\n",
      "    And I understand those fears. But I guarantee that if we don’t make any changes at all, we won’t be able to keep our commitment to a retiring generation that will live longer and will face higher health care costs than those who came before.\n",
      "\n",
      "\u001b[4m KWAME HOLMAN: \u001b[0m\n",
      "    With both parties’ major plans now on the table, House Republicans plan to push through their budget by week’s end. It faces little chance of passing the Democratic-controlled Senate.\n",
      "\n",
      "\n",
      "https://www.pbs.org/newshour/show/brain-rattler-schedule-among-big-problems-for-air-traffic-controllers\n",
      "\u001b[1m TRANSCRIPT \u001b[0m\n",
      "\u001b[4m JIM LEHRER: \u001b[0m\n",
      "    A top official with the Federal Aviation Administration resigned today, following the latest incident involving an air-traffic controller sleeping on the job. Judy Woodruff has our story.\n",
      "\n",
      "\u001b[4m JUDY WOODRUFF: \u001b[0m\n",
      "    The resignation came one day after a small plane transporting an ill patient was unable to reach the control tower at Nevada’s Reno-Tahoe International Airport. The plane was forced to circle overhead.\n",
      "\n",
      "\u001b[4m PILOT: \u001b[0m\n",
      "    Can’t seem to get ahold of the tower here. I think I’m going to try and give them another call.\n",
      "\n",
      "\u001b[4m JUDY WOODRUFF: \u001b[0m\n",
      "    Controllers in Sacramento, some 120 miles away, tried to help the pilot reach Reno.\n",
      "\n",
      "\u001b[4m SACRAMENTO CONTROLLER: \u001b[0m\n",
      "    OK. We’re going to call them on the phone line.\n",
      "\n",
      "\u001b[4m PILOT: \u001b[0m\n",
      "    All right. We’ll circle some more. We have got a pretty sick patient. We may just have to land.\n",
      "\n",
      "\u001b[4m JUDY WOODRUFF: \u001b[0m\n",
      "    Sixteen minutes passed as the pilot continued to circle.\n",
      "\n",
      "\u001b[4m PILOT: \u001b[0m\n",
      "    We’re going to need to land.\n",
      "\n",
      "\u001b[4m SACRAMENTO CONTROLLER: \u001b[0m\n",
      "    Zero Tango November, roger. And landing will be at your own risk.  \n",
      "\n",
      "\u001b[4m JUDY WOODRUFF: \u001b[0m\n",
      "    The plane landed safely. But Secretary of Transportation Ray LaHood responded that lapses in control towers will not be tolerated.\n",
      "\n",
      "\u001b[4m RAY LAHOOD: \u001b[0m\n",
      "    Well, I am totally outraged that a controller would be sleeping in a control tower when a plane is trying to land with a patient that is sick or anybody that is trying to land an airplane. This is ridiculous.\n",
      "\n",
      "\u001b[4m JUDY WOODRUFF: \u001b[0m\n",
      "    The problem in Reno tops off a string of similar cases this year involving sleeping or unresponsive controllers disclosed by the FAA, including one earlier this week in Seattle and one last month at Reagan National Airport in Washington, D.C. As investigations continue, the FAA has ordered that an additional controller be added to the midnight shift at 27 control towers around the nation currently staffed with only one worker. And for more on concerns about these safety questions in the sky, we turn to Alan Levin, who covers aviation for USA Today. Alan Levin, thank you for being with us.\n",
      "\n",
      "\u001b[4m ALAN LEVIN: \u001b[0m\n",
      "    Thank you.\n",
      "\n",
      "\u001b[4m JUDY WOODRUFF: \u001b[0m\n",
      "    So, just to clarify, these 27 towers that just have had one person on duty overnight, what kind of towers are those?\n",
      "\n",
      "\u001b[4m ALAN LEVIN: \u001b[0m\n",
      "    They’re at medium and smaller commercial airports. So, in other words, your Chicago O’Hares or your Atlanta Hartsfield, they have multiple people on duty all night long.\n",
      "\n",
      "\u001b[4m JUDY WOODRUFF: \u001b[0m\n",
      "    But you did have that incident in Washington, Reagan National. Was that unusual?\n",
      "\n",
      "\u001b[4m ALAN LEVIN: \u001b[0m\n",
      "    That an airport of that size would have that?\n",
      "\n",
      "\u001b[4m JUDY WOODRUFF: \u001b[0m\n",
      "    Right.\n",
      "\n",
      "\u001b[4m ALAN LEVIN: \u001b[0m\n",
      "    No, it was not. And the issue at Reagan is there’s virtually no traffic, due to noise restrictions, after 1:00 a.m. and before 5:00 a.m. So, the FAA felt there wasn’t a lot to do for more than one person.\n",
      "\n",
      "\u001b[4m JUDY WOODRUFF: \u001b[0m\n",
      "    Now, help us understand how common these incidents are. Is this something that is — we’re seeing more of now, or it’s always been — it’s been going on for a long time, and we just haven’t heard about it?\n",
      "\n",
      "\u001b[4m ALAN LEVIN: \u001b[0m\n",
      "    Well, on the one hand, I have been covering this beat a long time, and this is the first time I have seen a spate of incidents like this, anything close to this. But what everybody I have talked to, you know, people who actually work in the air-traffic world and the nation’s best sleep and fatigue experts say is that this is a sign of not something new but of a phenomenon that’s been going on for years. And that’s because at least several thousand people in any given week or pay period at the FAA are working midnight shifts, and the body is simply incapable of adapting to working overnight. And — and, with the FAA, it’s even worse than that. They have a shift that many controllers work called the rattler — it’s given that name because it rattles the brain so much — where you work a midnight shift and a day shift during a 24-hour period. It’s virtually impossible, the experts say, to get a decent amount of sleep while you do that.\n",
      "\n",
      "\u001b[4m JUDY WOODRUFF: \u001b[0m\n",
      "    If they’re having these kinds of shifts, is anybody arguing they shouldn’t?\n",
      "\n",
      "\u001b[4m ALAN LEVIN: \u001b[0m\n",
      "    Well, the National Transportation Safety Board, for many years, has issued recommendations and has argued that they shouldn’t. The most recent series of recommendations came in 2007. But it’s — the FAA to date hasn’t — has been unable to do anything about it. I do have to say that there’s an effort under way right now to change that, but in some ways, all the bad publicity about this has undercut that effort, to some extent.\n",
      "\n",
      "\u001b[4m JUDY WOODRUFF: \u001b[0m\n",
      "    What are they saying is the reason they can’t change this?\n",
      "\n",
      "\u001b[4m ALAN LEVIN: \u001b[0m\n",
      "    Well, they’re not saying anything officially. But what we hear is that one of the key proposals is to allow people working overnight shifts to nap. Now, we’re not talking about sacking out for the whole shift, but, you know, a very carefully monitored nap for half-an-hour, an hour, and then going back to work. And this dramatically improves your alertness and reduces errors. But unfortunately, I think there’s a feeling in the administration that this wouldn’t pass what they call the Jay Leno test. In other words, it week ridiculed and joked about. So they’re kind of afraid to go and do that.\n",
      "\n",
      "\u001b[4m JUDY WOODRUFF: \u001b[0m\n",
      "    Well, while they figure that out, how much — what sort of safety concerns are we talking about? I mean, so far, we haven’t seen anything, at least not in these most recent incidents. Fortunately, nothing’s happened. But there has to be concern that something could happen.\n",
      "\n",
      "\u001b[4m ALAN LEVIN: \u001b[0m\n",
      "    Well, it’s always important to keep your eye on the broader picture on safety. And, you know, we have very few fatal accidents in this country involving airlines, number one. And, secondly, accidents involving air-traffic controllers are even rarer. But having said that, the National Transportation Safety Board has been very concerned about this because there have been several very dramatic near misses of planes nearly hitting each other on the runway. And when they go back and do their investigation, they find that the controller didn’t have a good night’s sleep the night before and therefore made an error. So, it’s clearly a safety issue that people have their eyes on.\n",
      "\n",
      "\u001b[4m JUDY WOODRUFF: \u001b[0m\n",
      "    Is any part of the issue not having enough air-traffic controllers? How much is that a factor here?\n",
      "\n",
      "\u001b[4m ALAN LEVIN: \u001b[0m\n",
      "    That’s a very tricky debate. It gets into politics on the Hill about the budget. It gets into union debates and that sort of thing. I think there’s a case to be made that with more controllers, you could have these carefully monitored naps more easily. But I know there are a lot of people who say that’s nonsense. Indeed, Chairman Mica of the House Transportation Committee issued a press release yesterday attacking the addition of these controllers, saying that it was wasteful spending.\n",
      "\n",
      "\u001b[4m JUDY WOODRUFF: \u001b[0m\n",
      "    Well, this is clearly something a lot of people have their eye on. And, Alan Levin, we thank you very much for giving us some insights.\n",
      "\n",
      "\u001b[4m ALAN LEVIN: \u001b[0m\n",
      "    My pleasure. Thank you.\n",
      "\n",
      "\n",
      "https://www.pbs.org/newshour/show/what-we-know-one-week-after-orlando-massacre\n",
      "\u001b[1m TRANSCRIPT \u001b[0m\n",
      "\u001b[4m HARI SREENIVASAN: \u001b[0m\n",
      "    Today in Orlando, at churches and memorial services, a city marked one week since a self-radicalized ISIS sympathizer named Omar Mateen shot and killed 49 people with a semiautomatic rifle at a gay nightclub. Tomorrow in Washington, the U.S. Senate is scheduled to vote on gun control measures intended to lessen the odds of such a massacre happening again. Democrats propose to expand background checks to cover purchases at gun shows and ban gun sales to anyone on a government terrorist watch list. Republicans propose the FBI be alerted when someone on a watch list buys a gun from a licensed firearm dealer, and letting the government delay a gun sale to someone on a watch list for three days while seeking a court order to stop it. Today, the National Rifle Association said it supports only the Republican bill with that due process provision.\n",
      "\n",
      "\u001b[4m CHRIS COX: \u001b[0m\n",
      "    This notion that more gun control is going to prevent some jihadist who thinks that he’s going to obtain martyrdom by murdering innocent people really gets away from the serious nature of the problem that we’re facing.\n",
      "\n",
      "\u001b[4m HARI SREENIVASAN: \u001b[0m\n",
      "    Attorney General Loretta Lynch said today the ability to block a gun sale is an important tool, but three days may not be enough time to produce the evidence.\n",
      "\n",
      "\u001b[4m LORETTA LYNCH: \u001b[0m\n",
      "    What we think is more appropriate is the one that gives us the most flexibility, the ability to stop that sale at the beginning and the ability, again, if it’s challenged, to protect sensitive and classified information.\n",
      "\n",
      "\u001b[4m HARI SREENIVASAN: \u001b[0m\n",
      "    Today at 2:00 a.m., the time last week’s rampage at the Pulse nightclub began, an LGBT club down the street held a moment of silence for the victims. Eighteen of 53 people who survived gunshot wounds remain hospitalized. Joining me now from Orlando for more on the investigation and mood of the city is Orlando Sentinel reporter Paul Brinkmann. Paul, one of the things that your paper has done has — is to put together this timeline of exactly what happened in those three hours, according to all of the witnesses, all the survivors that were in there. One of the questions that people often have is, what took the police so long? Why did it take them three hours? But what you point out is that they were there relatively quickly.\n",
      "\n",
      "\u001b[4m PAUL BRINKMANN: \u001b[0m\n",
      "    Yes. There was actually an Orlando police officer on the scene as an off-duty security guard. And he exchanged gunfire pretty quickly with the shooter. But he realized he was outgunned, and he had to retreat and call for backup. Two other officers arrived. And then they had — experienced pretty much the same thing, and the shooter retreated into the back of the bar. So, we were working on that for a period of days before we posted that, because, obviously, you know, it took a little while to piece it all together.\n",
      "\n",
      "\u001b[4m HARI SREENIVASAN: \u001b[0m\n",
      "    This is also now a weekend where we start to see the beginning or the continuation of funerals of the victims.\n",
      "\n",
      "\u001b[4m PAUL BRINKMANN: \u001b[0m\n",
      "    Yes. You know, right away, one of our first tasks in the newsroom was to — to cover every victim, find out who they were. And then we have kept up with that database, with — when vigils are held for them, when their funerals are — they are happening now, several every day.\n",
      "\n",
      "\u001b[4m HARI SREENIVASAN: \u001b[0m\n",
      "    Paul, sadly, this is not the first time one of these events have occurred. And now there is almost an infrastructure of support that exists from people who have survived other mass shootings. Who are those people, and what are they planning on to help Orlando?\n",
      "\n",
      "\u001b[4m PAUL BRINKMANN: \u001b[0m\n",
      "    It’s not a formal group. They don’t even have a formal name. But it is a network of family members of victims of other mass shootings. But they’re — they try to stay in touch with each other and provide whatever support they can. They are scheduled to fly here. Actually, tonight, some of them will be arriving. And then they will be here for two days. And they’re — they’re looking for opportunities to connect with victims and their families. And they are going to be working with Equality Florida and some of the other LGBT organizations here. One of their causes that they’re most passionate about is the fund-raising, because many of them have actually seen millions of dollars raised in some of these other shootings, where victims and their families who are affected by them are still struggling to pay their bills and haven’t gotten any money. You know, there are some things that they — they can say. You know, watch out for fractured fund-raising. Watch out for groups that are trying to raise money for other groups. The problem is that the need for victims and their families is urgent in many cases. There are people who, they’re not able to pay their rent. They’re not able to go to work. And they need help.\n",
      "\n",
      "\u001b[4m HARI SREENIVASAN: \u001b[0m\n",
      "    All right, Paul Brinkmann of The Orlando Sentinel, thanks so much.\n",
      "\n",
      "\u001b[4m PAUL BRINKMANN: \u001b[0m\n",
      "    Thank you. Read the full transcript below\n",
      "\n",
      "\n",
      "https://www.pbs.org/newshour/show/in-israel-hamas-conflict-have-both-sides-reached-point-of-diminishing-returns\n",
      "\u001b[1m TRANSCRIPT \u001b[0m\n",
      "\u001b[4m JUDY WOODRUFF: \u001b[0m\n",
      "    Joining me now to discuss the prospects for the Cairo negotiations are Aaron David Miller, a former Middle East negotiator for the State Department. He’s now a vice president and distinguished scholar at the Woodrow Wilson Center. And Hussein Ibish, a senior fellow at the American Task Force on Palestine and a contributing writer for American and Middle Eastern publications. And we welcome you both back to the NewsHour.\n",
      "\n",
      "\u001b[4m AARON DAVID MILLER: \u001b[0m\n",
      "    It’s a pleasure.\n",
      "\n",
      "\u001b[4m JUDY WOODRUFF: \u001b[0m\n",
      "    Hussein Ibish, what are the prospects that they can pull something off in Cairo, if not just to extend the cease-fire, do something longer-lasting?\n",
      "\n",
      "\u001b[4m HUSSEIN IBISH: \u001b[0m\n",
      "    I think it depends a lot. First of all, I do think that the cease-fire is likely to hold because I think both parties reached the point of diminishing returns. And I think for Israel, there’s no reason to restart hostilities and I don’t think Hamas can politically sustain the pushback that would come if they did. I think this is likely to go on. I think it’s going to be difficult to find a formula that will satisfy Hamas and that the Israelis and the Egyptians can live with, but certainly if the Palestinian Authority can become a fulcrum, for example, being on the other side of the Rafah crossing, if the Egyptians can live with that, the Israelis can probably live with that, that’s certainly one way forward.\n",
      "\n",
      "\u001b[4m JUDY WOODRUFF: \u001b[0m\n",
      "    It sounds as if he’s saying, Aaron David Miller, that, yes, the formula may be there for something in the short-term. Longer-term, it’s more complex.\n",
      "\n",
      "\u001b[4m AARON DAVID MILLER: \u001b[0m\n",
      "    I think it really is because expectations this time around are much higher. In ’08 and ’09, there were no expectations. The Israelis declared a unilateral cease-fire and withdrew. In 2012, the Egyptians, former President Mohammed Morsi of the Muslim Brotherhood, now in prison, brokered a cease-fire. Now you have the Israelis determined to avoid an inconclusive ending, demilitarization. Hamas has staked its credibility, its legitimacy on literally freeing Gaza economically. So the tradeoff, demilitarization for the economic reconstruction of Gaza, is going to be a very tough one to make, let alone to sustain.\n",
      "\n",
      "\u001b[4m JUDY WOODRUFF: \u001b[0m\n",
      "    Hussein Ibish, how do you see — what’s the minimum that you see both sides need to create something that lasts?\n",
      "\n",
      "\u001b[4m HUSSEIN IBISH: \u001b[0m\n",
      "    Well, I think the Israelis pretty much want to — I think they want to deny Hamas as much as possible a victory, but I think they are probably willing to go along with a program to help Gaza, as long as it’s under Egyptian auspices and possibly the P.A. as well. Probably, the Egyptians would insist on that. So that’s something I think the Israelis might be able to live with, particularly when it comes to reconstruction, economic improvement, humanitarian aid. Hamas I think needs something — almost anything that is deliverable to the people or that constitutes a political or diplomatic breakthrough for them, because they really have been through this almost one month of fighting and come up with absolutely nothing. I mean, really, the way they have lost politically as well as militarily and in every possible sense is absolutely pretty spectacular.\n",
      "\n",
      "\u001b[4m JUDY WOODRUFF: \u001b[0m\n",
      "    So are you saying they — there’s more of a reason then for them to go along with something like what you just described?\n",
      "\n",
      "\u001b[4m HUSSEIN IBISH: \u001b[0m\n",
      "    Yes, I think there is. And it dovetails back with the strategy that preceded these hostilities. Hamas — you have to understand the context of Hamas. Hamas really was desperate over the past year. They had lost their headquarters in Damascus and their sponsors in Tehran. Then they lost their friend President Morsi in Egypt, and they were facing this huge crackdown from the Egyptians, who shut down their smuggling tunnels and basically treated them as an hostile entity. And they were isolated, they were broke, and the economy in Gaza was tanking, and their popularity was tanking. So, their gambit initially was to form a unity government with Fatah and essentially try to bring the P.A. into Gaza and…\n",
      "\n",
      "\u001b[4m JUDY WOODRUFF: \u001b[0m\n",
      "    Palestinian Authority.\n",
      "\n",
      "\u001b[4m HUSSEIN IBISH: \u001b[0m\n",
      "    Right, and then have — themselves have a bigger presence in the West Bank. So I actually think they are trying to parlay a lesser role in Gaza over the long run for a bigger role in the West Bank. That’s my view of their long-term goals.\n",
      "\n",
      "\u001b[4m JUDY WOODRUFF: \u001b[0m\n",
      "    How do you see that, Aaron David?\n",
      "\n",
      "\u001b[4m AARON DAVID MILLER: \u001b[0m\n",
      "    You know, Hussein makes a fascinating point, that, in essence, the unity agreement, which was arrived at by desperation on their part, was an effect to reach financial — economic gains and use the backdoor into the West Bank, where, in essence, the Palestinian struggle — even though the first intifada took place in Gaza and they were born, Hamas, was born six days after it broke out, and they are a resistance organization, I think even they understand the importance of changing the political center of gravity to the West Bank.\n",
      "\n",
      "\u001b[4m JUDY WOODRUFF: \u001b[0m\n",
      "    But are they operating from such a point of weakness, as Hussein just described?\n",
      "\n",
      "\u001b[4m AARON DAVID MILLER: \u001b[0m\n",
      "    Well, Hussein and I may have a slight difference of opinion here. They can win, even though they have lost. The reality is, in four weeks, they killed more Israelis, six times the number of Israelis, they shut down Ben Gurion Airport for — at least forced the FAA to suspend it. They essentially fired a significant number of rockets on the last day of the cease-fire. They retain a fairly large arsenal of high-trajectory weapons. And the tunnel infrastructure has psychologically and even practically — they have launched several operations, some of which succeeded, during the recent confrontation.\n",
      "\n",
      "\u001b[4m JUDY WOODRUFF: \u001b[0m\n",
      "    Even as Israel was destroying…\n",
      "\n",
      "\u001b[4m AARON DAVID MILLER: \u001b[0m\n",
      "    Exactly. So, I think that there’s a problem here, because the military wing, which drove the train here, needs to rationalize and justify not only maintaining control of Gaza, but delivering something to the public.\n",
      "\n",
      "\u001b[4m HUSSEIN IBISH: \u001b[0m\n",
      "    Well, that’s the problem, which is all of those things that Aaron just talked about don’t actually accrue to the benefit of the Palestinian people of Gaza or the West Bank or anybody. And they don’t bring the Palestinians any closer to national liberation. Hamas can’t point to a single gain out of this. They didn’t even get an Israeli soldier to exchange for prisoners. They have gotten absolutely nothing.\n",
      "\n",
      "\u001b[4m JUDY WOODRUFF: \u001b[0m\n",
      "    But they’re — it sounds lying you’re making a distinction between what Hamas can claim and what the Palestinian people…\n",
      "\n",
      "\u001b[4m HUSSEIN IBISH: \u001b[0m\n",
      "    Well, certainly, internally, Hamas can say, look, we’re a resistance organization. Last time around, there was a major ground incursion in 2008-2009. Seven Israelis died, four of them from so-called friendly-fire. That means three. And this time, it’s 63, so we did better and all these other things that Aaron was saying. But I don’t think that explains to the people of Gaza why it was worthwhile to reject a cease-fire that was calm for calm a month ago, 2,000 dead ago, and accept it today.\n",
      "\n",
      "\u001b[4m JUDY WOODRUFF: \u001b[0m\n",
      "    How do you — how do you — talk about the role of the U.S. We have seen some tension.\n",
      "\n",
      "\u001b[4m AARON DAVID MILLER: \u001b[0m\n",
      "    Right.\n",
      "\n",
      "\u001b[4m JUDY WOODRUFF: \u001b[0m\n",
      "    Or what appeared to be real tension, Aaron David Miller, between the U.S. and Israel over the last few weeks.\n",
      "\n",
      "\u001b[4m AARON DAVID MILLER: \u001b[0m\n",
      "    Yes. The president…\n",
      "\n",
      "\u001b[4m JUDY WOODRUFF: \u001b[0m\n",
      "    How real is that, and does that affect what happens?\n",
      "\n",
      "\u001b[4m AARON DAVID MILLER: \u001b[0m\n",
      "    It’s real. I mean, unlike Lehman Brothers, I think the U.S.-Israeli relationship is probably too big to fail. But there is dysfunction at the top, there’s no question. You have Benjamin Netanyahu and Barack Obama. They do not trust one another, they don’t like one another. Their views on any number of issues, tactically on Iran, or even strategically on the Arab-Israeli peace process, fundamentally divided. So that’s going to be a problem. I think they have no choice but to accommodate and find a way to work together. We have seen worse periods, Bush-Baker and Shamir was a very tough — you remember that period. It was a very tough one. But here they can’t find a single project on which to cooperate that is meaningful to both of them, and that’s a significant problem.\n",
      "\n",
      "\u001b[4m JUDY WOODRUFF: \u001b[0m\n",
      "    So, just very quickly, Hussein Ibish, how does that bode for finding a solution?\n",
      "\n",
      "\u001b[4m HUSSEIN IBISH: \u001b[0m\n",
      "    Yes. Well, I don’t think it’s going to make it any easier or any harder, frankly. The U.S. role is important, as a — but it’s secondary. The Egyptian role is crucial here. And really Egypt being the other state that has a say on what happens in Gaza because of Rafah, because of its geographical position and its political importance in the Arab world, is crucial. And ultimately I think it’s the Egyptians and the Palestinian Authority that can craft a workable solution for Gaza, you know. And I think Hamas is going to be in a very tough situation because claiming credit for that is going to be difficult.\n",
      "\n",
      "\u001b[4m AARON DAVID MILLER: \u001b[0m\n",
      "    I was just going to add, if we keep our feet on the ground and our head out of the clouds, it may well be that we can actually make a contribution here. But we are going to have to be very disciplined and very clear about what we want to achieve, and not go for some transformation, some idealized world.\n",
      "\n",
      "\u001b[4m HUSSEIN IBISH: \u001b[0m\n",
      "    But in the West Bank, I think, is where the biggest American contribution can come.\n",
      "\n",
      "\u001b[4m JUDY WOODRUFF: \u001b[0m\n",
      "    Talks are just beginning. Thank you for your insight, Hussein Ibish, Aaron David Miller.\n",
      "\n",
      "\u001b[4m HUSSEIN IBISH: \u001b[0m\n",
      "    Thank you.\n",
      "\n",
      "\u001b[4m AARON DAVID MILLER: \u001b[0m\n",
      "    Always a pleasure, Judy.\n",
      "\n",
      "\u001b[4m HUSSEIN IBISH: \u001b[0m\n",
      "    Appreciate it.\n",
      "\n"
     ]
    }
   ],
   "source": [
    "### Used to style Python print statements\n",
    "class color:\n",
    "    BOLD = '\\033[1m'\n",
    "    UNDERLINE = '\\033[4m'\n",
    "    END = '\\033[0m'\n",
    "\n",
    "def pretty_transcript(transcript, convert_name=False):\n",
    "    print(color.BOLD, \"TRANSCRIPT\", color.END)\n",
    "    for speaker in transcript:\n",
    "        if convert_name:\n",
    "            speaker[0] = clean_names(speaker[0])\n",
    "        print(color.UNDERLINE, speaker[0] + \":\", color.END)\n",
    "        for txt in speaker[1:]:\n",
    "            print(\"  \", \" \".join(txt))\n",
    "        print()\n",
    "            \n",
    "for _ in range(5):\n",
    "    print()\n",
    "    temp = df[df.Transcript.map(lambda x: x != [])].reset_index(drop=True)\n",
    "    index = np.random.randint(0, len(temp) - 1)\n",
    "    print(temp.iloc[index].URL)\n",
    "    pretty_transcript(temp.iloc[index].Transcript, convert_name=True)"
   ]
  },
  {
   "cell_type": "markdown",
   "metadata": {},
   "source": [
    "---\n",
    "<a id=\"misc_cleaning\"></a>\n",
    "\n",
    "# [^](#toc) <u>Misc cleaning</u>"
   ]
  },
  {
   "cell_type": "markdown",
   "metadata": {},
   "source": [
    "<a id=\"misc_order\"></a>\n",
    "\n",
    "### [^](#toc) Order dataframe"
   ]
  },
  {
   "cell_type": "code",
   "execution_count": 19,
   "metadata": {},
   "outputs": [
    {
     "name": "stdout",
     "output_type": "stream",
     "text": [
      "Shape of df: (17617, 9)\n"
     ]
    },
    {
     "data": {
      "text/html": [
       "<div>\n",
       "<style>\n",
       "    .dataframe thead tr:only-child th {\n",
       "        text-align: right;\n",
       "    }\n",
       "\n",
       "    .dataframe thead th {\n",
       "        text-align: left;\n",
       "    }\n",
       "\n",
       "    .dataframe tbody tr th {\n",
       "        vertical-align: top;\n",
       "    }\n",
       "</style>\n",
       "<table border=\"1\" class=\"dataframe\">\n",
       "  <thead>\n",
       "    <tr style=\"text-align: right;\">\n",
       "      <th></th>\n",
       "      <th>Date</th>\n",
       "      <th>Speakers</th>\n",
       "      <th>Story</th>\n",
       "      <th>Title</th>\n",
       "      <th>Transcript</th>\n",
       "      <th>URL</th>\n",
       "      <th>Timezone</th>\n",
       "      <th>Year</th>\n",
       "      <th>Month</th>\n",
       "    </tr>\n",
       "  </thead>\n",
       "  <tbody>\n",
       "    <tr>\n",
       "      <th>0</th>\n",
       "      <td>1973-05-17 02:26:00</td>\n",
       "      <td>{T, E, S}</td>\n",
       "      <td>“How high did the scandals reach and was Presi...</td>\n",
       "      <td>Watergate: The NewsHour’s 1973 Special Report</td>\n",
       "      <td>[]</td>\n",
       "      <td>https://www.pbs.org/newshour/show/robert-macne...</td>\n",
       "      <td>EDT</td>\n",
       "      <td>1973</td>\n",
       "      <td>5</td>\n",
       "    </tr>\n",
       "    <tr>\n",
       "      <th>1</th>\n",
       "      <td>1979-06-29 06:00:00</td>\n",
       "      <td>{T, E, S}</td>\n",
       "      <td>This MacNeil/Lehrer Report piece highlights th...</td>\n",
       "      <td>Tempers Flare In Lines for Gasoline in 1979</td>\n",
       "      <td>[]</td>\n",
       "      <td>https://www.pbs.org/newshour/show/tempers-flar...</td>\n",
       "      <td>EDT</td>\n",
       "      <td>1979</td>\n",
       "      <td>6</td>\n",
       "    </tr>\n",
       "    <tr>\n",
       "      <th>2</th>\n",
       "      <td>1981-02-27 06:00:00</td>\n",
       "      <td>{T, E, S}</td>\n",
       "      <td>Robert MacNeil and Jim Lehrer interviewed Brit...</td>\n",
       "      <td>Newsmaker: Margaret Thatcher</td>\n",
       "      <td>[]</td>\n",
       "      <td>https://www.pbs.org/newshour/show/margaret-tha...</td>\n",
       "      <td>EDT</td>\n",
       "      <td>1981</td>\n",
       "      <td>2</td>\n",
       "    </tr>\n",
       "    <tr>\n",
       "      <th>3</th>\n",
       "      <td>1982-10-25 06:00:00</td>\n",
       "      <td>{T, E, S}</td>\n",
       "      <td>Jim Lehrer and Charlene Hunter Gault report on...</td>\n",
       "      <td>The MacNeil/Lehrer Report – October 25, 1982 –...</td>\n",
       "      <td>[]</td>\n",
       "      <td>https://www.pbs.org/newshour/show/macneil-lehr...</td>\n",
       "      <td>EDT</td>\n",
       "      <td>1982</td>\n",
       "      <td>10</td>\n",
       "    </tr>\n",
       "    <tr>\n",
       "      <th>4</th>\n",
       "      <td>1983-11-30 06:00:00</td>\n",
       "      <td>{T, E, S}</td>\n",
       "      <td>Robert MacNeil and Charlayne Hunter Gault repo...</td>\n",
       "      <td>The MacNeil/Lehrer Report from Nov. 30, 1983 o...</td>\n",
       "      <td>[]</td>\n",
       "      <td>https://www.pbs.org/newshour/show/the-macneil-...</td>\n",
       "      <td>EDT</td>\n",
       "      <td>1983</td>\n",
       "      <td>11</td>\n",
       "    </tr>\n",
       "  </tbody>\n",
       "</table>\n",
       "</div>"
      ],
      "text/plain": [
       "                 Date   Speakers  \\\n",
       "0 1973-05-17 02:26:00  {T, E, S}   \n",
       "1 1979-06-29 06:00:00  {T, E, S}   \n",
       "2 1981-02-27 06:00:00  {T, E, S}   \n",
       "3 1982-10-25 06:00:00  {T, E, S}   \n",
       "4 1983-11-30 06:00:00  {T, E, S}   \n",
       "\n",
       "                                               Story  \\\n",
       "0  “How high did the scandals reach and was Presi...   \n",
       "1  This MacNeil/Lehrer Report piece highlights th...   \n",
       "2  Robert MacNeil and Jim Lehrer interviewed Brit...   \n",
       "3  Jim Lehrer and Charlene Hunter Gault report on...   \n",
       "4  Robert MacNeil and Charlayne Hunter Gault repo...   \n",
       "\n",
       "                                               Title Transcript  \\\n",
       "0      Watergate: The NewsHour’s 1973 Special Report         []   \n",
       "1        Tempers Flare In Lines for Gasoline in 1979         []   \n",
       "2                       Newsmaker: Margaret Thatcher         []   \n",
       "3  The MacNeil/Lehrer Report – October 25, 1982 –...         []   \n",
       "4  The MacNeil/Lehrer Report from Nov. 30, 1983 o...         []   \n",
       "\n",
       "                                                 URL Timezone  Year  Month  \n",
       "0  https://www.pbs.org/newshour/show/robert-macne...      EDT  1973      5  \n",
       "1  https://www.pbs.org/newshour/show/tempers-flar...      EDT  1979      6  \n",
       "2  https://www.pbs.org/newshour/show/margaret-tha...      EDT  1981      2  \n",
       "3  https://www.pbs.org/newshour/show/macneil-lehr...      EDT  1982     10  \n",
       "4  https://www.pbs.org/newshour/show/the-macneil-...      EDT  1983     11  "
      ]
     },
     "execution_count": 19,
     "metadata": {},
     "output_type": "execute_result"
    }
   ],
   "source": [
    "df = df.sort_values(\"Date\").reset_index(drop=True)\n",
    "print(\"Shape of df:\", df.shape)\n",
    "df.head()"
   ]
  },
  {
   "cell_type": "markdown",
   "metadata": {},
   "source": [
    "<a id=\"misc_speakers\"></a>\n",
    "\n",
    "### [^](#toc) Remove Speakers if missing Transcript"
   ]
  },
  {
   "cell_type": "code",
   "execution_count": null,
   "metadata": {},
   "outputs": [],
   "source": [
    "index = df[df.Transcript.map(lambda x: x == []) & df.Speakers.map(lambda x: x != {})].index\n",
    "\n",
    "for row in index:\n",
    "    df.at[row, 'Speakers'] = {}\n",
    "\n",
    "df[df.Transcript.map(lambda x: x == []) & df.Speakers.map(lambda x: x != {})]"
   ]
  },
  {
   "cell_type": "markdown",
   "metadata": {},
   "source": [
    "<a id=\"final_data_look\"></a>\n",
    "\n",
    "### [^](#toc) Final data look"
   ]
  },
  {
   "cell_type": "code",
   "execution_count": null,
   "metadata": {},
   "outputs": [],
   "source": [
    "df.head()"
   ]
  },
  {
   "cell_type": "code",
   "execution_count": null,
   "metadata": {},
   "outputs": [],
   "source": [
    "df.tail()"
   ]
  },
  {
   "cell_type": "markdown",
   "metadata": {
    "collapsed": true
   },
   "source": [
    "---\n",
    "<a id=\"save\"></a>\n",
    "\n",
    "# [^](#toc) <u>Save to JSON</u>\n",
    "\n",
    "Now that we've cleaned up our data a bit, let's save it into a different JSON file."
   ]
  },
  {
   "cell_type": "code",
   "execution_count": 22,
   "metadata": {
    "collapsed": true
   },
   "outputs": [],
   "source": [
    "df.to_json(\"../data/PBS-newhour-clean.json\")"
   ]
  },
  {
   "cell_type": "markdown",
   "metadata": {},
   "source": [
    "---\n",
    "<a id=\"tests\"></a>\n",
    "\n",
    "# [^](#toc) <u>Tests</u>"
   ]
  },
  {
   "cell_type": "markdown",
   "metadata": {},
   "source": [
    "<a id=\"test_party_regex\"></a>\n",
    "\n",
    "### [^](#toc) Remove party regex"
   ]
  },
  {
   "cell_type": "code",
   "execution_count": 24,
   "metadata": {},
   "outputs": [
    {
     "data": {
      "text/plain": [
       "<matplotlib.figure.Figure at 0x1a218e5358>"
      ]
     },
     "metadata": {},
     "output_type": "display_data"
    }
   ],
   "source": [
    "%run preprocessing.py\n",
    "\n",
    "ex1 = \"BARBARA MIKULSKI (D-MD.)\"\n",
    "assert remove_party(ex1) == \"BARBARA MIKULSKI\" \n",
    "\n",
    "ex2 = \"JERRY BROWN (D-CALIF.)\"\n",
    "assert remove_party(ex2) == \"JERRY BROWN\" \n",
    "\n",
    "ex3 = \"CHUCK SCHUMER (DN.Y.)\"\n",
    "assert remove_party(ex3) == \"CHUCK SCHUMER\" \n",
    "\n",
    "ex4 = \"JOHN BOEHNER (R-OH.)\"\n",
    "assert remove_party(ex4) == \"JOHN BOEHNER\" \n",
    "\n",
    "ex5 = \"JEFF SESSIONS (R-ALA.)\"\n",
    "assert remove_party(ex5) == \"JEFF SESSIONS\" \n",
    "\n",
    "ex6 = \"TODD YOUNG (RIND.)\"\n",
    "assert remove_party(ex6) == \"TODD YOUNG\" \n",
    "\n",
    "ex7 = \"DONALD TRUMP\"\n",
    "assert remove_party(ex7) == ex7\n",
    "\n",
    "ex8 = \"PRESIDENT BARACK OBAMA (singing)\"\n",
    "assert remove_party(ex8) == ex8"
   ]
  },
  {
   "cell_type": "code",
   "execution_count": null,
   "metadata": {
    "collapsed": true
   },
   "outputs": [],
   "source": []
  }
 ],
 "metadata": {
  "kernelspec": {
   "display_name": "Python 3",
   "language": "python",
   "name": "python3"
  },
  "language_info": {
   "codemirror_mode": {
    "name": "ipython",
    "version": 3
   },
   "file_extension": ".py",
   "mimetype": "text/x-python",
   "name": "python",
   "nbconvert_exporter": "python",
   "pygments_lexer": "ipython3",
   "version": "3.6.3"
  }
 },
 "nbformat": 4,
 "nbformat_minor": 2
}
