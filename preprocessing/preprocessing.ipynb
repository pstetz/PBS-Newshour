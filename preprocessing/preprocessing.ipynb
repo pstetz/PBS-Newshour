{
 "cells": [
  {
   "cell_type": "markdown",
   "metadata": {},
   "source": [
    "<a id=\"toc\"></a>\n",
    "\n",
    "# <u>Table of Contents</u>\n",
    "\n",
    "1.) [Setup](#setup)  \n",
    "&nbsp;&nbsp;&nbsp;&nbsp; 1.1.) [Imports](#imports)   \n",
    "&nbsp;&nbsp;&nbsp;&nbsp; 1.2.) [Helpers](#helpers)   \n",
    "&nbsp;&nbsp;&nbsp;&nbsp; 1.3.) [Load data](#load)   \n",
    "2.) [Datetime](#datetime)  \n",
    "3.) [Speakers](#speakers)  \n",
    "4.) [Transcript](#transcript)  \n",
    "5.) [Save to CSV](#save)  "
   ]
  },
  {
   "cell_type": "markdown",
   "metadata": {},
   "source": [
    "---\n",
    "<a id=\"setup\"></a>\n",
    "\n",
    "# [^](#toc) <u>Setup</u>"
   ]
  },
  {
   "cell_type": "markdown",
   "metadata": {},
   "source": [
    "<a id=\"imports\"></a>\n",
    "\n",
    "### [^](#toc) Imports"
   ]
  },
  {
   "cell_type": "code",
   "execution_count": 1,
   "metadata": {
    "collapsed": true
   },
   "outputs": [],
   "source": [
    "### Standard imports\n",
    "import pandas as pd\n",
    "import numpy as np\n",
    "\n",
    "### Plotting imports\n",
    "import matplotlib.pyplot as plt\n",
    "import seaborn as sns\n",
    "%matplotlib inline\n",
    "sns.set()\n",
    "\n",
    "import re\n",
    "import datetime\n",
    "\n",
    "# Helps convert String representation of list into a list\n",
    "import ast\n",
    "\n",
    "### Removes warnings that occassionally show in imports\n",
    "import warnings\n",
    "warnings.filterwarnings('ignore')"
   ]
  },
  {
   "cell_type": "markdown",
   "metadata": {},
   "source": [
    "<a id=\"helpers\"></a>\n",
    "\n",
    "### [^](#toc) Helpers"
   ]
  },
  {
   "cell_type": "code",
   "execution_count": 2,
   "metadata": {
    "collapsed": true
   },
   "outputs": [],
   "source": [
    "def string_literal(x):\n",
    "    try:\n",
    "        return ast.literal_eval(x)\n",
    "    except:\n",
    "        return x"
   ]
  },
  {
   "cell_type": "markdown",
   "metadata": {},
   "source": [
    "<a id=\"load\"></a>\n",
    "\n",
    "### [^](#toc) Load data"
   ]
  },
  {
   "cell_type": "code",
   "execution_count": 3,
   "metadata": {},
   "outputs": [
    {
     "name": "stdout",
     "output_type": "stream",
     "text": [
      "Shape of df: (17617, 7)\n"
     ]
    },
    {
     "data": {
      "text/html": [
       "<div>\n",
       "<style>\n",
       "    .dataframe thead tr:only-child th {\n",
       "        text-align: right;\n",
       "    }\n",
       "\n",
       "    .dataframe thead th {\n",
       "        text-align: left;\n",
       "    }\n",
       "\n",
       "    .dataframe tbody tr th {\n",
       "        vertical-align: top;\n",
       "    }\n",
       "</style>\n",
       "<table border=\"1\" class=\"dataframe\">\n",
       "  <thead>\n",
       "    <tr style=\"text-align: right;\">\n",
       "      <th></th>\n",
       "      <th>URL</th>\n",
       "      <th>Story</th>\n",
       "      <th>Date</th>\n",
       "      <th>Title</th>\n",
       "      <th>Transcript</th>\n",
       "      <th>Speakers</th>\n",
       "      <th>Number of Comments</th>\n",
       "    </tr>\n",
       "  </thead>\n",
       "  <tbody>\n",
       "    <tr>\n",
       "      <th>0</th>\n",
       "      <td>https://www.pbs.org/newshour/show/news-wrap-tr...</td>\n",
       "      <td>In our news wrap Monday, President Trump's sea...</td>\n",
       "      <td>Jul 2, 2018 6:50 PM EDT</td>\n",
       "      <td>News Wrap: Trump interviews Supreme Court cand...</td>\n",
       "      <td>[[Judy Woodruff, [ President Trump’s search fo...</td>\n",
       "      <td>{Judy Woodruff, President Donald Trump, Man (t...</td>\n",
       "      <td>0.0</td>\n",
       "    </tr>\n",
       "    <tr>\n",
       "      <th>1</th>\n",
       "      <td>https://www.pbs.org/newshour/show/elected-in-a...</td>\n",
       "      <td>Mexican president-elect Andrés Manuel López Ob...</td>\n",
       "      <td>Jul 2, 2018 6:45 PM EDT</td>\n",
       "      <td>Elected by a landslide, can Mexico’s López Obr...</td>\n",
       "      <td>[[Judy Woodruff, [ After two previous runs for...</td>\n",
       "      <td>{Rafael Riveros (through translator), Judy Woo...</td>\n",
       "      <td>0.0</td>\n",
       "    </tr>\n",
       "    <tr>\n",
       "      <th>2</th>\n",
       "      <td>https://www.pbs.org/newshour/show/will-u-s-mex...</td>\n",
       "      <td>There are enormous expectations facing the new...</td>\n",
       "      <td>Jul 2, 2018 6:43 PM EDT</td>\n",
       "      <td>Will U.S.-Mexico policy tensions change under ...</td>\n",
       "      <td>[[Judy Woodruff, [ And now perspective from fo...</td>\n",
       "      <td>{Judy Woodruff, Roberta Jacobson}</td>\n",
       "      <td>0.0</td>\n",
       "    </tr>\n",
       "    <tr>\n",
       "      <th>3</th>\n",
       "      <td>https://www.pbs.org/newshour/show/yemens-spira...</td>\n",
       "      <td>One of the poorest countries in the Middle Eas...</td>\n",
       "      <td>Jul 2, 2018 6:40 PM EDT</td>\n",
       "      <td>Yemen’s spiraling hunger crisis is a man-made ...</td>\n",
       "      <td>[[Judy Woodruff, [ The “NewsHour” has reported...</td>\n",
       "      <td>{Jane Ferguson, Naimi (through translator), Ju...</td>\n",
       "      <td>0.0</td>\n",
       "    </tr>\n",
       "    <tr>\n",
       "      <th>4</th>\n",
       "      <td>https://www.pbs.org/newshour/show/livingwhileb...</td>\n",
       "      <td>A profusion of national incidents in which whi...</td>\n",
       "      <td>Jul 2, 2018 6:35 PM EDT</td>\n",
       "      <td>#LivingWhileBlack: How does racial bias lead t...</td>\n",
       "      <td>[[Judy Woodruff, [ A number of recent incident...</td>\n",
       "      <td>{Judy Woodruff, Woman, Howard Schultz, Yamiche...</td>\n",
       "      <td>0.0</td>\n",
       "    </tr>\n",
       "  </tbody>\n",
       "</table>\n",
       "</div>"
      ],
      "text/plain": [
       "                                                 URL  \\\n",
       "0  https://www.pbs.org/newshour/show/news-wrap-tr...   \n",
       "1  https://www.pbs.org/newshour/show/elected-in-a...   \n",
       "2  https://www.pbs.org/newshour/show/will-u-s-mex...   \n",
       "3  https://www.pbs.org/newshour/show/yemens-spira...   \n",
       "4  https://www.pbs.org/newshour/show/livingwhileb...   \n",
       "\n",
       "                                               Story                     Date  \\\n",
       "0  In our news wrap Monday, President Trump's sea...  Jul 2, 2018 6:50 PM EDT   \n",
       "1  Mexican president-elect Andrés Manuel López Ob...  Jul 2, 2018 6:45 PM EDT   \n",
       "2  There are enormous expectations facing the new...  Jul 2, 2018 6:43 PM EDT   \n",
       "3  One of the poorest countries in the Middle Eas...  Jul 2, 2018 6:40 PM EDT   \n",
       "4  A profusion of national incidents in which whi...  Jul 2, 2018 6:35 PM EDT   \n",
       "\n",
       "                                               Title  \\\n",
       "0  News Wrap: Trump interviews Supreme Court cand...   \n",
       "1  Elected by a landslide, can Mexico’s López Obr...   \n",
       "2  Will U.S.-Mexico policy tensions change under ...   \n",
       "3  Yemen’s spiraling hunger crisis is a man-made ...   \n",
       "4  #LivingWhileBlack: How does racial bias lead t...   \n",
       "\n",
       "                                          Transcript  \\\n",
       "0  [[Judy Woodruff, [ President Trump’s search fo...   \n",
       "1  [[Judy Woodruff, [ After two previous runs for...   \n",
       "2  [[Judy Woodruff, [ And now perspective from fo...   \n",
       "3  [[Judy Woodruff, [ The “NewsHour” has reported...   \n",
       "4  [[Judy Woodruff, [ A number of recent incident...   \n",
       "\n",
       "                                            Speakers  Number of Comments  \n",
       "0  {Judy Woodruff, President Donald Trump, Man (t...                 0.0  \n",
       "1  {Rafael Riveros (through translator), Judy Woo...                 0.0  \n",
       "2                  {Judy Woodruff, Roberta Jacobson}                 0.0  \n",
       "3  {Jane Ferguson, Naimi (through translator), Ju...                 0.0  \n",
       "4  {Judy Woodruff, Woman, Howard Schultz, Yamiche...                 0.0  "
      ]
     },
     "execution_count": 3,
     "metadata": {},
     "output_type": "execute_result"
    }
   ],
   "source": [
    "df = pd.read_csv(\"../data/PBS_full_unedited.csv\")\n",
    "for col in [\"Transcript\", \"Story\", \"Speakers\"]:\n",
    "    df[col] = df[col].map(string_literal)\n",
    "    \n",
    "print(\"Shape of df:\", df.shape)\n",
    "df.head()"
   ]
  },
  {
   "cell_type": "markdown",
   "metadata": {},
   "source": [
    "---\n",
    "<a id=\"datetime\"></a>\n",
    "\n",
    "# [^](#toc) <u>Datetime</u>\n",
    "\n",
    "First let's clear off whitespace and \\n characters"
   ]
  },
  {
   "cell_type": "code",
   "execution_count": 4,
   "metadata": {
    "collapsed": true
   },
   "outputs": [],
   "source": [
    "df[\"Date\"] = df[\"Date\"].map(lambda x: x.strip())"
   ]
  },
  {
   "cell_type": "markdown",
   "metadata": {},
   "source": [
    "### Time Zone\n",
    "\n",
    "It appears, the time is always posted in EDT"
   ]
  },
  {
   "cell_type": "code",
   "execution_count": 5,
   "metadata": {},
   "outputs": [
    {
     "data": {
      "text/plain": [
       "EDT    17617\n",
       "Name: Timezone, dtype: int64"
      ]
     },
     "execution_count": 5,
     "metadata": {},
     "output_type": "execute_result"
    }
   ],
   "source": [
    "df[\"Timezone\"] = df.Date.map(lambda x: x[-3:])\n",
    "df[\"Timezone\"].value_counts()"
   ]
  },
  {
   "cell_type": "markdown",
   "metadata": {},
   "source": [
    "### Updated times\n",
    "\n",
    "There are only 4 videos that were updated.  I don't think this is very interesting so I'm just going to ignore all updated times.\n",
    "\n",
    "I understand why someone would like this data, but I don't need it."
   ]
  },
  {
   "cell_type": "code",
   "execution_count": 6,
   "metadata": {},
   "outputs": [
    {
     "name": "stdout",
     "output_type": "stream",
     "text": [
      "4 clips have had information updated\n"
     ]
    }
   ],
   "source": [
    "df.temp = df.Date.map(lambda x: int(\"Updated\" in x))\n",
    "num_updated = len(df[df.temp == 1])\n",
    "print(f\"{num_updated} clips have had information updated\")\n",
    "\n",
    "df.Date = df.Date.map(lambda x: x.split(\"\\n\")[0])"
   ]
  },
  {
   "cell_type": "markdown",
   "metadata": {},
   "source": [
    "### Convert to Datetime\n",
    "\n",
    "See this Stack Exchange [link](https://english.stackexchange.com/questions/35315/what-is-the-proper-name-for-am-and-pm?newreg=2d443a2ca9dc4ba6abbe1a1e01e4af4b) haha.  I was honored by the line...\n",
    "\n",
    "    software developers think about naming variables properly. It is built into the Object-Oriented mindset. Jader, a commenter, said it well: \"It's funny that the question intrinsically is not programming related, but all programmers can understand why you posted it here.\"\n",
    "    \n",
    "I just considered myself a physicist!"
   ]
  },
  {
   "cell_type": "code",
   "execution_count": 7,
   "metadata": {
    "collapsed": true
   },
   "outputs": [],
   "source": [
    "def format_datetime(x):\n",
    "    return datetime.datetime.strptime(x[:-4], '%b %d, %Y %H:%M %p')\n",
    "\n",
    "df.Date = df.Date.map(format_datetime)"
   ]
  },
  {
   "cell_type": "markdown",
   "metadata": {},
   "source": [
    "### And we're done with times!"
   ]
  },
  {
   "cell_type": "markdown",
   "metadata": {},
   "source": [
    "---\n",
    "<a id=\"speakers\"></a>\n",
    "\n",
    "# [^](#toc) <u>Speakers</u>"
   ]
  },
  {
   "cell_type": "markdown",
   "metadata": {},
   "source": [
    "### Fill in missing speakers"
   ]
  },
  {
   "cell_type": "code",
   "execution_count": 8,
   "metadata": {
    "collapsed": true
   },
   "outputs": [],
   "source": [
    "for row in df.loc[df.Speakers.isnull(), 'Speakers'].index:\n",
    "    df.at[row, 'Speakers'] = {}"
   ]
  },
  {
   "cell_type": "markdown",
   "metadata": {},
   "source": [
    "### Overview of names"
   ]
  },
  {
   "cell_type": "code",
   "execution_count": 9,
   "metadata": {},
   "outputs": [
    {
     "name": "stdout",
     "output_type": "stream",
     "text": [
      "Unique names found in df: 32725\n"
     ]
    }
   ],
   "source": [
    "N = len(set.union(*df.Speakers))\n",
    "\n",
    "print(\"Unique names found in df:\", N)"
   ]
  },
  {
   "cell_type": "markdown",
   "metadata": {},
   "source": [
    "### Example: Obama\n",
    "\n",
    "It looks like there's a lot to do here, I want uniform names.\n",
    "\n",
    "When I search for Obama I want to see 'SEN. BARACK OBAMA', 'SENATOR BARACK OBAMA', 'PRESIDENT BARACK OBAMA', 'PRESIDENT BARACK OBAMA (singing)', 'BARACK OBAMA', 'BARACK OBAMA (singing)', and 'Barack Obama'\n",
    "\n",
    "My plan of attack is\n",
    "\n",
    "However removing modifiers only goes so far, sometimes the names are shortened.  In which case I need to manually group \"Obama\" and \"PRESIDENT OBAMA\" to \"BARACK OBAMA\".\n",
    "\n",
    "There also seems to be ASCII errors like \"\\xa0\" popping up."
   ]
  },
  {
   "cell_type": "code",
   "execution_count": 10,
   "metadata": {
    "scrolled": true
   },
   "outputs": [
    {
     "data": {
      "text/plain": [
       "{'And I think Obama and Boehner and Reid all know that their legacies are tied together and they reside around one thing',\n",
       " 'And Obama’s counter will have to be',\n",
       " 'And President Obama says he will do something few presidents have done',\n",
       " 'And so that’s what the FTC and the Obama Administration have both called for',\n",
       " 'Arizona Senator John McCain said today the Obama administration is to blame',\n",
       " 'BARACK OBAMA',\n",
       " 'BARACK OBAMA (singing)',\n",
       " 'Barack Obama',\n",
       " 'Before a fund-raiser for President Obama',\n",
       " 'Brookings institution scholar Shadi Hamid credits Mr. Obama for the Iran deal',\n",
       " 'But the Obama reelection team did wade into the Bain debate with a memo that said',\n",
       " 'Daniel Benjamin was coordinator for counterterrorism at the State Department during the first term of the Obama administration. He’s now a professor at Dartmouth College. And Joby Warrick is a national security correspondent at The Washington Post. He’s also the author of the book “Black Flags',\n",
       " 'FIRST LADY MICHELLE OBAMA',\n",
       " 'FORMER PRESIDENT BARACK OBAMA',\n",
       " 'FORMER PRESIDENT\\xa0BARACK OBAMA',\n",
       " 'Former President Barack Obama',\n",
       " 'He writes of one meeting in 2011 with Mr. Obama and General David Petraeus',\n",
       " 'I had a rule in the Obama campaign',\n",
       " 'Juliette Kayyem was an assistant secretary at the Department of Homeland Security during the Obama administration. She now has her own security consulting firm. William McCants is director of the Project on U.S. Relations with the Islamic world at the Brookings Institution. His most recent book is “The ISIS Apocalypse',\n",
       " 'MICHELLE OBAMA',\n",
       " 'Michelle Obama',\n",
       " 'Michèle Flournoy was undersecretary of defense for policy during the first term of the Obama administration. She’s now chief executive officer at the Center for a New American Security. And retired Army Colonel Andrew Bacevich is professor emeritus of international relations and history at Boston University. His latest book is “Breach of Trust',\n",
       " 'Obama',\n",
       " 'Obama’s is like the Simpson-Bowles. It’s $2 of cuts — I agree with you',\n",
       " 'PRESDIENT BARACK OBAMA',\n",
       " 'PRESIDEDNT BARACK OBAMA',\n",
       " 'PRESIDENT BARACK OBAMA',\n",
       " 'PRESIDENT BARACK OBAMA (singing)',\n",
       " 'PRESIDENT BARACK OBAMA [MAY 2014] ',\n",
       " 'PRESIDENT OBAMA',\n",
       " 'PRESIDENT OF THE UNITED STATE BARACK OBAMA',\n",
       " 'PRESIDENT PRESIDENT BARACK OBAMA',\n",
       " 'PRESIDENT PRESIDENT OBAMA',\n",
       " 'PRESIDENT\\xa0BARACK OBAMA',\n",
       " 'PRESIDNENT BARACK OBAMA',\n",
       " 'PRESIENT BARACK OBAMA',\n",
       " 'President Barack Obama',\n",
       " 'President Obama',\n",
       " 'President Obama and Speaker Ryan have made similar proposals',\n",
       " 'President Obama appealed for peace in a guest column for the Israeli newspaper Haaretz. He wrote',\n",
       " 'President Obama came into office calling for a troop surge in 2009 to defeat the Taliban',\n",
       " 'President Obama condemned the killing. In a statement',\n",
       " 'President Obama said this at the White House',\n",
       " 'President Obama wouldn’t discuss specifics today. Instead',\n",
       " 'President Obama’s remarks to the nation on fighting the Islamic State group',\n",
       " 'President Trump has again accused former President Obama of failing to stop Russian interference in the 2016 election. On Twitter today',\n",
       " 'Questions also continued about the five Taliban leaders long held at Guantanamo Bay and flown to Qatar in exchange for Bergdahl’s release. The Reuters News Service reported they have been moved to a residential compound and it said they are free to move about the country. President Obama acknowledged today that some of them may try to return to the fight in Afghanistan',\n",
       " 'SEN. BARACK OBAMA',\n",
       " 'SENATOR BARACK OBAMA',\n",
       " 'Speaker Ryan said Obamacare cannot stay as it is',\n",
       " 'The Obama administration continues to defend the law',\n",
       " 'The date is set for President Obama to deliver his 2014 State of the Union address to Congress',\n",
       " 'The nuclear agreement with Iran faces a fresh challenge within President Obama’s own party. Democratic Senator Chuck Schumer of New York',\n",
       " 'U. S. PRESIDENT BARACK OBAMA',\n",
       " 'U.S PRESIDENT BARACK OBAMA',\n",
       " 'U.S. PRESIDENT BARACK OBAMA',\n",
       " 'We campaigned hard. We had more people on the ground working for my campaign than President Obama had had. We were in constant communication',\n",
       " 'We explore all this now with retired Brigadier General David McGinnis. He was a senior Defense Department official during President Obama’s first term. And David Rothkopf',\n",
       " 'You would hope that President Obama would go in and think in these terms',\n",
       " '“Barack Obama'}"
      ]
     },
     "execution_count": 10,
     "metadata": {},
     "output_type": "execute_result"
    }
   ],
   "source": [
    "{elem for elem in {x for x in set.union(*df.Speakers)} if (\"OBAMA\" in elem or \"Obama\" in elem or \"obama\" in elem)}"
   ]
  },
  {
   "cell_type": "markdown",
   "metadata": {},
   "source": [
    "### Long names are actually text"
   ]
  },
  {
   "cell_type": "code",
   "execution_count": 11,
   "metadata": {
    "collapsed": true
   },
   "outputs": [],
   "source": [
    "df.Speakers = df.Speakers.map(lambda x: {elem for elem in x if len(elem.split(\" \")) < 9})"
   ]
  },
  {
   "cell_type": "markdown",
   "metadata": {},
   "source": [
    "### Remove titles, parties, and non-name features\n",
    "\n",
    "We went from 32,725 names to 27,188 names.  This is either from dropping bad names or merging two names that are actually the same person.\n",
    "\n",
    "This is not perfect, PBS does not have a standardized format.  PBS is not considerate of robots as this [example](https://www.pbs.org/newshour/show/trump-considering-sending-troops-afghanistan) shows.  The names start out as full names, but than move to last names.  This makes complete sense to a human in context.  I can't get a machine to understand context though.  Thankfully this type of format is rare and \"SREENIVASAN\" is a rare name so I can map it to \"HARI SREENIVASAN\".  \"RUBIN\" is probably a more common name and less popular on PBS newshour so unfortunately there's nothing I can easily do."
   ]
  },
  {
   "cell_type": "code",
   "execution_count": 1,
   "metadata": {
    "collapsed": true
   },
   "outputs": [],
   "source": [
    "### Standard imports\n",
    "import pandas as pd\n",
    "import numpy as np\n",
    "\n",
    "### Plotting imports\n",
    "import matplotlib.pyplot as plt\n",
    "import seaborn as sns\n",
    "%matplotlib inline\n",
    "sns.set()\n",
    "\n",
    "import re\n",
    "import datetime\n",
    "\n",
    "# Helps convert String representation of list into a list\n",
    "import ast\n",
    "\n",
    "def string_literal(x):\n",
    "    try:\n",
    "        return ast.literal_eval(x)\n",
    "    except:\n",
    "        return x\n",
    "\n",
    "df = pd.read_csv(\"../data/PBS_full_unedited.csv\")\n",
    "for col in [\"Transcript\", \"Story\", \"Speakers\"]:\n",
    "    df[col] = df[col].map(string_literal)\n",
    "\n",
    "for row in df.loc[df.Speakers.isnull(), 'Speakers'].index:\n",
    "    df.at[row, 'Speakers'] = {}\n",
    "    \n",
    "df.Speakers = df.Speakers.map(lambda x: {elem for elem in x if len(elem.split(\" \")) < 9})"
   ]
  },
  {
   "cell_type": "code",
   "execution_count": 2,
   "metadata": {},
   "outputs": [
    {
     "name": "stdout",
     "output_type": "stream",
     "text": [
      "New number of unique names: 26844\n"
     ]
    }
   ],
   "source": [
    "%run preprocessing.py\n",
    "\n",
    "mistaken_names = get_mistaken_names()\n",
    "\n",
    "def map_speakers(x):\n",
    "    return {clean_names(elem) for elem in x if clean_names(elem) not in mistaken_names}\n",
    "\n",
    "df.Speakers = df.Speakers.map(map_speakers)\n",
    "N = len(set.union(*df.Speakers))\n",
    "print(\"New number of unique names:\", N)"
   ]
  },
  {
   "cell_type": "code",
   "execution_count": 3,
   "metadata": {
    "scrolled": true
   },
   "outputs": [],
   "source": [
    "# df[df.Speakers.map(lambda x: \"HEAD OF  CENTRAL COMMAND\" in x)].Transcript.iloc[0]"
   ]
  },
  {
   "cell_type": "code",
   "execution_count": 4,
   "metadata": {},
   "outputs": [
    {
     "data": {
      "text/plain": [
       "{'HEAD OF  CENTRAL COMMAND'}"
      ]
     },
     "execution_count": 4,
     "metadata": {},
     "output_type": "execute_result"
    }
   ],
   "source": [
    "{x for x in set.union(*df.Speakers) if \"COMMAND\" in x}"
   ]
  },
  {
   "cell_type": "markdown",
   "metadata": {},
   "source": [
    "### Quick Visualization\n",
    "\n",
    "There might be more work needed to be done.  I don't know why \"S\", \"T\", or \"E\" are all names.  They seem to be only found in cases where no Transcript is provided.  I'll deal with this issue later"
   ]
  },
  {
   "cell_type": "code",
   "execution_count": 13,
   "metadata": {},
   "outputs": [
    {
     "data": {
      "image/png": "[encoded data removed]",
      "text/plain": [
       "<matplotlib.figure.Figure at 0x1a08f84320>"
      ]
     },
     "metadata": {},
     "output_type": "display_data"
    }
   ],
   "source": [
    "# Will count number of unique words in a sentence\n",
    "from collections import Counter\n",
    "import operator\n",
    "    \n",
    "persons = df.Speakers.map(list).sum()\n",
    "\n",
    "freq = sorted(Counter(persons).items(), key=operator.itemgetter(1), reverse=True)\n",
    "freq\n",
    "x, y = list(zip(*freq[:25]))\n",
    "plt.figure(figsize=(14, 14))\n",
    "sns.barplot(list(y), list(x));"
   ]
  },
  {
   "cell_type": "markdown",
   "metadata": {},
   "source": [
    "---\n",
    "<a id=\"transcript\"></a>\n",
    "\n",
    "# [^](#toc) <u>Transcript</u>"
   ]
  },
  {
   "cell_type": "code",
   "execution_count": 5,
   "metadata": {
    "collapsed": true
   },
   "outputs": [],
   "source": [
    "for row in df.loc[df.Transcript.isnull(), 'Transcript'].index:\n",
    "    df.at[row, 'Transcript'] = []"
   ]
  },
  {
   "cell_type": "markdown",
   "metadata": {
    "collapsed": true
   },
   "source": [
    "### Plan of attack\n",
    "\n",
    "1.) Remove all speakers that should not be included.  \n",
    "2.) Go through each Transcript and check if it has a Speaker that is not included.  \n",
    "3.) If this speaker is the first one talking, clip the transcript short.  This is probably more intro if there isn't a direct speaker.  \n",
    "4.) If the speaker is not the first talker, append the speaker and text to the previous speaker.  \n",
    "\n",
    "Check out this [video](https://www.pbs.org/newshour/show/with-3-more-wins-romney-pivots-to-general-election#transcript) and search for \"North Carolina is a strong one for them\".  You'll see one of these formating slips and understand what the problem is.  If you know how to do a webpage inspection, try to figure out a difference between speaker names and emphasized text.  I couldn't"
   ]
  },
  {
   "cell_type": "code",
   "execution_count": 8,
   "metadata": {
    "scrolled": false
   },
   "outputs": [],
   "source": [
    "def map_transcript(speakers):\n",
    "    def map_transcript_helper(x):\n",
    "        if x is np.nan:\n",
    "            return x\n",
    "        i = 0\n",
    "        while i < len(x):\n",
    "            speeches = x[i]\n",
    "            if speeches[1] == [\"\"]:\n",
    "                x[i-1][1].append(speeches[0])\n",
    "                del x[i]\n",
    "                i -= 1\n",
    "            \n",
    "            elif clean_names(speeches[0]) not in speakers:\n",
    "                if i == 0:\n",
    "                    x = x[1:]\n",
    "                else:\n",
    "                    temp = speeches[1][:]\n",
    "                    temp.insert(0, speeches[0])\n",
    "                    x[i-1][1] = x[i-1][1] + temp\n",
    "\n",
    "                    del x[i]\n",
    "                    i -= 1\n",
    "            i += 1\n",
    "        return x\n",
    "    return map_transcript_helper\n",
    "\n",
    "speakers = set.union(*df.Speakers)\n",
    "df.Transcript = df.Transcript.map(map_transcript(speakers))"
   ]
  },
  {
   "cell_type": "markdown",
   "metadata": {},
   "source": [
    "### Quick check\n",
    "\n",
    "I'll check a few random transcripts to see if they were formatted correctly\n",
    "\n",
    "And wow!  This works almost perfectly!  I haven't seen one mistake yet"
   ]
  },
  {
   "cell_type": "code",
   "execution_count": 12,
   "metadata": {},
   "outputs": [
    {
     "name": "stdout",
     "output_type": "stream",
     "text": [
      "\u001b[1m Hello \u001b[0m World\n"
     ]
    }
   ],
   "source": [
    "bold_start = '\\033[1m'\n",
    "bold_end   = '\\033[0m'\n",
    "\n",
    "print(bold_start, \"Hello\", bold_end, \"World\")"
   ]
  },
  {
   "cell_type": "code",
   "execution_count": 11,
   "metadata": {
    "scrolled": false
   },
   "outputs": [
    {
     "name": "stdout",
     "output_type": "stream",
     "text": [
      "\n",
      "https://www.pbs.org/newshour/show/debt-ceiling-deadlock-sounds-fresh-alarms-on-wall-street\n",
      "\u001b[1m TRANSCRIPT \u001b[0m\n",
      "\u001b[4m JUDY WOODRUFF: \u001b[0m\n",
      "    The debt ceiling deadlock in Washington led to increasingly urgent appeals for action today. But, even as talks resumed, White House officials warned not to expect a hallelujah moment. Fresh alarms sounded on Wall Street and around the world today about the consequences of a potential U.S. government default. Standard & Poor’s joined Moody’s in warning the country’s credit rating could be downgraded if the government tries to pay just the interest on its debt. And China said it hopes the U.S. adopts responsible policies. The Chinese hold more than $1 trillion in U.S. debt, more than any other foreign creditor. At a Senate hearing, Federal Reserve Chairman Ben Bernanke, testifying on the economy for a second day, said lawmakers should heed the warnings.\n",
      "\n",
      "\u001b[4m BEN BERNANKE: \u001b[0m\n",
      "    This is a tremendous asset of the United States, the quality and reputation of our treasury securities, and we benefit from it with low interest rates. So, I would urge Congress to take every step possible to avoid defaulting on the debt or creating any significant probability of defaulting on the debt.\n",
      "\n",
      "\u001b[4m JUDY WOODRUFF: \u001b[0m\n",
      "    Treasury Secretary Timothy Geithner was also at the Capitol, insisting the deadline to raise the national debt ceiling cannot be pushed past Aug. 2.\n",
      "\n",
      "\u001b[4m TIMOTHY GEITHNER: \u001b[0m\n",
      "    We have looked at all available options, and we have no way to give Congress more time to solve this problem, and we’re running out of time.\n",
      "\n",
      "\u001b[4m JUDY WOODRUFF: \u001b[0m\n",
      "    But all the admonitions seemed to do little to move the process forward. Instead, reports emerged that yesterday’s meeting at the White House ended with President Obama declaring, enough is enough, after a testy exchange with House Majority Leader Eric Cantor. Today, the Senate’s Democratic majority leader, Harry Reid, suggested Cantor should no longer be part of the talks. New York Sen. Chuck Schumer chimed in\n",
      "\n",
      "\u001b[4m CHARLES SCHUMER: \u001b[0m\n",
      "    Leader Cantor has yet to make a constructive contribution to these discussions. More than anything else, he is holding up an agreement at this point.\n",
      "\n",
      "\u001b[4m JUDY WOODRUFF: \u001b[0m\n",
      "    In turn, the leader of House Democrats, Minority Leader Nancy Pelosi, praised the president’s demeanor.\n",
      "\n",
      "\u001b[4m NANCY PELOSI: \u001b[0m\n",
      "    Job is no place compared to this president in terms of patience. He doesn’t even begin.\n",
      "\n",
      "\u001b[4m JUDY WOODRUFF: \u001b[0m\n",
      "    Republicans, meanwhile, came to the defense of Cantor. House Speaker John Boehner offered him his verbal support and a literal pat on the back.\n",
      "\n",
      "\u001b[4m JOHN BOEHNER: \u001b[0m\n",
      "    Any suggestion that — that the role that Eric has played in this meeting has been anything less than helpful is just wrong. Listen, we are in the foxhole. And I’m going to tell you what. This is not easy, because what we’re trying to do here is to solve a problem that has eluded Washington for decades. I’m glad Eric’s there. And those who have other opinions, they can keep them to their selves.\n",
      "\n",
      "\u001b[4m JUDY WOODRUFF: \u001b[0m\n",
      "    Back in the Senate, Republican Leader Mitch McConnell sought again to place blame for the stalemate squarely on the president.\n",
      "\n",
      "\u001b[4m MITCH MCCONNELL: \u001b[0m\n",
      "    If he and the Democratic Senate would rather borrow and spend us into oblivion, they can certainly do that. But don’t expect any more cover from Republicans on it than you got on health care — none.\n",
      "\n",
      "\u001b[4m JUDY WOODRUFF: \u001b[0m\n",
      "    Even amid the public sniping, McConnell and Reid were said to be working on a failsafe plan that would raise the debt ceiling. The hybrid package would include McConnell’s backup plan to let the president increase the debt ceiling on his own, extending through the 2012 election. It would also add $1.5 trillion in cuts identified in bipartisan talks that were led by Vice President Biden. It was unclear if House Republicans would agree. And, at the White House, spokesman Jay Carney said the president still wants a bigger deal.\n",
      "\n",
      "\u001b[4m JAY CARNEY: \u001b[0m\n",
      "    Whether it’s Sen. McConnell’s provision or some variation of it, they are not the preferred outcome here, and we continue to work as we did yesterday in the meeting and as the president will again today in his meeting with congressional leaders towards something more substantial and significant.\n",
      "\n",
      "\u001b[4m JUDY WOODRUFF: \u001b[0m\n",
      "    That meeting convened at the White House late this afternoon. For a closer look at both the economics and the politics of this stand-off, we turn to two reporters who are following events closely, David Wessel, economics editor and a columnist for The Wall Street Journal, and Lori Montgomery of The Washington Post. We thank you both.\n",
      "\n",
      "\u001b[4m LORI MONTGOMERY: \u001b[0m\n",
      "   00. So what do you know about where things stand?\n",
      "\n",
      "\u001b[4m LORI MONTGOMERY: \u001b[0m\n",
      "    Well, I think where things stand are pretty much where they stood earlier, with Mitch McConnell and Harry Reid trying to develop a fallback strategy, in the event that these talks do not lead to a compromise of some sort. I think what was expected at the talks tonight — I have not yet heard a report — was that the two sides were going to — were headed towards a final meeting in the morning and an agreement that it was time to perhaps start looking at other alternatives.\n",
      "\n",
      "\u001b[4m JUDY WOODRUFF: \u001b[0m\n",
      "    So, in other words, they haven’t accomplished anything in these negotiations — these discussions?\n",
      "\n",
      "\u001b[4m LORI MONTGOMERY: \u001b[0m\n",
      "    Well, I’m not sure that’s true. I mean, the Biden talks earlier in the month — the spring — reached — developed a consensus around a certain package of cuts. And I think that that consensus is forming the basis for, you know, where this might go, as Leader Reid attempts to add spending cuts to the McConnell package. So, you can’t say nothing was accomplished. The two parties do seem to be trying to reach some agreement on how to cut spending.\n",
      "\n",
      "\u001b[4m JUDY WOODRUFF: \u001b[0m\n",
      "    But, when it comes to taxes, no movement?\n",
      "\n",
      "\u001b[4m LORI MONTGOMERY: \u001b[0m\n",
      "    Well, I think what we’re headed towards is Democrats saying, look, in the Biden talks, we were willing to discuss some reductions to entitlement programs, but because Republicans aren’t giving any ground on taxes, we’re taking the health care cuts back off the table.\n",
      "\n",
      "\u001b[4m JUDY WOODRUFF: \u001b[0m\n",
      "    And, Lori, how do you see the fault lines among Republicans? Because we have heard Speaker Boehner saying one thing. We have heard at one point a different thing from Eric Cantor. And then you have the McConnell — how do you lay that out?\n",
      "\n",
      "\u001b[4m LORI MONTGOMERY: \u001b[0m\n",
      "    Well, that continues today. I mean, you had Boehner open the door pretty wide, I thought, to the McConnell strategy. He said he didn’t know whether it could pass the House. But that’s what is happening between Reid and McConnell right now to try to sort that out. The basic problem is that Senate Republicans have a very small default caucus, not very many Senate Republicans for default. And in the House, you have got some people who think default might be OK. And that’s what we need to figure out, how big that group is.\n",
      "\n",
      "\u001b[4m JUDY WOODRUFF: \u001b[0m\n",
      "    And again, on this — this backup plan, the now hybrid plan, I guess, with Mitch McConnell, the Republican leader, working with Harry Reid, the Democratic leader, what is known about that? Does that appear to have traction, as you were just saying?\n",
      "\n",
      "\u001b[4m LORI MONTGOMERY: \u001b[0m\n",
      "    They’re keeping it pretty close to the vest. My understanding is that the momentum is building behind pretty much what you described, the McConnell, “no fingerprints, Obama takes the fall” debt limit increase, a package of spending cuts, probably in the $1.5 trillion range, and then perhaps a new fiscal committee, 12 lawmakers, aimed at developing a broader debt reduction plan to actually finally solve this problem at some point in the future.\n",
      "\n",
      "\u001b[4m JUDY WOODRUFF: \u001b[0m\n",
      "    So, meanwhile — David Wessel, I will bring you in — the rating agencies have started to make noises. What is the significance of that?\n",
      "\n",
      "\u001b[4m DAVID WESSEL: \u001b[0m\n",
      "    Well, on one hand, I think it has very little significance. Maybe in some obscure country or company, people rely on the rating agencies to tell them what’s going on. But it’s not like the financial markets have any doubt about what is going on in the United States. I do think, though, that it puts pressure on the members of Congress. We have a AAA rating. We’re the safest credit in the world. And the rating agents are saying we’re getting a little nervous. Moody’s said, for instance, that they think the risk has gone from nothing to de minimis. Well, so, as the talks drag on, people are saying this little risk is getting a little bigger and bigger, and that’s making them nervous.\n",
      "\n",
      "\u001b[4m JUDY WOODRUFF: \u001b[0m\n",
      "    And the business community speaking up in the middle of all this, or not?\n",
      "\n",
      "\u001b[4m DAVID WESSEL: \u001b[0m\n",
      "    Right. Well, the business community has come forward. A number of executives organized by the Washington business lobbies came up and told Congress and the president, do your job. I don’t think they are any great profile in courage. They didn’t volunteer to help reduce the deficit, take any tax breaks off the table and everything. But I think they too, as we get closer to the moment of deadline, are trying to put a little pressure on the leadership to do the right thing.\n",
      "\n",
      "\u001b[4m JUDY WOODRUFF: \u001b[0m\n",
      "    And, Lori, back to you for just a moment on that. Is any of this having any bearing on what goes on in these congressional negotiations?\n",
      "\n",
      "\u001b[4m LORI MONTGOMERY: \u001b[0m\n",
      "    I think it is. I mean, you can sense a growing sense of sort of not panic so much, but urgency, and, you know, a realization that we only have 19 days to get this done. And Republicans in both chambers really want to have a vote next week on the balanced budget amendment before we move to whatever plan B turns out to be. So we have got another week of debating, you know, stuff that’s not solving the problem. So that has led a lot of people, I think, to start behind the scenes trying to figure out exactly what it’s going to take.\n",
      "\n",
      "\u001b[4m JUDY WOODRUFF: \u001b[0m\n",
      "    So, David, I saw you shaking your head a moment ago when Lori was describing this hybrid, so-called hybrid plan.\n",
      "\n",
      "\u001b[4m DAVID WESSEL: \u001b[0m\n",
      "    Well, the — I think the disappointing thing is, if we come out of this crisis with another commission or a vote on a balanced budget which doesn’t tell us anything about where we’re going to raise taxes or cut spending, it really has become a missed opportunity. This whole showdown was established by a bunch of people in Congress who saw that the debt ceiling is a must — must-pass piece of legislation and they wanted to use it as a lever to get some significant deficit reduction. There were disagreements about how much spending and how much taxes. It looks like we’re heading to something that will raise the debt ceiling, but it will kick the can down the road, which is exactly what people said they didn’t want to do.\n",
      "\n",
      "\u001b[4m JUDY WOODRUFF: \u001b[0m\n",
      "    So is the concern out there about getting that debt ceiling raised, which is I guess the bottom line for the rating agencies, for the markets and others, or are they also looking, as you are saying, for some significant attack on the deficit, the debt?\n",
      "\n",
      "\u001b[4m DAVID WESSEL: \u001b[0m\n",
      "    I think they’re looking for both things. The absolute essential is to get the debt ceiling raised, so the United States government can pay its bills in August. And the prospect of that not happening frightens everybody. But in the Moody’s report and what Fed Chairman Ben Bernanke said today, they also emphasize that we need to get on as a country with figuring out how to get our budget on a sustainable course.\n",
      "\n",
      "\u001b[4m JUDY WOODRUFF: \u001b[0m\n",
      "    And, Lori Montgomery, that part of their message, it sounds like, is — is — they are not paying heed to that?\n",
      "\n",
      "\u001b[4m LORI MONTGOMERY: \u001b[0m\n",
      "    It’s not so much that they’re not paying heed to that. I think that’s why Democrats are now looking to attach spending cuts to the McConnell plan, which initially did nothing to guarantee spending cuts. So they’re trying to address that problem. But I think that this BRAC thing, the — it’s not a commission. It’s a committee of lawmakers. And what we’re hearing is that it would have a deadline to come up with presumably some targeted amount of savings to stabilize borrowing. And, you know, after trying to avoid a process that forces them to vote on a plan like this, you know, and the creation of the fiscal commission, on any number of occasions, it sounds like they’re finally talking about a process that brings a plan to a vote in both chambers that can’t be amended and forces them to make a decision.\n",
      "\n",
      "\u001b[4m JUDY WOODRUFF: \u001b[0m\n",
      "    And if that is what happens?\n",
      "\n",
      "\u001b[4m DAVID WESSEL: \u001b[0m\n",
      "    Well, I think that that is interesting, because both Paul Ryan, the House Budget Committee chairman, and Tim Geithner, the treasury secretary, two months ago predicted that we would end up in this place. We will agree on a small amount of cuts, relatively small, the stuff we can agree on, and we will agree on a target for how much we are going to reduce the deficit over the next 10 years. And that first part will be a down payment, and we will try and set up some mechanism that will tie the Congress’ hands and force it to finish the job, probably after 2012.\n",
      "\n",
      "\u001b[4m JUDY WOODRUFF: \u001b[0m\n",
      "    And, David, at this point, how much time before the markets and the folks you’re talking about — you talk to get really concerned?\n",
      "\n",
      "\u001b[4m DAVID WESSEL: \u001b[0m\n",
      "    It’s almost impossible to tell. I think that the politicians in the United States have a luxury here that they don’t fully appreciate, which is, if Europe were not a disaster area, the markets would be looking at the U.S. and the interest rates on U.S. treasuries would be rising. But because — it’s almost as if they are counting on Europe to be even more dysfunctional than we are. And Europe decided to keep their part of the bargain. So despite all this stuff from Moody’s, despite the letters from the Business Roundtable and the Financial Services Roundtable and all these business groups, the U.S. government today can still borrow 10-year money at less than three percent, which is pretty low. And so, until the markets actually raise the interest rate, I think that some members of Congress aren’t going to take the threat seriously.\n",
      "\n",
      "\u001b[4m JUDY WOODRUFF: \u001b[0m\n",
      "    Hmm. Well, we’re going to leave it there and watch it very closely, as you are. David Wessel, Lori Montgomery, we thank you both.\n",
      "\n",
      "\u001b[4m DAVID WESSEL: \u001b[0m\n",
      "    You’re welcome.\n",
      "\n",
      "\u001b[4m LORI MONTGOMERY: \u001b[0m\n",
      "    Thanks, Judy.\n",
      "\n",
      "\n",
      "https://www.pbs.org/newshour/show/starved-drought-romes-water-supply-may-not-spring-eternal\n",
      "\u001b[1m TRANSCRIPT \u001b[0m\n",
      "\u001b[4m JUDY WOODRUFF: \u001b[0m\n",
      "    A serious drought has swept southern Europe this summer. Some farmers in Italy and Spain are predicting the worst crop yields in 20 years. Agricultural damage and loss are expected to be in the billions. NewsHour special correspondent Christopher Livesay bring us this report from Italy. (BEGIN VIDEOTAPE)\n",
      "\n",
      "\u001b[4m CHRISTOPHER LIVESAY: \u001b[0m\n",
      "    For three generations, Daniel Granieri and his family have farmed olives in the tiny hilltop town of Nerola, producing extra-virgin olive oil from these fields outside Rome. This summer, things took a turn, and for the worst.\n",
      "\n",
      "\u001b[4m DANIEL GRANIERI: \u001b[0m\n",
      "    I started to get very worried. From being worried, that turned into being absolutely certain about the drought. There’s never been anything like this, not in 20 years. This is the worst it’s ever been.\n",
      "\n",
      "\u001b[4m CHRISTOPHER LIVESAY: \u001b[0m\n",
      "    Granieri is also the regional president of the Italian Farmers Association, Coldiretti. He shows me some of the damage up close.\n",
      "\n",
      "\u001b[4m DANIEL GRANIERI: \u001b[0m\n",
      "    Look here, there’s hardly anything compared to the olives that should be on this branch. Raising the price won’t offset the loss. But we’ll have to raise them at least 10 to 15 percent. We’ve lost up to 70 percent of our harvest in the region.\n",
      "\n",
      "\u001b[4m CHRISTOPHER LIVESAY: \u001b[0m\n",
      "    The drought is so relentless that his town now rations water. For eight-hour blocks every day, they can’t turn on their taps. And they aren’t alone. So far, 20 nearby towns have had to follow suit. Roughly $200 million in crops have been lost in the Central Lazio region alone. And two billion dollars have gone up in smoke nationwide, due to drought and related brush fires, according to Coldiretti. Conditions have gotten so dire that even Rome, the city of aqueducts, has warned it too may have to ration water for a million and a half Rome residents, and the tourists who flock there. There are almost 3,000 of these drinking fountains like this all over Rome, and there’s a trick to getting a good drink. But that could soon be a thing of the past. The city is currently turning off 30 fountains a day because of the drought. Romans call them nasoni, or “big noses” for their curved spigots. The water utility says it’s the first time in history they’ve had to turn them off, a radical move in a city where water plays such a central role, from the Trevi fountain, to the Tiber River.\n",
      "\n",
      "\u001b[4m TOM RANKIN: \u001b[0m\n",
      "    Rome was founded where it is because of this water, because of the Tiber Tiber.\n",
      "\n",
      "\u001b[4m CHRISTOPHER LIVESAY: \u001b[0m\n",
      "    Tom Rankin is a professor of urbanism at Rome’s La Sapienza University.\n",
      "\n",
      "\u001b[4m TOM RANKIN: \u001b[0m\n",
      "    The Romans were smart. They started removing the groundwater where it was undesired, using for their water source, wells.\n",
      "\n",
      "\u001b[4m CHRISTOPHER LIVESAY: \u001b[0m\n",
      "    So, the ancient Romans were master engineers of water.\n",
      "\n",
      "\u001b[4m TOM RANKIN: \u001b[0m\n",
      "    They really were. They really were. And when you think about it, the sewer system, they were certainly in place in the 4th century B.C., and it’s still functioning today. It’s probably the most cost- effective public works project ever built.\n",
      "\n",
      "\u001b[4m CHRISTOPHER LIVESAY: \u001b[0m\n",
      "    But modern city planning has fallen short. The drought is one thing, he says. But long-term mismanagement is also to blame. Officials from both the city and the water utility declined requests for an interview.\n",
      "\n",
      "\u001b[4m TOM RANKIN: \u001b[0m\n",
      "    Rome, of all the European capitals, is the only city that has a fully sustainable water supply, meaning that the water table is recharged faster than the city can use the water. The real problem, though, is not that there wouldn’t be enough water to provide for the population, it’s the waste of water.\n",
      "\n",
      "\u001b[4m CHRISTOPHER LIVESAY: \u001b[0m\n",
      "    The waste of water?\n",
      "\n",
      "\u001b[4m TOM RANKIN: \u001b[0m\n",
      "    The waste of water. The water system is damaged. And therefore, at least 25 percent of it, some say up to half of it, leaks out before getting to its destination.\n",
      "\n",
      "\u001b[4m CHRISTOPHER LIVESAY: \u001b[0m\n",
      "    Leaks like this one, that’s caused foliage to overgrow a path along the river.\n",
      "\n",
      "\u001b[4m TOM RANKIN: \u001b[0m\n",
      "    Because you see, this water isn’t actually stagnant, it’s flowing. It’s flowing from the city’s water system.\n",
      "\n",
      "\u001b[4m CHRISTOPHER LIVESAY: \u001b[0m\n",
      "    And this one, which has formed stalactites. The water utility says it’s working to repair city pipes in order to avoid rationing water. But the lingering threat frightens Roman shaved-ice vendor, Maria di Pascale.\n",
      "\n",
      "\u001b[4m MARIA DI PASCALE: \u001b[0m\n",
      "    It would be a tragedy because without water, you can’t survive, you can’t work. It’s essential for humans to survive. But especially us, because we need it for our business.\n",
      "\n",
      "\u001b[4m CHRISTOPHER LIVESAY: \u001b[0m\n",
      "    The threat is especially acute for some of Rome’s most vulnerable. The Red Cross says turning off public fountains poses a serious risk to the city’s thousands of homeless, which include a growing number of migrants. Volunteer Marzia di Mento distributes food and water to migrants and refugees outside Rome’s Tiburtina Train Station.\n",
      "\n",
      "\u001b[4m MARZIA DI MENTO: \u001b[0m\n",
      "    We need those fountains. We use those that are closest to the camp. We use this pipe for the people to bathe in. We’re afraid it could be turned off at any moment. It’s their only water source. It would be a huge loss. Many of the migrants have skin diseases from the trip over here by boat. They need water to clean those wounds. Water is fundamental.\n",
      "\n",
      "\u001b[4m CHRISTOPHER LIVESAY: \u001b[0m\n",
      "    For the moment, Rome says it’s averted water rationing by tapping Lake Bracciano, about 30 miles outside the city. But that’s caused still more problems, as water levels plummet to alarming lows, threatening local plants and wildlife. Back in the Rome countryside, farmer Daniel Granieri survey’s his olives. This year, he’ll have to pick them early in order to save what isn’t already lost.\n",
      "\n",
      "\u001b[4m DANIEL GRANIERI: \u001b[0m\n",
      "    Drought has absolutely become a recurring event. A farm like mine now has to decide either to change business, or make some serious changes in infrastructure. If this happens again next year, farms will go out of business.\n",
      "\n",
      "\u001b[4m CHRISTOPHER LIVESAY: \u001b[0m\n",
      "    For urbanism professor Tom Rankin, Rome’s drought is a wake-up call, not just for the Eternal City, but for cities around the world coping with a changing climate.\n",
      "\n",
      "\u001b[4m TOM RANKIN: \u001b[0m\n",
      "    If Rome, which is by definition a great water city, if it can no longer manage its abundant resource, then how can we expect places which have a very limited supply of water to survive? On the other hand, if Rome were able to demonstrate its ability to engineer a solution, providing fresh, clean water for free to a growing population, then it would set a model for the rest of the world.\n",
      "\n",
      "\u001b[4m CHRISTOPHER LIVESAY: \u001b[0m\n",
      "    Is that what we’re seeing, Rome rising to the occasion?\n",
      "\n",
      "\u001b[4m TOM RANKIN: \u001b[0m\n",
      "    Not yet.\n",
      "\n",
      "\u001b[4m CHRISTOPHER LIVESAY: \u001b[0m\n",
      "    For the PBS NewsHour, I’m Christopher Livesay, in Rome.\n",
      "\n",
      "\n",
      "https://www.pbs.org/newshour/show/tumultuous-year-for-nfl-marked-by-protests-injuries-and-a-ratings-drop\n",
      "\u001b[1m TRANSCRIPT \u001b[0m\n",
      "\u001b[4m JUDY WOODRUFF: \u001b[0m\n",
      "    Now, for many Americans, the traditions of Thanksgiving week include food, family and, very often, football. But this year, the sport is, at least for the moment, struggling to find its footing. Jeffrey Brown has the story.\n",
      "\n",
      "\u001b[4m JEFFREY BROWN: \u001b[0m\n",
      "    The National Football League finds itself mired in a number of controversies this season most prominent, player protests over police mistreatment of African-Americans and the reaction from President Trump and other critics about taking a knee. There are also continuing concerns over player safety and the status of a concussion settlement with retired players and topping it off, a recent civil war of sorts between two of the most powerful people in the league. Commissioner Roger Goodell and Dallas Cowboys owner Jerry Jones. In the meantime the games do go on but ratings have fallen. Seth Wickersham covers the NFL for ESPN and joins us now. Thanks for joining us Seth. So let’s start with the player protests. How are players and teams dealing with it now and is it still boiling or do you see things calming down at all.\n",
      "\n",
      "\u001b[4m SETH WICKERSHAM: \u001b[0m\n",
      "    It’s largely faded. I think that the number of players that are kneeling as a protest are down to two now. And you know I think that it’s been an interesting moment to look at the NFL as this has happened because a lot of the owners of teams, and a lot of league executives, want a mandate that would force the players to stand. And Roger Goodell who has been accused by the players of often serving as a puppet for the billionaire ruthless owners, has backed them in their right to protest and has not backed a mandate. And so it’s been a really interesting issue to watch unfold especially going back to a story that I wrote a month ago with Don Van Natta where we quoted Bob McNair the owner of the Houston Texans in an owner’s meeting saying quote “We can’t have the inmates running the prison,” and that has all kinds of trouble, caused a lot of stress between players. But I think that largely right now the anthem has faded as an issue. And fortunately for people like me, there are plenty of other things to write about.\n",
      "\n",
      "\u001b[4m JEFFREY BROWN: \u001b[0m\n",
      "    Well one of them of course is this question of the violence and the concussions. So it’s interesting because there’s what happens on the field, where there seems to be more attention to concussions, there’s that long term settlement with former players. And then there’s this question about how much it’s affecting fans you know, how much people are maybe turned off to the game because of it.\n",
      "\n",
      "\u001b[4m SETH WICKERSHAM: \u001b[0m\n",
      "    Where you’re seeing the biggest effects from head injuries, more than concussions I think is just generally it’s head injuries, is on the youth levels and that is a real problem. I think in the NFL, its ratings drop. I don’t think has a lot to do with the violence of the game. And I think that there is a war right now within the NFL that’s kind of playing out where there are owners who think that fans come to the NFL for violence and they don’t actually want the game to get too much safer because it would sort of end up in this weird middle ground that would end up entertaining and pleasing nobody.\n",
      "\n",
      "\u001b[4m JEFFREY BROWN: \u001b[0m\n",
      "    Where are things with that settlement because that’s been, that’s been going on a few years now.\n",
      "\n",
      "\u001b[4m SETH WICKERSHAM: \u001b[0m\n",
      "    Yeah it’s going on a few years and it is not going to end anytime soon. I think that like, right now, the settlement is mired in litigation and even the players who won settlements are being targeted by certain kinds of attorneys that you know can promise more and aren’t delivering. I mean this entire thing has been, it’s been a mess.\n",
      "\n",
      "\u001b[4m JEFFREY BROWN: \u001b[0m\n",
      "    You think about people wanting perhaps fans who want to come and see the action and including the violence. But we also have seen a number of big stars injured. Right? I mean this is, it always happens every year but this year especially of Aaron Rodgers and others, and that really affects the quality of the games. I would think.\n",
      "\n",
      "\u001b[4m SETH WICKERSHAM: \u001b[0m\n",
      "    There is no question that, you know, so many of these big stars going down has had a huge impact on the game. And I think that in a weird way, it’s what’s elevated this battle going on right now between Jerry Jones and Roger Goodell and a few other owners over who is going to serve as commissioner next and whether that will be Roger Goodell, because the games themselves have been kind of flat and not as many people are watching them. And yet this stuff that’s going on in the executive suites is really fascinating.\n",
      "\n",
      "\u001b[4m JEFFREY BROWN: \u001b[0m\n",
      "    Explain that a little bit, especially for those who don’t follow, especially the the internal side of this. Jerry Jones a very sort of familiar figure to football fans, and a very powerful owner, in a very unusual public spat with the commissioner.\n",
      "\n",
      "\u001b[4m SETH WICKERSHAM: \u001b[0m\n",
      "    Yeah Jerry Jones during Roger Goodell’s 11 year tenure has been one of his most ardent supporters. I mean he supported Roger Goodell as they’ve gone from crisis to crisis to crises, from head injuries to the Ray Rice domestic violence dispute a couple of years ago, to all of the gates. You know Spygate, Bountygate, Deflategate. And now we’re seeing this huge public civil war breaking out with Jerry Jones leading the charge, with not many people behind him, and what he wants out of this is unclear. It’s clear that he does not want Roger Goodell to continue being commissioner of the NFL under the current terms, and he doesn’t want him to get much more money to do it. And that raises the question does he want someone else to do it?\n",
      "\n",
      "\u001b[4m JEFFREY BROWN: \u001b[0m\n",
      "    So come back finally to this question of the impact on the game and in particular the ratings being down. You said earlier you don’t think it’s because people are being turned off by the concussions and the violence. Does anyone know what is going on?\n",
      "\n",
      "\u001b[4m SETH WICKERSHAM: \u001b[0m\n",
      "    It’s a problem and even people within the NFL aren’t able to get clear answers on it. Clearly a lot of it has to do with viewer habits changing. I think a lot of it has to do with people being turned off by the NFL, maybe not totally because of head injuries, but because of the way that they’ve handled things. A small percentage of them maybe these anthem protests, but college football ratings are up. So America is not losing its appetite for football as much as people seem, as people seem to think. But there is a problem with the NFL and it’s a perception problem, and I think that that’s what Jerry Jones on top of everything else is worried about, is that there are these systemic forces that are coming at the NFL right now, and he’s asking has Roger Goodell shown the ability to navigate the league through these things enough to the point that we trust him to navigate the league going forward and end up in a stronger place.\n",
      "\n",
      "\u001b[4m JEFFREY BROWN: \u001b[0m\n",
      "    You know it’s still worth saying though that the NFL is still America’s biggest and most lucrative sport. Right? That hasn’t changed.\n",
      "\n",
      "\u001b[4m SETH WICKERSHAM: \u001b[0m\n",
      "    It hasn’t changed a bit. You know, baseball sets their records in World Series ratings and the NBA has set NBA Finals ratings lately. And you know, look, the Super Bowl still draws well over 100 million people a year that’s multiple, multiple times the amount that those other sports draw at their peak.\n",
      "\n",
      "\u001b[4m JEFFREY BROWN: \u001b[0m\n",
      "    All right Seth Wickersham of ESPN, thanks very much.\n",
      "\n",
      "\u001b[4m SETH WICKERSHAM: \u001b[0m\n",
      "    Thank you.\n",
      "\n",
      "\n",
      "https://www.pbs.org/newshour/show/planes-cant-fly-hot-ways-civilization-cant-take-heat\n",
      "\u001b[1m TRANSCRIPT \u001b[0m\n",
      "\u001b[4m HARI SREENIVASAN: \u001b[0m\n",
      "    Now let’s turn to the extreme heat wave baking the West and Southwest parts of the country. Temperatures are well above the 100-degree mark. In California, it was 127 degrees yesterday in Death Valley, 122 in Palm Springs. In Phoenix, the temperature is expected to top out at 118 degrees today. In fact, it’s been so hot there, more than 40 flights were canceled or delayed because some planes can’t safely lift off in that heat. A new analysis published in the journal “Nature Climate Change” this week also said climate change is leading to more heat waves in general. It found that 30 percent of the world’s population is exposed to potentially deadly heat for 20 days per year or more. It’s the subject of our weekly segment on the Leading Edge of science with Miles O’Brien. Let’s start with what’s happening in Phoenix. Miles, you have flown for a long time. We have always heard of flights being delayed because it’s too cold. How can a flight not take off because it’s so hot?\n",
      "\n",
      "\u001b[4m MILES O’BRIEN: \u001b[0m\n",
      "    Yes, Hari, if it weren’t for the snow and ice, the winter would be the perfect time to fly, because a wing achieves flight, it derives lift based on the number of air molecules that surround it. And, as the temperature heat up, those molecules command. We know that, when you warm things up, things expand generally. So there are fewer air molecules, so it takes greater amount of speed for that aircraft to fly. And if the runway isn’t long enough to support that — in other words, if the temperature is so high that there are so few molecules there to lift the wing that you don’t have enough runway to get going fast enough, you’re grounded.\n",
      "\n",
      "\u001b[4m HARI SREENIVASAN: \u001b[0m\n",
      "    All right, so this is still smaller planes that were affected. What’s the difference with the bigger planes?\n",
      "\n",
      "\u001b[4m MILES O’BRIEN: \u001b[0m\n",
      "    Well, the larger planes, the Boeing 737s, the big airliners, are designed to operate in a wider range of circumstances, for one thing. They are kind of a global product that has to operate in all kinds of intense conditions. And, frankly, it just costs more to certify them to these parameters. In addition, a 737, for example, has a lot more potential payload, so you can take off some cargo and still fly the mission. These smaller planes are not designed with as much versatility, and because they’re smaller, they have less capability to reduce the payload and thus take off. And really, ultimately, they have charts in there that a pilot has to look at, and there will be a maximum temperature, given the altitude of the field, et cetera. And if you exceed that, you legally cannot take off.\n",
      "\n",
      "\u001b[4m HARI SREENIVASAN: \u001b[0m\n",
      "    There are lots of runways that are too short to deal with this kind of heat. And we talked about in Phoenix, but, say, a place like La Guardia is just as confined or San Francisco is just constrained by a certain amount of space.\n",
      "\n",
      "\u001b[4m MILES O’BRIEN: \u001b[0m\n",
      "    Yes, so researchers looked at this. The La Guardia runway is about 7,000 feet, runways there. And while that’s about 20 feet above sea level, and thus the air is denser there, by virtue of where it is and it doesn’t get quite as hot, nevertheless, at that length, you still — there are still some parameters and constraints that we have to be watching as the climate gets warmer. This goes into the larger subject, Hari, of how our civilization is designed. When you’re thinking about a beach house on a barrier island or a runway at La Guardia or at Phoenix Sky Harbor, we have a finely-tuned civilization, and as the temperature goes up, even though it has only gone up a degree Celsius over a hundred years, it does create pockets of these heat waves. We’re not exactly sure why, probably because the jet stream is weakening and causing high-pressure systems to park in these places. I spoke with a climate scientist who has looked into this extensively. He’s at Columbia University — Radley Horton is his name — as part of a series I did for the weather app MyRadar.\n",
      "\n",
      "\u001b[4m RADLEY HORTON: \u001b[0m\n",
      "    If we look at the last decade or two, we are seeing twice as many record-breaking extreme heat events, cities that are breaking their daily record highs for a given day, compared to the ratio compared to the number of cities having record-breaking cold temperatures. If you make temperatures just a couple degrees warmer on the hottest days, that means much more demand for air conditioning, for example, which means much greater risk of the power going out, precisely at those temperatures, those times when people are so sensitive to just a little more warming from a public health perspective.\n",
      "\n",
      "\u001b[4m HARI SREENIVASAN: \u001b[0m\n",
      "    That goes a bit to that Goldilocks effect you are talking about, because even our infrastructure and our systems are built for us to be within a certain range.\n",
      "\n",
      "\u001b[4m MILES O’BRIEN: \u001b[0m\n",
      "    Exactly. And that’s why we need to be really watching the effects of climate change. It’s easy to dismiss a one-degree Celsius increase and say, well, that’s not a big deal, but, in isolated locations, in specific locations, whether it’s Phoenix or whether it’s Miami Beach or whether it’s another city that has a sea level problem that it is dealing with, or whether it’s California dealing with wildfires, those particular pockets, those problems are exacerbated by that overall increase in the temperature of the climate, the overall temperature of the planet. And it causes changes to our weather systems which we’re just beginning to understand. Researchers are just getting a handle on it.\n",
      "\n",
      "\u001b[4m HARI SREENIVASAN: \u001b[0m\n",
      "    So in the case of this news about Phoenix and the air — do airlines, who think about buying planes years and years out — these are hundreds of millions of dollars’ worth of purchases — do they think differently about what kind of jets to buy or where to park all those jets, in a place with a long runway?\n",
      "\n",
      "\u001b[4m MILES O’BRIEN: \u001b[0m\n",
      "    Hari, I think this is something the aviation industry has not gotten out ahead of. I suspect there are a lot of conversations going right now as we have seen this record heat wave. There was a similar record heat wave last year as well which caused similar problems. So the airlines are going to have to contend with this, the airliner makers, and airports as well. The longest runway at Phoenix Sky Harbor is a little more than 11,000 feet. They might have to think about extending that runway. What about La Guardia, though? Is that even possible? Is it possible to even consider that? All these things get factored into the consequences of climate change and how we as civilization can adapt to it.\n",
      "\n",
      "\u001b[4m HARI SREENIVASAN: \u001b[0m\n",
      "    All right, science correspondent Miles O’Brien, thanks so much.\n",
      "\n",
      "\u001b[4m MILES O’BRIEN: \u001b[0m\n",
      "    You’re welcome.\n",
      "\n",
      "\n"
     ]
    },
    {
     "name": "stdout",
     "output_type": "stream",
     "text": [
      "https://www.pbs.org/newshour/show/track-and-field-events-warm-up-as-gymnastics-takes-a-bow\n",
      "\u001b[1m TRANSCRIPT \u001b[0m\n",
      "\u001b[4m CHRISTINE BRENNAN: \u001b[0m\n",
      "    That is true, Margaret, although I will say Gabby Douglas has the most important one. And that is the individual all-around from last week. So, Gabby Douglas still to me is the breakout star of these Games, not just in gymnastics, but all sports, for the United States. But, having said that, after Gabby Douglas won that individual all-around title — and of course the U.S. team won the gold as well — it has — there’s been a lot of celebrations, a lot of media. And Gabby has not had a chance to focus on her routines, hence an eighth-place finish in the uneven bars yesterday and then a seventh-place finish on the balance beam today, when she was actually ingloriously hanging upside-down on the balance beam, holding on for dear life. That is not exactly the image you want to have of your Olympic gold medalists. But it’s tough. It shows the pressure. It also shows how much fun she has been having celebrating. And you’re right. Aly Raisman, her teammate, actually came in and won a gold and a bronze and is kind of the star of the show, at least for this day, even though, as I said, Gabby has got the big prize from last week.\n",
      "\n",
      "\u001b[4m MARGARET WARNER: \u001b[0m\n",
      "    Yes. Neither of them have anything to be ashamed or unhappy about. Moving on to track and field, where there is a lot of focus now, most of the focus, even though Usain Bolt was only in a qualifying round today, is on him.\n",
      "\n",
      "\u001b[4m CHRISTINE BRENNAN: \u001b[0m\n",
      "    Oh, without a doubt. I was in the stadium on Saturday and Sunday when Usain Bolt was running and winning the men’s 100 meters on Sunday night. And it was electric. And it is like the old days of those great prize fights that we hear about from the past, those boxing matches, when the world is watching and the cameras are on and everyone is just riveted. It’s only 10 seconds, less than 10 seconds, but it was amazing theater. And Usain Bolt from Jamaica, part of an amazing group of Jamaican men and women sprinters winning everything. They have not lost a sprint since Beijing back in 2008. But Usain Bolt is to this week in the Olympics what Michael Phelps was to last week. And he is a legend in the making. And if he wins the men’s 200 later this week, oh, boy, I think we may be able to say that Usain Bolt is the greatest Olympic sprinter of all time. We’re talking about Jesse Owens, Carl Lewis, many others, but I think Usain Bolt will be able to at least have that argument, that he is the greatest ever.\n",
      "\n",
      "\u001b[4m MARGARET WARNER: \u001b[0m\n",
      "    Well, as you said, the Jamaicans and the Caribbean nations as a whole have done incredibly well. What explains it? The U.S. used to dominate track and field.\n",
      "\n",
      "\u001b[4m CHRISTINE BRENNAN: \u001b[0m\n",
      "    That is true. Well, I think one of the things for the U.S. is that so many good young athletes go to other sports. And so, especially with women, we have — there’s so many opportunities because of Title IX, so you see more women playing other — young girls and then women playing soccer and lacrosse and basketball and those kinds of things. That is — opportunities have opened up there. So, that is part of it for the U.S. But the other side — and not to for one moment say anything about — other than praise for the Caribbean nations, especially Jamaica — is that the great history there, the role models that come from the 1970s, a man named Don Quarrie, who was an Olympic gold medalist back in the ’70s, in ’76. He, of course, is a name that so many of these young sprinters over the last few generations have gotten to know. And it builds on itself. And there is a great pride in sprinting in Jamaica. Ben Johnson, who ended up running for Canada, is Jamaican. Sanya Richards-Ross, the U.S. sprinter who won — or the U.S. woman who won the 400 meters here, she actually spent the first 11 years of her life in Jamaica. And do we see a common denominator here? Absolutely. And I think it is just the rich history, great pride and just an excellent generation of sprinters led by Usain Bolt.\n",
      "\n",
      "\u001b[4m MARGARET WARNER: \u001b[0m\n",
      "    Now, speaking of being on a roll, Britain was really on a roll today, four more golds. What’s — I mean, people there must be going crazy over this.\n",
      "\n",
      "\u001b[4m CHRISTINE BRENNAN: \u001b[0m\n",
      "    They are. And it’s great. They are in third place in the medal count. And that is probably where they will stay at this. U.S. and Canada — China and the U.S. are one-two, and then Britain three, and after a really slow start. Team G.B., as they are calling them here, didn’t have a medal, a gold medal in the first few days. Rowing, cycling, it’s been a bonanza. And it’s great to see. Traditionally, Margaret, the host country does do very well at their home Olympics, whether it’s Vancouver, Canada, just two years ago. The Canadians were great. China of course emerged and really announced itself to the world in so many ways four years ago in Beijing. Almost every Olympics, the host country has a great performance. And that is happening here as well. I think what is interesting, they are talking about having a legacy for future generations. That is the theme of these London Games. Well, a legacy and then some, because every 12-year-old boy and girl in this country is saying, hey, I want to play sports now. So I think Great Britain will be great for many years to come in the Olympics because of these two weeks.\n",
      "\n",
      "\u001b[4m MARGARET WARNER: \u001b[0m\n",
      "    And the U.S., the U.S. women’s soccer team won yesterday over Canada in the semifinals, but that was a nail-biter, wasn’t it?\n",
      "\n",
      "\u001b[4m CHRISTINE BRENNAN: \u001b[0m\n",
      "    It sure was. In January, in Olympic qualifying in Vancouver, the U.S. beat the Canadians 4-0. This wasn’t the same Canadian team. And Canada led throughout. The U.S. kept coming back, and then Canada would take the lead again. And this was one of the great games in the history of U.S. soccer, male or female, riveting. And, finally at the end, Alex Morgan, the young breakout star for the United   States, scored the winning goal, had a header in the 123rd minute, which was stoppage time of overtime. That means they have been playing for a long, long time. And the U.S. was able to put Canada away 4-3, going now to play Japan on Thursday for the gold medal. This is — the U.S. has always been in the gold medal game, either winning gold or one time silver in the Olympics. So, this is a place the United States is often in, in other words, the gold medal game in women’s soccer. And they are playing Japan. A year ago, in the women’s World Cup final, Japan beat the United States in penalty kicks. The U.S. has been pointing towards the opportunity to play Japan again in a meaningful game. And now they have got it, U.S. against Japan for the gold. And it should be fascinating to see if the Americans can come back and win this game over the rival who took that World Cup from them last year.\n",
      "\n",
      "\u001b[4m MARGARET WARNER: \u001b[0m\n",
      "    Well, we all will be watching. Christine Brennan, thanks. And we will talk to you again.\n",
      "\n",
      "\u001b[4m CHRISTINE BRENNAN: \u001b[0m\n",
      "    Thank you very much, Margaret.\n",
      "\n"
     ]
    }
   ],
   "source": [
    "### Used to style Python print statements\n",
    "class color:\n",
    "    BOLD = '\\033[1m'\n",
    "    UNDERLINE = '\\033[4m'\n",
    "    END = '\\033[0m'\n",
    "\n",
    "def pretty_transcript(transcript, convert_name=False):\n",
    "    print(color.BOLD, \"TRANSCRIPT\", color.END)\n",
    "    for speaker in transcript:\n",
    "        if convert_name:\n",
    "            speaker[0] = clean_names(speaker[0])\n",
    "        print(color.UNDERLINE, speaker[0] + \":\", color.END)\n",
    "        for txt in speaker[1:]:\n",
    "            print(\"  \", \" \".join(txt))\n",
    "        print()\n",
    "            \n",
    "for _ in range(5):\n",
    "    print()\n",
    "    temp = df[df.Transcript.map(lambda x: x != [])].reset_index(drop=True)\n",
    "    index = np.random.randint(0, len(temp) - 1)\n",
    "    print(temp.iloc[index].URL)\n",
    "    pretty_transcript(temp.iloc[index].Transcript, convert_name=True)"
   ]
  },
  {
   "cell_type": "markdown",
   "metadata": {},
   "source": [
    "# Misc cleaning"
   ]
  },
  {
   "cell_type": "markdown",
   "metadata": {},
   "source": [
    "### Order dataframe"
   ]
  },
  {
   "cell_type": "code",
   "execution_count": 15,
   "metadata": {},
   "outputs": [
    {
     "name": "stdout",
     "output_type": "stream",
     "text": [
      "Shape of df: (17617, 8)\n"
     ]
    },
    {
     "data": {
      "text/html": [
       "<div>\n",
       "<style>\n",
       "    .dataframe thead tr:only-child th {\n",
       "        text-align: right;\n",
       "    }\n",
       "\n",
       "    .dataframe thead th {\n",
       "        text-align: left;\n",
       "    }\n",
       "\n",
       "    .dataframe tbody tr th {\n",
       "        vertical-align: top;\n",
       "    }\n",
       "</style>\n",
       "<table border=\"1\" class=\"dataframe\">\n",
       "  <thead>\n",
       "    <tr style=\"text-align: right;\">\n",
       "      <th></th>\n",
       "      <th>URL</th>\n",
       "      <th>Story</th>\n",
       "      <th>Date</th>\n",
       "      <th>Title</th>\n",
       "      <th>Transcript</th>\n",
       "      <th>Speakers</th>\n",
       "      <th>Number of Comments</th>\n",
       "      <th>Timezone</th>\n",
       "    </tr>\n",
       "  </thead>\n",
       "  <tbody>\n",
       "    <tr>\n",
       "      <th>0</th>\n",
       "      <td>https://www.pbs.org/newshour/show/robert-macne...</td>\n",
       "      <td>“How high did the scandals reach and was Presi...</td>\n",
       "      <td>1973-05-17 02:26:00</td>\n",
       "      <td>Watergate: The NewsHour’s 1973 Special Report</td>\n",
       "      <td>[]</td>\n",
       "      <td>{T, S, E}</td>\n",
       "      <td>0.0</td>\n",
       "      <td>EDT</td>\n",
       "    </tr>\n",
       "    <tr>\n",
       "      <th>1</th>\n",
       "      <td>https://www.pbs.org/newshour/show/tempers-flar...</td>\n",
       "      <td>This MacNeil/Lehrer Report piece highlights th...</td>\n",
       "      <td>1979-06-29 06:00:00</td>\n",
       "      <td>Tempers Flare In Lines for Gasoline in 1979</td>\n",
       "      <td>[]</td>\n",
       "      <td>{T, S, E}</td>\n",
       "      <td>0.0</td>\n",
       "      <td>EDT</td>\n",
       "    </tr>\n",
       "    <tr>\n",
       "      <th>2</th>\n",
       "      <td>https://www.pbs.org/newshour/show/margaret-tha...</td>\n",
       "      <td>Robert MacNeil and Jim Lehrer interviewed Brit...</td>\n",
       "      <td>1981-02-27 06:00:00</td>\n",
       "      <td>Newsmaker: Margaret Thatcher</td>\n",
       "      <td>[]</td>\n",
       "      <td>{T, S, E}</td>\n",
       "      <td>0.0</td>\n",
       "      <td>EDT</td>\n",
       "    </tr>\n",
       "    <tr>\n",
       "      <th>3</th>\n",
       "      <td>https://www.pbs.org/newshour/show/macneil-lehr...</td>\n",
       "      <td>Jim Lehrer and Charlene Hunter Gault report on...</td>\n",
       "      <td>1982-10-25 06:00:00</td>\n",
       "      <td>The MacNeil/Lehrer Report – October 25, 1982 –...</td>\n",
       "      <td>[]</td>\n",
       "      <td>{T, S, E}</td>\n",
       "      <td>0.0</td>\n",
       "      <td>EDT</td>\n",
       "    </tr>\n",
       "    <tr>\n",
       "      <th>4</th>\n",
       "      <td>https://www.pbs.org/newshour/show/the-macneil-...</td>\n",
       "      <td>Robert MacNeil and Charlayne Hunter Gault repo...</td>\n",
       "      <td>1983-11-30 06:00:00</td>\n",
       "      <td>The MacNeil/Lehrer Report from Nov. 30, 1983 o...</td>\n",
       "      <td>[]</td>\n",
       "      <td>{T, S, E}</td>\n",
       "      <td>0.0</td>\n",
       "      <td>EDT</td>\n",
       "    </tr>\n",
       "  </tbody>\n",
       "</table>\n",
       "</div>"
      ],
      "text/plain": [
       "                                                 URL  \\\n",
       "0  https://www.pbs.org/newshour/show/robert-macne...   \n",
       "1  https://www.pbs.org/newshour/show/tempers-flar...   \n",
       "2  https://www.pbs.org/newshour/show/margaret-tha...   \n",
       "3  https://www.pbs.org/newshour/show/macneil-lehr...   \n",
       "4  https://www.pbs.org/newshour/show/the-macneil-...   \n",
       "\n",
       "                                               Story                Date  \\\n",
       "0  “How high did the scandals reach and was Presi... 1973-05-17 02:26:00   \n",
       "1  This MacNeil/Lehrer Report piece highlights th... 1979-06-29 06:00:00   \n",
       "2  Robert MacNeil and Jim Lehrer interviewed Brit... 1981-02-27 06:00:00   \n",
       "3  Jim Lehrer and Charlene Hunter Gault report on... 1982-10-25 06:00:00   \n",
       "4  Robert MacNeil and Charlayne Hunter Gault repo... 1983-11-30 06:00:00   \n",
       "\n",
       "                                               Title Transcript   Speakers  \\\n",
       "0      Watergate: The NewsHour’s 1973 Special Report         []  {T, S, E}   \n",
       "1        Tempers Flare In Lines for Gasoline in 1979         []  {T, S, E}   \n",
       "2                       Newsmaker: Margaret Thatcher         []  {T, S, E}   \n",
       "3  The MacNeil/Lehrer Report – October 25, 1982 –...         []  {T, S, E}   \n",
       "4  The MacNeil/Lehrer Report from Nov. 30, 1983 o...         []  {T, S, E}   \n",
       "\n",
       "   Number of Comments Timezone  \n",
       "0                 0.0      EDT  \n",
       "1                 0.0      EDT  \n",
       "2                 0.0      EDT  \n",
       "3                 0.0      EDT  \n",
       "4                 0.0      EDT  "
      ]
     },
     "execution_count": 15,
     "metadata": {},
     "output_type": "execute_result"
    }
   ],
   "source": [
    "df = df.sort_values(\"Date\").reset_index(drop=True)\n",
    "print(\"Shape of df:\", df.shape)\n",
    "df.head()"
   ]
  },
  {
   "cell_type": "markdown",
   "metadata": {},
   "source": [
    "### Remove Speakers if missing Transcript"
   ]
  },
  {
   "cell_type": "code",
   "execution_count": 16,
   "metadata": {},
   "outputs": [
    {
     "data": {
      "text/html": [
       "<div>\n",
       "<style>\n",
       "    .dataframe thead tr:only-child th {\n",
       "        text-align: right;\n",
       "    }\n",
       "\n",
       "    .dataframe thead th {\n",
       "        text-align: left;\n",
       "    }\n",
       "\n",
       "    .dataframe tbody tr th {\n",
       "        vertical-align: top;\n",
       "    }\n",
       "</style>\n",
       "<table border=\"1\" class=\"dataframe\">\n",
       "  <thead>\n",
       "    <tr style=\"text-align: right;\">\n",
       "      <th></th>\n",
       "      <th>URL</th>\n",
       "      <th>Story</th>\n",
       "      <th>Date</th>\n",
       "      <th>Title</th>\n",
       "      <th>Transcript</th>\n",
       "      <th>Speakers</th>\n",
       "      <th>Number of Comments</th>\n",
       "      <th>Timezone</th>\n",
       "    </tr>\n",
       "  </thead>\n",
       "  <tbody>\n",
       "  </tbody>\n",
       "</table>\n",
       "</div>"
      ],
      "text/plain": [
       "Empty DataFrame\n",
       "Columns: [URL, Story, Date, Title, Transcript, Speakers, Number of Comments, Timezone]\n",
       "Index: []"
      ]
     },
     "execution_count": 16,
     "metadata": {},
     "output_type": "execute_result"
    }
   ],
   "source": [
    "index = df[df.Transcript.map(lambda x: x == []) & df.Speakers.map(lambda x: x != {})].index\n",
    "\n",
    "for row in index:\n",
    "    df.at[row, 'Speakers'] = {}\n",
    "\n",
    "df[df.Transcript.map(lambda x: x == []) & df.Speakers.map(lambda x: x != {})]"
   ]
  },
  {
   "cell_type": "code",
   "execution_count": 18,
   "metadata": {},
   "outputs": [
    {
     "data": {
      "text/plain": [
       "{'ANGELA MERKEL', 'FROM  ANGELA MERKEL', 'JUDY MERKEL'}"
      ]
     },
     "execution_count": 18,
     "metadata": {},
     "output_type": "execute_result"
    }
   ],
   "source": [
    "df.Speakers = df.Speakers.map(set)\n",
    "\n",
    "{x for x in set.union(*df.Speakers) if \"MERKEL\" in x}"
   ]
  },
  {
   "cell_type": "markdown",
   "metadata": {},
   "source": [
    "### Final data look"
   ]
  },
  {
   "cell_type": "code",
   "execution_count": 19,
   "metadata": {},
   "outputs": [
    {
     "data": {
      "text/html": [
       "<div>\n",
       "<style>\n",
       "    .dataframe thead tr:only-child th {\n",
       "        text-align: right;\n",
       "    }\n",
       "\n",
       "    .dataframe thead th {\n",
       "        text-align: left;\n",
       "    }\n",
       "\n",
       "    .dataframe tbody tr th {\n",
       "        vertical-align: top;\n",
       "    }\n",
       "</style>\n",
       "<table border=\"1\" class=\"dataframe\">\n",
       "  <thead>\n",
       "    <tr style=\"text-align: right;\">\n",
       "      <th></th>\n",
       "      <th>URL</th>\n",
       "      <th>Story</th>\n",
       "      <th>Date</th>\n",
       "      <th>Title</th>\n",
       "      <th>Transcript</th>\n",
       "      <th>Speakers</th>\n",
       "      <th>Number of Comments</th>\n",
       "      <th>Timezone</th>\n",
       "    </tr>\n",
       "  </thead>\n",
       "  <tbody>\n",
       "    <tr>\n",
       "      <th>0</th>\n",
       "      <td>https://www.pbs.org/newshour/show/robert-macne...</td>\n",
       "      <td>“How high did the scandals reach and was Presi...</td>\n",
       "      <td>1973-05-17 02:26:00</td>\n",
       "      <td>Watergate: The NewsHour’s 1973 Special Report</td>\n",
       "      <td>[]</td>\n",
       "      <td>{}</td>\n",
       "      <td>0.0</td>\n",
       "      <td>EDT</td>\n",
       "    </tr>\n",
       "    <tr>\n",
       "      <th>1</th>\n",
       "      <td>https://www.pbs.org/newshour/show/tempers-flar...</td>\n",
       "      <td>This MacNeil/Lehrer Report piece highlights th...</td>\n",
       "      <td>1979-06-29 06:00:00</td>\n",
       "      <td>Tempers Flare In Lines for Gasoline in 1979</td>\n",
       "      <td>[]</td>\n",
       "      <td>{}</td>\n",
       "      <td>0.0</td>\n",
       "      <td>EDT</td>\n",
       "    </tr>\n",
       "    <tr>\n",
       "      <th>2</th>\n",
       "      <td>https://www.pbs.org/newshour/show/margaret-tha...</td>\n",
       "      <td>Robert MacNeil and Jim Lehrer interviewed Brit...</td>\n",
       "      <td>1981-02-27 06:00:00</td>\n",
       "      <td>Newsmaker: Margaret Thatcher</td>\n",
       "      <td>[]</td>\n",
       "      <td>{}</td>\n",
       "      <td>0.0</td>\n",
       "      <td>EDT</td>\n",
       "    </tr>\n",
       "    <tr>\n",
       "      <th>3</th>\n",
       "      <td>https://www.pbs.org/newshour/show/macneil-lehr...</td>\n",
       "      <td>Jim Lehrer and Charlene Hunter Gault report on...</td>\n",
       "      <td>1982-10-25 06:00:00</td>\n",
       "      <td>The MacNeil/Lehrer Report – October 25, 1982 –...</td>\n",
       "      <td>[]</td>\n",
       "      <td>{}</td>\n",
       "      <td>0.0</td>\n",
       "      <td>EDT</td>\n",
       "    </tr>\n",
       "    <tr>\n",
       "      <th>4</th>\n",
       "      <td>https://www.pbs.org/newshour/show/the-macneil-...</td>\n",
       "      <td>Robert MacNeil and Charlayne Hunter Gault repo...</td>\n",
       "      <td>1983-11-30 06:00:00</td>\n",
       "      <td>The MacNeil/Lehrer Report from Nov. 30, 1983 o...</td>\n",
       "      <td>[]</td>\n",
       "      <td>{}</td>\n",
       "      <td>0.0</td>\n",
       "      <td>EDT</td>\n",
       "    </tr>\n",
       "  </tbody>\n",
       "</table>\n",
       "</div>"
      ],
      "text/plain": [
       "                                                 URL  \\\n",
       "0  https://www.pbs.org/newshour/show/robert-macne...   \n",
       "1  https://www.pbs.org/newshour/show/tempers-flar...   \n",
       "2  https://www.pbs.org/newshour/show/margaret-tha...   \n",
       "3  https://www.pbs.org/newshour/show/macneil-lehr...   \n",
       "4  https://www.pbs.org/newshour/show/the-macneil-...   \n",
       "\n",
       "                                               Story                Date  \\\n",
       "0  “How high did the scandals reach and was Presi... 1973-05-17 02:26:00   \n",
       "1  This MacNeil/Lehrer Report piece highlights th... 1979-06-29 06:00:00   \n",
       "2  Robert MacNeil and Jim Lehrer interviewed Brit... 1981-02-27 06:00:00   \n",
       "3  Jim Lehrer and Charlene Hunter Gault report on... 1982-10-25 06:00:00   \n",
       "4  Robert MacNeil and Charlayne Hunter Gault repo... 1983-11-30 06:00:00   \n",
       "\n",
       "                                               Title Transcript Speakers  \\\n",
       "0      Watergate: The NewsHour’s 1973 Special Report         []       {}   \n",
       "1        Tempers Flare In Lines for Gasoline in 1979         []       {}   \n",
       "2                       Newsmaker: Margaret Thatcher         []       {}   \n",
       "3  The MacNeil/Lehrer Report – October 25, 1982 –...         []       {}   \n",
       "4  The MacNeil/Lehrer Report from Nov. 30, 1983 o...         []       {}   \n",
       "\n",
       "   Number of Comments Timezone  \n",
       "0                 0.0      EDT  \n",
       "1                 0.0      EDT  \n",
       "2                 0.0      EDT  \n",
       "3                 0.0      EDT  \n",
       "4                 0.0      EDT  "
      ]
     },
     "execution_count": 19,
     "metadata": {},
     "output_type": "execute_result"
    }
   ],
   "source": [
    "df.head()"
   ]
  },
  {
   "cell_type": "code",
   "execution_count": 20,
   "metadata": {},
   "outputs": [
    {
     "data": {
      "text/html": [
       "<div>\n",
       "<style>\n",
       "    .dataframe thead tr:only-child th {\n",
       "        text-align: right;\n",
       "    }\n",
       "\n",
       "    .dataframe thead th {\n",
       "        text-align: left;\n",
       "    }\n",
       "\n",
       "    .dataframe tbody tr th {\n",
       "        vertical-align: top;\n",
       "    }\n",
       "</style>\n",
       "<table border=\"1\" class=\"dataframe\">\n",
       "  <thead>\n",
       "    <tr style=\"text-align: right;\">\n",
       "      <th></th>\n",
       "      <th>URL</th>\n",
       "      <th>Story</th>\n",
       "      <th>Date</th>\n",
       "      <th>Title</th>\n",
       "      <th>Transcript</th>\n",
       "      <th>Speakers</th>\n",
       "      <th>Number of Comments</th>\n",
       "      <th>Timezone</th>\n",
       "    </tr>\n",
       "  </thead>\n",
       "  <tbody>\n",
       "    <tr>\n",
       "      <th>17612</th>\n",
       "      <td>https://www.pbs.org/newshour/show/livingwhileb...</td>\n",
       "      <td>A profusion of national incidents in which whi...</td>\n",
       "      <td>2018-07-02 06:35:00</td>\n",
       "      <td>#LivingWhileBlack: How does racial bias lead t...</td>\n",
       "      <td>[[Judy Woodruff, [ A number of recent incident...</td>\n",
       "      <td>{HOWARD SCHULTZ, YAMICHE ALCINDOR, JUDY WOODRU...</td>\n",
       "      <td>0.0</td>\n",
       "      <td>EDT</td>\n",
       "    </tr>\n",
       "    <tr>\n",
       "      <th>17613</th>\n",
       "      <td>https://www.pbs.org/newshour/show/yemens-spira...</td>\n",
       "      <td>One of the poorest countries in the Middle Eas...</td>\n",
       "      <td>2018-07-02 06:40:00</td>\n",
       "      <td>Yemen’s spiraling hunger crisis is a man-made ...</td>\n",
       "      <td>[[Judy Woodruff, [ The “NewsHour” has reported...</td>\n",
       "      <td>{DHABIA KHARFOUSH, NAIMI, STEPHEN ANDERSON, JA...</td>\n",
       "      <td>0.0</td>\n",
       "      <td>EDT</td>\n",
       "    </tr>\n",
       "    <tr>\n",
       "      <th>17614</th>\n",
       "      <td>https://www.pbs.org/newshour/show/will-u-s-mex...</td>\n",
       "      <td>There are enormous expectations facing the new...</td>\n",
       "      <td>2018-07-02 06:43:00</td>\n",
       "      <td>Will U.S.-Mexico policy tensions change under ...</td>\n",
       "      <td>[[Judy Woodruff, [ And now perspective from fo...</td>\n",
       "      <td>{ROBERTA JACOBSON, JUDY WOODRUFF}</td>\n",
       "      <td>0.0</td>\n",
       "      <td>EDT</td>\n",
       "    </tr>\n",
       "    <tr>\n",
       "      <th>17615</th>\n",
       "      <td>https://www.pbs.org/newshour/show/elected-in-a...</td>\n",
       "      <td>Mexican president-elect Andrés Manuel López Ob...</td>\n",
       "      <td>2018-07-02 06:45:00</td>\n",
       "      <td>Elected by a landslide, can Mexico’s López Obr...</td>\n",
       "      <td>[[Judy Woodruff, [ After two previous runs for...</td>\n",
       "      <td>{ALFONSO ROMO, ANDRES MANUEL LOPEZ OBRADOR, RA...</td>\n",
       "      <td>0.0</td>\n",
       "      <td>EDT</td>\n",
       "    </tr>\n",
       "    <tr>\n",
       "      <th>17616</th>\n",
       "      <td>https://www.pbs.org/newshour/show/news-wrap-tr...</td>\n",
       "      <td>In our news wrap Monday, President Trump's sea...</td>\n",
       "      <td>2018-07-02 06:50:00</td>\n",
       "      <td>News Wrap: Trump interviews Supreme Court cand...</td>\n",
       "      <td>[[Judy Woodruff, [ President Trump’s search fo...</td>\n",
       "      <td>{DONALD TRUMP, JUSTIN HERDMAN, JUDY WOODRUFF, ...</td>\n",
       "      <td>0.0</td>\n",
       "      <td>EDT</td>\n",
       "    </tr>\n",
       "  </tbody>\n",
       "</table>\n",
       "</div>"
      ],
      "text/plain": [
       "                                                     URL  \\\n",
       "17612  https://www.pbs.org/newshour/show/livingwhileb...   \n",
       "17613  https://www.pbs.org/newshour/show/yemens-spira...   \n",
       "17614  https://www.pbs.org/newshour/show/will-u-s-mex...   \n",
       "17615  https://www.pbs.org/newshour/show/elected-in-a...   \n",
       "17616  https://www.pbs.org/newshour/show/news-wrap-tr...   \n",
       "\n",
       "                                                   Story                Date  \\\n",
       "17612  A profusion of national incidents in which whi... 2018-07-02 06:35:00   \n",
       "17613  One of the poorest countries in the Middle Eas... 2018-07-02 06:40:00   \n",
       "17614  There are enormous expectations facing the new... 2018-07-02 06:43:00   \n",
       "17615  Mexican president-elect Andrés Manuel López Ob... 2018-07-02 06:45:00   \n",
       "17616  In our news wrap Monday, President Trump's sea... 2018-07-02 06:50:00   \n",
       "\n",
       "                                                   Title  \\\n",
       "17612  #LivingWhileBlack: How does racial bias lead t...   \n",
       "17613  Yemen’s spiraling hunger crisis is a man-made ...   \n",
       "17614  Will U.S.-Mexico policy tensions change under ...   \n",
       "17615  Elected by a landslide, can Mexico’s López Obr...   \n",
       "17616  News Wrap: Trump interviews Supreme Court cand...   \n",
       "\n",
       "                                              Transcript  \\\n",
       "17612  [[Judy Woodruff, [ A number of recent incident...   \n",
       "17613  [[Judy Woodruff, [ The “NewsHour” has reported...   \n",
       "17614  [[Judy Woodruff, [ And now perspective from fo...   \n",
       "17615  [[Judy Woodruff, [ After two previous runs for...   \n",
       "17616  [[Judy Woodruff, [ President Trump’s search fo...   \n",
       "\n",
       "                                                Speakers  Number of Comments  \\\n",
       "17612  {HOWARD SCHULTZ, YAMICHE ALCINDOR, JUDY WOODRU...                 0.0   \n",
       "17613  {DHABIA KHARFOUSH, NAIMI, STEPHEN ANDERSON, JA...                 0.0   \n",
       "17614                  {ROBERTA JACOBSON, JUDY WOODRUFF}                 0.0   \n",
       "17615  {ALFONSO ROMO, ANDRES MANUEL LOPEZ OBRADOR, RA...                 0.0   \n",
       "17616  {DONALD TRUMP, JUSTIN HERDMAN, JUDY WOODRUFF, ...                 0.0   \n",
       "\n",
       "      Timezone  \n",
       "17612      EDT  \n",
       "17613      EDT  \n",
       "17614      EDT  \n",
       "17615      EDT  \n",
       "17616      EDT  "
      ]
     },
     "execution_count": 20,
     "metadata": {},
     "output_type": "execute_result"
    }
   ],
   "source": [
    "df.tail()"
   ]
  },
  {
   "cell_type": "markdown",
   "metadata": {
    "collapsed": true
   },
   "source": [
    "---\n",
    "<a id=\"save\"></a>\n",
    "\n",
    "# [^](#toc) <u>Save to CSV</u>\n",
    "\n",
    "Now that we've cleaned up our data a bit, let's save it into a different CSV file."
   ]
  },
  {
   "cell_type": "code",
   "execution_count": 21,
   "metadata": {
    "collapsed": true
   },
   "outputs": [],
   "source": [
    "df.to_csv(\"../data/PBS-newhour-clean.csv\", index=False)"
   ]
  },
  {
   "cell_type": "markdown",
   "metadata": {},
   "source": [
    "# Tests"
   ]
  },
  {
   "cell_type": "markdown",
   "metadata": {},
   "source": [
    "### Remove party regex"
   ]
  },
  {
   "cell_type": "code",
   "execution_count": 22,
   "metadata": {
    "collapsed": true
   },
   "outputs": [],
   "source": [
    "%run preprocessing.py\n",
    "\n",
    "ex1 = \"BARBARA MIKULSKI (D-MD.)\"\n",
    "assert remove_party(ex1) == \"BARBARA MIKULSKI\" \n",
    "\n",
    "ex2 = \"JERRY BROWN (D-CALIF.)\"\n",
    "assert remove_party(ex2) == \"JERRY BROWN\" \n",
    "\n",
    "ex3 = \"CHUCK SCHUMER (DN.Y.)\"\n",
    "assert remove_party(ex3) == \"CHUCK SCHUMER\" \n",
    "\n",
    "ex4 = \"JOHN BOEHNER (R-OH.)\"\n",
    "assert remove_party(ex4) == \"JOHN BOEHNER\" \n",
    "\n",
    "ex5 = \"JEFF SESSIONS (R-ALA.)\"\n",
    "assert remove_party(ex5) == \"JEFF SESSIONS\" \n",
    "\n",
    "ex6 = \"TODD YOUNG (RIND.)\"\n",
    "assert remove_party(ex6) == \"TODD YOUNG\" \n",
    "\n",
    "ex7 = \"DONALD TRUMP\"\n",
    "assert remove_party(ex7) == ex7\n",
    "\n",
    "ex8 = \"PRESIDENT BARACK OBAMA (singing)\"\n",
    "assert remove_party(ex8) == ex8"
   ]
  },
  {
   "cell_type": "code",
   "execution_count": null,
   "metadata": {
    "collapsed": true
   },
   "outputs": [],
   "source": []
  }
 ],
 "metadata": {
  "kernelspec": {
   "display_name": "Python 3",
   "language": "python",
   "name": "python3"
  },
  "language_info": {
   "codemirror_mode": {
    "name": "ipython",
    "version": 3
   },
   "file_extension": ".py",
   "mimetype": "text/x-python",
   "name": "python",
   "nbconvert_exporter": "python",
   "pygments_lexer": "ipython3",
   "version": "3.6.3"
  }
 },
 "nbformat": 4,
 "nbformat_minor": 2
}
