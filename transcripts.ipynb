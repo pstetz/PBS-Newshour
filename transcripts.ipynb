{
 "cells": [
  {
   "cell_type": "markdown",
   "metadata": {},
   "source": [
    "# This notebook takes the transcripts from clips of PBS Newshour\n",
    "\n",
    "This is a lot easier and works better than full episodes.  I can't find transcripts for full episodes which adds to their difficulty however a clip on PBS Newshour always has a transcript.  This is also a lot less data (text is less info than sound or video)."
   ]
  },
  {
   "cell_type": "markdown",
   "metadata": {},
   "source": [
    "### Imports"
   ]
  },
  {
   "cell_type": "code",
   "execution_count": 1,
   "metadata": {
    "collapsed": true
   },
   "outputs": [],
   "source": [
    "### Removes warnings that occassionally show in imports\n",
    "import warnings\n",
    "warnings.filterwarnings('ignore')\n",
    "\n",
    "### Libraries for website scraping\n",
    "from bs4 import BeautifulSoup\n",
    "import requests\n",
    "import urllib\n",
    "\n",
    "# Regular expressions\n",
    "import re\n",
    "\n",
    "# Progress bar\n",
    "from tqdm import tqdm\n",
    "\n",
    "### Standard imports\n",
    "import pandas as pd\n",
    "import numpy as np\n",
    "\n",
    "### Plotting imports\n",
    "import matplotlib.pyplot as plt\n",
    "import seaborn as sns\n",
    "%matplotlib inline\n",
    "sns.set()"
   ]
  },
  {
   "cell_type": "markdown",
   "metadata": {},
   "source": [
    "### Clips Timeline\n",
    "\n",
    "The [earliest clip](https://www.pbs.org/newshour/show/robert-macneil-and-jim-lehrer-and-the-watergate-hearings) is from Nixon's Watergate scandal in May 17 1973.\n",
    "\n",
    "- Unfortunately this clip does not have a transcript (the transcript is blank).  I have a feeling this might be common so our scraping should watch out for this.\n",
    " \n",
    "The early clips have quite a bit of pockets as the [tenth oldest clip](https://www.pbs.org/newshour/show/early-years-of-aids-deaths-fuel-fear) is from Sep 4 1985.  The [100th oldest clip](https://www.pbs.org/newshour/show/george-shultz-working-age-89) is relatively recent and is from Dec 16 2009."
   ]
  },
  {
   "cell_type": "markdown",
   "metadata": {},
   "source": [
    "### Scraping Structure\n",
    "\n",
    "#### Page iteration\n",
    "\n",
    "We should first iterate over each page of clips.  The url for each page is https://www.pbs.org/newshour/video/page/<strong>PAGE_NUMBER</strong>.  As of typing, there are 980 pages of clips.  The videos for each page appear to be stored in `<div id=\"all-videos\"> ... </div>`.  Of course the link to each clip is stored in a `<a href=\"URL\"> ... </a>` block.  This is very convenient!\n",
    "\n",
    "<u>Note</u>: One tricky part is I must skip full episodes shown on the page.  Full episodes contain no transcripts."
   ]
  },
  {
   "cell_type": "code",
   "execution_count": 2,
   "metadata": {
    "scrolled": true
   },
   "outputs": [
    {
     "name": "stdout",
     "output_type": "stream",
     "text": [
      "\n",
      "Page 1:\n",
      "\n",
      "News Wrap: Trump interviews Supreme Court candidates\n",
      "Elected in a landslide, can Mexico’s López Obrador deliver on dramatic promises?\n",
      "Will U.S.-Mexico policy tensions change under López Obrador?\n",
      "Yemen’s spiraling hunger crisis is a man-made disaster\n",
      "#LivingWhileBlack: How does racial bias lead to unnecessary calls to police?\n",
      "Amy Walter and Susan Page on Supreme Court stakes, ‘Abolish ICE’ politics\n",
      "The high-wire act of being vice president\n",
      "WATCH: White House declines to name Supreme Court candidates\n",
      "Mexico votes amid violence with hopes for change\n",
      "Vietnam-era cultural luminaries reunite and reflect on the power of protest\n",
      "Comedian Cameron Esposito tackles sexual assault in new special “Rape Jokes”\n",
      "Stiffer bonds keeping some migrant families apart longer\n",
      "Stockton’s young mayor giving city’s youth more opportunities\n",
      "News Wrap: Trump narrows list of potential Supreme Court nominees\n",
      "‘I didn’t know we could be separated’: Migrant teen has no idea when he will see his dad\n",
      "White House: Family separation executive order is ‘temporary reprieve,’ but immigration law ‘ties our hands’\n",
      "\n",
      "Page 2:\n",
      "\n",
      "In the middle of tragedy, Capital Gazette sticks to its mission\n",
      "EU’s migrant compromise leaves many unanswered questions\n",
      "Tapping national rage, Mexican election frontrunner promises to overturn the system\n",
      "Shields and Brooks on Trump’s Supreme Court politics, Ocasio-Cortez’s primary upset\n",
      "WATCH: Trump says attack on Capital Gazette newspaper ‘shocked conscience of the nation’\n",
      "Democrats warn rights are ‘on the line’ in coming Supreme Court fight\n",
      "News Wrap: Annapolis newspaper shooting suspect in custody\n",
      "Why Justice Kennedy’s final Supreme Court term is consequential\n",
      "Gillibrand: ‘America’s women need to speak out and stand up’ on Trump Supreme Court nominee\n",
      "The logistical hurdles hindering migrant family reunification\n",
      "How these Alabama architecture students are improving lives with low-cost home designs\n",
      "How a new aristocracy’s self-segregation puts stress on society\n",
      "Judd Apatow on missing Garry Shandling, being Adam Sandler’s roommate and family trips to Sephora\n",
      "WATCH: Trump lauds Foxconn groundbreaking, his economic agenda in Wisconsin\n",
      "WATCH: Rod Rosenstein and Christopher Wray testify before Congress on Russia probe\n",
      "What made Justice Anthony Kennedy an influential voice\n",
      "The most important qualities Trump will seek in a Justice Kennedy replacement\n",
      "News Wrap: Malta accepts stranded migrant ship, ending standstill\n",
      "\n",
      "Page 3:\n",
      "\n",
      "Without prior planning, Trump administration faces massive challenge to reunite migrant families\n",
      "Alexandria Ocasio-Cortez’s primary win shakes up Democratic expectations\n",
      "How we’ll remember Justice Kennedy’s Supreme Court impact\n",
      "Preserving the priceless manuscripts of Timbuktu\n",
      "‘Less’ author Andrew Sean Greer answers your questions\n",
      "After Supreme Court ruling, how does Trump’s travel ban affect U.S. immigration policy?\n",
      "News Wrap: House GOP readies for immigration bill vote\n",
      "Hirono: Immigrant detention ‘very reminiscent’ of Japanese-American internment during WWII\n",
      "China has a front-row seat to North Korea’s possible economic opening\n",
      "Public shaming of Trump officials sparks debate over protest and civility\n",
      "Can Easter Island’s treasures withstand storms of climate change?\n",
      "WATCH: Trump awards posthumous Medal of Honor to WWII soldier\n",
      "Trump’s travel ban upheld by Supreme Court, drawing heated reaction\n",
      "News Wrap: Funeral held for Antwon Rose, black teen killed by police officer\n",
      "Border security and legal asylum process not mutually inconsistent, Rep. Lance says\n",
      "Running for their lives was the only option for these migrants\n",
      "Erdogan consolidates control over Turkey with election win\n",
      "Supreme Court upholds Texas voting districts in racial gerrymandering case\n",
      "\n",
      "Page 4:\n",
      "\n",
      "How families of gun owners with dementia grapple with safety\n",
      "Susan Page and Stuart Rothenberg on Trump’s core supporters, GOP’s immigration options\n",
      "Donald Hall, 89, saw poetry as ‘school for feeling’\n",
      "WATCH: White House addresses civility debate amid outrage over immigration policies\n",
      "Amid outrage at family separations, Trump supporters dig in\n",
      "Violence interrupts peace talks in Nicaragua\n",
      "Tony Hawk turns 50 — and he has a trick for every year\n",
      "Rivals challenge Erdogan’s iron grip on eve of Turkey’s election\n",
      "Process of reunification ‘incredibly frustrating’ for immigrant families\n",
      "Philadelphia reverses course on ‘zero tolerance’ discipline in schools\n",
      "Democrats urge Trump to rescind ‘zero tolerance’ as GOP delays immigration vote\n",
      "News Wrap: 200 migrants stranded on a Mediterranean rescue ship\n",
      "Advocates say government gave no thought to reuniting children separated at the border\n",
      "What the Supreme Court’s cellphone location data ruling could mean for your digital privacy\n",
      "Saudi women are finally in the driver’s seat, but not of their own lives\n",
      "Shields and Brooks on family separation at the border, remembering Charles Krauthammer\n",
      "Crystal Bridges offers a world of art in Arkansas’ backyard\n",
      "\n",
      "Page 5:\n",
      "\n",
      "This music critic says it’s time to update our art consumption ethical standards\n",
      "WATCH: Trump pushes back against criticism of family separation\n",
      "More than 2,300 children still separated from parents as GOP wrestles with immigration fix\n",
      "News Wrap: States can enforce online sales tax, high court rules\n",
      "This judge hopes outrage over family separation is ‘last gasp’ of current immigration system\n",
      "Immigrant teens placed in Virginia detention facility say they were beaten while restrained, isolated for days\n",
      "Utah’s Navajo residents hope redistricting brings needed resources\n",
      "‘Journalists are our lifeblood,’ new Los Angeles Times owner says\n",
      "ESports mesmerize as traditional sports worry about decline\n",
      "Jackson Bird gets to be the transgender role model he needed as a kid\n",
      "WATCH: First lady Melania Trump visits migrant children at Texas immigrant holding center\n",
      "Trump makes abrupt about-face on family separation after intense pressure\n",
      "What asylum-seekers meet when they try to cross legally\n",
      "News Wrap: Trump administration asks judge to block California immigration laws\n",
      "Toddlers separated from parents ‘eerily quiet’ or inconsolable at one migrant shelter\n",
      "Migrants risk the dangerous trip to the U.S. because it’s safer than staying home\n",
      "What Trump rally supporters say about family separation\n",
      "How off-the-grid Navajo residents are getting running water\n"
     ]
    }
   ],
   "source": [
    "PAGE_NUM = 5 # How many pages to scrap\n",
    "\n",
    "url_dir = \"https://www.pbs.org/newshour/video/page/\"\n",
    "\n",
    "for i in range(1, PAGE_NUM+1):\n",
    "    print(f\"\\nPage {i}:\\n\")\n",
    "    \n",
    "    # Retrieving website data\n",
    "    page = urllib.request.urlopen(f\"{url_dir}{i}\")\n",
    "    page = BeautifulSoup(page)\n",
    "\n",
    "    # Display pulled video titles\n",
    "    videos = page.find(\"div\", {\"id\": \"all-videos\"})\n",
    "    videos = videos.findAll(\"article\", {\"class\": \"card-sm\"})\n",
    "    for video in videos:\n",
    "        is_full = video.find_all(text=re.compile('Full Episode'))\n",
    "        if len(is_full) == 1:\n",
    "            continue\n",
    "        video = video.find(\"a\", {\"class\": \"card-sm__title\"})\n",
    "        print(video.span.text)"
   ]
  },
  {
   "cell_type": "markdown",
   "metadata": {},
   "source": [
    "### Transcript scanning\n",
    "\n",
    "Once we arrive at a clip we want a few things: (1) page URL, this will be nice for debugging, (2) text stored under \"Story\", this is essentially the summary of the clip, (3) date and time, (4) video title, (5) transcript.  Let's attack each of these strategically.  It's important to note some clips don't have transcripts ([example](https://www.pbs.org/newshour/show/voices-from-sandy-madeleine-conway-breezy-point)) and some clips have blank transcripts ([example]())\n",
    "\n",
    "<u>Note</u>: It would also be nice to get video tags if that's availiable.  Such as politics, opinion, technology, etc."
   ]
  },
  {
   "cell_type": "markdown",
   "metadata": {},
   "source": [
    "#### 1.) Page URL\n",
    "\n",
    "We already have this info since we arrived at the proper page!"
   ]
  },
  {
   "cell_type": "markdown",
   "metadata": {},
   "source": [
    "#### 2.) \"Story\" text\n",
    "\n",
    "The structure seems to be...\n",
    "\n",
    "`<div id=\"story\">\n",
    "  <div class=\"body-text\">\n",
    "    <p>\n",
    "      OUR TEXT\n",
    "    </p>\n",
    "  </div>\n",
    "</div>`\n",
    "\n",
    "Other times it's stored as ([example](https://www.pbs.org/newshour/show/shields-and-brooks-on-trumps-supreme-court-politics-ocasio-cortezs-primary-upset))...\n",
    "\n",
    "`<div class=\"vt__excerpt body-text\">\n",
    "  <p>\n",
    "    OUR_TEXT\n",
    "  </p>\n",
    "</div>`"
   ]
  },
  {
   "cell_type": "markdown",
   "metadata": {},
   "source": [
    "#### 3.) Date and time\n",
    "\n",
    "This seems to be stored in a `<time> ... </time>` block.  I wasn't even aware this existed in HTML, hopefully it's unique for each clip page.\n",
    "\n",
    "This looks like it might need some formatting later, but let's worry about that then and just store it as a string for now."
   ]
  },
  {
   "cell_type": "markdown",
   "metadata": {},
   "source": [
    "#### 4.) Title\n",
    "\n",
    "We already have this as well.  It was stored next to the clip URL"
   ]
  },
  {
   "cell_type": "markdown",
   "metadata": {},
   "source": [
    "#### 5.) Transcript\n",
    "\n",
    "This might be the trickiest part as some don't have transcripts.  However the ones that do ([example](https://www.pbs.org/newshour/show/shields-and-brooks-on-trumps-supreme-court-politics-ocasio-cortezs-primary-upset)) are stored as...\n",
    "\n",
    "\n",
    "`\n",
    "    <ul class=\"video-transcript\">\n",
    "    <li>\n",
    "        <div>\n",
    "          <p><strong>SPEAKER_NAME</strong></p>\n",
    "          <p>SPEAKER_TEXT</p>\n",
    "          ...\n",
    "          <p>SPEAKER_TEXT</p>\n",
    "        </div>\n",
    "    </li>\n",
    "  </ul>\n",
    "`\n",
    "\n",
    "<u>Note</u>: Each `<li></li>` is an individual person talking\n",
    "\n",
    "Older videos ([example](https://www.pbs.org/newshour/show/troubles-for-the-holy-see-ahead-of-papal-elections)) seem to need a click on 'Transcripts' to unhid the text.  Also it seems possible to add `#story` and `#transcript` to the URL to get the information needed.  The transcript is stored differently as well.\n",
    "\n",
    "`\n",
    "    <div id=\"transcript\">\n",
    "    <ul class=\"video-transcript\">\n",
    "      <li>PERSON</li>\n",
    "    </ul>\n",
    "  </div>`\n",
    "\n",
    "This [clip](https://www.pbs.org/newshour/show/troubles-for-the-holy-see-ahead-of-papal-elections) also seems to make a mistake... one person's text carries over into the next `li`.  I think this can be rememdied by checking if a `<strong>` exists"
   ]
  },
  {
   "cell_type": "code",
   "execution_count": 2,
   "metadata": {
    "collapsed": true
   },
   "outputs": [],
   "source": [
    "def get_story(url):\n",
    "    page = urllib.request.urlopen(f\"{url}#story\")\n",
    "    page = BeautifulSoup(page)\n",
    "    \n",
    "    # Layout 1\n",
    "    story = page.find(\"div\", {\"id\": \"story\"})\n",
    "    if story is not None:\n",
    "        story = story.find(\"p\")\n",
    "        if story is not None:\n",
    "            return story.text\n",
    "    \n",
    "    # Layout 2\n",
    "    story = page.find(\"div\", {\"id\": \"transcript\"})\n",
    "    if story is not None:\n",
    "        story = story.find(\"div\", {\"class\": \"vt__excerpt body-text\"})\n",
    "        if story is not None:\n",
    "            story = story.find(\"p\")\n",
    "            if story is not None:\n",
    "                return story.text\n",
    "    \n",
    "    # Some clips don't have a summary story        \n",
    "    return None\n",
    "    \n",
    "def get_date(page):\n",
    "    date = page.find(\"time\").text\n",
    "    return date\n",
    "\n",
    "def get_comments(page):\n",
    "    comments = page.find(\"button\", {\"class\": \"comments__btn\"})\n",
    "    if comments is None:\n",
    "        return None\n",
    "    comments = comments.find(\"span\")\n",
    "    if comments is None:\n",
    "        return None\n",
    "    return comments.text\n",
    "\n",
    "def get_transcript(page):\n",
    "    speakers = set()\n",
    "    \n",
    "    transcript = page.find(\"div\", {\"id\": \"transcript\"})\n",
    "    \n",
    "    if transcript is None:\n",
    "        return None, None\n",
    "    \n",
    "    transcript = transcript.find_all(\"li\")\n",
    "    \n",
    "    speeches = list()\n",
    "    \n",
    "    for speech in transcript:\n",
    "        paragraphs = speech.find_all(\"p\")\n",
    "        text = list()\n",
    "        \n",
    "        if paragraphs[0].find(\"strong\") != None:\n",
    "            speaker = paragraphs[0].find(\"strong\").text.replace(\":\", \"\").split(\",\")[0]\n",
    "            \n",
    "            # This allows for some mistakes, see edge case (1) below\n",
    "#             if not speaker.isupper():\n",
    "#                 continue\n",
    "\n",
    "            speakers.add(speaker)\n",
    "            paragraphs = paragraphs[1:]\n",
    "            \n",
    "        for paragraph in paragraphs:\n",
    "            text.append(paragraph.text)\n",
    "            \n",
    "        speeches.append([speaker, text])\n",
    "        \n",
    "    return speakers, speeches\n",
    "\n",
    "def get_page_info(url):\n",
    "    page = urllib.request.urlopen(f\"{url}#transcript\")\n",
    "    page = BeautifulSoup(page)\n",
    "    \n",
    "    story = get_story(url)\n",
    "    date  = get_date(page)\n",
    "    speakers, transcript = get_transcript(page)\n",
    "    comments = get_comments(page)\n",
    "    \n",
    "    return story, date, transcript, speakers, comments"
   ]
  },
  {
   "cell_type": "markdown",
   "metadata": {},
   "source": [
    "### Edge cases:\n",
    "\n",
    "- 1.) Speakers need to be all caps and no titles (Ex: \"from the Washington Post\") ([link](https://www.pbs.org/newshour/show/brooks-and-marcus-on-gop-backlash-to-trump-and-cruz-clinton-sanders-practicality-debate))\n",
    "- 2.) Some clips don't have a transcript ([link](http://localhost:7000/notebooks/git/misc/in_progress/speech_pbs_scraping/transcripts.ipynb))\n",
    "- 3.) This page has many clips with broken links ([link](https://www.pbs.org/newshour/video/page/650))\n",
    "- 4.) Some clips have a story, but no transcript ([link](https://www.pbs.org/newshour/show/danica-patrick-inspires-families-to-the-racetrack))\n",
    "- 5.) This clip has a div for story, but no text ([link](https://www.pbs.org/newshour/show/news-wrap-russia-expels-diplomats-in-reprisal-against-u-s-and-others#story))\n",
    "\n",
    "\n",
    "### FIXME Check this:\n",
    "- ([link](https://www.pbs.org/newshour/show/gun-owning-group-in-oregon-advocates-for-firearm-safety))\n",
    "- ([link](https://www.pbs.org/newshour/show/what-happens-when-i-try-to-talk-race-with-white-people))\n",
    "\n",
    "It'd be nice if this used multiprocessing to speed this up!"
   ]
  },
  {
   "cell_type": "code",
   "execution_count": 3,
   "metadata": {
    "scrolled": false
   },
   "outputs": [
    {
     "name": "stderr",
     "output_type": "stream",
     "text": [
      "100%|██████████| 100/100 [1:25:17<00:00, 51.17s/it]\n"
     ]
    },
    {
     "data": {
      "text/html": [
       "<div>\n",
       "<style>\n",
       "    .dataframe thead tr:only-child th {\n",
       "        text-align: right;\n",
       "    }\n",
       "\n",
       "    .dataframe thead th {\n",
       "        text-align: left;\n",
       "    }\n",
       "\n",
       "    .dataframe tbody tr th {\n",
       "        vertical-align: top;\n",
       "    }\n",
       "</style>\n",
       "<table border=\"1\" class=\"dataframe\">\n",
       "  <thead>\n",
       "    <tr style=\"text-align: right;\">\n",
       "      <th></th>\n",
       "      <th>URL</th>\n",
       "      <th>Story</th>\n",
       "      <th>Date</th>\n",
       "      <th>Title</th>\n",
       "      <th>Transcript</th>\n",
       "      <th>Speakers</th>\n",
       "      <th>Number of Comments</th>\n",
       "    </tr>\n",
       "  </thead>\n",
       "  <tbody>\n",
       "    <tr>\n",
       "      <th>0</th>\n",
       "      <td>https://www.pbs.org/newshour/show/an-orlando-m...</td>\n",
       "      <td>Rubana Khan of Orlando, in heartfelt verse, se...</td>\n",
       "      <td>Jun 15, 2016 7:16 PM EDT</td>\n",
       "      <td>An Orlando Muslim’s heartfelt words on nightcl...</td>\n",
       "      <td>[[GWEN IFILL, [ We close tonight with a person...</td>\n",
       "      <td>{GWEN IFILL, RUBANA KHAN, JUDY WOODRUFF}</td>\n",
       "      <td>0</td>\n",
       "    </tr>\n",
       "    <tr>\n",
       "      <th>1</th>\n",
       "      <td>https://www.pbs.org/newshour/show/did-killer-o...</td>\n",
       "      <td>The investigation into the Orlando mass shooti...</td>\n",
       "      <td>Jun 14, 2016 7:36 PM EDT</td>\n",
       "      <td>New details of Orlando gunman’s life raise mor...</td>\n",
       "      <td>[[JUDY WOODRUFF, [ The search for answers in O...</td>\n",
       "      <td>{WILLIAM BRANGHAM, QUESTION, ANGEL COLON, KEVI...</td>\n",
       "      <td>0</td>\n",
       "    </tr>\n",
       "    <tr>\n",
       "      <th>2</th>\n",
       "      <td>https://www.pbs.org/newshour/show/news-wrap-tr...</td>\n",
       "      <td>In our news wrap Tuesday, presumptive GOP nomi...</td>\n",
       "      <td>Jun 14, 2016 7:35 PM EDT</td>\n",
       "      <td>News Wrap: Trump’s ‘Muslim ban’ draws sharp re...</td>\n",
       "      <td>[[JUDY WOODRUFF, [ Good evening. I’m Judy Wood...</td>\n",
       "      <td>{RIZWAN JAKA, Still to come on the “NewsHour”,...</td>\n",
       "      <td>0</td>\n",
       "    </tr>\n",
       "    <tr>\n",
       "      <th>3</th>\n",
       "      <td>https://www.pbs.org/newshour/show/its-the-weap...</td>\n",
       "      <td>The AR-15 is the most popular rifle in America...</td>\n",
       "      <td>Jun 14, 2016 7:34 PM EDT</td>\n",
       "      <td>It’s the weapon of choice for U.S. mass murder...</td>\n",
       "      <td>[[Editor’s note, [ This story focused on the A...</td>\n",
       "      <td>{PHILIP CARTER, GWEN IFILL, Editor’s note, JOH...</td>\n",
       "      <td>0</td>\n",
       "    </tr>\n",
       "    <tr>\n",
       "      <th>4</th>\n",
       "      <td>https://www.pbs.org/newshour/show/inside-russi...</td>\n",
       "      <td>For nearly a year, Russian hackers have been p...</td>\n",
       "      <td>Jun 14, 2016 7:33 PM EDT</td>\n",
       "      <td>Inside Russian hacking of Democrats’ oppositio...</td>\n",
       "      <td>[[GWEN IFILL, [ But, first: The Democratic Nat...</td>\n",
       "      <td>{GWEN IFILL, We get some insight on how this h...</td>\n",
       "      <td>0</td>\n",
       "    </tr>\n",
       "  </tbody>\n",
       "</table>\n",
       "</div>"
      ],
      "text/plain": [
       "                                                 URL  \\\n",
       "0  https://www.pbs.org/newshour/show/an-orlando-m...   \n",
       "1  https://www.pbs.org/newshour/show/did-killer-o...   \n",
       "2  https://www.pbs.org/newshour/show/news-wrap-tr...   \n",
       "3  https://www.pbs.org/newshour/show/its-the-weap...   \n",
       "4  https://www.pbs.org/newshour/show/inside-russi...   \n",
       "\n",
       "                                               Story  \\\n",
       "0  Rubana Khan of Orlando, in heartfelt verse, se...   \n",
       "1  The investigation into the Orlando mass shooti...   \n",
       "2  In our news wrap Tuesday, presumptive GOP nomi...   \n",
       "3  The AR-15 is the most popular rifle in America...   \n",
       "4  For nearly a year, Russian hackers have been p...   \n",
       "\n",
       "                       Date  \\\n",
       "0  Jun 15, 2016 7:16 PM EDT   \n",
       "1  Jun 14, 2016 7:36 PM EDT   \n",
       "2  Jun 14, 2016 7:35 PM EDT   \n",
       "3  Jun 14, 2016 7:34 PM EDT   \n",
       "4  Jun 14, 2016 7:33 PM EDT   \n",
       "\n",
       "                                               Title  \\\n",
       "0  An Orlando Muslim’s heartfelt words on nightcl...   \n",
       "1  New details of Orlando gunman’s life raise mor...   \n",
       "2  News Wrap: Trump’s ‘Muslim ban’ draws sharp re...   \n",
       "3  It’s the weapon of choice for U.S. mass murder...   \n",
       "4  Inside Russian hacking of Democrats’ oppositio...   \n",
       "\n",
       "                                          Transcript  \\\n",
       "0  [[GWEN IFILL, [ We close tonight with a person...   \n",
       "1  [[JUDY WOODRUFF, [ The search for answers in O...   \n",
       "2  [[JUDY WOODRUFF, [ Good evening. I’m Judy Wood...   \n",
       "3  [[Editor’s note, [ This story focused on the A...   \n",
       "4  [[GWEN IFILL, [ But, first: The Democratic Nat...   \n",
       "\n",
       "                                            Speakers Number of Comments  \n",
       "0           {GWEN IFILL, RUBANA KHAN, JUDY WOODRUFF}                  0  \n",
       "1  {WILLIAM BRANGHAM, QUESTION, ANGEL COLON, KEVI...                  0  \n",
       "2  {RIZWAN JAKA, Still to come on the “NewsHour”,...                  0  \n",
       "3  {PHILIP CARTER, GWEN IFILL, Editor’s note, JOH...                  0  \n",
       "4  {GWEN IFILL, We get some insight on how this h...                  0  "
      ]
     },
     "execution_count": 3,
     "metadata": {},
     "output_type": "execute_result"
    }
   ],
   "source": [
    "pbs_df = pd.DataFrame(columns = [\"URL\", \"Story\", \"Date\", \"Title\", \"Transcript\", \"Speakers\", \"Number of Comments\"])\n",
    "\n",
    "START    = 297    # Start at this page\n",
    "PAGE_NUM = 100    # How many pages to scrap\n",
    "url_dir = \"https://www.pbs.org/newshour/video/page/\"\n",
    "\n",
    "for i in tqdm(range(START, START+PAGE_NUM)):\n",
    "    \n",
    "    # Retrieving website data\n",
    "    page = urllib.request.urlopen(f\"{url_dir}{i}\")\n",
    "    page = BeautifulSoup(page)\n",
    "\n",
    "    # Display pulled video titles\n",
    "    videos = page.find(\"div\", {\"id\": \"all-videos\"})\n",
    "    videos = videos.findAll(\"article\", {\"class\": \"card-sm\"})\n",
    "    for video in videos:\n",
    "        is_full = video.find_all(text=re.compile('Full Episode'))\n",
    "        if len(is_full) == 1:\n",
    "            continue\n",
    "        video = video.find(\"a\", {\"class\": \"card-sm__title\"})\n",
    "        \n",
    "        url   = video[\"href\"]\n",
    "        title = video.span.text\n",
    "                \n",
    "        if url == \"https://www.pbs.org/newshour/show/0\":\n",
    "            continue\n",
    "        \n",
    "        if url.replace(\"https://www.pbs.org/newshour/\", \"\").split(\"/\")[0] in [\"politics\", \"nation\", \"world\"]:\n",
    "            continue\n",
    "        \n",
    "        try:\n",
    "            story, date, transcript, speakers, comments = get_page_info(url)\n",
    "\n",
    "            # Store info in df\n",
    "            row = [url, story, date, title, transcript, speakers, comments]\n",
    "            pbs_df.loc[len(pbs_df)] = row\n",
    "        except:\n",
    "            print(\"FAILED\")\n",
    "            print(url)\n",
    "            \n",
    "pbs_df.head()"
   ]
  },
  {
   "cell_type": "code",
   "execution_count": 4,
   "metadata": {},
   "outputs": [
    {
     "name": "stdout",
     "output_type": "stream",
     "text": [
      "Shape of PBS data: (1807, 7)\n"
     ]
    },
    {
     "data": {
      "text/plain": [
       "URL                     0\n",
       "Story                 199\n",
       "Date                    0\n",
       "Title                   0\n",
       "Transcript            147\n",
       "Speakers              147\n",
       "Number of Comments      0\n",
       "dtype: int64"
      ]
     },
     "execution_count": 4,
     "metadata": {},
     "output_type": "execute_result"
    }
   ],
   "source": [
    "print(f\"Shape of PBS data: {pbs_df.shape}\")\n",
    "pbs_df.isnull().sum()"
   ]
  },
  {
   "cell_type": "code",
   "execution_count": 10,
   "metadata": {},
   "outputs": [
    {
     "data": {
      "text/plain": [
       "0    1807\n",
       "Name: Number of Comments, dtype: int64"
      ]
     },
     "execution_count": 10,
     "metadata": {},
     "output_type": "execute_result"
    }
   ],
   "source": [
    "pbs_df[\"Number of Comments\"].value_counts()"
   ]
  },
  {
   "cell_type": "code",
   "execution_count": 9,
   "metadata": {},
   "outputs": [
    {
     "data": {
      "text/plain": [
       "URL                   https://www.pbs.org/newshour/show/growing-wild...\n",
       "Story                 At least 1,600 homes and buildings have burned...\n",
       "Date                                            May 7, 2016 4:38 PM EDT\n",
       "Title                 Growing wildfire in Canadian oil town displace...\n",
       "Transcript                                                           []\n",
       "Speakers                                                             {}\n",
       "Number of Comments                                                    0\n",
       "Name: 261, dtype: object"
      ]
     },
     "execution_count": 9,
     "metadata": {},
     "output_type": "execute_result"
    }
   ],
   "source": [
    "pbs_df.iloc[261]"
   ]
  },
  {
   "cell_type": "code",
   "execution_count": 6,
   "metadata": {},
   "outputs": [
    {
     "name": "stdout",
     "output_type": "stream",
     "text": [
      "16 []\n",
      "20 []\n",
      "261 []\n",
      "314 []\n",
      "408 []\n",
      "411 []\n",
      "463 []\n",
      "464 []\n",
      "492 []\n",
      "496 []\n",
      "610 []\n",
      "659 []\n",
      "661 []\n",
      "701 []\n",
      "748 []\n",
      "839 []\n",
      "841 []\n",
      "886 []\n",
      "887 []\n",
      "1029 []\n",
      "1104 []\n",
      "1105 []\n",
      "1129 []\n",
      "1149 []\n",
      "1150 []\n",
      "1151 []\n",
      "1152 []\n",
      "1183 []\n",
      "1320 []\n",
      "1440 []\n",
      "1442 []\n",
      "1443 []\n",
      "1593 []\n",
      "1767 []\n"
     ]
    }
   ],
   "source": [
    "for i, t in enumerate(list(pbs_df.Transcript)):\n",
    "    try:\n",
    "        if t is not None and len(t) < 1:\n",
    "            print(i, t)\n",
    "    except:\n",
    "        print(i)\n",
    "        break"
   ]
  },
  {
   "cell_type": "code",
   "execution_count": 21,
   "metadata": {},
   "outputs": [
    {
     "data": {
      "text/plain": [
       "URL                   https://www.pbs.org/newshour/science/watch-liv...\n",
       "Story                                                              None\n",
       "Date                  \\n                May 22, 2018 12:19 PM EDT\\n ...\n",
       "Title                 WATCH LIVE: Explosive eruption at Kilauea volc...\n",
       "Transcript                                                         None\n",
       "Speakers                                                           None\n",
       "Number of Comments                                                    0\n",
       "Name: 261, dtype: object"
      ]
     },
     "execution_count": 21,
     "metadata": {},
     "output_type": "execute_result"
    }
   ],
   "source": [
    "pbs_df.iloc[261]"
   ]
  },
  {
   "cell_type": "code",
   "execution_count": 11,
   "metadata": {
    "collapsed": true
   },
   "outputs": [],
   "source": [
    "pbs_df.to_csv(\"/Users/pbezuhov/Desktop/PBS_297-397.csv\", index=False)"
   ]
  },
  {
   "cell_type": "code",
   "execution_count": 53,
   "metadata": {
    "collapsed": true
   },
   "outputs": [],
   "source": [
    "import ast\n",
    "\n",
    "def string_literal(x):\n",
    "    if x is np.nan:\n",
    "        return np.nan\n",
    "    else:\n",
    "        try:\n",
    "            return ast.literal_eval(x)\n",
    "        except:\n",
    "            return x\n",
    "\n",
    "test = pd.read_csv(\"/Users/pbezuhov/Desktop/PBS_1-100.csv\")\n",
    "for col in [\"Transcript\", \"Story\", \"Speakers\"]:\n",
    "    test[col] = test[col].map(string_literal)"
   ]
  },
  {
   "cell_type": "code",
   "execution_count": 58,
   "metadata": {},
   "outputs": [
    {
     "data": {
      "text/plain": [
       "(1466, 7)"
      ]
     },
     "execution_count": 58,
     "metadata": {},
     "output_type": "execute_result"
    }
   ],
   "source": [
    "test.shape"
   ]
  },
  {
   "cell_type": "code",
   "execution_count": 60,
   "metadata": {},
   "outputs": [
    {
     "data": {
      "text/plain": [
       "[['HARI SREENIVASAN',\n",
       "  [' The Centers for Disease Control and Prevention has declared this year’s flu outbreak to be the worst on record since swine flu in 2009. And it only seems to be getting worse. Last week alone one in 15 doctors appointments in the United States was for the flu this week. Seven children died of the flu bringing the total for the season to thirty seven children. The CDC predicts there are still several weeks to go in the flu season. For some perspective I’m joined by Stephen Ferrara assistant professor of nursing at Columbia University Medical Center here in New York. What’s different about this year’s flu.']],\n",
       " ['STEPHEN FERRARA',\n",
       "  [' What we’re seeing this year is a lot of the strain of flu is H3N2 and that is a strain of influenza and this strain we know it tends to be more severe.']],\n",
       " ['HARI SREENIVASAN',\n",
       "  [' Earlier this year we heard that there was a low level of efficacy based on something that was happening in Australia. Clear that up for us.']],\n",
       " ['STEPHEN FERRARA',\n",
       "  [' Yeah. So report came out of Australia that the effectiveness of the vaccine was about 10 percent. Now we don’t have final numbers we don’t even have preliminary numbers here in the United States yet. What we believe are best guesstimate is about 30 percent. Somewhere about 30 percent effectiveness which by all means is still not perfect but better than what is being reported down in Australia.']],\n",
       " ['HARI SREENIVASAN',\n",
       "  [' Are there benefits even if you get the vaccine. And then you get the flu after it?']],\n",
       " ['STEPHEN FERRARA',\n",
       "  ['  Yes. What studies have shown is that those who do get the virus after getting vaccinated tend to not have a severe illness.']],\n",
       " ['HARI SREENIVASAN',\n",
       "  [' Are we working or are we any closer to a universal vaccine. So you know there’s not this guessing game time and again?']],\n",
       " ['STEPHEN FERRARA',\n",
       "  [' And again we’re working on it but we are years away from that being effective. We still grow the influenza virus predominantly in an egg protein what’s advantageous about that is that we’re able to produce a lot of vaccine. In fact this year 151 million doses have shipped.']],\n",
       " ['HARI SREENIVASAN',\n",
       "  [' One of the things that we don’t recognize very often is that the number of people who actually die of influenza every year. I mean just a few years ago it was pretty bad, Fifty six thousand people died in that year.']],\n",
       " ['STEPHEN FERRARA', [' Yeah.']],\n",
       " ['HARI SREENIVASAN',\n",
       "  [' Those are numbers that we talk about in terms of the opioid epidemic, car crashes.']],\n",
       " ['STEPHEN FERRARA',\n",
       "  [' That’s right. The flu is should be taken seriously. The best way to protect ourselves is through vaccination and really it’s not too late to get the influenza vaccine right now.']],\n",
       " ['HARI SREENIVASAN',\n",
       "  [' And that year there was also around 710,000 hospitalization. So it progresses pretty quickly if you feel like you are getting these symptoms what’s the best thing you can do. Are there medications that you can take once you’re in the middle of it?']],\n",
       " ['STEPHEN FERRARA',\n",
       "  [' There are antiviral medications that are available today that help to reduce the severity of the flu and the duration of it. Now this isn’t necessarily recommended for everyone but it’s recommended for those who would most likely develop severe complications from the flu. So those over 65 the young those who have diabetes or heart heart disease should definitely get those antiviral medications. And what’s most important is that the earlier the better. So really within those first 48 hours of symptoms is the ideal time to take those medications.']],\n",
       " ['HARI SREENIVASAN',\n",
       "  [' All right Steven from Columbia University thanks so much.']],\n",
       " ['STEPHEN FERRARA', [' Thank you.']]]"
      ]
     },
     "execution_count": 60,
     "metadata": {},
     "output_type": "execute_result"
    }
   ],
   "source": [
    "test.iloc[1000].Transcript"
   ]
  },
  {
   "cell_type": "code",
   "execution_count": 38,
   "metadata": {
    "collapsed": true
   },
   "outputs": [],
   "source": [
    "\n",
    "\n",
    "t = test.iloc[0].Transcript\n",
    "t = ast.literal_eval(t)"
   ]
  },
  {
   "cell_type": "code",
   "execution_count": null,
   "metadata": {
    "collapsed": true
   },
   "outputs": [],
   "source": []
  },
  {
   "cell_type": "code",
   "execution_count": null,
   "metadata": {
    "collapsed": true
   },
   "outputs": [],
   "source": []
  },
  {
   "cell_type": "code",
   "execution_count": null,
   "metadata": {
    "collapsed": true
   },
   "outputs": [],
   "source": []
  },
  {
   "cell_type": "code",
   "execution_count": null,
   "metadata": {
    "collapsed": true
   },
   "outputs": [],
   "source": []
  },
  {
   "cell_type": "code",
   "execution_count": null,
   "metadata": {
    "collapsed": true
   },
   "outputs": [],
   "source": []
  },
  {
   "cell_type": "code",
   "execution_count": null,
   "metadata": {
    "collapsed": true
   },
   "outputs": [],
   "source": []
  },
  {
   "cell_type": "code",
   "execution_count": null,
   "metadata": {
    "collapsed": true
   },
   "outputs": [],
   "source": []
  },
  {
   "cell_type": "code",
   "execution_count": null,
   "metadata": {
    "collapsed": true
   },
   "outputs": [],
   "source": []
  },
  {
   "cell_type": "code",
   "execution_count": null,
   "metadata": {
    "collapsed": true
   },
   "outputs": [],
   "source": []
  }
 ],
 "metadata": {
  "kernelspec": {
   "display_name": "Python 3",
   "language": "python",
   "name": "python3"
  },
  "language_info": {
   "codemirror_mode": {
    "name": "ipython",
    "version": 3
   },
   "file_extension": ".py",
   "mimetype": "text/x-python",
   "name": "python",
   "nbconvert_exporter": "python",
   "pygments_lexer": "ipython3",
   "version": "3.6.3"
  }
 },
 "nbformat": 4,
 "nbformat_minor": 2
}
