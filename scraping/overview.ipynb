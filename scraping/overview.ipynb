{
 "cells": [
  {
   "cell_type": "markdown",
   "metadata": {},
   "source": [
    "# This notebook takes the transcripts from clips of PBS Newshour\n",
    "\n",
    "This is a lot easier and works better than full episodes.  I can't find transcripts for full episodes which adds to their difficulty however a clip on PBS Newshour always has a transcript.  This is also a lot less data (text is less info than sound or video)."
   ]
  },
  {
   "cell_type": "markdown",
   "metadata": {},
   "source": [
    "### Imports"
   ]
  },
  {
   "cell_type": "code",
   "execution_count": 1,
   "metadata": {},
   "outputs": [],
   "source": [
    "import re\n",
    "import json\n",
    "\n",
    "### Removes warnings that occassionally show in imports\n",
    "import warnings\n",
    "warnings.filterwarnings('ignore')\n",
    "\n",
    "### Libraries for website scraping\n",
    "from bs4 import BeautifulSoup\n",
    "import urllib"
   ]
  },
  {
   "cell_type": "markdown",
   "metadata": {},
   "source": [
    "### Clips Timeline\n",
    "\n",
    "The [earliest clip](https://www.pbs.org/newshour/show/robert-macneil-and-jim-lehrer-and-the-watergate-hearings) is from Nixon's Watergate scandal in May 17 1973.\n",
    "\n",
    "- Unfortunately this clip does not have a transcript (the transcript is blank).  I have a feeling this might be common so our scraping should watch out for this.\n",
    " \n",
    "The early clips have quite a bit of pockets as the [tenth oldest clip](https://www.pbs.org/newshour/show/early-years-of-aids-deaths-fuel-fear) is from Sep 4 1985.  The [100th oldest clip](https://www.pbs.org/newshour/show/george-shultz-working-age-89) is relatively recent and is from Dec 16 2009."
   ]
  },
  {
   "cell_type": "markdown",
   "metadata": {},
   "source": [
    "### Scraping Structure\n",
    "\n",
    "#### Page iteration\n",
    "\n",
    "We should first iterate over each page of clips.  The url for each page is https://www.pbs.org/newshour/video/page/<strong>PAGE_NUMBER</strong>.  As of typing, there are 980 pages of clips.  The videos for each page appear to be stored in `<div id=\"all-videos\"> ... </div>`.  Of course the link to each clip is stored in a `<a href=\"URL\"> ... </a>` block.  This is very convenient!\n",
    "\n",
    "<u>Note</u>: One tricky part is I must skip full episodes shown on the page.  Full episodes contain no transcripts."
   ]
  },
  {
   "cell_type": "code",
   "execution_count": 2,
   "metadata": {
    "scrolled": true
   },
   "outputs": [
    {
     "name": "stdout",
     "output_type": "stream",
     "text": [
      "\n",
      "Page 1:\n",
      "\n",
      "U.S. launched second drone airstrike against ISIS-K\n",
      "Ida: Louisiana braces for impact as evacuations continue\n",
      "‘Anti-LGBT ideology zones’ are being enacted in Polish towns\n",
      "U.S. launches air strike in response to Kabul airport attack, ahead of full withdrawal\n",
      "The challenge of retrofitting millions of aging homes to battle global warming\n",
      "Gulf Coast preps for Ida landfall, possibly a Category 4 storm\n",
      "As Afghans bury those killed in Kabul attack, sense of abandonment and anger at U.S. rises\n",
      "Comparing strategies and challenges of evacuating Afghanistan with Vietnam exit\n",
      "News Wrap: Florida judge reverses DeSantis order banning school mask mandates\n",
      "As 1.2 million households face eviction, only 11% of federal rental assistance distributed\n",
      "Brooks and Capehart on Kabul attack, Jan. 6 investigation, voting rights\n",
      "Paralympic athletes to watch in Tokyo\n",
      "In ‘Flag Day,’ Sean and Dylan Penn aim to break cinema’s ‘three thought rule’\n",
      "WATCH: New Orleans officials give news briefing on Tropical Storm Ida\n",
      "WATCH: Jen Psaki holds White House news briefing\n",
      "WATCH: White House COVID task force holds news briefing\n",
      "WATCH: Pentagon officials hold news briefing following deadly Kabul attacks\n",
      "\n",
      "Page 2:\n",
      "\n",
      "Biden vows to ‘hunt’ ISIS-K as evacuations continue amid Kabul blast chaos\n",
      "Analyzing the risk to U.S. troops remaining in Afghanistan until Aug. 31\n",
      "News Wrap: COVID could claim 100,000 more U.S. lives by end of 2021\n",
      "Despite rise in delta cases, U.S. police forces pushback against vaccine mandates\n",
      "African nations struggle with vaccine access, public mistrust and disinformation\n",
      "Texas’ homeless suffer due to lack of public housing as public camping is criminalized\n",
      "WATCH: Jen Psaki gives White House news briefing following explosions outside Kabul airport\n",
      "WATCH: Biden gives remarks following explosions outside Kabul airport\n",
      "WATCH: Pentagon spokesperson John Kirby and Gen. Frank McKenzie hold briefing on Afghanistan\n",
      "Afghanistan evacuees wait hours in the heat due to bottleneck backlog at Kabul airport\n",
      "Can the U.S. safely evacuate Afghanistan by the Aug. 31 deadline? Two experts weigh in\n",
      "News Wrap: WHO says its search for COVID origins has stalled due to cold trail\n",
      "Biden promised humane immigration at the southern border. Did he deliver?\n",
      "What to know about the eviction moratorium as it nears expiration again\n",
      "When will young children be eligible for the COVID vaccine? An expert weighs in\n",
      "How apprenticeships can bridge the employment gap for workers without college degrees\n",
      "WATCH: Jen Psaki holds White House briefing on Afghanistan evacuations\n",
      "WATCH: Blinken gives remarks on Americans remaining in Afghanistan\n",
      "\n",
      "Page 3:\n",
      "\n",
      "WATCH: Pentagon says troops, gear the priority in final days\n",
      "WATCH: House passes bill bolstering landmark voting law\n",
      "Does the U.S. have any leverage with the Taliban?\n",
      "As Afghan women see shrinking public spaces, one activist reveals how the world can help\n",
      "News Wrap: White House urges businesses, states to mandate vaccines\n",
      "Why moderate Democrats opposed Pelosi’s plans for two major spending bills\n",
      "Health workers face ‘indescribable’ mental, physical exhaustion as COVID fills hospitals\n",
      "10 days after devastating Haiti earthquake, many survivors finally get medical attention\n",
      "Lessons from Bill Pinkney’s historic solo sail around the world\n",
      "A Brief But Spectacular take on embracing refugees to build a stronger society\n",
      "WATCH: Pentagon says several days needed for Afghan pullout\n",
      "WATCH: Fauci urges hospitals use more antibody treatments for patients infected with COVID\n",
      "WATCH: Jen Psaki holds White House news briefing\n",
      "WATCH: Biden keeps to Aug. 31 Kabul evacuation deadline despite criticism\n",
      "Dr. Fauci on Pfizer vaccine’s FDA approval, approving Moderna and Johnson & Johnson shots\n",
      "News Wrap: Capitol Police shooting of Jan. 6 rioter Ashli Babbitt found ‘lawful’\n",
      "Major flooding leaves 22 dead in Tennessee amid devastating ‘loss and heartache’\n",
      "Afghan children get left behind, go missing amid chaos at Kabul’s airport\n",
      "\n",
      "Page 4:\n",
      "\n",
      "U.S. has no clear bureaucratic plan for Afghan evacuees\n",
      "Errin Haines and Lisa Lerer on Afghanistan evacuations, infrastructure debate\n",
      "Black men trust their barbers. A Madison barbershop is using that to improve their health\n",
      "How America’s writers are joining forces in hopes to bridge divides\n",
      "WATCH: Pentagon’s John Kirby and Gen. Steve Lyons hold briefing amid Afghanistan pullout\n",
      "WATCH: Psaki says Americans are not ‘stranded’ in Afghanistan\n",
      "WATCH: Biden hails Pfizer’s full approval by the FDA\n",
      "WATCH: Andrew Cuomo gives farewell address after resignation as New York governor\n",
      "WATCH: Pentagon’s John Kirby and Gen. Hank Taylor hold briefing as Afghanistan exit continues\n",
      "WATCH: FDA gives full approval to Pfizer COVID-19 vaccine\n",
      "Two years after Newark’s water crisis, the city has cleaned up its act\n",
      "COVID-19 boosters shots ‘a tough balance’ for FDA, epidemiologists\n",
      "Haiti reels from latest setback as hurricane relief efforts continue\n",
      "Afghans desperately try to flee; U.S. evacuation continues\n",
      "COVID-19 surge: Why we need more data on breakthrough infections\n",
      "Frustrated by ill-prepared evacuation plan, anxious Afghans rush airport gates\n",
      "News Wrap: FDA to grant full approval to Pfizer’s COVID vaccine next week\n",
      "\n",
      "Page 5:\n",
      "\n",
      "The U.S. ignored corruption within the Afghan government. Did that lead to its fall?\n",
      "Examining the politicization of school mask mandates in Florida’s Broward County\n",
      "Gerson and Capehart on Afghanistan, school mask mandates\n",
      "WATCH: Pentagon to hold briefing amid evacuations in Afghanistan\n",
      "WATCH: NATO commits to improving operations at Kabul airport\n",
      "WATCH: Biden pledges to Americans in Kabul ‘we will get you home’\n",
      "Thousands of Afghans can’t access the airport. Those who can recall Taliban threats, abuse\n",
      "Evacuating Afghans who helped U.S. a ‘high priority,’ national security official says\n",
      "What went wrong in the U.S. withdrawal from Afghanistan? Two lawmakers weigh in\n",
      "News Wrap: Man behind Capitol bomb threat surrenders after 5 hour police standoff\n",
      "Texas doctor urges vaccines amid ‘dire shortage’ of health workers, ICU beds\n",
      "‘Nearly every acre’ in California has potential to burn, state fire official warns\n",
      "A dancer and choreographer’s Brief But Spectacular take on communicating through movement\n",
      "WATCH: Arkansas Gov. Hutchinson holds press briefing amid COVID spike\n",
      "WATCH: State Department’s Ned Price says U.S. struggling to speed Kabul airlift amid hurdles\n",
      "WATCH: Man surrenders after claiming to have bomb near Capitol\n",
      "WATCH: Pentagon says 7,000 civilians taken out of Kabul amid Afghanistan evacuations\n",
      "Chaos, cries for help outside Kabul airport as Taliban crack down on protesters\n"
     ]
    }
   ],
   "source": [
    "PAGE_NUM = 5 # How many pages to scrap\n",
    "\n",
    "url_dir = \"https://www.pbs.org/newshour/video/page/\"\n",
    "\n",
    "for i in range(1, PAGE_NUM+1):\n",
    "    print(f\"\\nPage {i}:\\n\")\n",
    "    \n",
    "    # Retrieving website data\n",
    "    page = urllib.request.urlopen(f\"{url_dir}{i}\")\n",
    "    page = BeautifulSoup(page)\n",
    "\n",
    "    # Display pulled video titles\n",
    "    videos = page.find(\"div\", {\"id\": \"all-videos\"})\n",
    "    videos = videos.findAll(\"article\", {\"class\": \"card-sm\"})\n",
    "    for video in videos:\n",
    "        is_full = video.find_all(text=re.compile('Full Episode'))\n",
    "        if len(is_full) == 1:\n",
    "            continue\n",
    "        video = video.find(\"a\", {\"class\": \"card-sm__title\"})\n",
    "        print(video.span.text)"
   ]
  },
  {
   "cell_type": "markdown",
   "metadata": {},
   "source": [
    "### Transcript scanning\n",
    "\n",
    "Once we arrive at a clip we want a few things: (1) page URL, this will be nice for debugging, (2) text stored under \"Story\", this is essentially the summary of the clip, (3) date and time, (4) video title, (5) transcript.  Let's attack each of these strategically.  It's important to note some clips don't have transcripts ([example](https://www.pbs.org/newshour/show/voices-from-sandy-madeleine-conway-breezy-point)) and some clips have blank transcripts ([example]())\n",
    "\n",
    "<u>Note</u>: It would also be nice to get video tags if that's availiable.  Such as politics, opinion, technology, etc."
   ]
  },
  {
   "cell_type": "markdown",
   "metadata": {},
   "source": [
    "#### 1.) Page URL\n",
    "\n",
    "We already have this info since we arrived at the proper page!"
   ]
  },
  {
   "cell_type": "markdown",
   "metadata": {},
   "source": [
    "#### 2.) \"Story\" text\n",
    "\n",
    "The structure seems to be...\n",
    "\n",
    "`<div id=\"story\">\n",
    "  <div class=\"body-text\">\n",
    "    <p>\n",
    "      OUR TEXT\n",
    "    </p>\n",
    "  </div>\n",
    "</div>`\n",
    "\n",
    "Other times it's stored as ([example](https://www.pbs.org/newshour/show/shields-and-brooks-on-trumps-supreme-court-politics-ocasio-cortezs-primary-upset))...\n",
    "\n",
    "`<div class=\"vt__excerpt body-text\">\n",
    "  <p>\n",
    "    OUR_TEXT\n",
    "  </p>\n",
    "</div>`"
   ]
  },
  {
   "cell_type": "markdown",
   "metadata": {},
   "source": [
    "#### 3.) Date and time\n",
    "\n",
    "This seems to be stored in a `<time> ... </time>` block.  I wasn't even aware this existed in HTML, hopefully it's unique for each clip page.\n",
    "\n",
    "This looks like it might need some formatting later, but let's worry about that then and just store it as a string for now."
   ]
  },
  {
   "cell_type": "markdown",
   "metadata": {},
   "source": [
    "#### 4.) Title\n",
    "\n",
    "We already have this as well.  It was stored next to the clip URL"
   ]
  },
  {
   "cell_type": "markdown",
   "metadata": {},
   "source": [
    "#### 5.) Transcript\n",
    "\n",
    "This might be the trickiest part as some don't have transcripts.  However the ones that do ([example](https://www.pbs.org/newshour/show/shields-and-brooks-on-trumps-supreme-court-politics-ocasio-cortezs-primary-upset)) are stored as...\n",
    "\n",
    "\n",
    "`\n",
    "    <ul class=\"video-transcript\">\n",
    "    <li>\n",
    "        <div>\n",
    "          <p><strong>SPEAKER_NAME</strong></p>\n",
    "          <p>SPEAKER_TEXT</p>\n",
    "          ...\n",
    "          <p>SPEAKER_TEXT</p>\n",
    "        </div>\n",
    "    </li>\n",
    "  </ul>\n",
    "`\n",
    "\n",
    "<u>Note</u>: Each `<li></li>` is an individual person talking\n",
    "\n",
    "Older videos ([example](https://www.pbs.org/newshour/show/troubles-for-the-holy-see-ahead-of-papal-elections)) seem to need a click on 'Transcripts' to unhid the text.  Also it seems possible to add `#story` and `#transcript` to the URL to get the information needed.  The transcript is stored differently as well.\n",
    "\n",
    "`\n",
    "    <div id=\"transcript\">\n",
    "    <ul class=\"video-transcript\">\n",
    "      <li>PERSON</li>\n",
    "    </ul>\n",
    "  </div>`\n",
    "\n",
    "This [clip](https://www.pbs.org/newshour/show/troubles-for-the-holy-see-ahead-of-papal-elections) also seems to make a mistake... one person's text carries over into the next `li`.  I think this can be rememdied by checking if a `<strong>` exists"
   ]
  },
  {
   "cell_type": "markdown",
   "metadata": {},
   "source": [
    "### Edge cases:\n",
    "\n",
    "- 1.) Speakers need to be all caps and no titles (Ex: \"from the Washington Post\") ([link](https://www.pbs.org/newshour/show/brooks-and-marcus-on-gop-backlash-to-trump-and-cruz-clinton-sanders-practicality-debate))\n",
    "- 2.) Some clips don't have a transcript ([link](http://localhost:7000/notebooks/git/misc/in_progress/speech_pbs_scraping/transcripts.ipynb))\n",
    "- 3.) This page has many clips with broken links ([link](https://www.pbs.org/newshour/video/page/650))\n",
    "- 4.) Some clips have a story, but no transcript ([link](https://www.pbs.org/newshour/show/danica-patrick-inspires-families-to-the-racetrack))\n",
    "- 5.) This clip has a div for story, but no text ([link](https://www.pbs.org/newshour/show/news-wrap-russia-expels-diplomats-in-reprisal-against-u-s-and-others#story))\n",
    "\n",
    "\n",
    "### FIXME Check this:\n",
    "- no comments allowed ([link](https://www.pbs.org/newshour/show/gun-owning-group-in-oregon-advocates-for-firearm-safety))\n",
    "- no comments allowed ([link](https://www.pbs.org/newshour/show/what-happens-when-i-try-to-talk-race-with-white-people))\n",
    "- comment testing here ([link](https://www.pbs.org/newshour/show/report-top-facebook-apps-lack-privacy-protection)).  It doesn't appear the number by comments reflects the current number of comments.\n",
    "\n",
    "### Broken links\n",
    "- [link](https://www.pbs.org/newshour/show/improving-achievement-with-focus-on-scholarly-expectations), [link](https://www.pbs.org/newshour/show/greece-russia-dominate-g-7-summit-2-day-talks), [link](https://www.pbs.org/newshour/show/teen-flees-somalia-plans-to-return-as-doctor), [link](https://www.pbs.org/newshour/show/sec-sebelius-defends-the-ipab), [link](https://www.pbs.org/newshour/show/plumpy-nut-the-peanut-paste-that-could-save-millions), [link](https://www.pbs.org/newshour/show/the-doubleheader-switcheroos-occupy-opportunity-world-series-picks), [link](https://www.pbs.org/newshour/show/inside-softball-press-politicians-play-for-good-cause), [link](https://www.pbs.org/newshour/show/introduction-to-cocorahs)"
   ]
  },
  {
   "cell_type": "markdown",
   "metadata": {},
   "source": [
    "### Check downloaded data\n",
    "\n",
    "Using the `download.py` script, we were able to obtain all the transcripts with the methods mentioned here. Let's inspect one of the news stories and see what it looks like"
   ]
  },
  {
   "cell_type": "code",
   "execution_count": 3,
   "metadata": {},
   "outputs": [
    {
     "data": {
      "text/html": [
       "<div>\n",
       "<style scoped>\n",
       "    .dataframe tbody tr th:only-of-type {\n",
       "        vertical-align: middle;\n",
       "    }\n",
       "\n",
       "    .dataframe tbody tr th {\n",
       "        vertical-align: top;\n",
       "    }\n",
       "\n",
       "    .dataframe thead th {\n",
       "        text-align: right;\n",
       "    }\n",
       "</style>\n",
       "<table border=\"1\" class=\"dataframe\">\n",
       "  <thead>\n",
       "    <tr style=\"text-align: right;\">\n",
       "      <th></th>\n",
       "      <th>url</th>\n",
       "      <th>story</th>\n",
       "      <th>date</th>\n",
       "      <th>title</th>\n",
       "      <th>transcript</th>\n",
       "      <th>speakers</th>\n",
       "    </tr>\n",
       "  </thead>\n",
       "  <tbody>\n",
       "    <tr>\n",
       "      <th>0</th>\n",
       "      <td>https://www.pbs.org/newshour/show/african-nati...</td>\n",
       "      <td>Record numbers of COVID-19 cases are being rep...</td>\n",
       "      <td>Aug 26, 2021 6:35 PM EDT</td>\n",
       "      <td>African nations struggle with vaccine access, ...</td>\n",
       "      <td>[[Amna Nawaz, [The Delta variant is ravaging t...</td>\n",
       "      <td>[Asumpta Bahenda, Strive Masiyiwa, Patrick Mak...</td>\n",
       "    </tr>\n",
       "  </tbody>\n",
       "</table>\n",
       "</div>"
      ],
      "text/plain": [
       "                                                 url  \\\n",
       "0  https://www.pbs.org/newshour/show/african-nati...   \n",
       "\n",
       "                                               story  \\\n",
       "0  Record numbers of COVID-19 cases are being rep...   \n",
       "\n",
       "                       date  \\\n",
       "0  Aug 26, 2021 6:35 PM EDT   \n",
       "\n",
       "                                               title  \\\n",
       "0  African nations struggle with vaccine access, ...   \n",
       "\n",
       "                                          transcript  \\\n",
       "0  [[Amna Nawaz, [The Delta variant is ravaging t...   \n",
       "\n",
       "                                            speakers  \n",
       "0  [Asumpta Bahenda, Strive Masiyiwa, Patrick Mak...  "
      ]
     },
     "execution_count": 3,
     "metadata": {},
     "output_type": "execute_result"
    }
   ],
   "source": [
    "fp = \"/Users/pbezuhov/Desktop/pbs/1/african-nations-struggle-with-vaccine-access-public-mistrust-and-disinformation.json\"\n",
    "with open(fp, \"r\") as f:\n",
    "    data = json.load(f)\n",
    "\n",
    "import pandas as pd\n",
    "pd.DataFrame([data])"
   ]
  },
  {
   "cell_type": "code",
   "execution_count": 4,
   "metadata": {},
   "outputs": [
    {
     "data": {
      "text/plain": [
       "'Record numbers of COVID-19 cases are being reported across Africa as the delta variant pushes hospitals to a breaking point. ICU beds and oxygen are in desperately short supply, vaccines are increasingly scarce and according to the World Health Organization, there’s little hope even 10% of Africans will get a shot before 2021 ends. Special correspondent Isabel Nakirya reports from Kampala, Uganda.'"
      ]
     },
     "execution_count": 4,
     "metadata": {},
     "output_type": "execute_result"
    }
   ],
   "source": [
    "data[\"story\"]"
   ]
  },
  {
   "cell_type": "code",
   "execution_count": 5,
   "metadata": {},
   "outputs": [
    {
     "data": {
      "text/plain": [
       "[['Amna Nawaz',\n",
       "  ['The Delta variant is ravaging the continent of Africa. ICU beds and oxygen are in desperately short supply. Vaccines are increasingly scarce, with less than 10 percent of people expected to be vaccinated by the end of the year.',\n",
       "   'Special correspondent Isabel Nakirya in Kampala, Uganda.']],\n",
       " ['Isabel Nakirya',\n",
       "  ['Asumpta Bahenda has been trying to wash away her near death experience for two months now. She suffered from a severe case of COVID-19 in June.']],\n",
       " ['Asumpta Bahenda', ['I started feeling like I was going to die.']],\n",
       " ['Isabel Nakirya',\n",
       "  ['An ambulance evacuated her more than 170 miles from Western Uganda to the capital, Kampala, but finding a bed in a hospital was almost impossible.',\n",
       "   'With damaged lungs, Asumpta needed immediate admission to an ICU. When she finally found a bed in a private hospital, oxygen was in short supply.']],\n",
       " ['Asumpta Bahenda',\n",
       "  [\"There's a moment where they were rationing oxygen. They come and remove the oxygen from you and take it to somebody else who's struggling.\"]]]"
      ]
     },
     "execution_count": 5,
     "metadata": {},
     "output_type": "execute_result"
    }
   ],
   "source": [
    "data[\"transcript\"][:5]  # First 5 lines of transcript"
   ]
  },
  {
   "cell_type": "markdown",
   "metadata": {},
   "source": [
    "### Next steps: Processing\n",
    "\n",
    "I like keeping a copy of the raw data before processing it.\n",
    "\n",
    "There's a lot to be done such as formatting times, speakers, removing any errors in the transcripts, and sorting the dataframe.  However I'll fo that in a new notebook"
   ]
  }
 ],
 "metadata": {
  "kernelspec": {
   "display_name": "Python 3",
   "language": "python",
   "name": "python3"
  },
  "language_info": {
   "codemirror_mode": {
    "name": "ipython",
    "version": 3
   },
   "file_extension": ".py",
   "mimetype": "text/x-python",
   "name": "python",
   "nbconvert_exporter": "python",
   "pygments_lexer": "ipython3",
   "version": "3.8.5"
  }
 },
 "nbformat": 4,
 "nbformat_minor": 2
}
