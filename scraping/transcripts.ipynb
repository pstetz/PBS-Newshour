{
 "cells": [
  {
   "cell_type": "markdown",
   "metadata": {},
   "source": [
    "# This notebook takes the transcripts from clips of PBS Newshour\n",
    "\n",
    "This is a lot easier and works better than full episodes.  I can't find transcripts for full episodes which adds to their difficulty however a clip on PBS Newshour always has a transcript.  This is also a lot less data (text is less info than sound or video)."
   ]
  },
  {
   "cell_type": "markdown",
   "metadata": {},
   "source": [
    "### Imports"
   ]
  },
  {
   "cell_type": "code",
   "execution_count": 2,
   "metadata": {
    "collapsed": true
   },
   "outputs": [],
   "source": [
    "### Removes warnings that occassionally show in imports\n",
    "import warnings\n",
    "warnings.filterwarnings('ignore')\n",
    "\n",
    "### Libraries for website scraping\n",
    "from bs4 import BeautifulSoup\n",
    "import requests\n",
    "import urllib\n",
    "\n",
    "### Standard imports\n",
    "import pandas as pd\n",
    "import numpy as np\n",
    "\n",
    "%run transcript.py"
   ]
  },
  {
   "cell_type": "markdown",
   "metadata": {},
   "source": [
    "### Clips Timeline\n",
    "\n",
    "The [earliest clip](https://www.pbs.org/newshour/show/robert-macneil-and-jim-lehrer-and-the-watergate-hearings) is from Nixon's Watergate scandal in May 17 1973.\n",
    "\n",
    "- Unfortunately this clip does not have a transcript (the transcript is blank).  I have a feeling this might be common so our scraping should watch out for this.\n",
    " \n",
    "The early clips have quite a bit of pockets as the [tenth oldest clip](https://www.pbs.org/newshour/show/early-years-of-aids-deaths-fuel-fear) is from Sep 4 1985.  The [100th oldest clip](https://www.pbs.org/newshour/show/george-shultz-working-age-89) is relatively recent and is from Dec 16 2009."
   ]
  },
  {
   "cell_type": "markdown",
   "metadata": {},
   "source": [
    "### Scraping Structure\n",
    "\n",
    "#### Page iteration\n",
    "\n",
    "We should first iterate over each page of clips.  The url for each page is https://www.pbs.org/newshour/video/page/<strong>PAGE_NUMBER</strong>.  As of typing, there are 980 pages of clips.  The videos for each page appear to be stored in `<div id=\"all-videos\"> ... </div>`.  Of course the link to each clip is stored in a `<a href=\"URL\"> ... </a>` block.  This is very convenient!\n",
    "\n",
    "<u>Note</u>: One tricky part is I must skip full episodes shown on the page.  Full episodes contain no transcripts."
   ]
  },
  {
   "cell_type": "code",
   "execution_count": 3,
   "metadata": {
    "scrolled": true
   },
   "outputs": [
    {
     "name": "stdout",
     "output_type": "stream",
     "text": [
      "\n",
      "Page 1:\n",
      "\n",
      "News Wrap: Trump interviews Supreme Court candidates\n",
      "Elected by a landslide, can Mexico’s López Obrador deliver on dramatic promises?\n",
      "Will U.S.-Mexico policy tensions change under López Obrador?\n",
      "Yemen’s spiraling hunger crisis is a man-made disaster\n",
      "#LivingWhileBlack: How does racial bias lead to unnecessary calls to police?\n",
      "Amy Walter and Susan Page on Supreme Court stakes, ‘Abolish ICE’ politics\n",
      "The high-wire act of being vice president\n",
      "WATCH: White House declines to name Supreme Court candidates\n",
      "Mexico votes amid violence with hopes for change\n",
      "Vietnam-era cultural luminaries reunite and reflect on the power of protest\n",
      "Comedian Cameron Esposito tackles sexual assault in new special “Rape Jokes”\n",
      "Stiffer bonds keeping some migrant families apart longer\n",
      "Stockton’s young mayor giving city’s youth more opportunities\n",
      "News Wrap: Trump narrows list of potential Supreme Court nominees\n",
      "‘I didn’t know we could be separated’: Migrant teen has no idea when he will see his dad\n",
      "White House: Family separation executive order is ‘temporary reprieve,’ but immigration law ‘ties our hands’\n",
      "\n",
      "Page 2:\n",
      "\n",
      "In the middle of tragedy, Capital Gazette sticks to its mission\n",
      "EU’s migrant compromise leaves many unanswered questions\n",
      "Tapping national rage, Mexican election frontrunner promises to overturn the system\n",
      "Shields and Brooks on Trump’s Supreme Court politics, Ocasio-Cortez’s primary upset\n",
      "WATCH: Trump says attack on Capital Gazette newspaper ‘shocked conscience of the nation’\n",
      "Democrats warn rights are ‘on the line’ in coming Supreme Court fight\n",
      "News Wrap: Annapolis newspaper shooting suspect in custody\n",
      "Why Justice Kennedy’s final Supreme Court term is consequential\n",
      "Gillibrand: ‘America’s women need to speak out and stand up’ on Trump Supreme Court nominee\n",
      "The logistical hurdles hindering migrant family reunification\n",
      "How these Alabama architecture students are improving lives with low-cost home designs\n",
      "How a new aristocracy’s self-segregation puts stress on society\n",
      "Judd Apatow on missing Garry Shandling, being Adam Sandler’s roommate and family trips to Sephora\n",
      "WATCH: Trump lauds Foxconn groundbreaking, his economic agenda in Wisconsin\n",
      "WATCH: Rod Rosenstein and Christopher Wray testify before Congress on Russia probe\n",
      "What made Justice Anthony Kennedy an influential voice\n",
      "The most important qualities Trump will seek in a Justice Kennedy replacement\n",
      "News Wrap: Malta accepts stranded migrant ship, ending standstill\n",
      "\n",
      "Page 3:\n",
      "\n",
      "Without prior planning, Trump administration faces massive challenge to reunite migrant families\n",
      "Alexandria Ocasio-Cortez’s primary win shakes up Democratic expectations\n",
      "How we’ll remember Justice Kennedy’s Supreme Court impact\n",
      "Preserving the priceless manuscripts of Timbuktu\n",
      "‘Less’ author Andrew Sean Greer answers your questions\n",
      "After Supreme Court ruling, how does Trump’s travel ban affect U.S. immigration policy?\n",
      "News Wrap: House GOP readies for immigration bill vote\n",
      "Hirono: Immigrant detention ‘very reminiscent’ of Japanese-American internment during WWII\n",
      "China has a front-row seat to North Korea’s possible economic opening\n",
      "Public shaming of Trump officials sparks debate over protest and civility\n",
      "Can Easter Island’s treasures withstand storms of climate change?\n",
      "WATCH: Trump awards posthumous Medal of Honor to WWII soldier\n",
      "Trump’s travel ban upheld by Supreme Court, drawing heated reaction\n",
      "News Wrap: Funeral held for Antwon Rose, black teen killed by police officer\n",
      "Border security and legal asylum process not mutually inconsistent, Rep. Lance says\n",
      "Running for their lives was the only option for these migrants\n",
      "Erdogan consolidates control over Turkey with election win\n",
      "Supreme Court upholds Texas voting districts in racial gerrymandering case\n",
      "\n",
      "Page 4:\n",
      "\n",
      "How families of gun owners with dementia grapple with safety\n",
      "Susan Page and Stuart Rothenberg on Trump’s core supporters, GOP’s immigration options\n",
      "Donald Hall, 89, saw poetry as ‘school for feeling’\n",
      "WATCH: White House addresses civility debate amid outrage over immigration policies\n",
      "Amid outrage at family separations, Trump supporters dig in\n",
      "Violence interrupts peace talks in Nicaragua\n",
      "Tony Hawk turns 50 — and he has a trick for every year\n",
      "Rivals challenge Erdogan’s iron grip on eve of Turkey’s election\n",
      "Process of reunification ‘incredibly frustrating’ for immigrant families\n",
      "Philadelphia reverses course on ‘zero tolerance’ discipline in schools\n",
      "Democrats urge Trump to rescind ‘zero tolerance’ as GOP delays immigration vote\n",
      "News Wrap: 200 migrants stranded on a Mediterranean rescue ship\n",
      "Advocates say government gave no thought to reuniting children separated at the border\n",
      "What the Supreme Court’s cellphone location data ruling could mean for your digital privacy\n",
      "Saudi women are finally in the driver’s seat, but not of their own lives\n",
      "Shields and Brooks on family separation at the border, remembering Charles Krauthammer\n",
      "Crystal Bridges offers a world of art in Arkansas’ backyard\n",
      "\n",
      "Page 5:\n",
      "\n",
      "This music critic says it’s time to update our art consumption ethical standards\n",
      "WATCH: Trump pushes back against criticism of family separation\n",
      "More than 2,300 children still separated from parents as GOP wrestles with immigration fix\n",
      "News Wrap: States can enforce online sales tax, high court rules\n",
      "This judge hopes outrage over family separation is ‘last gasp’ of current immigration system\n",
      "Immigrant teens placed in Virginia detention facility say they were beaten while restrained, isolated for days\n",
      "Utah’s Navajo residents hope redistricting brings needed resources\n",
      "‘Journalists are our lifeblood,’ new Los Angeles Times owner says\n",
      "ESports mesmerize as traditional sports worry about decline\n",
      "Jackson Bird gets to be the transgender role model he needed as a kid\n",
      "WATCH: First lady Melania Trump visits migrant children at Texas immigrant holding center\n",
      "Trump makes abrupt about-face on family separation after intense pressure\n",
      "What asylum-seekers meet when they try to cross legally\n",
      "News Wrap: Trump administration asks judge to block California immigration laws\n",
      "Toddlers separated from parents ‘eerily quiet’ or inconsolable at one migrant shelter\n",
      "Migrants risk the dangerous trip to the U.S. because it’s safer than staying home\n",
      "What Trump rally supporters say about family separation\n",
      "How off-the-grid Navajo residents are getting running water\n"
     ]
    }
   ],
   "source": [
    "PAGE_NUM = 5 # How many pages to scrap\n",
    "\n",
    "url_dir = \"https://www.pbs.org/newshour/video/page/\"\n",
    "\n",
    "for i in range(1, PAGE_NUM+1):\n",
    "    print(f\"\\nPage {i}:\\n\")\n",
    "    \n",
    "    # Retrieving website data\n",
    "    page = urllib.request.urlopen(f\"{url_dir}{i}\")\n",
    "    page = BeautifulSoup(page)\n",
    "\n",
    "    # Display pulled video titles\n",
    "    videos = page.find(\"div\", {\"id\": \"all-videos\"})\n",
    "    videos = videos.findAll(\"article\", {\"class\": \"card-sm\"})\n",
    "    for video in videos:\n",
    "        is_full = video.find_all(text=re.compile('Full Episode'))\n",
    "        if len(is_full) == 1:\n",
    "            continue\n",
    "        video = video.find(\"a\", {\"class\": \"card-sm__title\"})\n",
    "        print(video.span.text)"
   ]
  },
  {
   "cell_type": "markdown",
   "metadata": {},
   "source": [
    "### Transcript scanning\n",
    "\n",
    "Once we arrive at a clip we want a few things: (1) page URL, this will be nice for debugging, (2) text stored under \"Story\", this is essentially the summary of the clip, (3) date and time, (4) video title, (5) transcript.  Let's attack each of these strategically.  It's important to note some clips don't have transcripts ([example](https://www.pbs.org/newshour/show/voices-from-sandy-madeleine-conway-breezy-point)) and some clips have blank transcripts ([example]())\n",
    "\n",
    "<u>Note</u>: It would also be nice to get video tags if that's availiable.  Such as politics, opinion, technology, etc."
   ]
  },
  {
   "cell_type": "markdown",
   "metadata": {},
   "source": [
    "#### 1.) Page URL\n",
    "\n",
    "We already have this info since we arrived at the proper page!"
   ]
  },
  {
   "cell_type": "markdown",
   "metadata": {},
   "source": [
    "#### 2.) \"Story\" text\n",
    "\n",
    "The structure seems to be...\n",
    "\n",
    "`<div id=\"story\">\n",
    "  <div class=\"body-text\">\n",
    "    <p>\n",
    "      OUR TEXT\n",
    "    </p>\n",
    "  </div>\n",
    "</div>`\n",
    "\n",
    "Other times it's stored as ([example](https://www.pbs.org/newshour/show/shields-and-brooks-on-trumps-supreme-court-politics-ocasio-cortezs-primary-upset))...\n",
    "\n",
    "`<div class=\"vt__excerpt body-text\">\n",
    "  <p>\n",
    "    OUR_TEXT\n",
    "  </p>\n",
    "</div>`"
   ]
  },
  {
   "cell_type": "markdown",
   "metadata": {},
   "source": [
    "#### 3.) Date and time\n",
    "\n",
    "This seems to be stored in a `<time> ... </time>` block.  I wasn't even aware this existed in HTML, hopefully it's unique for each clip page.\n",
    "\n",
    "This looks like it might need some formatting later, but let's worry about that then and just store it as a string for now."
   ]
  },
  {
   "cell_type": "markdown",
   "metadata": {},
   "source": [
    "#### 4.) Title\n",
    "\n",
    "We already have this as well.  It was stored next to the clip URL"
   ]
  },
  {
   "cell_type": "markdown",
   "metadata": {},
   "source": [
    "#### 5.) Transcript\n",
    "\n",
    "This might be the trickiest part as some don't have transcripts.  However the ones that do ([example](https://www.pbs.org/newshour/show/shields-and-brooks-on-trumps-supreme-court-politics-ocasio-cortezs-primary-upset)) are stored as...\n",
    "\n",
    "\n",
    "`\n",
    "    <ul class=\"video-transcript\">\n",
    "    <li>\n",
    "        <div>\n",
    "          <p><strong>SPEAKER_NAME</strong></p>\n",
    "          <p>SPEAKER_TEXT</p>\n",
    "          ...\n",
    "          <p>SPEAKER_TEXT</p>\n",
    "        </div>\n",
    "    </li>\n",
    "  </ul>\n",
    "`\n",
    "\n",
    "<u>Note</u>: Each `<li></li>` is an individual person talking\n",
    "\n",
    "Older videos ([example](https://www.pbs.org/newshour/show/troubles-for-the-holy-see-ahead-of-papal-elections)) seem to need a click on 'Transcripts' to unhid the text.  Also it seems possible to add `#story` and `#transcript` to the URL to get the information needed.  The transcript is stored differently as well.\n",
    "\n",
    "`\n",
    "    <div id=\"transcript\">\n",
    "    <ul class=\"video-transcript\">\n",
    "      <li>PERSON</li>\n",
    "    </ul>\n",
    "  </div>`\n",
    "\n",
    "This [clip](https://www.pbs.org/newshour/show/troubles-for-the-holy-see-ahead-of-papal-elections) also seems to make a mistake... one person's text carries over into the next `li`.  I think this can be rememdied by checking if a `<strong>` exists"
   ]
  },
  {
   "cell_type": "markdown",
   "metadata": {},
   "source": [
    "### Edge cases:\n",
    "\n",
    "- 1.) Speakers need to be all caps and no titles (Ex: \"from the Washington Post\") ([link](https://www.pbs.org/newshour/show/brooks-and-marcus-on-gop-backlash-to-trump-and-cruz-clinton-sanders-practicality-debate))\n",
    "- 2.) Some clips don't have a transcript ([link](http://localhost:7000/notebooks/git/misc/in_progress/speech_pbs_scraping/transcripts.ipynb))\n",
    "- 3.) This page has many clips with broken links ([link](https://www.pbs.org/newshour/video/page/650))\n",
    "- 4.) Some clips have a story, but no transcript ([link](https://www.pbs.org/newshour/show/danica-patrick-inspires-families-to-the-racetrack))\n",
    "- 5.) This clip has a div for story, but no text ([link](https://www.pbs.org/newshour/show/news-wrap-russia-expels-diplomats-in-reprisal-against-u-s-and-others#story))\n",
    "\n",
    "\n",
    "### FIXME Check this:\n",
    "- no comments allowed ([link](https://www.pbs.org/newshour/show/gun-owning-group-in-oregon-advocates-for-firearm-safety))\n",
    "- no comments allowed ([link](https://www.pbs.org/newshour/show/what-happens-when-i-try-to-talk-race-with-white-people))\n",
    "- comment testing here ([link](https://www.pbs.org/newshour/show/report-top-facebook-apps-lack-privacy-protection)).  It doesn't appear the number by comments reflects the current number of comments.\n",
    "\n",
    "### Broken links\n",
    "- [link](https://www.pbs.org/newshour/show/improving-achievement-with-focus-on-scholarly-expectations), [link](https://www.pbs.org/newshour/show/greece-russia-dominate-g-7-summit-2-day-talks), [link](https://www.pbs.org/newshour/show/teen-flees-somalia-plans-to-return-as-doctor), [link](https://www.pbs.org/newshour/show/sec-sebelius-defends-the-ipab), [link](https://www.pbs.org/newshour/show/plumpy-nut-the-peanut-paste-that-could-save-millions), [link](https://www.pbs.org/newshour/show/the-doubleheader-switcheroos-occupy-opportunity-world-series-picks), [link](https://www.pbs.org/newshour/show/inside-softball-press-politicians-play-for-good-cause), [link](https://www.pbs.org/newshour/show/introduction-to-cocorahs)"
   ]
  },
  {
   "cell_type": "code",
   "execution_count": 3,
   "metadata": {
    "scrolled": false
   },
   "outputs": [
    {
     "ename": "NameError",
     "evalue": "name 'mlt' is not defined",
     "output_type": "error",
     "traceback": [
      "\u001b[0;31m---------------------------------------------------------------------------\u001b[0m",
      "\u001b[0;31mNameError\u001b[0m                                 Traceback (most recent call last)",
      "\u001b[0;32m<ipython-input-3-9de7c8c13e69>\u001b[0m in \u001b[0;36m<module>\u001b[0;34m()\u001b[0m\n\u001b[1;32m      4\u001b[0m \u001b[0mTHREADS\u001b[0m  \u001b[0;34m=\u001b[0m \u001b[0;36m5\u001b[0m\u001b[0;34m\u001b[0m\u001b[0m\n\u001b[1;32m      5\u001b[0m \u001b[0;34m\u001b[0m\u001b[0m\n\u001b[0;32m----> 6\u001b[0;31m \u001b[0mpbs_df\u001b[0m \u001b[0;34m=\u001b[0m \u001b[0mscrap_threading\u001b[0m\u001b[0;34m(\u001b[0m\u001b[0murl_dir\u001b[0m\u001b[0;34m,\u001b[0m \u001b[0mTHREADS\u001b[0m\u001b[0;34m,\u001b[0m \u001b[0mSTART\u001b[0m\u001b[0;34m,\u001b[0m \u001b[0mDURATION\u001b[0m\u001b[0;34m)\u001b[0m\u001b[0;34m\u001b[0m\u001b[0m\n\u001b[0m\u001b[1;32m      7\u001b[0m \u001b[0mpbs_df\u001b[0m \u001b[0;34m=\u001b[0m \u001b[0mjoin_mlt_df\u001b[0m\u001b[0;34m(\u001b[0m\u001b[0mpbs_df\u001b[0m\u001b[0;34m)\u001b[0m\u001b[0;34m\u001b[0m\u001b[0m\n\u001b[1;32m      8\u001b[0m \u001b[0;34m\u001b[0m\u001b[0m\n",
      "\u001b[0;32m~/git/PBS-Newshour/scraping/transcript.py\u001b[0m in \u001b[0;36mscrap_threading\u001b[0;34m(url_dir, THREADS, START, DURATION)\u001b[0m\n\u001b[1;32m    129\u001b[0m \u001b[0;31m### A multiprocessing threading\u001b[0m\u001b[0;34m\u001b[0m\u001b[0;34m\u001b[0m\u001b[0m\n\u001b[1;32m    130\u001b[0m \u001b[0;32mdef\u001b[0m \u001b[0mscrap_threading\u001b[0m\u001b[0;34m(\u001b[0m\u001b[0murl_dir\u001b[0m\u001b[0;34m,\u001b[0m \u001b[0mTHREADS\u001b[0m\u001b[0;34m,\u001b[0m \u001b[0mSTART\u001b[0m\u001b[0;34m,\u001b[0m \u001b[0mDURATION\u001b[0m\u001b[0;34m)\u001b[0m\u001b[0;34m:\u001b[0m\u001b[0;34m\u001b[0m\u001b[0m\n\u001b[0;32m--> 131\u001b[0;31m     \u001b[0mmanager\u001b[0m \u001b[0;34m=\u001b[0m \u001b[0mmlt\u001b[0m\u001b[0;34m.\u001b[0m\u001b[0mManager\u001b[0m\u001b[0;34m(\u001b[0m\u001b[0;34m)\u001b[0m\u001b[0;34m\u001b[0m\u001b[0m\n\u001b[0m\u001b[1;32m    132\u001b[0m     \u001b[0mdf_dict\u001b[0m \u001b[0;34m=\u001b[0m \u001b[0mmanager\u001b[0m\u001b[0;34m.\u001b[0m\u001b[0mdict\u001b[0m\u001b[0;34m(\u001b[0m\u001b[0;34m)\u001b[0m\u001b[0;34m\u001b[0m\u001b[0m\n\u001b[1;32m    133\u001b[0m     \u001b[0mjobs\u001b[0m \u001b[0;34m=\u001b[0m \u001b[0;34m[\u001b[0m\u001b[0;34m]\u001b[0m\u001b[0;34m\u001b[0m\u001b[0m\n",
      "\u001b[0;31mNameError\u001b[0m: name 'mlt' is not defined"
     ]
    }
   ],
   "source": [
    "START    = 1     # Start at this page\n",
    "DURATION = 5   # How many pages to scrap\n",
    "url_dir  = \"https://www.pbs.org/newshour/video/page/\"\n",
    "THREADS  = 5\n",
    "\n",
    "pbs_df = scrap_threading(url_dir, THREADS, START, DURATION)\n",
    "pbs_df = join_mlt_df(pbs_df)\n",
    "\n",
    "pbs_df.head()"
   ]
  },
  {
   "cell_type": "code",
   "execution_count": 47,
   "metadata": {},
   "outputs": [
    {
     "name": "stdout",
     "output_type": "stream",
     "text": [
      "Shape of PBS data: (17617, 7)\n"
     ]
    },
    {
     "data": {
      "text/plain": [
       "URL                      0\n",
       "Story                 2159\n",
       "Date                     0\n",
       "Title                    0\n",
       "Transcript            2925\n",
       "Speakers              2925\n",
       "Number of Comments       1\n",
       "dtype: int64"
      ]
     },
     "execution_count": 47,
     "metadata": {},
     "output_type": "execute_result"
    }
   ],
   "source": [
    "print(f\"Shape of PBS data: {pbs_df.shape}\")\n",
    "pbs_df.isnull().sum()"
   ]
  },
  {
   "cell_type": "markdown",
   "metadata": {},
   "source": [
    "### Save data to a CSV\n",
    "\n",
    "I like keeping a copy of the raw data before processing it.\n",
    "\n",
    "There's a lot to be done such as formatting times, speakers, and removing any errors in the transcripts.  However I'll fo that in a new notebook and save the results to a new CSV."
   ]
  },
  {
   "cell_type": "code",
   "execution_count": 53,
   "metadata": {
    "collapsed": true
   },
   "outputs": [],
   "source": [
    "pbs_df.to_csv(\"data/PBS_full_unedited.csv\", index=False)"
   ]
  },
  {
   "cell_type": "code",
   "execution_count": null,
   "metadata": {
    "collapsed": true
   },
   "outputs": [],
   "source": []
  }
 ],
 "metadata": {
  "kernelspec": {
   "display_name": "Python 3",
   "language": "python",
   "name": "python3"
  },
  "language_info": {
   "codemirror_mode": {
    "name": "ipython",
    "version": 3
   },
   "file_extension": ".py",
   "mimetype": "text/x-python",
   "name": "python",
   "nbconvert_exporter": "python",
   "pygments_lexer": "ipython3",
   "version": "3.6.3"
  }
 },
 "nbformat": 4,
 "nbformat_minor": 2
}
