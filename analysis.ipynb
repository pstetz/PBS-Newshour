{
 "cells": [
  {
   "cell_type": "markdown",
   "metadata": {},
   "source": [
    "<a id=\"toc\"></a>\n",
    "\n",
    "# <u>Table of Contents</u>\n",
    "\n",
    "1.) [Setup](#setup)  \n",
    "&nbsp;&nbsp;&nbsp;&nbsp; 1.1.) [Imports](#imports)   \n",
    "&nbsp;&nbsp;&nbsp;&nbsp; 1.2.) [Helpers](#helpers)   \n",
    "&nbsp;&nbsp;&nbsp;&nbsp; 1.3.) [Load data](#load)   \n",
    "2.) [Datetime](#datetime)  \n",
    "3.) [Speakers](#speakers)  \n",
    "4.) [Transcript](#transcript)  \n",
    "5.) [Save to CSV](#save)  "
   ]
  },
  {
   "cell_type": "markdown",
   "metadata": {},
   "source": [
    "---\n",
    "<a id=\"setup\"></a>\n",
    "\n",
    "# [^](#toc) <u>Setup</u>"
   ]
  },
  {
   "cell_type": "markdown",
   "metadata": {},
   "source": [
    "<a id=\"imports\"></a>\n",
    "\n",
    "### [^](#toc) Standard imports"
   ]
  },
  {
   "cell_type": "code",
   "execution_count": 5,
   "metadata": {
    "collapsed": true
   },
   "outputs": [],
   "source": [
    "### Standard imports\n",
    "import pandas as pd\n",
    "import numpy as np\n",
    "pd.options.display.max_columns = 50\n",
    "\n",
    "### Regex and datetime\n",
    "import re\n",
    "import datetime\n",
    "\n",
    "# Helps convert String representation of list into a list\n",
    "import ast\n",
    "\n",
    "### Removes warnings that occassionally show in imports\n",
    "import warnings\n",
    "warnings.filterwarnings('ignore')"
   ]
  },
  {
   "cell_type": "markdown",
   "metadata": {},
   "source": [
    "### Visualization imports"
   ]
  },
  {
   "cell_type": "code",
   "execution_count": 6,
   "metadata": {},
   "outputs": [
    {
     "data": {
      "text/html": [
       "<script>requirejs.config({paths: { 'plotly': ['https://cdn.plot.ly/plotly-latest.min']},});if(!window.Plotly) {{require(['plotly'],function(plotly) {window.Plotly=plotly;});}}</script>"
      ],
      "text/vnd.plotly.v1+html": [
       "<script>requirejs.config({paths: { 'plotly': ['https://cdn.plot.ly/plotly-latest.min']},});if(!window.Plotly) {{require(['plotly'],function(plotly) {window.Plotly=plotly;});}}</script>"
      ]
     },
     "metadata": {},
     "output_type": "display_data"
    }
   ],
   "source": [
    "### Standard imports\n",
    "import matplotlib.pyplot as plt\n",
    "import seaborn as sns\n",
    "%matplotlib inline\n",
    "sns.set()\n",
    "\n",
    "### Altair\n",
    "import altair as alt\n",
    "alt.renderers.enable('notebook')\n",
    "\n",
    "### Plotly\n",
    "from plotly.offline import init_notebook_mode, iplot\n",
    "import plotly.graph_objs as go\n",
    "import plotly.plotly as py\n",
    "from plotly import tools\n",
    "init_notebook_mode(connected=True)\n",
    "\n",
    "# WordCloud\n",
    "from wordcloud import WordCloud\n",
    "\n",
    "# Folium\n",
    "import folium"
   ]
  },
  {
   "cell_type": "markdown",
   "metadata": {},
   "source": [
    "<a id=\"helpers\"></a>\n",
    "\n",
    "### [^](#toc) Helpers"
   ]
  },
  {
   "cell_type": "code",
   "execution_count": 7,
   "metadata": {
    "collapsed": true
   },
   "outputs": [],
   "source": [
    "def string_literal(x):\n",
    "    try:\n",
    "        return ast.literal_eval(x)\n",
    "    except:\n",
    "        return x\n",
    "    \n",
    "# A short hand way to plot most bar graphs\n",
    "def pretty_bar(data, ax, xlabel=None, ylabel=None, title=None, int_text=False, x=None, y=None):\n",
    "    \n",
    "    if x is None:\n",
    "        x = data.values\n",
    "    if y is None:\n",
    "        y = data.index\n",
    "    \n",
    "    # Plots the data\n",
    "    fig = sns.barplot(x, y, ax=ax)\n",
    "    \n",
    "    # Places text for each value in data\n",
    "    for i, v in enumerate(x):\n",
    "        \n",
    "        # Decides whether the text should be rounded or left as floats\n",
    "        if int_text:\n",
    "            ax.text(0, i, int(v), color='k', fontsize=14)\n",
    "        else:\n",
    "            ax.text(0, i, round(v, 3), color='k', fontsize=14)\n",
    "     \n",
    "    ### Labels plot\n",
    "    ylabel != None and fig.set(ylabel=ylabel)\n",
    "    xlabel != None and fig.set(xlabel=xlabel)\n",
    "    title != None and fig.set(title=title)\n",
    "    \n",
    "### Used to style Python print statements\n",
    "class color:\n",
    "    BOLD = '\\033[1m'\n",
    "    UNDERLINE = '\\033[4m'\n",
    "    END = '\\033[0m'"
   ]
  },
  {
   "cell_type": "markdown",
   "metadata": {},
   "source": [
    "<a id=\"load\"></a>\n",
    "\n",
    "### [^](#toc) Load data"
   ]
  },
  {
   "cell_type": "code",
   "execution_count": 4,
   "metadata": {},
   "outputs": [
    {
     "name": "stdout",
     "output_type": "stream",
     "text": [
      "Shape of df: (17617, 7)\n"
     ]
    },
    {
     "data": {
      "text/html": [
       "<div>\n",
       "<style>\n",
       "    .dataframe thead tr:only-child th {\n",
       "        text-align: right;\n",
       "    }\n",
       "\n",
       "    .dataframe thead th {\n",
       "        text-align: left;\n",
       "    }\n",
       "\n",
       "    .dataframe tbody tr th {\n",
       "        vertical-align: top;\n",
       "    }\n",
       "</style>\n",
       "<table border=\"1\" class=\"dataframe\">\n",
       "  <thead>\n",
       "    <tr style=\"text-align: right;\">\n",
       "      <th></th>\n",
       "      <th>URL</th>\n",
       "      <th>Story</th>\n",
       "      <th>Date</th>\n",
       "      <th>Title</th>\n",
       "      <th>Transcript</th>\n",
       "      <th>Speakers</th>\n",
       "      <th>Number of Comments</th>\n",
       "    </tr>\n",
       "  </thead>\n",
       "  <tbody>\n",
       "    <tr>\n",
       "      <th>0</th>\n",
       "      <td>https://www.pbs.org/newshour/show/news-wrap-tr...</td>\n",
       "      <td>In our news wrap Monday, President Trump's sea...</td>\n",
       "      <td>Jul 2, 2018 6:50 PM EDT</td>\n",
       "      <td>News Wrap: Trump interviews Supreme Court cand...</td>\n",
       "      <td>[[Judy Woodruff, [ President Trump’s search fo...</td>\n",
       "      <td>{President Donald Trump, Man (through translat...</td>\n",
       "      <td>0.0</td>\n",
       "    </tr>\n",
       "    <tr>\n",
       "      <th>1</th>\n",
       "      <td>https://www.pbs.org/newshour/show/elected-in-a...</td>\n",
       "      <td>Mexican president-elect Andrés Manuel López Ob...</td>\n",
       "      <td>Jul 2, 2018 6:45 PM EDT</td>\n",
       "      <td>Elected by a landslide, can Mexico’s López Obr...</td>\n",
       "      <td>[[Judy Woodruff, [ After two previous runs for...</td>\n",
       "      <td>{Alfonso Romo, Diana Mercado (through translat...</td>\n",
       "      <td>0.0</td>\n",
       "    </tr>\n",
       "    <tr>\n",
       "      <th>2</th>\n",
       "      <td>https://www.pbs.org/newshour/show/will-u-s-mex...</td>\n",
       "      <td>There are enormous expectations facing the new...</td>\n",
       "      <td>Jul 2, 2018 6:43 PM EDT</td>\n",
       "      <td>Will U.S.-Mexico policy tensions change under ...</td>\n",
       "      <td>[[Judy Woodruff, [ And now perspective from fo...</td>\n",
       "      <td>{Judy Woodruff, Roberta Jacobson}</td>\n",
       "      <td>0.0</td>\n",
       "    </tr>\n",
       "    <tr>\n",
       "      <th>3</th>\n",
       "      <td>https://www.pbs.org/newshour/show/yemens-spira...</td>\n",
       "      <td>One of the poorest countries in the Middle Eas...</td>\n",
       "      <td>Jul 2, 2018 6:40 PM EDT</td>\n",
       "      <td>Yemen’s spiraling hunger crisis is a man-made ...</td>\n",
       "      <td>[[Judy Woodruff, [ The “NewsHour” has reported...</td>\n",
       "      <td>{Naimi (through translator), Yahya Al-Habbari,...</td>\n",
       "      <td>0.0</td>\n",
       "    </tr>\n",
       "    <tr>\n",
       "      <th>4</th>\n",
       "      <td>https://www.pbs.org/newshour/show/livingwhileb...</td>\n",
       "      <td>A profusion of national incidents in which whi...</td>\n",
       "      <td>Jul 2, 2018 6:35 PM EDT</td>\n",
       "      <td>#LivingWhileBlack: How does racial bias lead t...</td>\n",
       "      <td>[[Judy Woodruff, [ A number of recent incident...</td>\n",
       "      <td>{Woman, Derrick Johnson, Judy Woodruff, Howard...</td>\n",
       "      <td>0.0</td>\n",
       "    </tr>\n",
       "  </tbody>\n",
       "</table>\n",
       "</div>"
      ],
      "text/plain": [
       "                                                 URL  \\\n",
       "0  https://www.pbs.org/newshour/show/news-wrap-tr...   \n",
       "1  https://www.pbs.org/newshour/show/elected-in-a...   \n",
       "2  https://www.pbs.org/newshour/show/will-u-s-mex...   \n",
       "3  https://www.pbs.org/newshour/show/yemens-spira...   \n",
       "4  https://www.pbs.org/newshour/show/livingwhileb...   \n",
       "\n",
       "                                               Story                     Date  \\\n",
       "0  In our news wrap Monday, President Trump's sea...  Jul 2, 2018 6:50 PM EDT   \n",
       "1  Mexican president-elect Andrés Manuel López Ob...  Jul 2, 2018 6:45 PM EDT   \n",
       "2  There are enormous expectations facing the new...  Jul 2, 2018 6:43 PM EDT   \n",
       "3  One of the poorest countries in the Middle Eas...  Jul 2, 2018 6:40 PM EDT   \n",
       "4  A profusion of national incidents in which whi...  Jul 2, 2018 6:35 PM EDT   \n",
       "\n",
       "                                               Title  \\\n",
       "0  News Wrap: Trump interviews Supreme Court cand...   \n",
       "1  Elected by a landslide, can Mexico’s López Obr...   \n",
       "2  Will U.S.-Mexico policy tensions change under ...   \n",
       "3  Yemen’s spiraling hunger crisis is a man-made ...   \n",
       "4  #LivingWhileBlack: How does racial bias lead t...   \n",
       "\n",
       "                                          Transcript  \\\n",
       "0  [[Judy Woodruff, [ President Trump’s search fo...   \n",
       "1  [[Judy Woodruff, [ After two previous runs for...   \n",
       "2  [[Judy Woodruff, [ And now perspective from fo...   \n",
       "3  [[Judy Woodruff, [ The “NewsHour” has reported...   \n",
       "4  [[Judy Woodruff, [ A number of recent incident...   \n",
       "\n",
       "                                            Speakers  Number of Comments  \n",
       "0  {President Donald Trump, Man (through translat...                 0.0  \n",
       "1  {Alfonso Romo, Diana Mercado (through translat...                 0.0  \n",
       "2                  {Judy Woodruff, Roberta Jacobson}                 0.0  \n",
       "3  {Naimi (through translator), Yahya Al-Habbari,...                 0.0  \n",
       "4  {Woman, Derrick Johnson, Judy Woodruff, Howard...                 0.0  "
      ]
     },
     "execution_count": 4,
     "metadata": {},
     "output_type": "execute_result"
    }
   ],
   "source": [
    "dateparse = lambda x: pd.datetime.strptime(x, \"%Y-%m-%d %H:%M:%S+%f\")\n",
    "\n",
    "traffic = pd.read_csv(\"data/web_traffic.csv\", parse_dates=['Date'], date_parser=dateparse)\n",
    "\n",
    "df = pd.read_csv(\"data/PBS_full_unedited.csv\")\n",
    "for col in [\"Transcript\", \"Story\", \"Speakers\"]:\n",
    "    df[col] = df[col].map(string_literal)\n",
    "    \n",
    "print(\"Shape of df:\", df.shape)\n",
    "df.head()"
   ]
  },
  {
   "cell_type": "code",
   "execution_count": null,
   "metadata": {
    "collapsed": true
   },
   "outputs": [],
   "source": []
  },
  {
   "cell_type": "code",
   "execution_count": null,
   "metadata": {
    "collapsed": true
   },
   "outputs": [],
   "source": []
  },
  {
   "cell_type": "code",
   "execution_count": null,
   "metadata": {
    "collapsed": true
   },
   "outputs": [],
   "source": []
  },
  {
   "cell_type": "code",
   "execution_count": null,
   "metadata": {
    "collapsed": true
   },
   "outputs": [],
   "source": []
  }
 ],
 "metadata": {
  "kernelspec": {
   "display_name": "Python 3",
   "language": "python",
   "name": "python3"
  },
  "language_info": {
   "codemirror_mode": {
    "name": "ipython",
    "version": 3
   },
   "file_extension": ".py",
   "mimetype": "text/x-python",
   "name": "python",
   "nbconvert_exporter": "python",
   "pygments_lexer": "ipython3",
   "version": "3.6.3"
  }
 },
 "nbformat": 4,
 "nbformat_minor": 2
}
