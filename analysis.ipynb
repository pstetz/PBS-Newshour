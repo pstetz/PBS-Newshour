{
 "cells": [
  {
   "cell_type": "markdown",
   "metadata": {},
   "source": [
    "<a id=\"toc\"></a>\n",
    "\n",
    "# <u>Table of Contents</u>\n",
    "\n",
    "1.) [Setup](#setup)  \n",
    "&nbsp;&nbsp;&nbsp;&nbsp; 1.1.) [Standard Imports](#imports)   \n",
    "&nbsp;&nbsp;&nbsp;&nbsp; 1.2.) [Visualization Imports](#imports)   \n",
    "&nbsp;&nbsp;&nbsp;&nbsp; 1.3.) [Helpers](#helpers)   \n",
    "&nbsp;&nbsp;&nbsp;&nbsp; 1.4.) [Load data](#load)   \n",
    "2.) [General Overview](#general)  \n",
    "&nbsp;&nbsp;&nbsp;&nbsp; 2.1.) [Timezone](#timezone)   \n",
    "&nbsp;&nbsp;&nbsp;&nbsp; 2.2.) [Oldest Transcript](#oldest)   "
   ]
  },
  {
   "cell_type": "markdown",
   "metadata": {},
   "source": [
    "---\n",
    "<a id=\"setup\"></a>\n",
    "\n",
    "# [^](#toc) <u>Setup</u>"
   ]
  },
  {
   "cell_type": "markdown",
   "metadata": {},
   "source": [
    "<a id=\"imports\"></a>\n",
    "\n",
    "### [^](#toc) Standard imports"
   ]
  },
  {
   "cell_type": "code",
   "execution_count": 3,
   "metadata": {
    "collapsed": true
   },
   "outputs": [],
   "source": [
    "### Standard imports\n",
    "import pandas as pd\n",
    "import numpy as np\n",
    "pd.options.display.max_columns = 50\n",
    "\n",
    "### Regex and datetime\n",
    "import re\n",
    "import datetime\n",
    "\n",
    "# Helps convert String representation of list into a list\n",
    "import ast\n",
    "\n",
    "### Removes warnings that occassionally show in imports\n",
    "import warnings\n",
    "warnings.filterwarnings('ignore')"
   ]
  },
  {
   "cell_type": "markdown",
   "metadata": {},
   "source": [
    "<a id=\"vis_imports\"></a>\n",
    "\n",
    "### [^](#toc) Visualization imports"
   ]
  },
  {
   "cell_type": "code",
   "execution_count": 4,
   "metadata": {},
   "outputs": [
    {
     "data": {
      "text/html": [
       "<script>requirejs.config({paths: { 'plotly': ['https://cdn.plot.ly/plotly-latest.min']},});if(!window.Plotly) {{require(['plotly'],function(plotly) {window.Plotly=plotly;});}}</script>"
      ],
      "text/vnd.plotly.v1+html": [
       "<script>requirejs.config({paths: { 'plotly': ['https://cdn.plot.ly/plotly-latest.min']},});if(!window.Plotly) {{require(['plotly'],function(plotly) {window.Plotly=plotly;});}}</script>"
      ]
     },
     "metadata": {},
     "output_type": "display_data"
    }
   ],
   "source": [
    "### Standard imports\n",
    "import matplotlib.pyplot as plt\n",
    "import seaborn as sns\n",
    "%matplotlib inline\n",
    "sns.set()\n",
    "\n",
    "### Altair\n",
    "import altair as alt\n",
    "alt.renderers.enable('notebook')\n",
    "\n",
    "### Plotly\n",
    "from plotly.offline import init_notebook_mode, iplot\n",
    "import plotly.graph_objs as go\n",
    "import plotly.plotly as py\n",
    "from plotly import tools\n",
    "init_notebook_mode(connected=True)\n",
    "\n",
    "# WordCloud\n",
    "from wordcloud import WordCloud\n",
    "\n",
    "# Folium\n",
    "import folium"
   ]
  },
  {
   "cell_type": "markdown",
   "metadata": {},
   "source": [
    "<a id=\"helpers\"></a>\n",
    "\n",
    "### [^](#toc) Helpers"
   ]
  },
  {
   "cell_type": "code",
   "execution_count": 5,
   "metadata": {
    "collapsed": true
   },
   "outputs": [],
   "source": [
    "def string_literal(x):\n",
    "    try:\n",
    "        return ast.literal_eval(x)\n",
    "    except:\n",
    "        return x\n",
    "    \n",
    "# A short hand way to plot most bar graphs\n",
    "def pretty_bar(data, ax, xlabel=None, ylabel=None, title=None, int_text=False, x=None, y=None):\n",
    "    \n",
    "    if x is None:\n",
    "        x = data.values\n",
    "    if y is None:\n",
    "        y = data.index\n",
    "    \n",
    "    # Plots the data\n",
    "    fig = sns.barplot(x, y, ax=ax)\n",
    "    \n",
    "    # Places text for each value in data\n",
    "    for i, v in enumerate(x):\n",
    "        \n",
    "        # Decides whether the text should be rounded or left as floats\n",
    "        if int_text:\n",
    "            ax.text(0, i, int(v), color='k', fontsize=14)\n",
    "        else:\n",
    "            ax.text(0, i, round(v, 3), color='k', fontsize=14)\n",
    "     \n",
    "    ### Labels plot\n",
    "    ylabel != None and fig.set(ylabel=ylabel)\n",
    "    xlabel != None and fig.set(xlabel=xlabel)\n",
    "    title != None and fig.set(title=title)\n",
    "\n",
    "def pretty_transcript(transcript, convert_name=False):\n",
    "    for speaker in transcript:\n",
    "        if convert_name:\n",
    "            speaker[0] = clean_names(speaker[0])\n",
    "        print(color.UNDERLINE, speaker[0] + \":\", color.END)\n",
    "        for txt in speaker[1:]:\n",
    "            print(\"  \", \" \".join(txt))\n",
    "        print()\n",
    "    \n",
    "### Used to style Python print statements\n",
    "class color:\n",
    "    BOLD = '\\033[1m'\n",
    "    UNDERLINE = '\\033[4m'\n",
    "    END = '\\033[0m'"
   ]
  },
  {
   "cell_type": "markdown",
   "metadata": {},
   "source": [
    "<a id=\"load\"></a>\n",
    "\n",
    "### [^](#toc) Load data"
   ]
  },
  {
   "cell_type": "code",
   "execution_count": 56,
   "metadata": {},
   "outputs": [
    {
     "name": "stdout",
     "output_type": "stream",
     "text": [
      "Shape of df: (17617, 8)\n"
     ]
    },
    {
     "data": {
      "text/html": [
       "<div>\n",
       "<style>\n",
       "    .dataframe thead tr:only-child th {\n",
       "        text-align: right;\n",
       "    }\n",
       "\n",
       "    .dataframe thead th {\n",
       "        text-align: left;\n",
       "    }\n",
       "\n",
       "    .dataframe tbody tr th {\n",
       "        vertical-align: top;\n",
       "    }\n",
       "</style>\n",
       "<table border=\"1\" class=\"dataframe\">\n",
       "  <thead>\n",
       "    <tr style=\"text-align: right;\">\n",
       "      <th></th>\n",
       "      <th>URL</th>\n",
       "      <th>Story</th>\n",
       "      <th>Date</th>\n",
       "      <th>Title</th>\n",
       "      <th>Transcript</th>\n",
       "      <th>Speakers</th>\n",
       "      <th>Number of Comments</th>\n",
       "      <th>Timezone</th>\n",
       "    </tr>\n",
       "  </thead>\n",
       "  <tbody>\n",
       "    <tr>\n",
       "      <th>0</th>\n",
       "      <td>https://www.pbs.org/newshour/show/robert-macne...</td>\n",
       "      <td>“How high did the scandals reach and was Presi...</td>\n",
       "      <td>1973-05-17 02:26:00</td>\n",
       "      <td>Watergate: The NewsHour’s 1973 Special Report</td>\n",
       "      <td>[]</td>\n",
       "      <td>{}</td>\n",
       "      <td>0.0</td>\n",
       "      <td>EDT</td>\n",
       "    </tr>\n",
       "    <tr>\n",
       "      <th>1</th>\n",
       "      <td>https://www.pbs.org/newshour/show/tempers-flar...</td>\n",
       "      <td>This MacNeil/Lehrer Report piece highlights th...</td>\n",
       "      <td>1979-06-29 06:00:00</td>\n",
       "      <td>Tempers Flare In Lines for Gasoline in 1979</td>\n",
       "      <td>[]</td>\n",
       "      <td>{}</td>\n",
       "      <td>0.0</td>\n",
       "      <td>EDT</td>\n",
       "    </tr>\n",
       "    <tr>\n",
       "      <th>2</th>\n",
       "      <td>https://www.pbs.org/newshour/show/margaret-tha...</td>\n",
       "      <td>Robert MacNeil and Jim Lehrer interviewed Brit...</td>\n",
       "      <td>1981-02-27 06:00:00</td>\n",
       "      <td>Newsmaker: Margaret Thatcher</td>\n",
       "      <td>[]</td>\n",
       "      <td>{}</td>\n",
       "      <td>0.0</td>\n",
       "      <td>EDT</td>\n",
       "    </tr>\n",
       "    <tr>\n",
       "      <th>3</th>\n",
       "      <td>https://www.pbs.org/newshour/show/macneil-lehr...</td>\n",
       "      <td>Jim Lehrer and Charlene Hunter Gault report on...</td>\n",
       "      <td>1982-10-25 06:00:00</td>\n",
       "      <td>The MacNeil/Lehrer Report – October 25, 1982 –...</td>\n",
       "      <td>[]</td>\n",
       "      <td>{}</td>\n",
       "      <td>0.0</td>\n",
       "      <td>EDT</td>\n",
       "    </tr>\n",
       "    <tr>\n",
       "      <th>4</th>\n",
       "      <td>https://www.pbs.org/newshour/show/the-macneil-...</td>\n",
       "      <td>Robert MacNeil and Charlayne Hunter Gault repo...</td>\n",
       "      <td>1983-11-30 06:00:00</td>\n",
       "      <td>The MacNeil/Lehrer Report from Nov. 30, 1983 o...</td>\n",
       "      <td>[]</td>\n",
       "      <td>{}</td>\n",
       "      <td>0.0</td>\n",
       "      <td>EDT</td>\n",
       "    </tr>\n",
       "  </tbody>\n",
       "</table>\n",
       "</div>"
      ],
      "text/plain": [
       "                                                 URL  \\\n",
       "0  https://www.pbs.org/newshour/show/robert-macne...   \n",
       "1  https://www.pbs.org/newshour/show/tempers-flar...   \n",
       "2  https://www.pbs.org/newshour/show/margaret-tha...   \n",
       "3  https://www.pbs.org/newshour/show/macneil-lehr...   \n",
       "4  https://www.pbs.org/newshour/show/the-macneil-...   \n",
       "\n",
       "                                               Story                Date  \\\n",
       "0  “How high did the scandals reach and was Presi... 1973-05-17 02:26:00   \n",
       "1  This MacNeil/Lehrer Report piece highlights th... 1979-06-29 06:00:00   \n",
       "2  Robert MacNeil and Jim Lehrer interviewed Brit... 1981-02-27 06:00:00   \n",
       "3  Jim Lehrer and Charlene Hunter Gault report on... 1982-10-25 06:00:00   \n",
       "4  Robert MacNeil and Charlayne Hunter Gault repo... 1983-11-30 06:00:00   \n",
       "\n",
       "                                               Title Transcript Speakers  \\\n",
       "0      Watergate: The NewsHour’s 1973 Special Report         []       {}   \n",
       "1        Tempers Flare In Lines for Gasoline in 1979         []       {}   \n",
       "2                       Newsmaker: Margaret Thatcher         []       {}   \n",
       "3  The MacNeil/Lehrer Report – October 25, 1982 –...         []       {}   \n",
       "4  The MacNeil/Lehrer Report from Nov. 30, 1983 o...         []       {}   \n",
       "\n",
       "   Number of Comments Timezone  \n",
       "0                 0.0      EDT  \n",
       "1                 0.0      EDT  \n",
       "2                 0.0      EDT  \n",
       "3                 0.0      EDT  \n",
       "4                 0.0      EDT  "
      ]
     },
     "execution_count": 56,
     "metadata": {},
     "output_type": "execute_result"
    }
   ],
   "source": [
    "dateparse = lambda x: pd.datetime.strptime(x, \"%Y-%m-%d %H:%M:%S\")\n",
    "\n",
    "df = pd.read_csv(\"data/PBS-newhour-clean.csv\", parse_dates=['Date'], date_parser=dateparse)\n",
    "for col in [\"Transcript\", \"Story\", \"Speakers\"]:\n",
    "    df[col] = df[col].map(string_literal)\n",
    "\n",
    "df.Speakers = df.Speakers.map(set)\n",
    "\n",
    "print(\"Shape of df:\", df.shape)\n",
    "df.head()"
   ]
  },
  {
   "cell_type": "markdown",
   "metadata": {},
   "source": [
    "<a id=\"general\"></a>\n",
    "\n",
    "# [^](#toc) <u>General Overview</u>"
   ]
  },
  {
   "cell_type": "markdown",
   "metadata": {},
   "source": [
    "<a id=\"timezone\"></a>\n",
    "\n",
    "### [^](#toc) Timezone"
   ]
  },
  {
   "cell_type": "code",
   "execution_count": 57,
   "metadata": {},
   "outputs": [
    {
     "data": {
      "text/plain": [
       "EDT    17617\n",
       "Name: Timezone, dtype: int64"
      ]
     },
     "execution_count": 57,
     "metadata": {},
     "output_type": "execute_result"
    }
   ],
   "source": [
    "df.Timezone.value_counts()"
   ]
  },
  {
   "cell_type": "markdown",
   "metadata": {},
   "source": [
    "<a id=\"oldest_clip\"></a>\n",
    "\n",
    "### [^](#toc) Oldest Clip"
   ]
  },
  {
   "cell_type": "code",
   "execution_count": 61,
   "metadata": {},
   "outputs": [
    {
     "name": "stdout",
     "output_type": "stream",
     "text": [
      "Watergate: The NewsHour’s 1973 Special Report\n",
      "https://www.pbs.org/newshour/show/robert-macneil-and-jim-lehrer-and-the-watergate-hearings\n"
     ]
    }
   ],
   "source": [
    "temp = df.iloc[0]\n",
    "\n",
    "print(temp.Title)\n",
    "print(temp.URL)"
   ]
  },
  {
   "cell_type": "markdown",
   "metadata": {},
   "source": [
    "<a id=\"oldest_transcript\"></a>\n",
    "\n",
    "### [^](#toc) Oldest Transcript\n",
    "\n",
    "The oldest complete transcript on PBS's website is an interview with Fidel Castro in February of 1985."
   ]
  },
  {
   "cell_type": "code",
   "execution_count": 11,
   "metadata": {
    "scrolled": true
   },
   "outputs": [
    {
     "name": "stdout",
     "output_type": "stream",
     "text": [
      "\u001b[1m1985-02-11 06:00:00\u001b[0m\n",
      "\u001b[1mRobert MacNeil Interviews Fidel Castro Part I\u001b[0m\n",
      "\n",
      "\u001b[4m ROBERT MacNEIL: \u001b[0m\n",
      "    Our major focus section tonight is a newsmaker interview with Cuban President Fidel Castro. Last month the U.S. and Cuba successfully negotiated an agreement under which Cuba will take back 2,500 “undesirables” who came in the Mariel boat lift of 1980, and the United States will reopen normal immigration procedures in Havana. Since then Castro has said he’d be willing to talk further about improving relations. Washington has reacted coldly, saying Castro is saying nothing new, and it wants to see Cuban deeds, not words. How far Castro wishes to push his new effort has not been clear, but in Havana part of his motivation is obvious. Havana today expresses the weaknesses of the Cuban revolution. Its successes are in the countryside, where better nutrition, health care and education have changed more lives. Havana, the symbol of the decadent past, was neglected, with little new building. But with an economy still unable to meet all Fidel’s goals and an acute need for hard currency, old Havana is getting a facelift to attract tourists. Buildings and streets from the Spanish colonial period are being refurbished as is the square of the old cathedral. The bulk of the tourists are still people from the Eastern bloc, their presence symbolizing Castro’s dependence on the Communist world for economic survival in the face of the American trade blocade. That’s been in force for a quarter of a century and has been tightened by the Reagan administration. Cuba’s lifeline is a procession of Soviet merchant ships bringing virtually everything, from oil and lumber to light bulbs. They return taking Cuban sugar, citrus and nickel, but recently not enough to meet the planned quotas. So Cuban consumers have been asked to tighten their belts again, to wait for more attractive consumer goods while a big drive is made to boost exports to the Soviet bloc and to the West, both to meet Cuba’s commitments to her Communist partners and to earn hard currency to pay her Western debts. This is the context for the growing suggestions that Castro, 26 years after his revolution, would like to patch things up with the U.S. There is no slackening of revolutionary zeal. The spirit that defeated the Bay of Pigs invasion of 1961 is constantly nourished, and the symbols of Castro’s rise to power are a national shrine. The revolution is still young enough to enjoy tweaking Uncle Sam’s beard. This poster says, “Mr. Imperialist, we are absolutely not afraid of you.” It is located close to the U.S. mission, now called the U.S. Interest Section — because there are no full-scale diplomatic relations — where U.S. officials try to read the signals that Castro is sending. On Friday night President Castro sat down with me for the first major American television interview in six years. With a Cuban government interpreter we talked for more than four hours, first about relations with the United States.\n",
      "\n",
      "\u001b[4m ROBERT MacNEIL: \u001b[0m\n",
      "    Mr. President, every time that you begin to talk about improving relations with the United States, Washington says, “Show us deeds, not words.” What actions or deeds are you prepared to make to improve relations with the United States?\n",
      "\n",
      "\u001b[4m PRESIDENT FIDEL CASTRO (through interpreter): \u001b[0m\n",
      "    You said every time I speak of improving relations; actually there are not many times. Now then, I have read a few statements in which it is said that they want deeds and not words. I believe that that is a style of speaking. I would say a style of a great power. I understand that it is not easy for the United States to change its style. We are a small country. We cannot speak in those terms, but we are also a country with a lot of dignity and no one can suppose that we would beg the United States for an improvement of relations. We have never done so, and we shall never do it. My intention is not that they believe what we say but rather simply to analyze our ideas and to go deeper in them and to make objective analyses of events. It is not a matter of faith, of confidence. It is a matter of objectivity.\n",
      "\n",
      "\u001b[4m ROBERT MacNEIL: \u001b[0m\n",
      "    Let’s go through an objective analysis. The State Department and the White House always say that there are three obstacles to improving relations between Cuba and the United States. And they are your allegiance to the Soviet Union, what they call subversion in this hemisphere and the large number of your troops in Africa. Sometimes they also mention human rights in Cuba. The White House mentioned human rights in Cuba this week again. Can we discuss in detail each of these, starting with relations with the Soviet Union? Is there a formula by which you could keep your ties to the Soviet Union and improve relations with the United States?\n",
      "\n",
      "\u001b[4m PRESIDENT FIDEL CASTRO (through interpreter): \u001b[0m\n",
      "    If the United States believed that there are three obstacles, actually there are quite few, quite little. I thought there were much more. Now, then, if we analyze these three types of obstacles, the first, that is the relations that we have with the Soviet Union, with the socialist countries and with any other country are matters of our sovereignty and that cannot be questioned, or at least we are not ready to discuss that. And this is always — this is something that I always say in a very frank way. If, in order to improve our relations with the United States, we must give up our convictions and our principles, then relations will not improve on those lines. If we are going to question our sovereignty, then they will not improve either. Relations between Cuba and the Soviet Union are based in the most strict respect for independence and sovereignty of our country. We have friendly relations, very close relations, and these relations cannot be affected in order to improve relation thing. The countries that do those things simply are not respected, and actually we are not going to change neither our flag nor our ideas. In our relations with the Soviet Union, in our friendship will be maintained intangible. I say this being fully frank and fully sincere. And it is necessary that this be understood.\n",
      "\n",
      "\u001b[4m ROBERT MacNEIL: \u001b[0m\n",
      "    The director of Cuban affairs in the State Department, Kenneth Skout, he said in a speech in December what Cuba could not do and still retain Moscow’s favor is to alter its fundamental commitment to unswerving support for Soviet policy. And so my question is, isn’t that unswerving support for Soviet policy the price of the Soviet aid that keeps the Cuban economy going?\n",
      "\n",
      "\u001b[4m PRESIDENT FIDEL CASTRO (through interpreter): \u001b[0m\n",
      "    Well, we coincide in many things with the Soviet Union because we have a community of political principles. It is a socialist country; we are a socialist country. We do have many things in common with the Soviet Union and in many international problems we have a common stance that is based on political ideas and principles. It is a friendly country of whose friendship we will not reject and of which we do not feel ashamed of because, actually, we are not going to fight with our friends to become friends of our adversaries. That we shall never do. And the Soviets have never imposed any conditions on us, on their assistance, and they have never attempted to tell us what we should do, what we must do, with which countries we are to trade and with which countries should we have relations. So I simply can’t understand where these theories come from. But if that our relations with the Soviets are an obstacle and if someone thinks that we are going to sell out or that we are going to give up our banners or our flags or that we are going to change our ideas, that is an error. Cuba is a country that cannot be bought. And countries that are bought are simply not respected.\n",
      "\n",
      "\u001b[4m ROBERT MacNEIL: \u001b[0m\n",
      "    I think what the United States government is saying is that your economic dependence on Moscow makes you automatically a part of the Soviet camp in having to agree to policies like the Soviet intervention in Afghanistan. Would you, Fidel Castro, who values the independence and integrity of a small country, would you alone have approved the Soviet intervention in Afghanistan if you had been free to make your own choice? Did you privately and personally approve of the Soviet intervention in Afghanistan?\n",
      "\n",
      "\u001b[4m PRESIDENT FIDEL CASTRO (through interpreter): \u001b[0m\n",
      "    When it was put forth at the U.N., that is, the question, the issue, we said clearly that in that conflict, in that attack, that tremendous attack against the Soviet Union led by the United States, we were not going to be on the side of the United States. Simply that. And we were then on the side of the Soviet Union. That is, we did not deal or delve on the topic; that is what we said. This is opposition because of this.\n",
      "\n",
      "\u001b[4m ROBERT MacNEIL: \u001b[0m\n",
      "    But isn’t that the point? That your friendship and dependence on the Soviet Union makes you part of the camp and therefore take positions which Washington regards as anti-American positions?\n",
      "\n",
      "\u001b[4m PRESIDENT FIDEL CASTRO (through interpreter): \u001b[0m\n",
      "    You establish this dependency as something that is actual in fact and action. But in today’s world, in the economic arena, no one is absolutely independent, not even the United States nor Japan nor Western Europe. They depend on oil, raw materials, and for many other countries they need markets, they need trade. That is, no country is totally independent economically.\n",
      "\n",
      "\u001b[4m ROBERT MacNEIL: \u001b[0m\n",
      "    Is it not true that your role in return for all the aid you get from the Soviet Union is to be a thorn in America’s side?\n",
      "\n",
      "\u001b[4m PRESIDENT FIDEL CASTRO (through interpreter): \u001b[0m\n",
      "    If that were true, we would not be talking about improving relations with the United States. If our role is to be a thorn, then it would not be convenient for us. Actually it does not bring us great benefits, either. That is, we are based on a conviction and it is the necessity to struggle in our area, in Central America, throughout the world. It is a duty, actually a duty that we have in order to lower tensions and to achieve relations of peace in the world. And I say this sincerely, although I am a revolutionary. I was a revolutionary, I am a revolutionary, and I shall always be a revolutionary. And I will not change a single of my principles for a thousand relations with a thousand countries like the United States.\n",
      "\n",
      "\u001b[4m ROBERT MacNEIL: \u001b[0m\n",
      "    Will the Soviet Union continue to provide you with the aid and support it does, do you believe, if you have good relations with the United States?\n",
      "\n",
      "\u001b[4m PRESIDENT FIDEL CASTRO (through interpreter): \u001b[0m\n",
      "    Look, our relations with the Soviet Union, with the socialist countries are solid things based on principles and have absolutely nothing to do with our economic and political relations with the United States. I will say one thing, though. The Soviet Union and the Soviet people feel great appreciation and great respect toward Cuba. But it is they respect Cuba because they admire, as other peoples do, the courage of Cuba, Cuba’s staunchness and Cuba’s capability to resist for over 26 years the aggressions, the economic blockade and the brutality of the United States.\n",
      "\n",
      "\u001b[4m ROBERT MacNEIL: \u001b[0m\n",
      "    Would the Soviet Union like it if you had better relations with the United States, the blockade perhaps were lifted and the economic burden on the Soviet Union were shared or lessened?\n",
      "\n",
      "\u001b[4m PRESIDENT FIDEL CASTRO (through interpreter): \u001b[0m\n",
      "    The United States will pay us for our sugar at the price of the Soviets, or will they be buying the nickel and they will be maintaining the type of relations and trade that we have with the socialist countries. But I believe that the idea that we have any needs to trade with the United States should be totally eradicated. Everything we have done during these 26 years, we have done it without trade with the United States. And our future has been conceived without trade with the United States. Actually, we have not asked for the Soviet Union — generally we don’t ask their opinion on our economic or political relations in an international arena. But I know the Soviet Union very well and I know the policy of the Soviet Union, and the Soviet Union would never be against Cuba’s developing its economic relations with the other capitalist countries, including the United States.\n",
      "\n",
      "\u001b[4m ROBERT MacNEIL: \u001b[0m\n",
      "    So, to move on to the second point that Washington says is an obstacle to better relations — what the White House spokesman Larry Speakes called this week your subversion in the hemisphere. Let me quote you again Mr. Skout of the State Department. “It is Cuba’s striving, with Soviet support, to introduce Marxist-Leninist regimes throughout the hemisphere which still lies at the heart of our differences.” Would you comment on that?\n",
      "\n",
      "\u001b[4m PRESIDENT FIDEL CASTRO (through interpreter): \u001b[0m\n",
      "    Well, I could also accuse the Pope of practicing subversion in Latin America and preaching Christianity and Catholicism. He visited many countries even recently. He has met with natives and said that the land had to be given to the natives and the land properties. And he declared that schools were necessary for the children, jobs for the workers and for the families, medicine and doctors for the ill and also foodstuffs or housing. What we preach is more or less that. And besides, it is what we have done in our country. So then, we will continue being Marxist and we’ll continue being socialist, and we will always say that our social system is more just. But we have said also, because we are convinced about it, we have said the following, and which is my answer to that. Neither can Cuba export revolution because revolutions cannot be exported, and the economic-social factors, the cultural-historical factors that determine the movement of revolution cannot be exported. The external, the huge external debt of Latin America cannot be exported. The formula applied by the International Monetary Fund cannot be exported by Cuba. The unequal trade cannot be exported by Cuba. Underdevelopment and poverty cannot be exported by Cuba, and that is why Cuba cannot export revolution. It is absurd. It is ridiculous to say that revolutions can be exported. But the United States cannot, in the event, avoid them either. The United States accuses us maybe of wanting to promote change. Well then, we would like to see changes occur, but changes will come whether the United States likes it or not, whether or not Cuba likes it. I could answer by saying that the United States wants to maintain an unjust social order that has meant for the peoples of this hemisphere poverty, hunger, underdevelopment, diseases, ignorance — and the United States wants to maintain that. And we could also say that the United States wants to avoid change. If we are accused of wanting to promote change, we can also accuse the United States of wanting to avoid change and of wanting to maintain an unjust social regime. But actually neither can we export it, nor can the revolution avoid it — nor can the United States avoid it.\n",
      "\n",
      "\u001b[4m ROBERT MacNEIL: \u001b[0m\n",
      "    In supporting militarily the Sandinista regime in Nicaragua, is Cuba not helping to sustain and introduce a Marxist-Leninist regime?\n",
      "\n",
      "\u001b[4m PRESIDENT FIDEL CASTRO (through interpreter): \u001b[0m\n",
      "    In Nicaragua, by offering military cooperation? Well, we are helping an independent country, we are helping a just revolution to defend itself. That’s simply what we are doing. In the same way that, for example, the United States has also sent weapons to this — in this hemisphere to other people. It sent weapons to Somoza. It sent weapons to Trujillo when Trujillo was there. It sent weapons to Pinochet. It sent weapons to all of the repressive governments of Latin America, governments that murdered, tortured dozens of thousands of people, governments which disappeared tens of thousands of people. They had no moral obstacle in giving any economic, financial and military assistance to these governments. So, with what moral grounds can it be questioned; that is, can our right be questioned to help Nicaragua and Nicaragua’s right to receive that aid? I ask the following. Can the United States help the counter-revolutionary bands, supply weapons to them — explosives — to fight inside Nicaragua, something that has meant the lives of thousands and thousands of people, and on the other hand question Cuba’s right and Nicaragua’s right for us to give them aid — economic, technical aid, and even some cooperation in the military field?\n",
      "\n",
      "\u001b[4m ROBERT MacNEIL: \u001b[0m\n",
      "    So you would not stop giving such aid as a condition of improved relations with the United States?\n",
      "\n",
      "\u001b[4m PRESIDENT FIDEL CASTRO (through interpreter): \u001b[0m\n",
      "    We shall not make any unilateral decision in our relations and cooperation with Nicaragua. What we have said is that in Central America a politically negotiated solution is possible. What we say is that we support the effort of Contadora to seek solutions of peace in Central America, that we support it staunchly, sincerely, and that we beleive that political solutions exist and peace solutions exist that are convenient for the Nicaraguans, for Central America and for the United States itself, and that we are ready to struggle for that. And also that the agreements that are reached shall be complied by us in a determined way. That is, any agreement reached between Nicaragua and the Contadora framework shall be complied by us to the very letter.\n",
      "\n",
      "\u001b[4m ROBERT MacNEIL: \u001b[0m\n",
      "    How hopeful are you that now that some political settlement can be reached in Central America?\n",
      "\n",
      "\u001b[4m PRESIDENT FIDEL CASTRO (through interpreter): \u001b[0m\n",
      "    I am absolutely convinced. I have a lot of information about the work of Contadora. I have heard all the discussions, all the burning issues there, the positions of the United States, Nicaragua’s positions. And I am convinced, fully convinced, that it is possible to find formulas that would be acceptable by all parties, or to all parties. I have that conviction. I am convinced about that. Now, then. For it, it is necessary for the United States to want to really cooperate in finding a political solution. I believe that as long as the United States is convinced that it can destroy the Sandinista revolution from within by combining the effect of the economic measures against Nicaragua with the economic difficulty inside Nicaragua and the actions of the counterrevolutionary bands, as long as they’re convinced that they can destroy the revolution from within, it will not be seriously ready to seek a political solution to the problems of Central America. Because if it believes that it will destroy the revolution, why negotiate, then? Why reach agreementss? Now, then, Now, when the United States becomes persuaded that it shall not achieve that goal, that the Nicaraguan revolution cannot be destroyed from within, because of the questions I mentioned, the problems I mentioned, I believe that they can face the economic problems with what they produce and with the aid they are receiving, the economic aid they are receiving. If they handle it correctly, efficiently, they can face the economic problems. I’m convinced of that. I am also convinced that they can defeat the bands and that the bands will never be able to defeat —\n",
      "\n",
      "\u001b[4m ROBERT MacNEIL: \u001b[0m\n",
      "    Excuse me. By the “bands” you mean what are called in the United States the “contras”?\n",
      "\n",
      "\u001b[4m PRESIDENT FIDEL CASTRO (through interpreter): \u001b[0m\n",
      "    Yes, the counterrevolutionary bands that will be defeated. They will be defeated. So then a situation will come up before the United States: that is, the United States will have no other alternative but to negotiate seriously to seek a solution or invade Nicaragua. And since, in my view, in my criteria, a U.S. invasion in Nicaragua is inconceivable, since it would mean such a serious mistake, a terrible mistake, that I do not simply think that the United States would really get to the point of making that mistake. I cannot assure you that it might not do it, but I say that it is inconceivable that under the present circumstances in Latin America, under the present circumstances of crisis with the present feeling on the part of Latin American peoples, at the times we’re living in, the aggression and invasion against a Latin American country would be as catastrophic in political terms, it would mean such a political cost, and not only a political cost but also in terms of U.S. lives —\n",
      "\n",
      "\u001b[4m ROBERT MacNEIL: \u001b[0m\n",
      "    Let me turn to Africa. The third of those obstacles that Washington sees to improving relations with you, your troops in Angola. You talked recently about circumstances arising which would cause you to bring them home. What would happen — what would have to happen to start bringing the Cuban troops out of Angola?\n",
      "\n",
      "\u001b[4m PRESIDENT FIDEL CASTRO (through interpreter): \u001b[0m\n",
      "    What is needed there? Well, discussions have taken place with the participation of the United States. The United States has had dialogues, talks with Angola’s leadership. We are informed through the Angolans about these negotiations or talks that have been held with our support and with our full cooperation. That is, they have carried out these negotiations in close contact with Cuba.\n",
      "\n",
      "\u001b[4m ROBERT MacNEIL: \u001b[0m\n",
      "    Could you withdraw any of your troops before there is agreement?\n",
      "\n",
      "\u001b[4m PRESIDENT FIDEL CASTRO (through interpreter): \u001b[0m\n",
      "    No. No. The Angolans would not agree with that, and from our point of view it would be a mistake. And the Angolan proposal, that is, if those circumstances come up, then Angola commits itself, and Cuba of course would support it, to withdrawal in a period of three years what is called the grouping of troops in the south, which is made up by approximately 20,000 men. And even the figure was given. This is the bulk of our troops, actually, but there are still troops in the center and to the north of Angola, including Cabinda. The Angolans have not included these troops in the negotiations, these present negotiations, and their position is that to withdraw those troops, it will be something that would have to be discussed between Angola and Cuba whenever it is considered that they can dispense of these troops.\n",
      "\n",
      "\u001b[4m ROBERT MacNEIL: \u001b[0m\n",
      "    Do you think that this projected settlement of the Angola situation, does that erase Cuban troops in Angola as an issue between you and the United States?\n",
      "\n",
      "\u001b[4m PRESIDENT FIDEL CASTRO (through interpreter): \u001b[0m\n",
      "    Before there were no troops in Angola and relations were very bad with the United States. The day where there are not troops in Angola or in some other place or there are no advisers in Central America, maybe the United States might invent something else.\n",
      "\n",
      "\u001b[4m ROBERT MacNEIL: \u001b[0m\n",
      "    Just to sum up our conversation about improving relations with the United States, why is this the right time to raise this, and realistically speaking, how hopeful are you that it can happen?\n",
      "\n",
      "\u001b[4m PRESIDENT FIDEL CASTRO (through interpreter): \u001b[0m\n",
      "    Whether this is the right — best moment? I believe that if the United States is objective, if it is realistic, I would say that it is the best moment for the United States, not for us. Actually, we can go on for five, 10, 15, 20 more years. The only obligation on our part, really, is toward peace. If there’s peace here and in other areas, we will feel more pleased. If relations are normalized, even more pleased, because it would be then a progressive progress. Peace is convenient for all, but from the political point of view I am convinced — and I’m saying this fully frankly — I think that the United States benefits most than us. We can sit here and wait, calmly, and see what happens in the coming years.\n",
      "\n",
      "\u001b[4m ROBERT MacNEIL: \u001b[0m\n",
      "    Tomorrow night Fidel Castro talks candidly about human rights in Cuba, political prisoners, dissent, the controlled press and the mistakes of his revolution. He also discusses what he sees as an explosive economic situation in Latin America. Continue…\n",
      "\n"
     ]
    }
   ],
   "source": [
    "temp = df[df.Transcript.map(lambda x: x != [])].iloc[0]\n",
    "\n",
    "print(f\"{color.BOLD}{temp.Date}{color.END}\")\n",
    "print(f\"{color.BOLD}{temp.Title}{color.END}\")\n",
    "print()\n",
    "pretty_transcript(temp.Transcript)"
   ]
  },
  {
   "cell_type": "markdown",
   "metadata": {
    "collapsed": true
   },
   "source": [
    "<a id=\"old_5\"></a>\n",
    "\n",
    "### [^](#toc) 5 Oldest Stories\n"
   ]
  },
  {
   "cell_type": "code",
   "execution_count": 18,
   "metadata": {},
   "outputs": [
    {
     "name": "stdout",
     "output_type": "stream",
     "text": [
      "1973-05-17 02:26:00\n",
      "“How high did the scandals reach and was President Nixon himself involved?” That was what the NewsHour’s Robert MacNeil, then co-anchoring with Jim Lehrer, dubbed “the ultimate question” as the program began its gavel-to-gavel coverage of the Watergate hearings on May 17, 1973.\n",
      "\n",
      "1979-06-29 06:00:00\n",
      "This MacNeil/Lehrer Report piece highlights the anguish caused by gas shortages at a station in Queens, New York in 1979.\n",
      "\n",
      "1981-02-27 06:00:00\n",
      "Robert MacNeil and Jim Lehrer interviewed British Prime Minister Margaret Thatcher for the The MacNeil/Lehrer Report in February of 1981.\n",
      "\n",
      "1982-10-25 06:00:00\n",
      "Jim Lehrer and Charlene Hunter Gault report on violence and instability across Guatemala and the actions of Efrain Rios Montt. Gavin Hewitt from the Canadian Broadcasting Corporation reports from Guatemala. Guests are Georges Fauriol of Georgetown University and Dana Martin of the Washington Office on Latin America.\n",
      "\n",
      "1983-11-30 06:00:00\n",
      "Robert MacNeil and Charlayne Hunter Gault report on the battles in Washington going on over violence and instability in Guatemala.\n",
      "\n"
     ]
    }
   ],
   "source": [
    "for i in range(5):\n",
    "    print(df.iloc[i].Date)\n",
    "    print(df.iloc[i].Story)\n",
    "    print()"
   ]
  },
  {
   "cell_type": "markdown",
   "metadata": {},
   "source": [
    "### Date spread\n",
    "\n",
    "The activity starts around April 2011, so we have 7 years of history to analyze"
   ]
  },
  {
   "cell_type": "code",
   "execution_count": 34,
   "metadata": {},
   "outputs": [
    {
     "data": {
      "image/png": "[encoded data removed]",
      "text/plain": [
       "<matplotlib.figure.Figure at 0x1a274d0358>"
      ]
     },
     "metadata": {},
     "output_type": "display_data"
    }
   ],
   "source": [
    "df[\"Year\"]  = df.Date.map(lambda x: x.year)\n",
    "df[\"Month\"] = df.Date.map(lambda x: x.month)\n",
    "\n",
    "plt.figure(figsize=(14, 8))\n",
    "plt.title(\"Number of transcripts available over time\", fontsize=18)\n",
    "\n",
    "(df\n",
    "    .assign(n=0)\n",
    "    .groupby([\"Year\", \"Month\"])\n",
    "    .n\n",
    "    .apply(len)\n",
    "    .sort_index()\n",
    "         ).plot().set(ylabel=\"Counts per month\");"
   ]
  },
  {
   "cell_type": "markdown",
   "metadata": {},
   "source": [
    "### Earliest mention\n",
    "\n",
    "I think it's amazing just looking back 7 years.  So much has changed, but in another sense, not much has changed.\n",
    "\n",
    "The earliest mention of Donald Trump is in 2011 when he was demanding Obama for his birth certificate.  During that segment he is considering running for office. ([link](https://www.pbs.org/newshour/show/with-birth-certificate-release-obama-urges-shift-in-national-dialogue)).  This is tangetial, but this [clip](https://www.pbs.org/newshour/show/with-birth-certificate-release-obama-urges-shift-in-national-dialogue) also features PBS' Jim Lehrer 40 years earlier.\n",
    "\n",
    "The earliest mention of Bernie Sanders"
   ]
  },
  {
   "cell_type": "code",
   "execution_count": 80,
   "metadata": {},
   "outputs": [
    {
     "data": {
      "text/plain": [
       "{'JEFF BEZOS'}"
      ]
     },
     "execution_count": 80,
     "metadata": {},
     "output_type": "execute_result"
    }
   ],
   "source": [
    "{x for x in set.union(*df.Speakers) if \"BEZOS\" in x}"
   ]
  },
  {
   "cell_type": "code",
   "execution_count": 84,
   "metadata": {},
   "outputs": [
    {
     "name": "stdout",
     "output_type": "stream",
     "text": [
      "Showing results for: XI JINPING\n"
     ]
    },
    {
     "data": {
      "text/plain": [
       "5176     https://www.pbs.org/newshour/show/u-s-works-on...\n",
       "5909     https://www.pbs.org/newshour/show/will-obama-s...\n",
       "6317     https://www.pbs.org/newshour/show/news-wrap-bi...\n",
       "8756     https://www.pbs.org/newshour/show/news-wrap-so...\n",
       "8759     https://www.pbs.org/newshour/show/u-s-china-pl...\n",
       "10968         https://www.pbs.org/newshour/show/newswrap-3\n",
       "10996        https://www.pbs.org/newshour/show/china-visit\n",
       "11371    https://www.pbs.org/newshour/show/news-wrap-wh...\n",
       "11444    https://www.pbs.org/newshour/show/paris-climat...\n",
       "12255    https://www.pbs.org/newshour/show/signs-of-gro...\n",
       "12907    https://www.pbs.org/newshour/show/news-wrap-is...\n",
       "13418    https://www.pbs.org/newshour/show/successes-sh...\n",
       "14754    https://www.pbs.org/newshour/show/trump-chinas...\n",
       "15276    https://www.pbs.org/newshour/show/news-wrap-tr...\n",
       "15995    https://www.pbs.org/newshour/show/xi-jinping-c...\n",
       "16035    https://www.pbs.org/newshour/show/news-wrap-se...\n",
       "16140    https://www.pbs.org/newshour/show/did-trump-an...\n",
       "16950    https://www.pbs.org/newshour/show/news-wrap-in...\n",
       "17087    https://www.pbs.org/newshour/show/news-wrap-ch...\n",
       "Name: URL, dtype: object"
      ]
     },
     "execution_count": 84,
     "metadata": {},
     "output_type": "execute_result"
    }
   ],
   "source": [
    "### These are just examples\n",
    "pois = {0: \"BERNIE SANDERS\",\n",
    "        1: \"VLADIMIR PUTIN\",\n",
    "        2: \"DONALD TRUMP\",\n",
    "        3: \"JUDY WOODRUFF\",\n",
    "        4: \"BEN CARSON\",\n",
    "        5: \"STEPHEN COLBERT\",\n",
    "        6: \"HILLARY CLINTON\",\n",
    "        7: \"JOHN F. KENNEDY\",\n",
    "        8: \"ANGELA MERKEL\",\n",
    "        9: \"JEFF BEZOS\",\n",
    "        10: \"XI JINPING\"\n",
    "}\n",
    "\n",
    "poi = pois[10]\n",
    "\n",
    "print(\"Showing results for:\", poi)\n",
    "df[df.Speakers.map(lambda x: poi in x)].URL"
   ]
  },
  {
   "cell_type": "code",
   "execution_count": null,
   "metadata": {
    "collapsed": true
   },
   "outputs": [],
   "source": []
  }
 ],
 "metadata": {
  "kernelspec": {
   "display_name": "Python 3",
   "language": "python",
   "name": "python3"
  },
  "language_info": {
   "codemirror_mode": {
    "name": "ipython",
    "version": 3
   },
   "file_extension": ".py",
   "mimetype": "text/x-python",
   "name": "python",
   "nbconvert_exporter": "python",
   "pygments_lexer": "ipython3",
   "version": "3.6.3"
  }
 },
 "nbformat": 4,
 "nbformat_minor": 2
}
