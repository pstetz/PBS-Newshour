{
 "cells": [
  {
   "cell_type": "markdown",
   "metadata": {},
   "source": [
    "<a id=\"toc\"></a>\n",
    "\n",
    "# <u>Table of Contents</u>\n",
    "\n",
    "1.) [Setup](#setup)  \n",
    "&nbsp;&nbsp;&nbsp;&nbsp; 1.1.) [Imports](#imports)   \n",
    "&nbsp;&nbsp;&nbsp;&nbsp; 1.2.) [Helpers](#helpers)   \n",
    "&nbsp;&nbsp;&nbsp;&nbsp; 1.3.) [Load data](#load)   \n",
    "2.) [Datetime](#datetime)  \n",
    "3.) [Speakers](#speakers)  \n",
    "4.) [Transcript](#transcript)  "
   ]
  },
  {
   "cell_type": "markdown",
   "metadata": {},
   "source": [
    "---\n",
    "<a id=\"setup\"></a>\n",
    "\n",
    "# [^](#toc) <u>Setup</u>"
   ]
  },
  {
   "cell_type": "markdown",
   "metadata": {},
   "source": [
    "<a id=\"imports\"></a>\n",
    "\n",
    "### [^](#toc) Imports"
   ]
  },
  {
   "cell_type": "code",
   "execution_count": 1,
   "metadata": {
    "collapsed": true
   },
   "outputs": [],
   "source": [
    "### Standard imports\n",
    "import pandas as pd\n",
    "import numpy as np\n",
    "\n",
    "### Plotting imports\n",
    "import matplotlib.pyplot as plt\n",
    "import seaborn as sns\n",
    "%matplotlib inline\n",
    "sns.set()\n",
    "\n",
    "### Removes warnings that occassionally show in imports\n",
    "import warnings\n",
    "warnings.filterwarnings('ignore')\n",
    "\n",
    "# Helps convert String representation of list into a list\n",
    "import ast"
   ]
  },
  {
   "cell_type": "markdown",
   "metadata": {},
   "source": [
    "<a id=\"helpers\"></a>\n",
    "\n",
    "### [^](#toc) Helpers"
   ]
  },
  {
   "cell_type": "code",
   "execution_count": 2,
   "metadata": {
    "collapsed": true
   },
   "outputs": [],
   "source": [
    "def string_literal(x):\n",
    "    if x is np.nan:\n",
    "        return np.nan\n",
    "    else:\n",
    "        try:\n",
    "            return ast.literal_eval(x)\n",
    "        except:\n",
    "            return x"
   ]
  },
  {
   "cell_type": "markdown",
   "metadata": {},
   "source": [
    "<a id=\"load\"></a>\n",
    "\n",
    "### [^](#toc) Load data"
   ]
  },
  {
   "cell_type": "code",
   "execution_count": 5,
   "metadata": {},
   "outputs": [
    {
     "data": {
      "text/html": [
       "<div>\n",
       "<style>\n",
       "    .dataframe thead tr:only-child th {\n",
       "        text-align: right;\n",
       "    }\n",
       "\n",
       "    .dataframe thead th {\n",
       "        text-align: left;\n",
       "    }\n",
       "\n",
       "    .dataframe tbody tr th {\n",
       "        vertical-align: top;\n",
       "    }\n",
       "</style>\n",
       "<table border=\"1\" class=\"dataframe\">\n",
       "  <thead>\n",
       "    <tr style=\"text-align: right;\">\n",
       "      <th></th>\n",
       "      <th>URL</th>\n",
       "      <th>Story</th>\n",
       "      <th>Date</th>\n",
       "      <th>Title</th>\n",
       "      <th>Transcript</th>\n",
       "      <th>Speakers</th>\n",
       "      <th>Number of Comments</th>\n",
       "    </tr>\n",
       "  </thead>\n",
       "  <tbody>\n",
       "    <tr>\n",
       "      <th>0</th>\n",
       "      <td>https://www.pbs.org/newshour/show/news-wrap-tr...</td>\n",
       "      <td>In our news wrap Monday, President Trump's sea...</td>\n",
       "      <td>Jul 2, 2018 6:50 PM EDT</td>\n",
       "      <td>News Wrap: Trump interviews Supreme Court cand...</td>\n",
       "      <td>[[Judy Woodruff, [ President Trump’s search fo...</td>\n",
       "      <td>{Judy Woodruff, Man (through translator), Just...</td>\n",
       "      <td>0.0</td>\n",
       "    </tr>\n",
       "    <tr>\n",
       "      <th>1</th>\n",
       "      <td>https://www.pbs.org/newshour/show/elected-in-a...</td>\n",
       "      <td>Mexican president-elect Andrés Manuel López Ob...</td>\n",
       "      <td>Jul 2, 2018 6:45 PM EDT</td>\n",
       "      <td>Elected by a landslide, can Mexico’s López Obr...</td>\n",
       "      <td>[[Judy Woodruff, [ After two previous runs for...</td>\n",
       "      <td>{Rafael Riveros (through translator), Marcos F...</td>\n",
       "      <td>0.0</td>\n",
       "    </tr>\n",
       "    <tr>\n",
       "      <th>2</th>\n",
       "      <td>https://www.pbs.org/newshour/show/will-u-s-mex...</td>\n",
       "      <td>There are enormous expectations facing the new...</td>\n",
       "      <td>Jul 2, 2018 6:43 PM EDT</td>\n",
       "      <td>Will U.S.-Mexico policy tensions change under ...</td>\n",
       "      <td>[[Judy Woodruff, [ And now perspective from fo...</td>\n",
       "      <td>{Judy Woodruff, Roberta Jacobson}</td>\n",
       "      <td>0.0</td>\n",
       "    </tr>\n",
       "    <tr>\n",
       "      <th>3</th>\n",
       "      <td>https://www.pbs.org/newshour/show/yemens-spira...</td>\n",
       "      <td>One of the poorest countries in the Middle Eas...</td>\n",
       "      <td>Jul 2, 2018 6:40 PM EDT</td>\n",
       "      <td>Yemen’s spiraling hunger crisis is a man-made ...</td>\n",
       "      <td>[[Judy Woodruff, [ The “NewsHour” has reported...</td>\n",
       "      <td>{Dhabia Kharfoush (through translator), Naimi ...</td>\n",
       "      <td>0.0</td>\n",
       "    </tr>\n",
       "    <tr>\n",
       "      <th>4</th>\n",
       "      <td>https://www.pbs.org/newshour/show/livingwhileb...</td>\n",
       "      <td>A profusion of national incidents in which whi...</td>\n",
       "      <td>Jul 2, 2018 6:35 PM EDT</td>\n",
       "      <td>#LivingWhileBlack: How does racial bias lead t...</td>\n",
       "      <td>[[Judy Woodruff, [ A number of recent incident...</td>\n",
       "      <td>{Judy Woodruff, Woman, Yamiche Alcindor, Derri...</td>\n",
       "      <td>0.0</td>\n",
       "    </tr>\n",
       "  </tbody>\n",
       "</table>\n",
       "</div>"
      ],
      "text/plain": [
       "                                                 URL  \\\n",
       "0  https://www.pbs.org/newshour/show/news-wrap-tr...   \n",
       "1  https://www.pbs.org/newshour/show/elected-in-a...   \n",
       "2  https://www.pbs.org/newshour/show/will-u-s-mex...   \n",
       "3  https://www.pbs.org/newshour/show/yemens-spira...   \n",
       "4  https://www.pbs.org/newshour/show/livingwhileb...   \n",
       "\n",
       "                                               Story                     Date  \\\n",
       "0  In our news wrap Monday, President Trump's sea...  Jul 2, 2018 6:50 PM EDT   \n",
       "1  Mexican president-elect Andrés Manuel López Ob...  Jul 2, 2018 6:45 PM EDT   \n",
       "2  There are enormous expectations facing the new...  Jul 2, 2018 6:43 PM EDT   \n",
       "3  One of the poorest countries in the Middle Eas...  Jul 2, 2018 6:40 PM EDT   \n",
       "4  A profusion of national incidents in which whi...  Jul 2, 2018 6:35 PM EDT   \n",
       "\n",
       "                                               Title  \\\n",
       "0  News Wrap: Trump interviews Supreme Court cand...   \n",
       "1  Elected by a landslide, can Mexico’s López Obr...   \n",
       "2  Will U.S.-Mexico policy tensions change under ...   \n",
       "3  Yemen’s spiraling hunger crisis is a man-made ...   \n",
       "4  #LivingWhileBlack: How does racial bias lead t...   \n",
       "\n",
       "                                          Transcript  \\\n",
       "0  [[Judy Woodruff, [ President Trump’s search fo...   \n",
       "1  [[Judy Woodruff, [ After two previous runs for...   \n",
       "2  [[Judy Woodruff, [ And now perspective from fo...   \n",
       "3  [[Judy Woodruff, [ The “NewsHour” has reported...   \n",
       "4  [[Judy Woodruff, [ A number of recent incident...   \n",
       "\n",
       "                                            Speakers  Number of Comments  \n",
       "0  {Judy Woodruff, Man (through translator), Just...                 0.0  \n",
       "1  {Rafael Riveros (through translator), Marcos F...                 0.0  \n",
       "2                  {Judy Woodruff, Roberta Jacobson}                 0.0  \n",
       "3  {Dhabia Kharfoush (through translator), Naimi ...                 0.0  \n",
       "4  {Judy Woodruff, Woman, Yamiche Alcindor, Derri...                 0.0  "
      ]
     },
     "execution_count": 5,
     "metadata": {},
     "output_type": "execute_result"
    }
   ],
   "source": [
    "df = pd.read_csv(\"data/PBS_full_unedited.csv\")\n",
    "for col in [\"Transcript\", \"Story\", \"Speakers\"]:\n",
    "    df[col] = df[col].map(string_literal)\n",
    "    \n",
    "df.head()"
   ]
  },
  {
   "cell_type": "markdown",
   "metadata": {},
   "source": [
    "---\n",
    "<a id=\"datetime\"></a>\n",
    "\n",
    "# [^](#toc) <u>Datetime</u>\n",
    "\n",
    "First let's clear off whitespace and \\n characters"
   ]
  },
  {
   "cell_type": "code",
   "execution_count": null,
   "metadata": {
    "collapsed": true
   },
   "outputs": [],
   "source": [
    "df[\"Date\"] = df[\"Date\"].map(lambda x: x.strip())"
   ]
  },
  {
   "cell_type": "markdown",
   "metadata": {},
   "source": [
    "#### Time Zone\n",
    "\n",
    "It appears, the time is always posted in EDT"
   ]
  },
  {
   "cell_type": "code",
   "execution_count": 63,
   "metadata": {},
   "outputs": [
    {
     "data": {
      "text/plain": [
       "EDT    17617\n",
       "Name: temp, dtype: int64"
      ]
     },
     "execution_count": 63,
     "metadata": {},
     "output_type": "execute_result"
    }
   ],
   "source": [
    "df[\"temp\"] = df.Date.map(lambda x: x[-3:])\n",
    "vc = df[\"temp\"].value_counts()\n",
    "\n",
    "df.drop(\"temp\", axis=1, inplace=True)\n",
    "vc"
   ]
  },
  {
   "cell_type": "markdown",
   "metadata": {},
   "source": [
    "### Convert to Datetime\n",
    "\n",
    "See this Stack Exchange [link](https://english.stackexchange.com/questions/35315/what-is-the-proper-name-for-am-and-pm?newreg=2d443a2ca9dc4ba6abbe1a1e01e4af4b) haha.  I was honored by the line...\n",
    "\n",
    "    software developers think about naming variables properly. It is built into the Object-Oriented mindset. Jader, a commenter, said it well: \"It's funny that the question intrinsically is not programming related, but all programmers can understand why you posted it here.\"\n",
    "    \n",
    "I just considered myself a physicist!"
   ]
  },
  {
   "cell_type": "code",
   "execution_count": 28,
   "metadata": {},
   "outputs": [
    {
     "data": {
      "text/plain": [
       "('Jul', '2', '2018', '6:50', 'PM', 'EDT')"
      ]
     },
     "execution_count": 28,
     "metadata": {},
     "output_type": "execute_result"
    }
   ],
   "source": [
    "import datetime\n",
    "datetime.datetime.strptime(dt[:-4], '%b %d, %Y %H:%M %p')\n",
    "\n",
    "month, day, year, time, period, tz = df.Date.iloc[0].replace(\",\", \"\").split(\" \")\n",
    "month, day, year, time, period, tz"
   ]
  },
  {
   "cell_type": "markdown",
   "metadata": {},
   "source": [
    "---\n",
    "<a id=\"speakers\"></a>\n",
    "\n",
    "# [^](#toc) <u>Speakers</u>"
   ]
  },
  {
   "cell_type": "code",
   "execution_count": 15,
   "metadata": {},
   "outputs": [],
   "source": [
    "for row in df.loc[df.Speakers.isnull(), 'Speakers'].index:\n",
    "    df.at[row, 'Speakers'] = {\"Unknown\"}"
   ]
  },
  {
   "cell_type": "code",
   "execution_count": 18,
   "metadata": {},
   "outputs": [
    {
     "data": {
      "text/plain": [
       "1031"
      ]
     },
     "execution_count": 18,
     "metadata": {},
     "output_type": "execute_result"
    }
   ],
   "source": [
    "sum(df.Speakers.map(lambda x: 1 if \"Judy Woodruff\" in x else 0))"
   ]
  },
  {
   "cell_type": "code",
   "execution_count": 17,
   "metadata": {},
   "outputs": [
    {
     "data": {
      "text/plain": [
       "32726"
      ]
     },
     "execution_count": 17,
     "metadata": {},
     "output_type": "execute_result"
    }
   ],
   "source": [
    "len(set.union(*df.Speakers))"
   ]
  },
  {
   "cell_type": "markdown",
   "metadata": {},
   "source": [
    "---\n",
    "<a id=\"transcript\"></a>\n",
    "\n",
    "# [^](#toc) <u>Transcript</u>"
   ]
  },
  {
   "cell_type": "code",
   "execution_count": null,
   "metadata": {
    "collapsed": true
   },
   "outputs": [],
   "source": [
    "for row in df.loc[df.Transcript.isnull(), 'Transcript'].index:\n",
    "    df.at[row, 'Transcript'] = [\"Unknown\"]"
   ]
  },
  {
   "cell_type": "code",
   "execution_count": null,
   "metadata": {
    "collapsed": true
   },
   "outputs": [],
   "source": []
  },
  {
   "cell_type": "code",
   "execution_count": null,
   "metadata": {
    "collapsed": true
   },
   "outputs": [],
   "source": []
  },
  {
   "cell_type": "code",
   "execution_count": null,
   "metadata": {
    "collapsed": true
   },
   "outputs": [],
   "source": []
  },
  {
   "cell_type": "code",
   "execution_count": null,
   "metadata": {
    "collapsed": true
   },
   "outputs": [],
   "source": []
  },
  {
   "cell_type": "code",
   "execution_count": null,
   "metadata": {
    "collapsed": true
   },
   "outputs": [],
   "source": []
  },
  {
   "cell_type": "code",
   "execution_count": null,
   "metadata": {
    "collapsed": true
   },
   "outputs": [],
   "source": []
  }
 ],
 "metadata": {
  "kernelspec": {
   "display_name": "Python 3",
   "language": "python",
   "name": "python3"
  },
  "language_info": {
   "codemirror_mode": {
    "name": "ipython",
    "version": 3
   },
   "file_extension": ".py",
   "mimetype": "text/x-python",
   "name": "python",
   "nbconvert_exporter": "python",
   "pygments_lexer": "ipython3",
   "version": "3.6.3"
  }
 },
 "nbformat": 4,
 "nbformat_minor": 2
}
